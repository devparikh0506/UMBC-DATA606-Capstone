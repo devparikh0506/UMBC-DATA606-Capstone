{
 "cells": [
  {
   "cell_type": "markdown",
   "id": "f1fe0c1e",
   "metadata": {},
   "source": [
    "# Brain2Action: Decoding Motor Imagery from EEG Signals\n",
    "\n",
    "## Project Overview\n",
    "This project explores the potential of electroencephalography (EEG) signals to decode motor imagery intentions, with a focus on distinguishing between left and right hand movements. Leveraging the BCI Competition IV 2b dataset, we analyze neural patterns from 9 healthy subjects to develop a robust brain-computer interface (BCI) system. Our goal is to bridge the gap between neural activity and machine-executable commands, with potential applications in neurorehabilitation and assistive technologies.\n",
    "\n",
    "## Exploratory Data Analysis: Unveiling Neural Signatures of Motor Imagery\n",
    "\n",
    "### 1. Data Landscape & Composition\n",
    "- **Dataset Demographics**: Analysis of subject distribution and trial balance\n",
    "- **Signal Quality Assessment**: Channel consistency and noise characterization\n",
    "- **Class Distribution**: Balance between left vs. right motor imagery trials\n",
    "\n",
    "### 2. Neural Signatures of Motor Imagery\n",
    "- **Spatiotemporal Patterns**: Topographic mapping of motor cortex activation\n",
    "- **Spectral Analysis**: Frequency band dynamics during motor imagery\n",
    "- **Event-Related Desynchronization (ERD)**: Characterizing mu (8-12 Hz) and beta (13-30 Hz) band suppression\n",
    "\n",
    "### 3. Feature Space Exploration\n",
    "- **Common Spatial Patterns (CSP)**: Identifying discriminative spatial filters\n",
    "- **Temporal Dynamics**: Time-course analysis of motor imagery execution\n",
    "- **Cross-subject Variability**: Consistency of neural patterns across participants\n",
    "\n",
    "### 4. Signal Quality & Preprocessing\n",
    "- **Artifact Detection**: Identification and handling of muscle and ocular artifacts\n",
    "- **Channel Reliability**: Assessment of signal quality across recording channels\n",
    "- **Trial Rejection Criteria**: Establishing quality thresholds for analysis\n",
    "\n",
    "### 5. Key Insights for Model Development\n",
    "- **Discriminative Features**: Identifying the most informative signal characteristics\n",
    "- **Temporal Windows**: Optimal time segments for feature extraction\n",
    "- **Channel Importance**: Determining the most relevant electrode locations"
   ]
  },
  {
   "cell_type": "code",
   "execution_count": 163,
   "id": "4d87c2a5",
   "metadata": {},
   "outputs": [],
   "source": [
    "import numpy as np\n",
    "import pandas as pd\n",
    "import matplotlib.pyplot as plt\n",
    "import seaborn as sns\n",
    "import os\n",
    "import re\n",
    "\n",
    "import mne\n",
    "from mne.decoding import CSP\n",
    "from mne.time_frequency import tfr_morlet\n",
    "\n",
    "import plotly.express as px\n",
    "import plotly.graph_objects as go\n",
    "from plotly.subplots import make_subplots\n",
    "import plotly.figure_factory as ff\n",
    "\n",
    "from IPython.display import display, HTML\n",
    "\n",
    "# Set random seed for reproducibility\n",
    "np.random.seed(42)\n",
    "\n",
    "# Set Matplotlib style\n",
    "plt.style.use('seaborn-v0_8-whitegrid')\n",
    "\n",
    "# Set Pandas options\n",
    "pd.set_option('display.max_columns', None)"
   ]
  },
  {
   "cell_type": "markdown",
   "id": "3201d911",
   "metadata": {},
   "source": [
    "# EEG Data Loader for BCI Competition IV 2b Dataset\n",
    "\n",
    "## Class Overview\n",
    "The `EEGDataLoader` class is designed to handle the loading and preprocessing of EEG data from the BCI Competition IV 2b dataset. It provides a streamlined interface for accessing motor imagery data across multiple subjects and sessions.\n",
    "\n",
    "## Key Features\n",
    "- **Flexible Data Loading**: Supports loading of specific subjects, sessions, and trial types\n",
    "- **Automatic Preprocessing**:\n",
    "  - Bandpass filtering (0.5-100 Hz)\n",
    "  - Notch filtering at 50 Hz (power line noise)\n",
    "  - Channel selection and renaming\n",
    "  - Event detection and trial extraction\n",
    "- **Caching**: Implements in-memory caching for efficient data access\n",
    "- **Montage Support**: Uses standard 10-20 electrode placement\n",
    "\n",
    "## Data Structure\n",
    "### Input Data\n",
    "- **Format**: GDF (General Data Format for Biosignals)\n",
    "- **Channels**:\n",
    "  - `EEG:Cz` (Central)\n",
    "  - `EEG:C3` (Left motor cortex)\n",
    "  - `EEG:C4` (Right motor cortex)\n",
    "\n",
    "### Event Codes\n",
    "| Code | Description       | Mapped Name      |\n",
    "|------|-------------------|-----------------|\n",
    "| 768  | Start of trial    | start_trial     |\n",
    "| 769  | Left hand imagery | left            |\n",
    "| 770  | Right hand imagery| right           |\n",
    "| 1023 | Rejected trial    | rejected_trial  |\n",
    "| 32766| Run start         | run_start       |\n",
    "\n",
    "## Methods\n",
    "### Core Methods\n",
    "- `__init__(data_folder, file_filters, raw_channels, channel_fun)`  \n",
    "  Initialize the data loader with custom paths and channel configurations.\n",
    "\n",
    "- `_load_eeg_data_(subject_id, session_id, session_type)`  \n",
    "  Internal method that handles the actual data loading and preprocessing.\n",
    "\n",
    "- `get_data(subject_id, session_id, session_type, reload=False)`  \n",
    "  Main interface for loading data with optional caching.\n",
    "\n",
    "### Utility Methods\n",
    "- `list_subjects()`  \n",
    "  List all available subject IDs.\n",
    "\n",
    "- `list_sessions(subject_id)`  \n",
    "  List all available sessions for a given subject.\n",
    "\n",
    "- `list_session_types(subject_id, session_id)`  \n",
    "  List all available session types for a given subject and session.\n",
    "\n",
    "## Data Processing Pipeline\n",
    "1. **File Loading**:\n",
    "   - Read GDF file\n",
    "   - Apply channel mapping\n",
    "   - Set up standard montage\n",
    "\n",
    "2. **Signal Processing**:\n",
    "   - Bandpass filtering (0.5-100 Hz)\n",
    "   - Notch filtering at 50 Hz\n",
    "   - Channel selection\n",
    "\n",
    "3. **Event Processing**:\n",
    "   - Detect trial starts and motor imagery events\n",
    "   - Remove rejected trials\n",
    "   - Map event codes to standardized names\n",
    "\n",
    "4. **Epoch Creation**:\n",
    "   - Create epochs from -0.5s to 4s relative to cue onset\n",
    "   - Separate epochs by run\n",
    "   - Apply baseline correction\n",
    "\n",
    "## Return Structure\n",
    "The `get_data` method returns a dictionary with:\n",
    "- `raw`: Raw EEG data (MNE Raw object)\n",
    "- `epochs`: All valid motor imagery epochs\n",
    "- `epochs_per_run`: Dictionary of epochs separated by run\n",
    "- `event_dict`: Mapping of event codes to their descriptions"
   ]
  },
  {
   "cell_type": "code",
   "execution_count": 160,
   "id": "f18c0baf",
   "metadata": {},
   "outputs": [],
   "source": [
    "import os\n",
    "import re\n",
    "import mne\n",
    "import numpy as np\n",
    "\n",
    "class EEGDataLoader:\n",
    "    def __init__(self, data_folder='../data/BCICIV_2b_gdf', file_filters=None, raw_channels=['EEG:Cz', 'EEG:C3', 'EEG:C4'], channel_fun=lambda x: x.replace('EEG:', '')):\n",
    "        self.filename_pattern = r\"^(B\\d{2})(\\d{2})([A-Za-z])\\.gdf$\"\n",
    "        self.data_folder = data_folder\n",
    "        self.file_filters = file_filters\n",
    "        self.data_dir_info = self._scan_data_dir_(self.file_filters)\n",
    "        self._data_cache = {}\n",
    "        self.raw_channels = raw_channels\n",
    "        if channel_fun:\n",
    "            self.channels = [channel_fun(ch) for ch in self.raw_channels]\n",
    "        else:\n",
    "            self.channels = self.raw_channels\n",
    "        self.channel_mapping = {raw: ch for raw, ch in zip(self.raw_channels, self.channels)}\n",
    "        self. rename_map = {\n",
    "            '769': 'left',\n",
    "            '770': 'right',\n",
    "            '768': 'start_trial',\n",
    "            '1023': 'rejected_trial',\n",
    "            '32766': 'run_start'\n",
    "        }\n",
    "\n",
    "\n",
    "    def _scan_data_dir_(self, filters=None):\n",
    "        files = [f for f in os.listdir(self.data_folder) if f.endswith('.gdf')]\n",
    "        info = []\n",
    "        for filename in files:\n",
    "            match = re.match(self.filename_pattern, filename)\n",
    "            if match:\n",
    "                subj, sess, stype = match.groups()\n",
    "                # Apply filters if provided\n",
    "                if filters:\n",
    "                    if 'subject_ids' in filters and subj not in filters['subject_ids']:\n",
    "                        continue\n",
    "                    if 'session_ids' in filters and sess not in filters['session_ids']:\n",
    "                        continue\n",
    "                    if 'session_types' in filters and stype not in filters['session_types']:\n",
    "                        continue\n",
    "               \n",
    "                info.append({\n",
    "                    \"subject_id\": subj,\n",
    "                    \"session_id\": sess,\n",
    "                    \"session_type\": stype,\n",
    "                    \"filename\": filename\n",
    "                })\n",
    "        return info\n",
    "\n",
    "\n",
    "    def list_subjects(self):\n",
    "        return sorted(set(x[\"subject_id\"] for x in self.data_dir_info))\n",
    "\n",
    "    def list_sessions(self, subject_id):\n",
    "        return sorted(set(x[\"session_id\"] for x in self.data_dir_info if x[\"subject_id\"] == subject_id))\n",
    "\n",
    "    def list_session_types(self, subject_id, session_id):\n",
    "        return sorted(set(x[\"session_type\"] for x in self.data_dir_info\n",
    "                         if x[\"subject_id\"] == subject_id and x[\"session_id\"] == session_id))\n",
    "\n",
    "    def get_available(self):\n",
    "        '''Return a list of all available (subject, session, session_type, session_type)'''\n",
    "        return [(x[\"subject_id\"], x[\"session_id\"], x[\"session_type\"], x[\"session_type\"]) for x in self.data_dir_info]\n",
    "\n",
    "    def _load_eeg_data_(self, subject_id, session_id, session_type):\n",
    "        \"\"\"\n",
    "        Load EEG data for a given subject/session/type from a GDF file.\n",
    "        Filters signals, extracts MI events, removes rejected trials,\n",
    "        and returns epochs (overall + per run) with only selected EEG channels.\n",
    "        \"\"\"\n",
    "        # ----------------------------------------------------\n",
    "        # Load file\n",
    "        # ----------------------------------------------------\n",
    "        file_path = os.path.join(self.data_folder, f\"{subject_id}{session_id}{session_type}.gdf\")\n",
    "        if not os.path.exists(file_path):\n",
    "            raise FileNotFoundError(f\"File not found: {file_path}\")\n",
    "\n",
    "        raw = mne.io.read_raw_gdf(file_path, preload=True, verbose=False)\n",
    "\n",
    "        raw.rename_channels(self.channel_mapping)\n",
    "        for ch in raw.ch_names:\n",
    "            if ch.startswith('EOG'):\n",
    "                raw.set_channel_types({ch: 'eog'})\n",
    "        montage = mne.channels.make_standard_montage('standard_1020')\n",
    "        raw.set_montage(montage, match_case=False)\n",
    "\n",
    "\n",
    "        # ----------------------------------------------------\n",
    "        # Preprocessing\n",
    "        # ----------------------------------------------------\n",
    "        raw.filter(0.5, 100, verbose=False)\n",
    "        raw.notch_filter(50, verbose=False)\n",
    "\n",
    "        # ----------------------------------------------------\n",
    "        # Channel selection\n",
    "        # ----------------------------------------------------\n",
    "        available_channels = []\n",
    "        for ch in self.channels:\n",
    "            if ch in raw.ch_names:\n",
    "                available_channels.append(ch)\n",
    "            elif f\"EEG:{ch}\" in raw.ch_names:\n",
    "                available_channels.append(f\"EEG:{ch}\")\n",
    "\n",
    "        if not available_channels:\n",
    "            raise ValueError(f\"None of the requested channels {self.channels} found in {file_path}\")\n",
    "\n",
    "        raw.pick_channels(available_channels)\n",
    "        picks = mne.pick_channels(raw.info[\"ch_names\"], include=available_channels)\n",
    "\n",
    "        # ----------------------------------------------------\n",
    "        # Extract events\n",
    "        # ----------------------------------------------------\n",
    "        events, event_dict = mne.events_from_annotations(raw)\n",
    "\n",
    "        try:\n",
    "            start_trial_code = event_dict['768']\n",
    "            left_code = event_dict['769']\n",
    "            right_code = event_dict['770']\n",
    "            rejected_code = event_dict['1023']\n",
    "            run_start_code = event_dict['32766']\n",
    "        except KeyError:\n",
    "            return {'raw': raw, 'epochs': None, 'epochs_per_run': None}\n",
    "\n",
    "        # ----------------------------------------------------\n",
    "        # Identify valid MI trials\n",
    "        # ----------------------------------------------------\n",
    "        trial_starts = events[events[:, 2] == start_trial_code][:, 0]\n",
    "        rejected_starts = set(events[events[:, 2] == rejected_code][:, 0])\n",
    "        mi_events = events[np.isin(events[:, 2], [left_code, right_code])]\n",
    "\n",
    "        run_starts = events[events[:, 2] == run_start_code][:, 0]\n",
    "        run_starts = np.append(run_starts, [raw.n_times])\n",
    "\n",
    "        valid_mi_events = []\n",
    "        for mi_event in mi_events:\n",
    "            trial_start = trial_starts[trial_starts <= mi_event[0]].max()\n",
    "            if trial_start not in rejected_starts:\n",
    "                valid_mi_events.append(mi_event)\n",
    "        valid_mi_events = np.array(valid_mi_events)\n",
    "\n",
    "        # ----------------------------------------------------\n",
    "        # Standardize event IDs\n",
    "        # ----------------------------------------------------\n",
    "        standard_event_id = {'left': 1, 'right': 2}\n",
    "        remapped_events = valid_mi_events.copy()\n",
    "        remapped_events[:, 2][remapped_events[:, 2] == left_code] = standard_event_id['left']\n",
    "        remapped_events[:, 2][remapped_events[:, 2] == right_code] = standard_event_id['right']\n",
    "\n",
    "        # ----------------------------------------------------\n",
    "        # Create epochs\n",
    "        # ----------------------------------------------------\n",
    "        epochs = mne.Epochs(\n",
    "            raw, remapped_events, standard_event_id,\n",
    "            picks=picks, tmin=0, tmax=3.996,\n",
    "            preload=True, baseline=None, verbose=False\n",
    "        )\n",
    "\n",
    "        # ----------------------------------------------------\n",
    "        # Create epochs per run\n",
    "        # ----------------------------------------------------\n",
    "        epochs_per_run = {}\n",
    "        for i in range(len(run_starts) - 1):\n",
    "            run_start = run_starts[i]\n",
    "            run_end = run_starts[i + 1]\n",
    "            run_events = remapped_events[(remapped_events[:, 0] >= run_start) &\n",
    "                                           (remapped_events[:, 0] < run_end)]\n",
    "            if len(run_events) > 0:\n",
    "                run_epochs = mne.Epochs(\n",
    "                    raw, run_events, standard_event_id,\n",
    "                    picks=picks, tmin=0, tmax=3.996,\n",
    "                    preload=True, baseline=None, verbose=False\n",
    "                )\n",
    "                epochs_per_run[i + 1] = run_epochs\n",
    "\n",
    "        return {\n",
    "            'raw': raw,\n",
    "            'epochs': epochs,\n",
    "            'epochs_per_run': epochs_per_run,\n",
    "            'event_dict' : event_dict\n",
    "        }\n",
    "\n",
    "    def get_data(self, subject_id, session_id, session_type, reload=False):\n",
    "        key = (subject_id, session_id, session_type)\n",
    "        if not reload and key in self._data_cache:\n",
    "            return self._data_cache[key]\n",
    "        data = self._load_eeg_data_(subject_id, session_id, session_type)\n",
    "        self._data_cache[key] = data\n",
    "        return data"
   ]
  },
  {
   "cell_type": "code",
   "execution_count": 134,
   "id": "5dd46b80",
   "metadata": {},
   "outputs": [],
   "source": [
    "def get_all_epochs(loader, subject):\n",
    "    \"\"\"Utility function to fetch all epochs for a given subject.\"\"\"\n",
    "    all_epochs = []\n",
    "    for session in loader.list_sessions(subject):\n",
    "        for s_type in loader.list_session_types(subject, session):\n",
    "            data = loader.get_data(subject, session, s_type)\n",
    "            if data['epochs'] is not None:\n",
    "                all_epochs.append(data['epochs'])\n",
    "    return mne.concatenate_epochs(all_epochs) if all_epochs else None"
   ]
  },
  {
   "cell_type": "markdown",
   "id": "07ffac8c",
   "metadata": {},
   "source": [
    "## 1. Setup and Data Loading\n",
    "\n",
    "First, we define the `EEGDataLoader` class responsible for loading and preprocessing the GDF files. We also define a helper function to concatenate epochs from multiple sessions. For this analysis, we will focus on a single subject to observe the patterns."
   ]
  },
  {
   "cell_type": "code",
   "execution_count": 135,
   "id": "c665109e",
   "metadata": {},
   "outputs": [
    {
     "name": "stderr",
     "output_type": "stream",
     "text": [
      "C:\\Users\\devdp\\AppData\\Local\\Temp\\ipykernel_19748\\3898994322.py:80: RuntimeWarning:\n",
      "\n",
      "Highpass cutoff frequency 100.0 is greater than lowpass cutoff frequency 0.5, setting values to 0 and Nyquist.\n",
      "\n"
     ]
    },
    {
     "name": "stdout",
     "output_type": "stream",
     "text": [
      "NOTE: pick_channels() is a legacy function. New code should use inst.pick(...).\n",
      "Used Annotations descriptions: [np.str_('1023'), np.str_('1077'), np.str_('1078'), np.str_('1079'), np.str_('1081'), np.str_('276'), np.str_('277'), np.str_('32766'), np.str_('768'), np.str_('769'), np.str_('770')]\n"
     ]
    },
    {
     "name": "stderr",
     "output_type": "stream",
     "text": [
      "C:\\Users\\devdp\\AppData\\Local\\Temp\\ipykernel_19748\\3898994322.py:80: RuntimeWarning:\n",
      "\n",
      "Highpass cutoff frequency 100.0 is greater than lowpass cutoff frequency 0.5, setting values to 0 and Nyquist.\n",
      "\n"
     ]
    },
    {
     "name": "stdout",
     "output_type": "stream",
     "text": [
      "NOTE: pick_channels() is a legacy function. New code should use inst.pick(...).\n",
      "Used Annotations descriptions: [np.str_('1023'), np.str_('32766'), np.str_('768'), np.str_('769'), np.str_('770')]\n"
     ]
    },
    {
     "name": "stderr",
     "output_type": "stream",
     "text": [
      "C:\\Users\\devdp\\AppData\\Local\\Temp\\ipykernel_19748\\3898994322.py:80: RuntimeWarning:\n",
      "\n",
      "Highpass cutoff frequency 100.0 is greater than lowpass cutoff frequency 0.5, setting values to 0 and Nyquist.\n",
      "\n"
     ]
    },
    {
     "name": "stdout",
     "output_type": "stream",
     "text": [
      "NOTE: pick_channels() is a legacy function. New code should use inst.pick(...).\n",
      "Used Annotations descriptions: [np.str_('1023'), np.str_('1077'), np.str_('1078'), np.str_('1079'), np.str_('1081'), np.str_('276'), np.str_('277'), np.str_('32766'), np.str_('768'), np.str_('769'), np.str_('770'), np.str_('781')]\n"
     ]
    },
    {
     "name": "stderr",
     "output_type": "stream",
     "text": [
      "C:\\Users\\devdp\\AppData\\Local\\Temp\\ipykernel_19748\\3898994322.py:80: RuntimeWarning:\n",
      "\n",
      "Highpass cutoff frequency 100.0 is greater than lowpass cutoff frequency 0.5, setting values to 0 and Nyquist.\n",
      "\n"
     ]
    },
    {
     "name": "stdout",
     "output_type": "stream",
     "text": [
      "NOTE: pick_channels() is a legacy function. New code should use inst.pick(...).\n",
      "Used Annotations descriptions: [np.str_('1023'), np.str_('1077'), np.str_('1078'), np.str_('1079'), np.str_('1081'), np.str_('276'), np.str_('277'), np.str_('32766'), np.str_('768'), np.str_('781'), np.str_('783')]\n"
     ]
    },
    {
     "name": "stderr",
     "output_type": "stream",
     "text": [
      "C:\\Users\\devdp\\AppData\\Local\\Temp\\ipykernel_19748\\3898994322.py:80: RuntimeWarning:\n",
      "\n",
      "Highpass cutoff frequency 100.0 is greater than lowpass cutoff frequency 0.5, setting values to 0 and Nyquist.\n",
      "\n"
     ]
    },
    {
     "name": "stdout",
     "output_type": "stream",
     "text": [
      "NOTE: pick_channels() is a legacy function. New code should use inst.pick(...).\n",
      "Used Annotations descriptions: [np.str_('1023'), np.str_('1077'), np.str_('1078'), np.str_('1079'), np.str_('1081'), np.str_('276'), np.str_('277'), np.str_('32766'), np.str_('768'), np.str_('781'), np.str_('783')]\n",
      "Not setting metadata\n",
      "324 matching events found\n",
      "No baseline correction applied\n",
      "Successfully loaded 324 epochs for subject B01.\n"
     ]
    },
    {
     "name": "stderr",
     "output_type": "stream",
     "text": [
      "C:\\Users\\devdp\\AppData\\Local\\Temp\\ipykernel_19748\\719520569.py:9: RuntimeWarning:\n",
      "\n",
      "Concatenation of Annotations within Epochs is not supported yet. All annotations will be dropped.\n",
      "\n"
     ]
    }
   ],
   "source": [
    "# Define subject and channels for analysis\n",
    "subject_id = 'B01'\n",
    "channels_to_load = ['EEG:C3', 'EEG:Cz', 'EEG:C4']\n",
    "\n",
    "# Initialize the data loader and load all epochs for the subject\n",
    "loader = EEGDataLoader(raw_channels=channels_to_load)\n",
    "epochs = get_all_epochs(loader, subject_id)\n",
    "\n",
    "if epochs:\n",
    "    print(f\"Successfully loaded {len(epochs)} epochs for subject {subject_id}.\")\n",
    "else:\n",
    "    print(f\"Could not load epochs for subject {subject_id}.\")"
   ]
  },
  {
   "cell_type": "markdown",
   "id": "4ef4df8f",
   "metadata": {},
   "source": [
    "## 2. Dataset Overview and Class Balance\n",
    "\n",
    "Let's start by examining the distribution of trials (left vs. right hand motor imagery) across all subjects and sessions. This helps us understand if the dataset is balanced, which is crucial for training a fair classification model."
   ]
  },
  {
   "cell_type": "code",
   "execution_count": 137,
   "id": "89b01680",
   "metadata": {},
   "outputs": [
    {
     "name": "stderr",
     "output_type": "stream",
     "text": [
      "C:\\Users\\devdp\\AppData\\Local\\Temp\\ipykernel_19748\\3898994322.py:80: RuntimeWarning:\n",
      "\n",
      "Highpass cutoff frequency 100.0 is greater than lowpass cutoff frequency 0.5, setting values to 0 and Nyquist.\n",
      "\n"
     ]
    },
    {
     "name": "stdout",
     "output_type": "stream",
     "text": [
      "NOTE: pick_channels() is a legacy function. New code should use inst.pick(...).\n",
      "Used Annotations descriptions: [np.str_('1023'), np.str_('1077'), np.str_('1078'), np.str_('1079'), np.str_('1081'), np.str_('276'), np.str_('277'), np.str_('32766'), np.str_('768'), np.str_('769'), np.str_('770')]\n"
     ]
    },
    {
     "name": "stderr",
     "output_type": "stream",
     "text": [
      "C:\\Users\\devdp\\AppData\\Local\\Temp\\ipykernel_19748\\3898994322.py:80: RuntimeWarning:\n",
      "\n",
      "Highpass cutoff frequency 100.0 is greater than lowpass cutoff frequency 0.5, setting values to 0 and Nyquist.\n",
      "\n"
     ]
    },
    {
     "name": "stdout",
     "output_type": "stream",
     "text": [
      "NOTE: pick_channels() is a legacy function. New code should use inst.pick(...).\n",
      "Used Annotations descriptions: [np.str_('1023'), np.str_('32766'), np.str_('768'), np.str_('769'), np.str_('770')]\n"
     ]
    },
    {
     "name": "stderr",
     "output_type": "stream",
     "text": [
      "C:\\Users\\devdp\\AppData\\Local\\Temp\\ipykernel_19748\\3898994322.py:80: RuntimeWarning:\n",
      "\n",
      "Highpass cutoff frequency 100.0 is greater than lowpass cutoff frequency 0.5, setting values to 0 and Nyquist.\n",
      "\n"
     ]
    },
    {
     "name": "stdout",
     "output_type": "stream",
     "text": [
      "NOTE: pick_channels() is a legacy function. New code should use inst.pick(...).\n",
      "Used Annotations descriptions: [np.str_('1023'), np.str_('1077'), np.str_('1078'), np.str_('1079'), np.str_('1081'), np.str_('276'), np.str_('277'), np.str_('32766'), np.str_('768'), np.str_('769'), np.str_('770'), np.str_('781')]\n"
     ]
    },
    {
     "name": "stderr",
     "output_type": "stream",
     "text": [
      "C:\\Users\\devdp\\AppData\\Local\\Temp\\ipykernel_19748\\3898994322.py:80: RuntimeWarning:\n",
      "\n",
      "Highpass cutoff frequency 100.0 is greater than lowpass cutoff frequency 0.5, setting values to 0 and Nyquist.\n",
      "\n"
     ]
    },
    {
     "name": "stdout",
     "output_type": "stream",
     "text": [
      "NOTE: pick_channels() is a legacy function. New code should use inst.pick(...).\n",
      "Used Annotations descriptions: [np.str_('1023'), np.str_('1077'), np.str_('1078'), np.str_('1079'), np.str_('1081'), np.str_('276'), np.str_('277'), np.str_('32766'), np.str_('768'), np.str_('781'), np.str_('783')]\n"
     ]
    },
    {
     "name": "stderr",
     "output_type": "stream",
     "text": [
      "C:\\Users\\devdp\\AppData\\Local\\Temp\\ipykernel_19748\\3898994322.py:80: RuntimeWarning:\n",
      "\n",
      "Highpass cutoff frequency 100.0 is greater than lowpass cutoff frequency 0.5, setting values to 0 and Nyquist.\n",
      "\n"
     ]
    },
    {
     "name": "stdout",
     "output_type": "stream",
     "text": [
      "NOTE: pick_channels() is a legacy function. New code should use inst.pick(...).\n",
      "Used Annotations descriptions: [np.str_('1023'), np.str_('1077'), np.str_('1078'), np.str_('1079'), np.str_('1081'), np.str_('276'), np.str_('277'), np.str_('32766'), np.str_('768'), np.str_('781'), np.str_('783')]\n"
     ]
    },
    {
     "name": "stderr",
     "output_type": "stream",
     "text": [
      "C:\\Users\\devdp\\AppData\\Local\\Temp\\ipykernel_19748\\3898994322.py:80: RuntimeWarning:\n",
      "\n",
      "Highpass cutoff frequency 100.0 is greater than lowpass cutoff frequency 0.5, setting values to 0 and Nyquist.\n",
      "\n"
     ]
    },
    {
     "name": "stdout",
     "output_type": "stream",
     "text": [
      "NOTE: pick_channels() is a legacy function. New code should use inst.pick(...).\n",
      "Used Annotations descriptions: [np.str_('1023'), np.str_('1077'), np.str_('1078'), np.str_('1079'), np.str_('1081'), np.str_('276'), np.str_('277'), np.str_('32766'), np.str_('768'), np.str_('769'), np.str_('770')]\n"
     ]
    },
    {
     "name": "stderr",
     "output_type": "stream",
     "text": [
      "C:\\Users\\devdp\\AppData\\Local\\Temp\\ipykernel_19748\\3898994322.py:80: RuntimeWarning:\n",
      "\n",
      "Highpass cutoff frequency 100.0 is greater than lowpass cutoff frequency 0.5, setting values to 0 and Nyquist.\n",
      "\n"
     ]
    },
    {
     "name": "stdout",
     "output_type": "stream",
     "text": [
      "NOTE: pick_channels() is a legacy function. New code should use inst.pick(...).\n",
      "Used Annotations descriptions: [np.str_('1023'), np.str_('1077'), np.str_('1078'), np.str_('1079'), np.str_('1081'), np.str_('276'), np.str_('277'), np.str_('32766'), np.str_('768'), np.str_('769'), np.str_('770')]\n"
     ]
    },
    {
     "name": "stderr",
     "output_type": "stream",
     "text": [
      "C:\\Users\\devdp\\AppData\\Local\\Temp\\ipykernel_19748\\3898994322.py:80: RuntimeWarning:\n",
      "\n",
      "Highpass cutoff frequency 100.0 is greater than lowpass cutoff frequency 0.5, setting values to 0 and Nyquist.\n",
      "\n"
     ]
    },
    {
     "name": "stdout",
     "output_type": "stream",
     "text": [
      "NOTE: pick_channels() is a legacy function. New code should use inst.pick(...).\n",
      "Used Annotations descriptions: [np.str_('1023'), np.str_('1077'), np.str_('1078'), np.str_('1079'), np.str_('1081'), np.str_('276'), np.str_('277'), np.str_('32766'), np.str_('768'), np.str_('769'), np.str_('770'), np.str_('781')]\n"
     ]
    },
    {
     "name": "stderr",
     "output_type": "stream",
     "text": [
      "C:\\Users\\devdp\\AppData\\Local\\Temp\\ipykernel_19748\\3898994322.py:80: RuntimeWarning:\n",
      "\n",
      "Highpass cutoff frequency 100.0 is greater than lowpass cutoff frequency 0.5, setting values to 0 and Nyquist.\n",
      "\n"
     ]
    },
    {
     "name": "stdout",
     "output_type": "stream",
     "text": [
      "NOTE: pick_channels() is a legacy function. New code should use inst.pick(...).\n",
      "Used Annotations descriptions: [np.str_('1023'), np.str_('1077'), np.str_('1078'), np.str_('1079'), np.str_('1081'), np.str_('276'), np.str_('277'), np.str_('32766'), np.str_('768'), np.str_('781'), np.str_('783')]\n"
     ]
    },
    {
     "name": "stderr",
     "output_type": "stream",
     "text": [
      "C:\\Users\\devdp\\AppData\\Local\\Temp\\ipykernel_19748\\3898994322.py:80: RuntimeWarning:\n",
      "\n",
      "Highpass cutoff frequency 100.0 is greater than lowpass cutoff frequency 0.5, setting values to 0 and Nyquist.\n",
      "\n"
     ]
    },
    {
     "name": "stdout",
     "output_type": "stream",
     "text": [
      "NOTE: pick_channels() is a legacy function. New code should use inst.pick(...).\n",
      "Used Annotations descriptions: [np.str_('1023'), np.str_('1077'), np.str_('1078'), np.str_('1079'), np.str_('1081'), np.str_('276'), np.str_('277'), np.str_('32766'), np.str_('768'), np.str_('781'), np.str_('783')]\n"
     ]
    },
    {
     "name": "stderr",
     "output_type": "stream",
     "text": [
      "C:\\Users\\devdp\\AppData\\Local\\Temp\\ipykernel_19748\\3898994322.py:80: RuntimeWarning:\n",
      "\n",
      "Highpass cutoff frequency 100.0 is greater than lowpass cutoff frequency 0.5, setting values to 0 and Nyquist.\n",
      "\n"
     ]
    },
    {
     "name": "stdout",
     "output_type": "stream",
     "text": [
      "NOTE: pick_channels() is a legacy function. New code should use inst.pick(...).\n",
      "Used Annotations descriptions: [np.str_('1023'), np.str_('1077'), np.str_('1078'), np.str_('1079'), np.str_('1081'), np.str_('276'), np.str_('277'), np.str_('32766'), np.str_('768'), np.str_('769'), np.str_('770')]\n"
     ]
    },
    {
     "name": "stderr",
     "output_type": "stream",
     "text": [
      "C:\\Users\\devdp\\AppData\\Local\\Temp\\ipykernel_19748\\3898994322.py:80: RuntimeWarning:\n",
      "\n",
      "Highpass cutoff frequency 100.0 is greater than lowpass cutoff frequency 0.5, setting values to 0 and Nyquist.\n",
      "\n"
     ]
    },
    {
     "name": "stdout",
     "output_type": "stream",
     "text": [
      "NOTE: pick_channels() is a legacy function. New code should use inst.pick(...).\n",
      "Used Annotations descriptions: [np.str_('1023'), np.str_('1077'), np.str_('1078'), np.str_('1079'), np.str_('1081'), np.str_('276'), np.str_('277'), np.str_('32766'), np.str_('768'), np.str_('769'), np.str_('770')]\n"
     ]
    },
    {
     "name": "stderr",
     "output_type": "stream",
     "text": [
      "C:\\Users\\devdp\\AppData\\Local\\Temp\\ipykernel_19748\\3898994322.py:80: RuntimeWarning:\n",
      "\n",
      "Highpass cutoff frequency 100.0 is greater than lowpass cutoff frequency 0.5, setting values to 0 and Nyquist.\n",
      "\n"
     ]
    },
    {
     "name": "stdout",
     "output_type": "stream",
     "text": [
      "NOTE: pick_channels() is a legacy function. New code should use inst.pick(...).\n",
      "Used Annotations descriptions: [np.str_('1023'), np.str_('1077'), np.str_('1078'), np.str_('1079'), np.str_('1081'), np.str_('276'), np.str_('277'), np.str_('32766'), np.str_('768'), np.str_('769'), np.str_('770'), np.str_('781')]\n"
     ]
    },
    {
     "name": "stderr",
     "output_type": "stream",
     "text": [
      "C:\\Users\\devdp\\AppData\\Local\\Temp\\ipykernel_19748\\3898994322.py:80: RuntimeWarning:\n",
      "\n",
      "Highpass cutoff frequency 100.0 is greater than lowpass cutoff frequency 0.5, setting values to 0 and Nyquist.\n",
      "\n"
     ]
    },
    {
     "name": "stdout",
     "output_type": "stream",
     "text": [
      "NOTE: pick_channels() is a legacy function. New code should use inst.pick(...).\n",
      "Used Annotations descriptions: [np.str_('1023'), np.str_('1077'), np.str_('1078'), np.str_('1079'), np.str_('1081'), np.str_('276'), np.str_('277'), np.str_('32766'), np.str_('768'), np.str_('781'), np.str_('783')]\n"
     ]
    },
    {
     "name": "stderr",
     "output_type": "stream",
     "text": [
      "C:\\Users\\devdp\\AppData\\Local\\Temp\\ipykernel_19748\\3898994322.py:80: RuntimeWarning:\n",
      "\n",
      "Highpass cutoff frequency 100.0 is greater than lowpass cutoff frequency 0.5, setting values to 0 and Nyquist.\n",
      "\n"
     ]
    },
    {
     "name": "stdout",
     "output_type": "stream",
     "text": [
      "NOTE: pick_channels() is a legacy function. New code should use inst.pick(...).\n",
      "Used Annotations descriptions: [np.str_('1023'), np.str_('1077'), np.str_('1078'), np.str_('1079'), np.str_('1081'), np.str_('276'), np.str_('277'), np.str_('32766'), np.str_('768'), np.str_('781'), np.str_('783')]\n"
     ]
    },
    {
     "name": "stderr",
     "output_type": "stream",
     "text": [
      "C:\\Users\\devdp\\AppData\\Local\\Temp\\ipykernel_19748\\3898994322.py:80: RuntimeWarning:\n",
      "\n",
      "Highpass cutoff frequency 100.0 is greater than lowpass cutoff frequency 0.5, setting values to 0 and Nyquist.\n",
      "\n"
     ]
    },
    {
     "name": "stdout",
     "output_type": "stream",
     "text": [
      "NOTE: pick_channels() is a legacy function. New code should use inst.pick(...).\n",
      "Used Annotations descriptions: [np.str_('1023'), np.str_('1077'), np.str_('1078'), np.str_('1079'), np.str_('1081'), np.str_('276'), np.str_('277'), np.str_('32766'), np.str_('768'), np.str_('769'), np.str_('770')]\n"
     ]
    },
    {
     "name": "stderr",
     "output_type": "stream",
     "text": [
      "C:\\Users\\devdp\\AppData\\Local\\Temp\\ipykernel_19748\\3898994322.py:80: RuntimeWarning:\n",
      "\n",
      "Highpass cutoff frequency 100.0 is greater than lowpass cutoff frequency 0.5, setting values to 0 and Nyquist.\n",
      "\n"
     ]
    },
    {
     "name": "stdout",
     "output_type": "stream",
     "text": [
      "NOTE: pick_channels() is a legacy function. New code should use inst.pick(...).\n",
      "Used Annotations descriptions: [np.str_('1023'), np.str_('1077'), np.str_('1078'), np.str_('1079'), np.str_('1081'), np.str_('276'), np.str_('277'), np.str_('32766'), np.str_('768'), np.str_('769'), np.str_('770')]\n"
     ]
    },
    {
     "name": "stderr",
     "output_type": "stream",
     "text": [
      "C:\\Users\\devdp\\AppData\\Local\\Temp\\ipykernel_19748\\3898994322.py:80: RuntimeWarning:\n",
      "\n",
      "Highpass cutoff frequency 100.0 is greater than lowpass cutoff frequency 0.5, setting values to 0 and Nyquist.\n",
      "\n"
     ]
    },
    {
     "name": "stdout",
     "output_type": "stream",
     "text": [
      "NOTE: pick_channels() is a legacy function. New code should use inst.pick(...).\n",
      "Used Annotations descriptions: [np.str_('1023'), np.str_('1077'), np.str_('1078'), np.str_('1079'), np.str_('1081'), np.str_('276'), np.str_('277'), np.str_('32766'), np.str_('768'), np.str_('769'), np.str_('770'), np.str_('781')]\n"
     ]
    },
    {
     "name": "stderr",
     "output_type": "stream",
     "text": [
      "C:\\Users\\devdp\\AppData\\Local\\Temp\\ipykernel_19748\\3898994322.py:80: RuntimeWarning:\n",
      "\n",
      "Highpass cutoff frequency 100.0 is greater than lowpass cutoff frequency 0.5, setting values to 0 and Nyquist.\n",
      "\n"
     ]
    },
    {
     "name": "stdout",
     "output_type": "stream",
     "text": [
      "NOTE: pick_channels() is a legacy function. New code should use inst.pick(...).\n",
      "Used Annotations descriptions: [np.str_('1023'), np.str_('1077'), np.str_('1078'), np.str_('1079'), np.str_('1081'), np.str_('276'), np.str_('277'), np.str_('32766'), np.str_('768'), np.str_('781'), np.str_('783')]\n"
     ]
    },
    {
     "name": "stderr",
     "output_type": "stream",
     "text": [
      "C:\\Users\\devdp\\AppData\\Local\\Temp\\ipykernel_19748\\3898994322.py:80: RuntimeWarning:\n",
      "\n",
      "Highpass cutoff frequency 100.0 is greater than lowpass cutoff frequency 0.5, setting values to 0 and Nyquist.\n",
      "\n"
     ]
    },
    {
     "name": "stdout",
     "output_type": "stream",
     "text": [
      "NOTE: pick_channels() is a legacy function. New code should use inst.pick(...).\n",
      "Used Annotations descriptions: [np.str_('1023'), np.str_('1077'), np.str_('1078'), np.str_('1079'), np.str_('1081'), np.str_('276'), np.str_('277'), np.str_('32766'), np.str_('768'), np.str_('781'), np.str_('783')]\n"
     ]
    },
    {
     "name": "stderr",
     "output_type": "stream",
     "text": [
      "C:\\Users\\devdp\\AppData\\Local\\Temp\\ipykernel_19748\\3898994322.py:80: RuntimeWarning:\n",
      "\n",
      "Highpass cutoff frequency 100.0 is greater than lowpass cutoff frequency 0.5, setting values to 0 and Nyquist.\n",
      "\n"
     ]
    },
    {
     "name": "stdout",
     "output_type": "stream",
     "text": [
      "NOTE: pick_channels() is a legacy function. New code should use inst.pick(...).\n",
      "Used Annotations descriptions: [np.str_('1023'), np.str_('1077'), np.str_('1078'), np.str_('1079'), np.str_('1081'), np.str_('276'), np.str_('277'), np.str_('32766'), np.str_('768'), np.str_('769'), np.str_('770')]\n"
     ]
    },
    {
     "name": "stderr",
     "output_type": "stream",
     "text": [
      "C:\\Users\\devdp\\AppData\\Local\\Temp\\ipykernel_19748\\3898994322.py:80: RuntimeWarning:\n",
      "\n",
      "Highpass cutoff frequency 100.0 is greater than lowpass cutoff frequency 0.5, setting values to 0 and Nyquist.\n",
      "\n"
     ]
    },
    {
     "name": "stdout",
     "output_type": "stream",
     "text": [
      "NOTE: pick_channels() is a legacy function. New code should use inst.pick(...).\n",
      "Used Annotations descriptions: [np.str_('1023'), np.str_('1077'), np.str_('1078'), np.str_('1079'), np.str_('1081'), np.str_('276'), np.str_('277'), np.str_('32766'), np.str_('768'), np.str_('769'), np.str_('770')]\n"
     ]
    },
    {
     "name": "stderr",
     "output_type": "stream",
     "text": [
      "C:\\Users\\devdp\\AppData\\Local\\Temp\\ipykernel_19748\\3898994322.py:80: RuntimeWarning:\n",
      "\n",
      "Highpass cutoff frequency 100.0 is greater than lowpass cutoff frequency 0.5, setting values to 0 and Nyquist.\n",
      "\n"
     ]
    },
    {
     "name": "stdout",
     "output_type": "stream",
     "text": [
      "NOTE: pick_channels() is a legacy function. New code should use inst.pick(...).\n",
      "Used Annotations descriptions: [np.str_('1023'), np.str_('1077'), np.str_('1078'), np.str_('1079'), np.str_('1081'), np.str_('276'), np.str_('277'), np.str_('32766'), np.str_('768'), np.str_('769'), np.str_('770'), np.str_('781')]\n"
     ]
    },
    {
     "name": "stderr",
     "output_type": "stream",
     "text": [
      "C:\\Users\\devdp\\AppData\\Local\\Temp\\ipykernel_19748\\3898994322.py:80: RuntimeWarning:\n",
      "\n",
      "Highpass cutoff frequency 100.0 is greater than lowpass cutoff frequency 0.5, setting values to 0 and Nyquist.\n",
      "\n"
     ]
    },
    {
     "name": "stdout",
     "output_type": "stream",
     "text": [
      "NOTE: pick_channels() is a legacy function. New code should use inst.pick(...).\n",
      "Used Annotations descriptions: [np.str_('1023'), np.str_('32766'), np.str_('768'), np.str_('781'), np.str_('783')]\n"
     ]
    },
    {
     "name": "stderr",
     "output_type": "stream",
     "text": [
      "C:\\Users\\devdp\\AppData\\Local\\Temp\\ipykernel_19748\\3898994322.py:80: RuntimeWarning:\n",
      "\n",
      "Highpass cutoff frequency 100.0 is greater than lowpass cutoff frequency 0.5, setting values to 0 and Nyquist.\n",
      "\n"
     ]
    },
    {
     "name": "stdout",
     "output_type": "stream",
     "text": [
      "NOTE: pick_channels() is a legacy function. New code should use inst.pick(...).\n",
      "Used Annotations descriptions: [np.str_('1023'), np.str_('1077'), np.str_('1078'), np.str_('1079'), np.str_('1081'), np.str_('276'), np.str_('277'), np.str_('32766'), np.str_('768'), np.str_('781'), np.str_('783')]\n"
     ]
    },
    {
     "name": "stderr",
     "output_type": "stream",
     "text": [
      "C:\\Users\\devdp\\AppData\\Local\\Temp\\ipykernel_19748\\3898994322.py:80: RuntimeWarning:\n",
      "\n",
      "Highpass cutoff frequency 100.0 is greater than lowpass cutoff frequency 0.5, setting values to 0 and Nyquist.\n",
      "\n"
     ]
    },
    {
     "name": "stdout",
     "output_type": "stream",
     "text": [
      "NOTE: pick_channels() is a legacy function. New code should use inst.pick(...).\n",
      "Used Annotations descriptions: [np.str_('1023'), np.str_('1077'), np.str_('1078'), np.str_('1079'), np.str_('1081'), np.str_('276'), np.str_('277'), np.str_('32766'), np.str_('768'), np.str_('769'), np.str_('770')]\n"
     ]
    },
    {
     "name": "stderr",
     "output_type": "stream",
     "text": [
      "C:\\Users\\devdp\\AppData\\Local\\Temp\\ipykernel_19748\\3898994322.py:80: RuntimeWarning:\n",
      "\n",
      "Highpass cutoff frequency 100.0 is greater than lowpass cutoff frequency 0.5, setting values to 0 and Nyquist.\n",
      "\n"
     ]
    },
    {
     "name": "stdout",
     "output_type": "stream",
     "text": [
      "NOTE: pick_channels() is a legacy function. New code should use inst.pick(...).\n",
      "Used Annotations descriptions: [np.str_('1023'), np.str_('1077'), np.str_('1078'), np.str_('1079'), np.str_('1081'), np.str_('276'), np.str_('277'), np.str_('32766'), np.str_('768'), np.str_('769'), np.str_('770')]\n"
     ]
    },
    {
     "name": "stderr",
     "output_type": "stream",
     "text": [
      "C:\\Users\\devdp\\AppData\\Local\\Temp\\ipykernel_19748\\3898994322.py:80: RuntimeWarning:\n",
      "\n",
      "Highpass cutoff frequency 100.0 is greater than lowpass cutoff frequency 0.5, setting values to 0 and Nyquist.\n",
      "\n"
     ]
    },
    {
     "name": "stdout",
     "output_type": "stream",
     "text": [
      "NOTE: pick_channels() is a legacy function. New code should use inst.pick(...).\n",
      "Used Annotations descriptions: [np.str_('1023'), np.str_('1077'), np.str_('1078'), np.str_('1079'), np.str_('1081'), np.str_('276'), np.str_('277'), np.str_('32766'), np.str_('768'), np.str_('769'), np.str_('770'), np.str_('781')]\n"
     ]
    },
    {
     "name": "stderr",
     "output_type": "stream",
     "text": [
      "C:\\Users\\devdp\\AppData\\Local\\Temp\\ipykernel_19748\\3898994322.py:80: RuntimeWarning:\n",
      "\n",
      "Highpass cutoff frequency 100.0 is greater than lowpass cutoff frequency 0.5, setting values to 0 and Nyquist.\n",
      "\n"
     ]
    },
    {
     "name": "stdout",
     "output_type": "stream",
     "text": [
      "NOTE: pick_channels() is a legacy function. New code should use inst.pick(...).\n",
      "Used Annotations descriptions: [np.str_('1023'), np.str_('1077'), np.str_('1078'), np.str_('1079'), np.str_('1081'), np.str_('276'), np.str_('277'), np.str_('32766'), np.str_('768'), np.str_('781'), np.str_('783')]\n"
     ]
    },
    {
     "name": "stderr",
     "output_type": "stream",
     "text": [
      "C:\\Users\\devdp\\AppData\\Local\\Temp\\ipykernel_19748\\3898994322.py:80: RuntimeWarning:\n",
      "\n",
      "Highpass cutoff frequency 100.0 is greater than lowpass cutoff frequency 0.5, setting values to 0 and Nyquist.\n",
      "\n"
     ]
    },
    {
     "name": "stdout",
     "output_type": "stream",
     "text": [
      "NOTE: pick_channels() is a legacy function. New code should use inst.pick(...).\n",
      "Used Annotations descriptions: [np.str_('1023'), np.str_('1077'), np.str_('1078'), np.str_('1079'), np.str_('1081'), np.str_('276'), np.str_('277'), np.str_('32766'), np.str_('768'), np.str_('781'), np.str_('783')]\n"
     ]
    },
    {
     "name": "stderr",
     "output_type": "stream",
     "text": [
      "C:\\Users\\devdp\\AppData\\Local\\Temp\\ipykernel_19748\\3898994322.py:80: RuntimeWarning:\n",
      "\n",
      "Highpass cutoff frequency 100.0 is greater than lowpass cutoff frequency 0.5, setting values to 0 and Nyquist.\n",
      "\n"
     ]
    },
    {
     "name": "stdout",
     "output_type": "stream",
     "text": [
      "NOTE: pick_channels() is a legacy function. New code should use inst.pick(...).\n",
      "Used Annotations descriptions: [np.str_('1023'), np.str_('1077'), np.str_('1078'), np.str_('1079'), np.str_('1081'), np.str_('276'), np.str_('277'), np.str_('32766'), np.str_('768'), np.str_('769'), np.str_('770')]\n"
     ]
    },
    {
     "name": "stderr",
     "output_type": "stream",
     "text": [
      "C:\\Users\\devdp\\AppData\\Local\\Temp\\ipykernel_19748\\3898994322.py:80: RuntimeWarning:\n",
      "\n",
      "Highpass cutoff frequency 100.0 is greater than lowpass cutoff frequency 0.5, setting values to 0 and Nyquist.\n",
      "\n"
     ]
    },
    {
     "name": "stdout",
     "output_type": "stream",
     "text": [
      "NOTE: pick_channels() is a legacy function. New code should use inst.pick(...).\n",
      "Used Annotations descriptions: [np.str_('1023'), np.str_('1077'), np.str_('1078'), np.str_('1079'), np.str_('1081'), np.str_('276'), np.str_('277'), np.str_('32766'), np.str_('768'), np.str_('769'), np.str_('770')]\n"
     ]
    },
    {
     "name": "stderr",
     "output_type": "stream",
     "text": [
      "C:\\Users\\devdp\\AppData\\Local\\Temp\\ipykernel_19748\\3898994322.py:80: RuntimeWarning:\n",
      "\n",
      "Highpass cutoff frequency 100.0 is greater than lowpass cutoff frequency 0.5, setting values to 0 and Nyquist.\n",
      "\n"
     ]
    },
    {
     "name": "stdout",
     "output_type": "stream",
     "text": [
      "NOTE: pick_channels() is a legacy function. New code should use inst.pick(...).\n",
      "Used Annotations descriptions: [np.str_('1023'), np.str_('1077'), np.str_('1078'), np.str_('1079'), np.str_('1081'), np.str_('276'), np.str_('277'), np.str_('32766'), np.str_('768'), np.str_('769'), np.str_('770'), np.str_('781')]\n"
     ]
    },
    {
     "name": "stderr",
     "output_type": "stream",
     "text": [
      "C:\\Users\\devdp\\AppData\\Local\\Temp\\ipykernel_19748\\3898994322.py:80: RuntimeWarning:\n",
      "\n",
      "Highpass cutoff frequency 100.0 is greater than lowpass cutoff frequency 0.5, setting values to 0 and Nyquist.\n",
      "\n"
     ]
    },
    {
     "name": "stdout",
     "output_type": "stream",
     "text": [
      "NOTE: pick_channels() is a legacy function. New code should use inst.pick(...).\n",
      "Used Annotations descriptions: [np.str_('1023'), np.str_('1077'), np.str_('1078'), np.str_('1079'), np.str_('1081'), np.str_('276'), np.str_('277'), np.str_('32766'), np.str_('768'), np.str_('781'), np.str_('783')]\n"
     ]
    },
    {
     "name": "stderr",
     "output_type": "stream",
     "text": [
      "C:\\Users\\devdp\\AppData\\Local\\Temp\\ipykernel_19748\\3898994322.py:80: RuntimeWarning:\n",
      "\n",
      "Highpass cutoff frequency 100.0 is greater than lowpass cutoff frequency 0.5, setting values to 0 and Nyquist.\n",
      "\n"
     ]
    },
    {
     "name": "stdout",
     "output_type": "stream",
     "text": [
      "NOTE: pick_channels() is a legacy function. New code should use inst.pick(...).\n",
      "Used Annotations descriptions: [np.str_('1023'), np.str_('1077'), np.str_('1078'), np.str_('1079'), np.str_('1081'), np.str_('276'), np.str_('277'), np.str_('32766'), np.str_('768'), np.str_('781'), np.str_('783')]\n"
     ]
    },
    {
     "name": "stderr",
     "output_type": "stream",
     "text": [
      "C:\\Users\\devdp\\AppData\\Local\\Temp\\ipykernel_19748\\3898994322.py:80: RuntimeWarning:\n",
      "\n",
      "Highpass cutoff frequency 100.0 is greater than lowpass cutoff frequency 0.5, setting values to 0 and Nyquist.\n",
      "\n"
     ]
    },
    {
     "name": "stdout",
     "output_type": "stream",
     "text": [
      "NOTE: pick_channels() is a legacy function. New code should use inst.pick(...).\n",
      "Used Annotations descriptions: [np.str_('1023'), np.str_('1077'), np.str_('1078'), np.str_('1079'), np.str_('1081'), np.str_('276'), np.str_('277'), np.str_('32766'), np.str_('768'), np.str_('769'), np.str_('770')]\n"
     ]
    },
    {
     "name": "stderr",
     "output_type": "stream",
     "text": [
      "C:\\Users\\devdp\\AppData\\Local\\Temp\\ipykernel_19748\\3898994322.py:80: RuntimeWarning:\n",
      "\n",
      "Highpass cutoff frequency 100.0 is greater than lowpass cutoff frequency 0.5, setting values to 0 and Nyquist.\n",
      "\n"
     ]
    },
    {
     "name": "stdout",
     "output_type": "stream",
     "text": [
      "NOTE: pick_channels() is a legacy function. New code should use inst.pick(...).\n",
      "Used Annotations descriptions: [np.str_('1023'), np.str_('1077'), np.str_('1078'), np.str_('1079'), np.str_('1081'), np.str_('276'), np.str_('277'), np.str_('32766'), np.str_('768'), np.str_('769'), np.str_('770')]\n"
     ]
    },
    {
     "name": "stderr",
     "output_type": "stream",
     "text": [
      "C:\\Users\\devdp\\AppData\\Local\\Temp\\ipykernel_19748\\3898994322.py:80: RuntimeWarning:\n",
      "\n",
      "Highpass cutoff frequency 100.0 is greater than lowpass cutoff frequency 0.5, setting values to 0 and Nyquist.\n",
      "\n"
     ]
    },
    {
     "name": "stdout",
     "output_type": "stream",
     "text": [
      "NOTE: pick_channels() is a legacy function. New code should use inst.pick(...).\n",
      "Used Annotations descriptions: [np.str_('1023'), np.str_('1077'), np.str_('1078'), np.str_('1079'), np.str_('1081'), np.str_('276'), np.str_('277'), np.str_('32766'), np.str_('768'), np.str_('769'), np.str_('770'), np.str_('781')]\n"
     ]
    },
    {
     "name": "stderr",
     "output_type": "stream",
     "text": [
      "C:\\Users\\devdp\\AppData\\Local\\Temp\\ipykernel_19748\\3898994322.py:80: RuntimeWarning:\n",
      "\n",
      "Highpass cutoff frequency 100.0 is greater than lowpass cutoff frequency 0.5, setting values to 0 and Nyquist.\n",
      "\n"
     ]
    },
    {
     "name": "stdout",
     "output_type": "stream",
     "text": [
      "NOTE: pick_channels() is a legacy function. New code should use inst.pick(...).\n",
      "Used Annotations descriptions: [np.str_('1023'), np.str_('1077'), np.str_('1078'), np.str_('1079'), np.str_('1081'), np.str_('276'), np.str_('277'), np.str_('32766'), np.str_('768'), np.str_('781'), np.str_('783')]\n"
     ]
    },
    {
     "name": "stderr",
     "output_type": "stream",
     "text": [
      "C:\\Users\\devdp\\AppData\\Local\\Temp\\ipykernel_19748\\3898994322.py:80: RuntimeWarning:\n",
      "\n",
      "Highpass cutoff frequency 100.0 is greater than lowpass cutoff frequency 0.5, setting values to 0 and Nyquist.\n",
      "\n"
     ]
    },
    {
     "name": "stdout",
     "output_type": "stream",
     "text": [
      "NOTE: pick_channels() is a legacy function. New code should use inst.pick(...).\n",
      "Used Annotations descriptions: [np.str_('1023'), np.str_('1077'), np.str_('1078'), np.str_('1079'), np.str_('1081'), np.str_('276'), np.str_('277'), np.str_('32766'), np.str_('768'), np.str_('781'), np.str_('783')]\n"
     ]
    },
    {
     "name": "stderr",
     "output_type": "stream",
     "text": [
      "C:\\Users\\devdp\\AppData\\Local\\Temp\\ipykernel_19748\\3898994322.py:80: RuntimeWarning:\n",
      "\n",
      "Highpass cutoff frequency 100.0 is greater than lowpass cutoff frequency 0.5, setting values to 0 and Nyquist.\n",
      "\n"
     ]
    },
    {
     "name": "stdout",
     "output_type": "stream",
     "text": [
      "NOTE: pick_channels() is a legacy function. New code should use inst.pick(...).\n",
      "Used Annotations descriptions: [np.str_('1023'), np.str_('1077'), np.str_('1078'), np.str_('1079'), np.str_('1081'), np.str_('276'), np.str_('277'), np.str_('32766'), np.str_('768'), np.str_('769'), np.str_('770')]\n"
     ]
    },
    {
     "name": "stderr",
     "output_type": "stream",
     "text": [
      "C:\\Users\\devdp\\AppData\\Local\\Temp\\ipykernel_19748\\3898994322.py:80: RuntimeWarning:\n",
      "\n",
      "Highpass cutoff frequency 100.0 is greater than lowpass cutoff frequency 0.5, setting values to 0 and Nyquist.\n",
      "\n"
     ]
    },
    {
     "name": "stdout",
     "output_type": "stream",
     "text": [
      "NOTE: pick_channels() is a legacy function. New code should use inst.pick(...).\n",
      "Used Annotations descriptions: [np.str_('1023'), np.str_('1077'), np.str_('1078'), np.str_('1079'), np.str_('1081'), np.str_('276'), np.str_('277'), np.str_('32766'), np.str_('768'), np.str_('769'), np.str_('770')]\n"
     ]
    },
    {
     "name": "stderr",
     "output_type": "stream",
     "text": [
      "C:\\Users\\devdp\\AppData\\Local\\Temp\\ipykernel_19748\\3898994322.py:80: RuntimeWarning:\n",
      "\n",
      "Highpass cutoff frequency 100.0 is greater than lowpass cutoff frequency 0.5, setting values to 0 and Nyquist.\n",
      "\n"
     ]
    },
    {
     "name": "stdout",
     "output_type": "stream",
     "text": [
      "NOTE: pick_channels() is a legacy function. New code should use inst.pick(...).\n",
      "Used Annotations descriptions: [np.str_('1023'), np.str_('1077'), np.str_('1078'), np.str_('1079'), np.str_('1081'), np.str_('276'), np.str_('277'), np.str_('32766'), np.str_('768'), np.str_('769'), np.str_('770'), np.str_('781')]\n"
     ]
    },
    {
     "name": "stderr",
     "output_type": "stream",
     "text": [
      "C:\\Users\\devdp\\AppData\\Local\\Temp\\ipykernel_19748\\3898994322.py:80: RuntimeWarning:\n",
      "\n",
      "Highpass cutoff frequency 100.0 is greater than lowpass cutoff frequency 0.5, setting values to 0 and Nyquist.\n",
      "\n"
     ]
    },
    {
     "name": "stdout",
     "output_type": "stream",
     "text": [
      "NOTE: pick_channels() is a legacy function. New code should use inst.pick(...).\n",
      "Used Annotations descriptions: [np.str_('1023'), np.str_('1077'), np.str_('1078'), np.str_('1079'), np.str_('1081'), np.str_('276'), np.str_('277'), np.str_('32766'), np.str_('768'), np.str_('781'), np.str_('783')]\n"
     ]
    },
    {
     "name": "stderr",
     "output_type": "stream",
     "text": [
      "C:\\Users\\devdp\\AppData\\Local\\Temp\\ipykernel_19748\\3898994322.py:80: RuntimeWarning:\n",
      "\n",
      "Highpass cutoff frequency 100.0 is greater than lowpass cutoff frequency 0.5, setting values to 0 and Nyquist.\n",
      "\n"
     ]
    },
    {
     "name": "stdout",
     "output_type": "stream",
     "text": [
      "NOTE: pick_channels() is a legacy function. New code should use inst.pick(...).\n",
      "Used Annotations descriptions: [np.str_('1023'), np.str_('1077'), np.str_('1078'), np.str_('1079'), np.str_('1081'), np.str_('276'), np.str_('277'), np.str_('32766'), np.str_('768'), np.str_('781'), np.str_('783')]\n",
      "Dataset Summary:\n"
     ]
    },
    {
     "data": {
      "text/html": [
       "<table border=\"1\" class=\"dataframe table table-striped table-hover\">\n",
       "  <thead>\n",
       "    <tr style=\"text-align: right;\">\n",
       "      <th>Subject</th>\n",
       "      <th>Session</th>\n",
       "      <th>Left Trials</th>\n",
       "      <th>Right Trials</th>\n",
       "      <th>Total Trials</th>\n",
       "      <th>Left %</th>\n",
       "      <th>Right %</th>\n",
       "    </tr>\n",
       "  </thead>\n",
       "  <tbody>\n",
       "    <tr>\n",
       "      <td>B01</td>\n",
       "      <td>01 (T)</td>\n",
       "      <td>51</td>\n",
       "      <td>51</td>\n",
       "      <td>102</td>\n",
       "      <td>50.0%</td>\n",
       "      <td>50.0%</td>\n",
       "    </tr>\n",
       "    <tr>\n",
       "      <td>B01</td>\n",
       "      <td>02 (T)</td>\n",
       "      <td>48</td>\n",
       "      <td>50</td>\n",
       "      <td>98</td>\n",
       "      <td>49.0%</td>\n",
       "      <td>51.0%</td>\n",
       "    </tr>\n",
       "    <tr>\n",
       "      <td>B01</td>\n",
       "      <td>03 (T)</td>\n",
       "      <td>60</td>\n",
       "      <td>64</td>\n",
       "      <td>124</td>\n",
       "      <td>48.4%</td>\n",
       "      <td>51.6%</td>\n",
       "    </tr>\n",
       "    <tr>\n",
       "      <td>B02</td>\n",
       "      <td>01 (T)</td>\n",
       "      <td>48</td>\n",
       "      <td>50</td>\n",
       "      <td>98</td>\n",
       "      <td>49.0%</td>\n",
       "      <td>51.0%</td>\n",
       "    </tr>\n",
       "    <tr>\n",
       "      <td>B02</td>\n",
       "      <td>02 (T)</td>\n",
       "      <td>51</td>\n",
       "      <td>49</td>\n",
       "      <td>100</td>\n",
       "      <td>51.0%</td>\n",
       "      <td>49.0%</td>\n",
       "    </tr>\n",
       "    <tr>\n",
       "      <td>B02</td>\n",
       "      <td>03 (T)</td>\n",
       "      <td>64</td>\n",
       "      <td>67</td>\n",
       "      <td>131</td>\n",
       "      <td>48.9%</td>\n",
       "      <td>51.1%</td>\n",
       "    </tr>\n",
       "    <tr>\n",
       "      <td>B03</td>\n",
       "      <td>01 (T)</td>\n",
       "      <td>47</td>\n",
       "      <td>43</td>\n",
       "      <td>90</td>\n",
       "      <td>52.2%</td>\n",
       "      <td>47.8%</td>\n",
       "    </tr>\n",
       "    <tr>\n",
       "      <td>B03</td>\n",
       "      <td>02 (T)</td>\n",
       "      <td>43</td>\n",
       "      <td>45</td>\n",
       "      <td>88</td>\n",
       "      <td>48.9%</td>\n",
       "      <td>51.1%</td>\n",
       "    </tr>\n",
       "    <tr>\n",
       "      <td>B03</td>\n",
       "      <td>03 (T)</td>\n",
       "      <td>56</td>\n",
       "      <td>62</td>\n",
       "      <td>118</td>\n",
       "      <td>47.5%</td>\n",
       "      <td>52.5%</td>\n",
       "    </tr>\n",
       "    <tr>\n",
       "      <td>B04</td>\n",
       "      <td>01 (T)</td>\n",
       "      <td>57</td>\n",
       "      <td>60</td>\n",
       "      <td>117</td>\n",
       "      <td>48.7%</td>\n",
       "      <td>51.3%</td>\n",
       "    </tr>\n",
       "    <tr>\n",
       "      <td>B04</td>\n",
       "      <td>02 (T)</td>\n",
       "      <td>66</td>\n",
       "      <td>63</td>\n",
       "      <td>129</td>\n",
       "      <td>51.2%</td>\n",
       "      <td>48.8%</td>\n",
       "    </tr>\n",
       "    <tr>\n",
       "      <td>B04</td>\n",
       "      <td>03 (T)</td>\n",
       "      <td>78</td>\n",
       "      <td>75</td>\n",
       "      <td>153</td>\n",
       "      <td>51.0%</td>\n",
       "      <td>49.0%</td>\n",
       "    </tr>\n",
       "    <tr>\n",
       "      <td>B05</td>\n",
       "      <td>01 (T)</td>\n",
       "      <td>51</td>\n",
       "      <td>52</td>\n",
       "      <td>103</td>\n",
       "      <td>49.5%</td>\n",
       "      <td>50.5%</td>\n",
       "    </tr>\n",
       "    <tr>\n",
       "      <td>B05</td>\n",
       "      <td>02 (T)</td>\n",
       "      <td>68</td>\n",
       "      <td>68</td>\n",
       "      <td>136</td>\n",
       "      <td>50.0%</td>\n",
       "      <td>50.0%</td>\n",
       "    </tr>\n",
       "    <tr>\n",
       "      <td>B05</td>\n",
       "      <td>03 (T)</td>\n",
       "      <td>74</td>\n",
       "      <td>69</td>\n",
       "      <td>143</td>\n",
       "      <td>51.7%</td>\n",
       "      <td>48.3%</td>\n",
       "    </tr>\n",
       "    <tr>\n",
       "      <td>B06</td>\n",
       "      <td>01 (T)</td>\n",
       "      <td>35</td>\n",
       "      <td>41</td>\n",
       "      <td>76</td>\n",
       "      <td>46.1%</td>\n",
       "      <td>53.9%</td>\n",
       "    </tr>\n",
       "    <tr>\n",
       "      <td>B06</td>\n",
       "      <td>02 (T)</td>\n",
       "      <td>42</td>\n",
       "      <td>43</td>\n",
       "      <td>85</td>\n",
       "      <td>49.4%</td>\n",
       "      <td>50.6%</td>\n",
       "    </tr>\n",
       "    <tr>\n",
       "      <td>B06</td>\n",
       "      <td>03 (T)</td>\n",
       "      <td>65</td>\n",
       "      <td>69</td>\n",
       "      <td>134</td>\n",
       "      <td>48.5%</td>\n",
       "      <td>51.5%</td>\n",
       "    </tr>\n",
       "    <tr>\n",
       "      <td>B07</td>\n",
       "      <td>01 (T)</td>\n",
       "      <td>55</td>\n",
       "      <td>52</td>\n",
       "      <td>107</td>\n",
       "      <td>51.4%</td>\n",
       "      <td>48.6%</td>\n",
       "    </tr>\n",
       "    <tr>\n",
       "      <td>B07</td>\n",
       "      <td>02 (T)</td>\n",
       "      <td>55</td>\n",
       "      <td>56</td>\n",
       "      <td>111</td>\n",
       "      <td>49.5%</td>\n",
       "      <td>50.5%</td>\n",
       "    </tr>\n",
       "    <tr>\n",
       "      <td>B07</td>\n",
       "      <td>03 (T)</td>\n",
       "      <td>68</td>\n",
       "      <td>70</td>\n",
       "      <td>138</td>\n",
       "      <td>49.3%</td>\n",
       "      <td>50.7%</td>\n",
       "    </tr>\n",
       "    <tr>\n",
       "      <td>B08</td>\n",
       "      <td>01 (T)</td>\n",
       "      <td>72</td>\n",
       "      <td>60</td>\n",
       "      <td>132</td>\n",
       "      <td>54.5%</td>\n",
       "      <td>45.5%</td>\n",
       "    </tr>\n",
       "    <tr>\n",
       "      <td>B08</td>\n",
       "      <td>02 (T)</td>\n",
       "      <td>49</td>\n",
       "      <td>41</td>\n",
       "      <td>90</td>\n",
       "      <td>54.4%</td>\n",
       "      <td>45.6%</td>\n",
       "    </tr>\n",
       "    <tr>\n",
       "      <td>B08</td>\n",
       "      <td>03 (T)</td>\n",
       "      <td>54</td>\n",
       "      <td>52</td>\n",
       "      <td>106</td>\n",
       "      <td>50.9%</td>\n",
       "      <td>49.1%</td>\n",
       "    </tr>\n",
       "    <tr>\n",
       "      <td>B09</td>\n",
       "      <td>01 (T)</td>\n",
       "      <td>43</td>\n",
       "      <td>48</td>\n",
       "      <td>91</td>\n",
       "      <td>47.3%</td>\n",
       "      <td>52.7%</td>\n",
       "    </tr>\n",
       "    <tr>\n",
       "      <td>B09</td>\n",
       "      <td>02 (T)</td>\n",
       "      <td>45</td>\n",
       "      <td>46</td>\n",
       "      <td>91</td>\n",
       "      <td>49.5%</td>\n",
       "      <td>50.5%</td>\n",
       "    </tr>\n",
       "    <tr>\n",
       "      <td>B09</td>\n",
       "      <td>03 (T)</td>\n",
       "      <td>69</td>\n",
       "      <td>66</td>\n",
       "      <td>135</td>\n",
       "      <td>51.1%</td>\n",
       "      <td>48.9%</td>\n",
       "    </tr>\n",
       "  </tbody>\n",
       "</table>"
      ],
      "text/plain": [
       "<IPython.core.display.HTML object>"
      ]
     },
     "metadata": {},
     "output_type": "display_data"
    }
   ],
   "source": [
    "def get_subject_summary(loader):\n",
    "    \"\"\"Generate a comprehensive summary of all subjects' data.\"\"\"\n",
    "    summary = []\n",
    "    for subject in loader.list_subjects():\n",
    "        for session in loader.list_sessions(subject):\n",
    "            for s_type in loader.list_session_types(subject, session):\n",
    "                data = loader.get_data(subject, session, s_type)\n",
    "                if data['epochs'] is not None:\n",
    "                    epochs = data['epochs']\n",
    "                    left = np.sum(epochs.events[:, 2] == 1) # Standardized ID\n",
    "                    right = np.sum(epochs.events[:, 2] == 2) # Standardized ID\n",
    "                    total = left + right\n",
    "                    if total > 0:\n",
    "                        summary.append({\n",
    "                            'Subject': subject,\n",
    "                            'Session': f\"{session} ({s_type})\",\n",
    "                            'Left Trials': left,\n",
    "                            'Right Trials': right,\n",
    "                            'Total Trials': total,\n",
    "                            'Left %': f\"{(left/total)*100:.1f}%\",\n",
    "                            'Right %': f\"{(right/total)*100:.1f}%\"\n",
    "                        })\n",
    "    return pd.DataFrame(summary)\n",
    "\n",
    "# Generate and display the summary table\n",
    "summary_df = get_subject_summary(EEGDataLoader()) # Use a fresh loader for all subjects\n",
    "print(\"Dataset Summary:\")\n",
    "display(HTML(summary_df.to_html(classes='table table-striped table-hover', index=False)))"
   ]
  },
  {
   "cell_type": "code",
   "execution_count": 138,
   "id": "65d9d0cd",
   "metadata": {},
   "outputs": [
    {
     "data": {
      "application/vnd.plotly.v1+json": {
       "config": {
        "plotlyServerURL": "https://plot.ly"
       },
       "data": [
        {
         "alignmentgroup": "True",
         "hovertemplate": "<b>%{hovertext}</b><br><br>Trial Type=Left Trials<br>Subject=%{x}<br>Number of Trials=%{y}<extra></extra>",
         "hovertext": [
          "01 (T)",
          "02 (T)",
          "03 (T)",
          "01 (T)",
          "02 (T)",
          "03 (T)",
          "01 (T)",
          "02 (T)",
          "03 (T)",
          "01 (T)",
          "02 (T)",
          "03 (T)",
          "01 (T)",
          "02 (T)",
          "03 (T)",
          "01 (T)",
          "02 (T)",
          "03 (T)",
          "01 (T)",
          "02 (T)",
          "03 (T)",
          "01 (T)",
          "02 (T)",
          "03 (T)",
          "01 (T)",
          "02 (T)",
          "03 (T)"
         ],
         "legendgroup": "Left Trials",
         "marker": {
          "color": "#636EFA",
          "pattern": {
           "shape": ""
          }
         },
         "name": "Left Trials",
         "offsetgroup": "Left Trials",
         "orientation": "v",
         "showlegend": true,
         "textposition": "auto",
         "type": "bar",
         "x": [
          "B01",
          "B01",
          "B01",
          "B02",
          "B02",
          "B02",
          "B03",
          "B03",
          "B03",
          "B04",
          "B04",
          "B04",
          "B05",
          "B05",
          "B05",
          "B06",
          "B06",
          "B06",
          "B07",
          "B07",
          "B07",
          "B08",
          "B08",
          "B08",
          "B09",
          "B09",
          "B09"
         ],
         "xaxis": "x",
         "y": {
          "bdata": "MzA8MDNALys4OUJOM0RKIypBNzdESDE2Ky1F",
          "dtype": "i1"
         },
         "yaxis": "y"
        },
        {
         "alignmentgroup": "True",
         "hovertemplate": "<b>%{hovertext}</b><br><br>Trial Type=Right Trials<br>Subject=%{x}<br>Number of Trials=%{y}<extra></extra>",
         "hovertext": [
          "01 (T)",
          "02 (T)",
          "03 (T)",
          "01 (T)",
          "02 (T)",
          "03 (T)",
          "01 (T)",
          "02 (T)",
          "03 (T)",
          "01 (T)",
          "02 (T)",
          "03 (T)",
          "01 (T)",
          "02 (T)",
          "03 (T)",
          "01 (T)",
          "02 (T)",
          "03 (T)",
          "01 (T)",
          "02 (T)",
          "03 (T)",
          "01 (T)",
          "02 (T)",
          "03 (T)",
          "01 (T)",
          "02 (T)",
          "03 (T)"
         ],
         "legendgroup": "Right Trials",
         "marker": {
          "color": "#EF553B",
          "pattern": {
           "shape": ""
          }
         },
         "name": "Right Trials",
         "offsetgroup": "Right Trials",
         "orientation": "v",
         "showlegend": true,
         "textposition": "auto",
         "type": "bar",
         "x": [
          "B01",
          "B01",
          "B01",
          "B02",
          "B02",
          "B02",
          "B03",
          "B03",
          "B03",
          "B04",
          "B04",
          "B04",
          "B05",
          "B05",
          "B05",
          "B06",
          "B06",
          "B06",
          "B07",
          "B07",
          "B07",
          "B08",
          "B08",
          "B08",
          "B09",
          "B09",
          "B09"
         ],
         "xaxis": "x",
         "y": {
          "bdata": "MzJAMjFDKy0+PD9LNERFKStFNDhGPCk0MC5C",
          "dtype": "i1"
         },
         "yaxis": "y"
        }
       ],
       "layout": {
        "barmode": "group",
        "hovermode": "x unified",
        "legend": {
         "title": {
          "text": "Trial Type"
         },
         "tracegroupgap": 0
        },
        "template": {
         "data": {
          "bar": [
           {
            "error_x": {
             "color": "#2a3f5f"
            },
            "error_y": {
             "color": "#2a3f5f"
            },
            "marker": {
             "line": {
              "color": "white",
              "width": 0.5
             },
             "pattern": {
              "fillmode": "overlay",
              "size": 10,
              "solidity": 0.2
             }
            },
            "type": "bar"
           }
          ],
          "barpolar": [
           {
            "marker": {
             "line": {
              "color": "white",
              "width": 0.5
             },
             "pattern": {
              "fillmode": "overlay",
              "size": 10,
              "solidity": 0.2
             }
            },
            "type": "barpolar"
           }
          ],
          "carpet": [
           {
            "aaxis": {
             "endlinecolor": "#2a3f5f",
             "gridcolor": "#C8D4E3",
             "linecolor": "#C8D4E3",
             "minorgridcolor": "#C8D4E3",
             "startlinecolor": "#2a3f5f"
            },
            "baxis": {
             "endlinecolor": "#2a3f5f",
             "gridcolor": "#C8D4E3",
             "linecolor": "#C8D4E3",
             "minorgridcolor": "#C8D4E3",
             "startlinecolor": "#2a3f5f"
            },
            "type": "carpet"
           }
          ],
          "choropleth": [
           {
            "colorbar": {
             "outlinewidth": 0,
             "ticks": ""
            },
            "type": "choropleth"
           }
          ],
          "contour": [
           {
            "colorbar": {
             "outlinewidth": 0,
             "ticks": ""
            },
            "colorscale": [
             [
              0,
              "#0d0887"
             ],
             [
              0.1111111111111111,
              "#46039f"
             ],
             [
              0.2222222222222222,
              "#7201a8"
             ],
             [
              0.3333333333333333,
              "#9c179e"
             ],
             [
              0.4444444444444444,
              "#bd3786"
             ],
             [
              0.5555555555555556,
              "#d8576b"
             ],
             [
              0.6666666666666666,
              "#ed7953"
             ],
             [
              0.7777777777777778,
              "#fb9f3a"
             ],
             [
              0.8888888888888888,
              "#fdca26"
             ],
             [
              1,
              "#f0f921"
             ]
            ],
            "type": "contour"
           }
          ],
          "contourcarpet": [
           {
            "colorbar": {
             "outlinewidth": 0,
             "ticks": ""
            },
            "type": "contourcarpet"
           }
          ],
          "heatmap": [
           {
            "colorbar": {
             "outlinewidth": 0,
             "ticks": ""
            },
            "colorscale": [
             [
              0,
              "#0d0887"
             ],
             [
              0.1111111111111111,
              "#46039f"
             ],
             [
              0.2222222222222222,
              "#7201a8"
             ],
             [
              0.3333333333333333,
              "#9c179e"
             ],
             [
              0.4444444444444444,
              "#bd3786"
             ],
             [
              0.5555555555555556,
              "#d8576b"
             ],
             [
              0.6666666666666666,
              "#ed7953"
             ],
             [
              0.7777777777777778,
              "#fb9f3a"
             ],
             [
              0.8888888888888888,
              "#fdca26"
             ],
             [
              1,
              "#f0f921"
             ]
            ],
            "type": "heatmap"
           }
          ],
          "histogram": [
           {
            "marker": {
             "pattern": {
              "fillmode": "overlay",
              "size": 10,
              "solidity": 0.2
             }
            },
            "type": "histogram"
           }
          ],
          "histogram2d": [
           {
            "colorbar": {
             "outlinewidth": 0,
             "ticks": ""
            },
            "colorscale": [
             [
              0,
              "#0d0887"
             ],
             [
              0.1111111111111111,
              "#46039f"
             ],
             [
              0.2222222222222222,
              "#7201a8"
             ],
             [
              0.3333333333333333,
              "#9c179e"
             ],
             [
              0.4444444444444444,
              "#bd3786"
             ],
             [
              0.5555555555555556,
              "#d8576b"
             ],
             [
              0.6666666666666666,
              "#ed7953"
             ],
             [
              0.7777777777777778,
              "#fb9f3a"
             ],
             [
              0.8888888888888888,
              "#fdca26"
             ],
             [
              1,
              "#f0f921"
             ]
            ],
            "type": "histogram2d"
           }
          ],
          "histogram2dcontour": [
           {
            "colorbar": {
             "outlinewidth": 0,
             "ticks": ""
            },
            "colorscale": [
             [
              0,
              "#0d0887"
             ],
             [
              0.1111111111111111,
              "#46039f"
             ],
             [
              0.2222222222222222,
              "#7201a8"
             ],
             [
              0.3333333333333333,
              "#9c179e"
             ],
             [
              0.4444444444444444,
              "#bd3786"
             ],
             [
              0.5555555555555556,
              "#d8576b"
             ],
             [
              0.6666666666666666,
              "#ed7953"
             ],
             [
              0.7777777777777778,
              "#fb9f3a"
             ],
             [
              0.8888888888888888,
              "#fdca26"
             ],
             [
              1,
              "#f0f921"
             ]
            ],
            "type": "histogram2dcontour"
           }
          ],
          "mesh3d": [
           {
            "colorbar": {
             "outlinewidth": 0,
             "ticks": ""
            },
            "type": "mesh3d"
           }
          ],
          "parcoords": [
           {
            "line": {
             "colorbar": {
              "outlinewidth": 0,
              "ticks": ""
             }
            },
            "type": "parcoords"
           }
          ],
          "pie": [
           {
            "automargin": true,
            "type": "pie"
           }
          ],
          "scatter": [
           {
            "fillpattern": {
             "fillmode": "overlay",
             "size": 10,
             "solidity": 0.2
            },
            "type": "scatter"
           }
          ],
          "scatter3d": [
           {
            "line": {
             "colorbar": {
              "outlinewidth": 0,
              "ticks": ""
             }
            },
            "marker": {
             "colorbar": {
              "outlinewidth": 0,
              "ticks": ""
             }
            },
            "type": "scatter3d"
           }
          ],
          "scattercarpet": [
           {
            "marker": {
             "colorbar": {
              "outlinewidth": 0,
              "ticks": ""
             }
            },
            "type": "scattercarpet"
           }
          ],
          "scattergeo": [
           {
            "marker": {
             "colorbar": {
              "outlinewidth": 0,
              "ticks": ""
             }
            },
            "type": "scattergeo"
           }
          ],
          "scattergl": [
           {
            "marker": {
             "colorbar": {
              "outlinewidth": 0,
              "ticks": ""
             }
            },
            "type": "scattergl"
           }
          ],
          "scattermap": [
           {
            "marker": {
             "colorbar": {
              "outlinewidth": 0,
              "ticks": ""
             }
            },
            "type": "scattermap"
           }
          ],
          "scattermapbox": [
           {
            "marker": {
             "colorbar": {
              "outlinewidth": 0,
              "ticks": ""
             }
            },
            "type": "scattermapbox"
           }
          ],
          "scatterpolar": [
           {
            "marker": {
             "colorbar": {
              "outlinewidth": 0,
              "ticks": ""
             }
            },
            "type": "scatterpolar"
           }
          ],
          "scatterpolargl": [
           {
            "marker": {
             "colorbar": {
              "outlinewidth": 0,
              "ticks": ""
             }
            },
            "type": "scatterpolargl"
           }
          ],
          "scatterternary": [
           {
            "marker": {
             "colorbar": {
              "outlinewidth": 0,
              "ticks": ""
             }
            },
            "type": "scatterternary"
           }
          ],
          "surface": [
           {
            "colorbar": {
             "outlinewidth": 0,
             "ticks": ""
            },
            "colorscale": [
             [
              0,
              "#0d0887"
             ],
             [
              0.1111111111111111,
              "#46039f"
             ],
             [
              0.2222222222222222,
              "#7201a8"
             ],
             [
              0.3333333333333333,
              "#9c179e"
             ],
             [
              0.4444444444444444,
              "#bd3786"
             ],
             [
              0.5555555555555556,
              "#d8576b"
             ],
             [
              0.6666666666666666,
              "#ed7953"
             ],
             [
              0.7777777777777778,
              "#fb9f3a"
             ],
             [
              0.8888888888888888,
              "#fdca26"
             ],
             [
              1,
              "#f0f921"
             ]
            ],
            "type": "surface"
           }
          ],
          "table": [
           {
            "cells": {
             "fill": {
              "color": "#EBF0F8"
             },
             "line": {
              "color": "white"
             }
            },
            "header": {
             "fill": {
              "color": "#C8D4E3"
             },
             "line": {
              "color": "white"
             }
            },
            "type": "table"
           }
          ]
         },
         "layout": {
          "annotationdefaults": {
           "arrowcolor": "#2a3f5f",
           "arrowhead": 0,
           "arrowwidth": 1
          },
          "autotypenumbers": "strict",
          "coloraxis": {
           "colorbar": {
            "outlinewidth": 0,
            "ticks": ""
           }
          },
          "colorscale": {
           "diverging": [
            [
             0,
             "#8e0152"
            ],
            [
             0.1,
             "#c51b7d"
            ],
            [
             0.2,
             "#de77ae"
            ],
            [
             0.3,
             "#f1b6da"
            ],
            [
             0.4,
             "#fde0ef"
            ],
            [
             0.5,
             "#f7f7f7"
            ],
            [
             0.6,
             "#e6f5d0"
            ],
            [
             0.7,
             "#b8e186"
            ],
            [
             0.8,
             "#7fbc41"
            ],
            [
             0.9,
             "#4d9221"
            ],
            [
             1,
             "#276419"
            ]
           ],
           "sequential": [
            [
             0,
             "#0d0887"
            ],
            [
             0.1111111111111111,
             "#46039f"
            ],
            [
             0.2222222222222222,
             "#7201a8"
            ],
            [
             0.3333333333333333,
             "#9c179e"
            ],
            [
             0.4444444444444444,
             "#bd3786"
            ],
            [
             0.5555555555555556,
             "#d8576b"
            ],
            [
             0.6666666666666666,
             "#ed7953"
            ],
            [
             0.7777777777777778,
             "#fb9f3a"
            ],
            [
             0.8888888888888888,
             "#fdca26"
            ],
            [
             1,
             "#f0f921"
            ]
           ],
           "sequentialminus": [
            [
             0,
             "#0d0887"
            ],
            [
             0.1111111111111111,
             "#46039f"
            ],
            [
             0.2222222222222222,
             "#7201a8"
            ],
            [
             0.3333333333333333,
             "#9c179e"
            ],
            [
             0.4444444444444444,
             "#bd3786"
            ],
            [
             0.5555555555555556,
             "#d8576b"
            ],
            [
             0.6666666666666666,
             "#ed7953"
            ],
            [
             0.7777777777777778,
             "#fb9f3a"
            ],
            [
             0.8888888888888888,
             "#fdca26"
            ],
            [
             1,
             "#f0f921"
            ]
           ]
          },
          "colorway": [
           "#636efa",
           "#EF553B",
           "#00cc96",
           "#ab63fa",
           "#FFA15A",
           "#19d3f3",
           "#FF6692",
           "#B6E880",
           "#FF97FF",
           "#FECB52"
          ],
          "font": {
           "color": "#2a3f5f"
          },
          "geo": {
           "bgcolor": "white",
           "lakecolor": "white",
           "landcolor": "white",
           "showlakes": true,
           "showland": true,
           "subunitcolor": "#C8D4E3"
          },
          "hoverlabel": {
           "align": "left"
          },
          "hovermode": "closest",
          "mapbox": {
           "style": "light"
          },
          "paper_bgcolor": "white",
          "plot_bgcolor": "white",
          "polar": {
           "angularaxis": {
            "gridcolor": "#EBF0F8",
            "linecolor": "#EBF0F8",
            "ticks": ""
           },
           "bgcolor": "white",
           "radialaxis": {
            "gridcolor": "#EBF0F8",
            "linecolor": "#EBF0F8",
            "ticks": ""
           }
          },
          "scene": {
           "xaxis": {
            "backgroundcolor": "white",
            "gridcolor": "#DFE8F3",
            "gridwidth": 2,
            "linecolor": "#EBF0F8",
            "showbackground": true,
            "ticks": "",
            "zerolinecolor": "#EBF0F8"
           },
           "yaxis": {
            "backgroundcolor": "white",
            "gridcolor": "#DFE8F3",
            "gridwidth": 2,
            "linecolor": "#EBF0F8",
            "showbackground": true,
            "ticks": "",
            "zerolinecolor": "#EBF0F8"
           },
           "zaxis": {
            "backgroundcolor": "white",
            "gridcolor": "#DFE8F3",
            "gridwidth": 2,
            "linecolor": "#EBF0F8",
            "showbackground": true,
            "ticks": "",
            "zerolinecolor": "#EBF0F8"
           }
          },
          "shapedefaults": {
           "line": {
            "color": "#2a3f5f"
           }
          },
          "ternary": {
           "aaxis": {
            "gridcolor": "#DFE8F3",
            "linecolor": "#A2B1C6",
            "ticks": ""
           },
           "baxis": {
            "gridcolor": "#DFE8F3",
            "linecolor": "#A2B1C6",
            "ticks": ""
           },
           "bgcolor": "white",
           "caxis": {
            "gridcolor": "#DFE8F3",
            "linecolor": "#A2B1C6",
            "ticks": ""
           }
          },
          "title": {
           "x": 0.05
          },
          "xaxis": {
           "automargin": true,
           "gridcolor": "#EBF0F8",
           "linecolor": "#EBF0F8",
           "ticks": "",
           "title": {
            "standoff": 15
           },
           "zerolinecolor": "#EBF0F8",
           "zerolinewidth": 2
          },
          "yaxis": {
           "automargin": true,
           "gridcolor": "#EBF0F8",
           "linecolor": "#EBF0F8",
           "ticks": "",
           "title": {
            "standoff": 15
           },
           "zerolinecolor": "#EBF0F8",
           "zerolinewidth": 2
          }
         }
        },
        "title": {
         "text": "<b>Distribution of Left vs Right Trials by Subject</b>"
        },
        "xaxis": {
         "anchor": "y",
         "domain": [
          0,
          1
         ],
         "title": {
          "text": "Subject"
         }
        },
        "yaxis": {
         "anchor": "x",
         "domain": [
          0,
          1
         ],
         "title": {
          "text": "Number of Trials"
         }
        }
       }
      }
     },
     "metadata": {},
     "output_type": "display_data"
    }
   ],
   "source": [
    "def plot_trial_distribution(summary_df):\n",
    "    \"\"\"Create an interactive plot of trial distribution.\"\"\"\n",
    "    fig = px.bar(summary_df, \n",
    "                 x='Subject', \n",
    "                 y=['Left Trials', 'Right Trials'],\n",
    "                 title='<b>Distribution of Left vs Right Trials by Subject</b>',\n",
    "                 labels={'value': 'Number of Trials', 'variable': 'Trial Type'},\n",
    "                 barmode='group',\n",
    "                 color_discrete_sequence=['#636EFA', '#EF553B'],\n",
    "                 hover_name='Session')\n",
    "    \n",
    "    fig.update_layout(\n",
    "        xaxis_title='Subject',\n",
    "        yaxis_title='Number of Trials',\n",
    "        legend_title='Trial Type',\n",
    "        hovermode='x unified',\n",
    "        template='plotly_white'\n",
    "    )\n",
    "    fig.show()\n",
    "\n",
    "# Display the interactive plot\n",
    "plot_trial_distribution(summary_df)"
   ]
  },
  {
   "cell_type": "markdown",
   "id": "4b9ee8f3",
   "metadata": {},
   "source": [
    "## 3. Event-Related Potential (ERP) Analysis\n",
    "\n",
    "ERPs are time-locked neural responses to specific events. By averaging the EEG signals across all trials for a condition, we can visualize the brain's characteristic response. Here, we compare the ERPs for left and right hand imagery to find differences in the voltage patterns over time, and we visualize the difference as a topographic map across the scalp."
   ]
  },
  {
   "cell_type": "code",
   "execution_count": 139,
   "id": "c7b73c05",
   "metadata": {},
   "outputs": [
    {
     "name": "stdout",
     "output_type": "stream",
     "text": [
      "combining channels using \"mean\"\n",
      "combining channels using \"mean\"\n"
     ]
    },
    {
     "data": {
      "image/png": "[encoded data removed]",
      "text/plain": [
       "<Figure size 800x600 with 1 Axes>"
      ]
     },
     "metadata": {},
     "output_type": "display_data"
    }
   ],
   "source": [
    "if epochs:\n",
    "    # Create evoked responses for left and right trials\n",
    "    evoked_left = epochs['left'].average()\n",
    "    evoked_right = epochs['right'].average()\n",
    "\n",
    "    # Plot the ERPs for all loaded channels\n",
    "    fig = mne.viz.plot_compare_evokeds(\n",
    "        dict(left=evoked_left, right=evoked_right), \n",
    "        picks=loader.channels, \n",
    "        combine='mean',\n",
    "        title=f'Average ERP for Subject {subject_id}',\n",
    "        show=False\n",
    "    )\n",
    "    # Customize plot\n",
    "    ax = fig[0].gca()\n",
    "    ax.legend(title='Trial Type')\n",
    "    plt.show()\n",
    "else:\n",
    "    print(f\"No epochs found for subject {subject_id}.\")"
   ]
  },
  {
   "cell_type": "code",
   "execution_count": 175,
   "id": "f81ea6f9",
   "metadata": {},
   "outputs": [
    {
     "data": {
      "image/png": "[encoded data removed]",
      "text/plain": [
       "<MNEFigure size 1200x220 with 9 Axes>"
      ]
     },
     "metadata": {},
     "output_type": "display_data"
    }
   ],
   "source": [
    "if epochs:\n",
    "    # Plot the topographic distribution of the ERP difference\n",
    "    evoked_diff = mne.combine_evoked([evoked_left, evoked_right], weights=[1, -1])\n",
    "    \n",
    "    # Define time points for the topomap\n",
    "    times = np.arange(0, 4.0, 0.5)\n",
    "\n",
    "    # Create the topomap plot\n",
    "    fig = evoked_diff.plot_topomap(times=times, show=False)\n",
    "\n",
    "    # Set a clear title\n",
    "    fig.suptitle(f'Topographic Difference (Left - Right) for Subject {subject_id}', y=1.0, fontsize=14)\n",
    "    plt.show()\n",
    "else:\n",
    "    print(f\"No epochs found for subject {subject_id} to generate topomap.\")"
   ]
  },
  {
   "cell_type": "markdown",
   "id": "bdd61d72",
   "metadata": {},
   "source": [
    "## 4. Time-Frequency Analysis\n",
    "\n",
    "Time-frequency analysis allows us to investigate how the power of different frequency bands in the EEG signal changes over time. For motor imagery, we expect to see a power decrease (Event-Related Desynchronization, ERD) in the alpha (8-12 Hz) and beta (13-30 Hz) bands over the motor cortex. The following plot shows the *difference* in power (Left - Right). A blue color at C3 indicates right-hand imagery activation, while a red color at C4 indicates left-hand imagery activation."
   ]
  },
  {
   "cell_type": "code",
   "execution_count": 141,
   "id": "f3885ab8",
   "metadata": {},
   "outputs": [
    {
     "name": "stdout",
     "output_type": "stream",
     "text": [
      "NOTE: tfr_morlet() is a legacy function. New code should use .compute_tfr(method=\"morlet\").\n",
      "NOTE: tfr_morlet() is a legacy function. New code should use .compute_tfr(method=\"morlet\").\n",
      "NOTE: tfr_morlet() is a legacy function. New code should use .compute_tfr(method=\"morlet\").\n",
      "NOTE: tfr_morlet() is a legacy function. New code should use .compute_tfr(method=\"morlet\").\n"
     ]
    },
    {
     "data": {
      "application/vnd.plotly.v1+json": {
       "config": {
        "plotlyServerURL": "https://plot.ly"
       },
       "data": [
        {
         "colorbar": {
          "title": {
           "text": "Power Diff."
          }
         },
         "colorscale": [
          [
           0,
           "rgb(5,48,97)"
          ],
          [
           0.1,
           "rgb(33,102,172)"
          ],
          [
           0.2,
           "rgb(67,147,195)"
          ],
          [
           0.3,
           "rgb(146,197,222)"
          ],
          [
           0.4,
           "rgb(209,229,240)"
          ],
          [
           0.5,
           "rgb(247,247,247)"
          ],
          [
           0.6,
           "rgb(253,219,199)"
          ],
          [
           0.7,
           "rgb(244,165,130)"
          ],
          [
           0.8,
           "rgb(214,96,77)"
          ],
          [
           0.9,
           "rgb(178,24,43)"
          ],
          [
           1,
           "rgb(103,0,31)"
          ]
         ],
         "type": "heatmap",
         "x": {
          "bdata": "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",
          "dtype": "f8"
         },
         "xaxis": "x",
         "y": {
          "bdata": "AAAAAAAAGEAAAAAAAAAgQAAAAAAAACRAAAAAAAAAKEAAAAAAAAAsQAAAAAAAADBAAAAAAAAAMkAAAAAAAAA0QAAAAAAAADZAAAAAAAAAOEAAAAAAAAA6QAAAAAAAADxAAAAAAAAAPkA=",
          "dtype": "f8"
         },
         "yaxis": "y",
         "z": {
          "bdata": "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",
          "dtype": "f8",
          "shape": "13, 1000"
         }
        },
        {
         "colorbar": {
          "title": {
           "text": "Power Diff."
          }
         },
         "colorscale": [
          [
           0,
           "rgb(5,48,97)"
          ],
          [
           0.1,
           "rgb(33,102,172)"
          ],
          [
           0.2,
           "rgb(67,147,195)"
          ],
          [
           0.3,
           "rgb(146,197,222)"
          ],
          [
           0.4,
           "rgb(209,229,240)"
          ],
          [
           0.5,
           "rgb(247,247,247)"
          ],
          [
           0.6,
           "rgb(253,219,199)"
          ],
          [
           0.7,
           "rgb(244,165,130)"
          ],
          [
           0.8,
           "rgb(214,96,77)"
          ],
          [
           0.9,
           "rgb(178,24,43)"
          ],
          [
           1,
           "rgb(103,0,31)"
          ]
         ],
         "type": "heatmap",
         "x": {
          "bdata": "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",
          "dtype": "f8"
         },
         "xaxis": "x2",
         "y": {
          "bdata": "AAAAAAAAGEAAAAAAAAAgQAAAAAAAACRAAAAAAAAAKEAAAAAAAAAsQAAAAAAAADBAAAAAAAAAMkAAAAAAAAA0QAAAAAAAADZAAAAAAAAAOEAAAAAAAAA6QAAAAAAAADxAAAAAAAAAPkA=",
          "dtype": "f8"
         },
         "yaxis": "y2",
         "z": {
          "bdata": "yKGRfunQrj1gpDnYFduvPe6dVTFMYbA9WJ01gR7CsD10KxsJqg6xPdL78iDgRbE90qJGAAFnsT1cocL8n3GxPf41bYalZbE9aK0M709DsT3WB4ITMwuxPSTuT2k2vrA9Jgz0FJJdsD2k4T2rldWvPahBbuZaz649eHMy4ZGsrT3YWYy20HGsPfgbxvsXJKs92DwR0cHIqT2I5/H3cGWoPYCBC479/6Y9iFvws16epT3g3fdlk0akPVAO3cyJ/qI9AA//DwTMoT3wusx2fbSgPUAcPXAdep89EF0b2afUnT1QB1MOqYCcPZDurZfchJs90IMNp4rmmj1A65XScqmaPQCwoaTCz5o9ILlFqhpamz0w7Irao0ecPdArlSUvlp09MItl5WNCnz24z8xn/aOgPSgYog7+0KE9+PZrl4Iloz2QG3IKx56kPfjgo2wWOqY9uOmBhOj0pz3QMXRO+8ypPeA53BNlwKs9wHR9N5/NrT34gUJcifOvPZQI3hCyGLE9aKQr+WFDsj1k+5tovnmzPXgf0pzDu7Q95OP7WnEJtj3As/6kumK3PXArdlB0x7g9YDcvZUU3uj2w4aComLG7PXTGWRiRNb09uAxthgHCvj0uPLsatCrAPW5wRVH39sA97qMCBrfEwT3axFYcvJLCPV5THO+xX8M9WBSQWi4qxD0ADmxiu/DEPejasvLgscU9RsvDLC9sxj0s3bGBSB7HPYY/L0Xqxsc9Slc3Z/RkyD0I7rHbbvfIPfJdMdKMfck9TgdDVa32yT3u8kqSWWLKPZT1BIRAwMo9Yv6VeDAQyz0gPL0vD1LLPdiGeqbQhcs96tSzCG2ryz10Lgc018LLPcLnWCX0y8s9zit+QJPGyz1UCsyZabLLPTCPcywPj8s9+ACx4v5byz3cEULsmRjLPbo+JNItxMo9SCoxW/1dyj34DuOtS+XJPU5qQWppWck9XPRKRMO5yD2MZAfu8AXIPbgB8NDDPcc93M+s3VRhxj0YCt1KEHHFPTS3hES/bcQ9wDIS2I1Ywz2k9cDsDTPCPeAizUo2/8A9ODcrRbp+vz1AH+9SXuy8PcBxMW9ETbo9mK6RVsmntz3YJ0BekwK1PcC3xKxmZLI9kHAJH+2nrz0QxNtna6+qPSCcgtpM66U9QJMSrVpmoT1g1NAJoFOaPaCtbqojepI9AD1O3OKVhj0AglkNQTFzPQAUzru1AFC9ABw+U/9zeL2gqFo1tyOFvWAyUCMZ1Iy9QHUxba+0kb2QnaCw94OUvcDptR2B7Ja90FlbqYwEmb0A2CloKOOavbBtm/FXn5y90EU6WD1Pnr1YQ0EhpwOgvTgpm5HM7KC9EFKLMJTqob0Yd+oFxAKjvYBe40Y2OaS90FOpK8GPpb2AiqCcNganvbjlSPt2mqi9WLYgiJVIqr0IAUI1EAusvWj5Wk0U2629mHJVEs6wr738EY+E3sGwvXgYGb6FpbG9RNpgC/J+sr1QUEd24EmzvXD9Y7xYArS9/CZdO8uktL0kee+2Ji61vURi61/nm7W9wCvoECDstb3YoCMIeh22vYBk3DkwL7a9KMJkRAUhtr2Yb0d3NfO1vSgfor9lprW9vChOcpE7tb2M9t0h+LO0vZh1G5QLEbS91O3a6F9Us71Mj+rnnH+yvRzuxJpylLG95MokAZCUsL1gFTyLOAOvvXANzRNjuqy9GCaoRrRRqr2ALKBLHcynvaho075oLKW9uE6HkTt1or0Ag5R/JFKfvdDpLAKFlJm9oAsFqfi1k72AKe+hJnWLvQBrQLiKmH69ACFlGjrDV70Az1QwmP9yPQBrN3ULFoY9IDB5fyVikT1w4ABPTcKXPeDcmpWBKJ49IJxkuNVIoj0oRK4dQH2lPfhZ1n61r6g98FG8XTveqz24MspdngavPUSqQB01E7E9nIqsYnKdsj1EmyE3hiC0PRiGKtzMmrU9lNg9OoEKtz3guHA1wW24PUz51XKTwrk9wH7d7+0Guz24wEYevji8PZx5S1nyVb09GOwQgYNcvj34weu3fkq/PWhfxC4ID8A9XIyv/sZqwD02J4mSv7fAPQROIPJS9cA9iqxOKAMjwT0Yg0TQdUDBPS4QoB12TcE97FAn5/VJwT0agrLbDTbBPew581z8EcE9ImcMziPewD1ScCb0B5vAPUzgGIxKScA99NOXM0/Tvz3cnfQu4vm+PUTMrVsVCL49xA11W8r/vD2Uy9/E9OK7PRBfROWSs7o9dA1gv6ZzuT0cFvKeMSW4PRhB+zcwyrY9dGNcaZhktT0M7IOzWPazPcSY/VBYgbI9gNSXFXkHsT1IxMIoMxWvPTgeYwAwGaw9KHFc6qkeqT0YJz2jbCmmPXAPlF9SPaM9IMbYyUNeoD1AeAt6cSCbPbDeQdJjrpU9AJmdh2VukD3AT+sZ3tCGPcDLlqAukXo9ABXmQtxLYT0AQwt1kwdgvQABshkaUne9gMqXxhKXgr2Aw4XAUsKIvSCL0FxCI469YCV0gllakb1A7kTCAzqTvQBYYYCxsJS9QMYSLd2/lb3AKHwPc2qWvaBN3nTNtJa9sKxVIauklr2AuQ8gG0GWvcCyLt5gkpW9cFOxj9WhlL1QicpKvnmTvdDAOAwdJZK9wLSymIGvkL0gGodbqkmOveB+Rho7Iou9wBm6rZUAiL0gBORK8/uEvSAPe452KoK9gA/0aIdBf72A8giFKeN6vcBHym7GWne9wItMhTXEdL3AWIdovTVzvUD6CM6zv3K9AGJKvlhsc72A+d2Azz91vQCkVaovOHi9gD+EBtRNfL0AZalU57mAvWBOSlcxzIO9wOaXp9VSh72A3EnbK0GLvYCmki0uiY+9INJ0aesNkr0QyZc0vXSUvcAHrywP8Za98GTeleF6mb0gWGHSUQqcvUAFgPi0l569WCNdFtaNoL2wpyR4mMehvfglYObP9aK9EMNp2F8VpL243Oj1YCOlvRCddnQiHaa9TJvs7CoAp71MWJwAOcqnvfyZE19Geai9nFBMhooLqb0kt0o8f3+pvbgGI/Lm06m9LHh5JdIHqr1Uk59bpRqqvWD7nm0hDKq9VNRe9Wjcqb1UhYXHBoypvUAUyVvwG6m9BLvNxYeNqL3Yaw2snOKnvXAlyVhpHae9YHfRMo1Apr1YFVwiBU+lvVDGn5UjTKS9eGCXg4Q7o73IV/0pACGivQjlBg+dAKG9UHvfOf+8n70gVM3ctH2dvbCqyjG7S5u98Cfc5kovmb0gGo6SVjCXvUAD4XFnVpW9IAKsyoGok73QpzhwAy2SvZCsV6SK6ZC9ID6HwL3Fj73gi3PmrDmOvaBpLtWMNI294FM2B+C5jL1gLjiX8MqMvWDjkh66Zo294K7+cd+Jjr3wtSt4VheQvdD58buPJpG90DpFC3xtkr0wY3xV7OWTvZBo0Q60iJW9ICzR2cFNl73QxRWTQyyZvaATN03HGpu9AIxqEWkPnb2gtOv4BQCfvQjS0p82caC9qPA2gE5Wob34NjJ0fiqivWBnFVhN6aK9sFMQl7KOo73wSM/cMBekvYBCACLvf6S9EN4dtMvGpL3ImdNcaeqkvYjSMp826qS9aFOBsmzGpL0AkMRlB4CkvfDhD9u1GKS9aMkq9cOSo71QWZFN/vCivSi20hORNqK9SOmh1uNmob0gkMFTdoWgvVB8Yzh4K5+9YG/YSfU1nb0QyNbmXjCbvbB9tjPzH5m9IL5uCRIJl71Qiz/FLO+UvfBTCeHG1JK9QHU1OH+7kL3A+8/hU0iNvSANeN7nHYm9gG4IlBf3hL1AiEfFo9KAvYAWsoUdXnm9wKHhkv0Vcb0ADWliVZZhvQDAQWCLWx+9ACIkiXtFXz1AxGdy9hxwPUC4+RhvXng9QFBKVwpGgD0gBCngukyEPSDYEqLFO4g9QNKwWYAKjD0ggDBWUa+PPVB6yEb2j5E90I72Hs8okz0QyEEu0ZyUPYB8QhXA5pU9cB9hlbUBlz0Am/M7VOmXPaC6W9z1mZg94KG7Wd0QmT2w7RrFXkyZPRDzT6kATJk94EXunpcQmT0ApXjDUpyYPWDJPUS98pc9MDLfsrQYlz1g/FGKTBSWPdA+NUOl7JQ9ELo7drapkz1Ae0JGD1SSPfD8NUiK9JA9IMAhSPUnjz0gsR7StnWMPeAVpNHz4Yk9wGcY41N6hz0ATH+R+0mFPaDjEjEUWYM9IFgiWXGsgT2A0GaEVkWAPQC4TNPBQn49gG5iFBt1fD0Al99s5w57PUC6yQEW93k9wPP4pCgPeT1AkQg9VjR4PYCOx/+hQHc9QBSxni8Mdj2ArXhSnm50PcAnTFBdQHI9gAFARRa4bj2A53VGUD9nPQAvSClFt1s9AKxJjnnsMj0Arf5C67pWvYBXtf90aWu9ADkKuYLldr0AfqJap52AvcCyxikaVIa9wEyIihyLjL1A3k+Z6JmRvXDF30PfHZW9EBR/+5PGmL3AkomJwoecvVAbY7MAKqC9OIqZsogOor3gyra3GOqjvVga2no6taW9wKNyD45op73wmL5O9vyovQgcGNfDa6q9mIotK9uuq70AxQ072cCsvTCGJ2Qzna29eFDJ9k9Arr1QcsTvmaeuvfjNLm6O0a69oMgGesO9rr2wRkXB52yuvZAePf294K29iMSXzQ8crb1Yooh2nyKsvYCrpAYR+aq9mPNA18+kqb3Azd+e8CuovYifc1UOlaa9+BBuYybnpL1giiJfcSmjvWgziho6Y6G9sLqcuGw3n70AKF9evLObvSBShjGHSJi9IH5WkuEBlb2wW1gui+qRvQB2znFuF469YGlmFL7ZiL2gXNaFQieEvYAa911dB4C9gLJ+qwr7eL3AsbnruhJzvQDPOBNkm2y9AL1jQgw6Zb0AFz36wq5fvQB5CRWdfVi9AFynwGVmVL0AFCHhIOJSvQCEDlOBYVO9AM/6k0NRVb0ASlKcpx5YvQBJ3E10O1u9ALCvc6AhXr2AeM7oICtgvYCgnjUmtmC9APkb9RmDYL0AhN9CCddevQChjBweo1q9APVNmXA/VL0AIG0FZyJHvQCAx7aljAG9ANa4mZqbST0Aprx5jnBcPQCOP2SmImc9gBQsGkSLcD1AOGdYaAB2PUA3+Oya5Xs94PNHZxMXgT3gHow24WWEPQA3U+g014c9gD2yBRFiiz3gt96sW/yOPfB05iddTZE9cM+4CT4Ykz3waZvJxdeUPcAg1dM9hJY94Hf7KVkVmD2QNtuHUIKZPaByafEUwpo9kBJZ4Y3Lmz0wCquf4pWcPbC+p83NGJ090Axr8/BMnT3gyrm9LyydPSAUDMj7sZw9cN9apZnbmz3AnpUrW6iaPRBkD3y9GZk9oFC7lnYzlz2Qm9vTZ/uUPaA5sWp7eZI9IGzCGdVujz2AvyEl3oCJPQBWJW3RQYM9AHE549CXeT2ABRuuHehoPQAgdKr+RCa9AO/HhW1Oa72AFU3qxDp6vQBQ0DlzIIO9gH6+63bJiL1AGNZ+CQiOvXDKXmhpZ5G9kCrv5sWJk71guxribWeVvdAyRv8H/pa9sADNZmhMmL3wTjJbXVKZvRCliz18EJq98BzF5+uHmr1Qmo/uNLqaveDezOUYqZq9MBHzAWxWmr2whzJlAcSZvQDVzvWW85i9wP5z0s/ml73AgJasOZ+WvZCaQpZSHpW9oBvDWZtlk71QiRxVqnaRvQBKotqEpo69IFjIq9H6ib3g2vrn8O6EvUBeXnvUEH+9QAwmbmGbc70AlUivljFevQAbqgzXLFQ9wIwNd4MYcj0AOsIwq4Z/PQBXEYyHn4Y9QLPVY8aUjT2glx5dMEuSPWA+6a2ay5U9wOZxsO1EmT2Qdkn1ZrCcPbhvmmaoA6A9WKnPFIyhoT1ATx6gsy6jPSiFuCEdqKQ9wHFiJvsKpj04o/W8v1SnPTDsc2Ekg6g96CHD6DKUqT2A90iRTIaqPWDj0gctWKs9OFKkh+4IrD0QKv9ADJisPRC1ZuxeBa09sAfR0RpRrT1ogVnhyXutPfDrn2BDhq096Duay6FxrT1Y6tA+OD+tPUBx0qKH8Kw9QL2ttTGHrD0gcmTL7gSsPaCWwHeDa6s9wMDDv7a8qj3g8tZHS/qpPYAO1FP8Jak9CM4it3pBqD0o81hPbE6nPaC5JCpvTqY9ONwXrhxDpT3o9AgNDS6kPYioM5LbEKM9kHXaOivtoT1Ysn4uqMSgPWAaQRMUMp89MIZOeiXYnD3QLgOVGH+aPVA8jcyIKpg9YAc7WAzelT3gtO+TJp2TPZCTJKg2a5E9wAbTeNKWjj1AKQMyU4GKPUD5f60lm4Y9ILNslcvogj3A6eHiGNx+PUDgpfrUW3g9AJDsLVJVcj0AkjXodJdpPQBKmC7lA189AEALDmWvST0A2BPDO6sqvQCkgVa0hVG9ANy4sBe9Xb0AeT7AOABkvYDn1Mh3Kmi9AEVE1Odfa72Am35JLaNtvQCcqifj9m69AKwXkvFdb70Asju+ndtuvQDb/E/nc229gOcEBe8ra72A9kffNQpovYDDo3YLF2S9ABjmhX65Xr0A9mdbwM9TvQBs/55bOz69ALSW402aNz0AyQegJGlUPQD7HpWT5mE9gI6au5PxaT0AryKGJh5xPUCi030lVnU9QJs/nyWTeT0ANGK1WMd9PQAA2/WD8oA94BDqxWHvgj3gmJfP0dOEPeAsrd23mYY94NMIOGw7iD3ADtDKzrOJPcAwlcxU/oo9YMUDdxsXjD0AbGfT9/qMPYBmDHl/p409gNRMLwsbjj0AZkHrwVSOPQBEX++dVI49IHjuhmwbjj3gc1K+06qNPWDjcxhSBY09IJTRhjoujD2gpnUitCmLPSDqtaa0/Ik9QKOQN/isiD0ADuLe+0CHPaDA59Tnv4U9QG/4v3MxhD3gcu4Pz52CPYCKsBR6DYE9wHldMSkSfz3AOgm9TzJ8PQDJAPHii3k9gCMFlD8udz1AK7iBEyd1PQB8nuXvgXM9gBVS7rdHcj2AbisuO35xPYChRffkJ3E9AGasuHNDcT1AatI87ctxPYBQKfWpuHI9AHHKvYf9cz0AS3pLQot1PYBPMc/2T3c9wL3WKLc3eT3AdlepWy17PUB/TkFDG309AEqW4SHsfj2A8j1Z6kWAPaBr8TkV9IA9oOycVdd4gT0AEUeeF86BPYAK6a2m74E9QKfL4HDbgT0ggBqakZGBPeAg92tqFIE9IHhIfZVogD3AeicjmSl/PYA5GK2LQ309AP94Y+8zez2A7MI/xxJ5PQBIQEKV+nY9AAEyPMMHdT3AlBZL+VdzPQCEJ9N1CXI9AC+5R246cT1AIbOPWghxPQAIXndMj3E9gD9MRUnpcj2AHNRZsi11PQAyKjWbcHg9wNYI1jTCfD1AQ3vMIReBPSAKeD3PXYQ9oJywD941iD1gUj/0Lp2MPTCaH7lWx5A94Be7hx+Bkz2ggUwLY3aWPYDEHqAgoJk98A2VUPz1nD1w2acSMjegPUiXwalg/6E9cMK5ddjNoz0w6jxJpZylPQh1Pnq2Zac92GS+ogYjqT04m6rtw86qPQCFeah4Y6w9+Db+UDHcrT34+7DynjSvPTTHvIuZNLA9dGn1Lpu7sD2EUW+may6xPdztr0yYjLE9NEriNyPWsT28iERkfguyPeRVkomDLbI9YLJWNmc9sj0844oUqjyyPXQ8RBQILbI9RP522WUQsj3Qg1H1vOixPYzs81cIuLE9qOlPBDGAsT1g9+NK/EKxPbgRelf8AbE9gDKgdIG+sD2UlyLoj3mwPRSHDK7YM7A9wNWaWGrbrz1g2jr4TE6vPaiJfPuxv6490MnEHFYurj1AZmw8bpitPaCYfzHE+6w9mCWmGNZVrD0QeeOY+qOrPQCRjEOH46o94JWtN/cRqj0AH6jEEi2pPWh1NEISM6g9YPWaorsipz1o/iPPfPulPdDqBFB9vaQ9sA5sGKdpoz1IEHUIqgGiPVic8OP0h6A9kFVAAE//nT2ASQbn/NiaPRBcxEFwpZc9gOF10+9tlD2gk1LRSjyRPYBrxAcwNYw9ABUzQ+slhj1gDJndoF6APYCS5ru45HU9gKuel/bLZz0AZgLPGw9HPQALYZtJKFS9gEC2XB6IZ73A2/z5JDZxvcDOQJpuTnW9gLeRrRb/d73A+qxBWj55vQACqcV+Bnm9gMuIpMJVd70AxQcaSi50vQDwybIiLG+9gLssRJAtY70ACHuq3+1BvQBK8vMukVk9gJ9M1T47cD0Aul2d+C97PSDq5Mk/lIM9YM7GAyIEij2gknsoIGyQPcBvvkohAJQ94NGrsIS1lz1wPIQ1cIObPQD5ykTXYJ89gPqHpUiioT3ISWCtuJKjPfAfpCowfaU9KNK0ujZdpz3gtZCkci6pPaghiwKz7Ko9KL2Fm/iTrD3YBobQgSCuPRjo9EDUjq89mMgJN+NtsD18UpseRgKxPXQSzJNgg7E9OAKc/DjwsT3YvkcgFEiyPXBbMMV5irI9sJP4sji3sj38YvhZac6yPbApHilv0LI9qK3fnvi9sj2sS1SZ/JeyPQSg95O2X7I9/CQsyKAWsj1IfFmua76xPZSj4a/0WLE9YKU2TjrosD2I79rhT26wPagyGSah2q89YHc+1KTOrj14gU4ftLytPRB89pmeqKw9mGZ6T+WVqz0gtVM4qoeqPVBp9gilgKk9UJgXChqDqD2Ihzew15CnPZBRiHI1q6Y9IJMQ5hnTpT1Ys8tWAgmlPXgmMjcKTaQ9GLcn3vieoz1Ipl3vTP6iPeDUyqZIaqI96O/m6v3hoT2QBdDSWWShPUh7e/ku8KA9CGinfz+EoD2oXSD7Qx+gPbAyaz/lf589gEZ1kwnKnj3gBHAeeBqePXDmOujIbp098DbBn6/EnD0w3NdR/xmcPfCW0TOqbJs9YLLJ8sO6mj3QcCzufwKaPbDCHtwwQpk9QDXHfkR4mD0gSNzYQaOXPYBUnazIwZY94JcqeYvSlT1A0mpCUtSUPfC5JK37xZM98LsVlX2mkj0QidRe7nSRPcDs6xiIMJA94ONbiGCxjT3AbWKKCtqKPWBmsv3J2oc9oAX+2fCzhD1AfTyme2aBPQAgrKc/6Hs9wLkeMrq+dD2A/n5aDa5qPQCEE0y15VY9ACjpLZmAQL0A+giglfNjvcAY+NJk9nG9AO7TTe72eb3gOHUpd/WAvQANGGhB4IS9ALo0ZTOyiL3gLecEDGGMvUDGDov94Y+9QL+a5eCUkb1AYJPOWhaTvcCahGh+b5S9IMQRBFSalb2QAvSB8JCWvbCnd+GVTZe90KZoJM/Kl70w2zD0mAOYvSClhVqI85e9MPJGmPCWl70wjF4XEOuWvTApLWwx7pW9oBz5vdCflL0gy/TZtwCTvWADXMAVE5G9oP3+Cxa1jb2gaSHrVbiIvQAsWtvyPIO9wK9e6FGler0AqUY9yC5svQCw/kmpHi+9gNvREhoTaT1A7NHY90B6PWAJ7SQr/oM9YOZhW/7Eij0w2eVhIa6QPbCw6Tf41ZM9AH/45JHOlj0g7zTxSI2ZPVC3POl1CJw9MHf+EJk3nj3QRcNYvAmgPSDrHTIcy6A9UKjRArNdoT0oow9m/b+hPbilPo8r8aE96Ib32BrxoT1I5p3bTMChPXDqPtnaX6E9wF4LTmrRoD2Qbl0WHhegPRASHEgPZ549UFXckTNTnD3gQ2S7MvmZPSDE19MdYJc9IL4p63GPlD2AH6CA/Y6RPcCyhy6EzYw9oGa2o7I9hj0AGaIWZf1+PQDtITLcQHE9AFwaYaMlSz2AhEz6/fJkvUD3YJbcPXi9oL3p1EDngr1AnkI26ImJvcAAtPxK/I+90C4cQIgak71g8yCYDRaWvQBt9s887Zi98PEF+yadm70QkG9hUyOevTB1VfTVPqC9+E2pmzJVob3A4hVr81OivRBrurFaOqO9KPPyba8HpL1gO04hN7ukvVhdsScxVKW9WH0HdtbRpb14xv+dXTOmvYjX+rgAeKa9AKyYKQifpr342gH71qemvfjPhOL6kaa9aL1w5Dxdpr2g7thmsQmmvdDdmvDKl6W9INNr02gIpb2g9Lpx41ykvfg8W40Xl6O9SCPKoWq5or0I4E6ty8ahvYDvKVKvwqC9YAe3WQ1in70wVJ3WYSydvTD+A5LO7Zq9UKj4AEmwmL0QbUIwE36WvRAsskZ+YZS9MEyUAahkkr1wizufN5GQvcDEbH044I29YFkyNpwSi70grMsiKceIvSBcTvSmCIe9oBZs78Tehb2ADf5i2U2FvYDEkR+5VoW9AE0FJ6T2hb2A17TZSieHvSBAdyzs3oi9AKUCvocQi70gOU32JKyNvXBlJBqWT5C9sF4ZlGnqkb0wiOmxSZuTvfARu4VXVpW94K63FWAPl72wHleLJbqYvVBHk6GrSpq9wPe6nYG1m72AyhSGCvCcvYDr5jDD8J29AOhKAn+vnr3QHA9zoCWfvaDsDh9FTp+9YLj70Wcmn73gkqQT9ayevTDeueDR4p29ELePI9XKnL3AnWmLr2mbvSABkFzIxZm90Oik6Avnl72w0/Gtq9aVvUDhkhXXnpO9IKPXfGxKkb0wGqDITMmNvSBJFlWN8Yi9gKEj24cjhL3ANsz38ed+vQCMSzfB63W9QPxvjyzoar0AT9zskXVWvQBWmEHdGDg9gFFxCbtfXz38X0XQf9WtPeiKvugBN6895F+z63pDsD0uHn41P+GwPaDGbBiEc7E9UtcxIC35sT2kwXMhU3GyPXBPXUZK27I9zOTXt6c2sz34sAd2RYOzPaRPsvFEwbM9aBPMHxDxsz0AmjwyWBO0Paz2OosTKbQ9QO9KA3kztD0QGHXB+TO0PbxTqHo5LLQ9xPwJkQUetD3QP9yLSgu0PVDxTvgI9rM9CKyhVUngsz209QswEMyzPeRjbBZSu7M9UFGCDOivsz0gOpd2hauzPVySR+yur7M9YIGlUrK9sz1k3Z+SodazPSj6QDFP+7M9KB99fU0stD1oOxZ88Gm0PYgryTxRtLQ97LdfN1QLtT2s3Okzsm61PTyurrcB3rU9QJTKjsJYtj14nMBQat62PZyxnJhwbrc9hAf88FoIuD3oDmACyKu4PfDRmd94WLk9YDPnQFgOuj0MLKLOfs26PQhj72c1lrs9bMkRF/NovD185pT4V0a9Pbic0pglL749EESl4TMkvz28guvlMRPAPUReNpxHm8A9Ag5pJrwqwT3yxWTr28HBPWAGhOnVYMI9NEmfTrMHwz0K2bmVULbDPdIEbHZXbMQ9ru7yFzopxT2uHWp3MOzFPSiurNA3tMY9LG1MBxSAxz16G1YgU07IPUoHUM5SHck9WuxuZUfryT2giS8fRbbKPQgqh/xJfMs9wqfmsUg7zD3Wxb/sM/HMPcgVCukJnM093E6NOt85zj3KhwrQ6MjOPZQQ4UCFR889FkZMOkS0zz0nnsAb9gbQPQTbdjC/KdA9HmLOahxC0D1/xcRxy0/QPfWTDMWnUtA9tYaAM6lK0D0Hf7y/4TfQPa7fz816GtA92jEFgmTlzz2MMEwproHPPZhuQ2OMCs89woJrds6Azj0Yil0wU+XNPUiD4jsEOc09IGwdSNF8zD1YITlRrbHLPUAriBSM2Mo9JJDmimDyyT3ggfDlHADJPfCgssuyAsg93FIylxT7xj0AmM+2NurFPWh4GK4R0cQ9FMoZlqOwwz0kcIEz8YnCPdz+/QMHXsE92IXiw/ktwD1wkHXHyvW9PTjf8dvXi7s9CH1yAWYguT2wN6SuwLW2PfCZDSkrTrQ9KMrz7NbrsT1APGbhsCGvPVB+Tuo3fqo98LuEKrTwpT1gKHvCGXyhPUCUL/KZRZo9wJY/eSbNkT2gdsWHGiKDPQDoPbFGIlk9QBJcOnTAeL2gJTeYEm+LvXAJWGkgB5W94NfDLOUinL0Qp/Z40oehvRDEZwtb6aS9CNZAHtU4qL14wb4f/3irvRCBkiBhrK69RL13gZLqsL2ok+kad3qyvcz0ymlbBrS93JR3oViOtb30ml89GBK3vQAYOeHMkLi97F/Xoi8Jur1oKfhzgXm7vUx3XPOR37y9WOWbnMo4vr1ASOSrPoK/vaSfvxhfXMC9iDf4rXbswL04BWMSrm/BvRLdK+9P5MG9nCgmTbdIwr2kxEhkW5vCvR5ya+Xb2sK9IDq1xAsGw70O8mxN+hvDvayypxT6G8O96BYqP6YFw72WZ5nb5djCvdSol5jslcK9xGBR7Dk9wr38JfYRls/BvVg57/MNTsG9HD1Ae+y5wL0gmqoHsxTAvfBrWRokwL69mIx5m787vb3w7XSOHqC7vVwSKCBO8bm9mJ0FnW8zuL1oNqtDpmq2vWDR4ukGm7S98JRAnIfIsr1EYH5+8PawvcBg4xmdU669aCVI+8/Iqr0YVf0HZFOnvWAUujuR+KO9kAzrr8+8oL3gNVKooEebvcCAaMXwYJW9gG7wPYaTj72AT5NQewmFvUAxaF4nTHa9AAo2SjOOTr0A3WW3+cNqPYBZE6A+WX09QBzxsdIQhj1gN3LYzOWMPQC0OkFWmpE94K8IpYWDlD0gVa76QjOXPXByGKUmrpk9gGjAtV74mz3A4BJjfxWePQAmes8tBKA9gBhDgnPpoD0QSv19DruhPdAwGEv7eKI9kHtHQ7Uioz0QI0IDOrejPeBrR9kTNaQ9YF7TzmeapD0IT0tXCeWkPfC1VqWQEqU9iKzIpHQgpT3gd+79JgylPcgq7NYv06Q9wAE5GEpzpD2Yyrghf+qjPUjaOvhAN6M9MDBwpYBYoj0gxx5vwU2hPbBgfzUoF6A9YL38ZQprnT3wrhQXtFSaPeBkGme275Y9IEUvMtZBkz0gVE6TRqSOPSDWuwW/UYY9wKz8JHg9ez2AYsGl135iPQC6I1JxVWK9wLEzs7rSe73g1vd6bkSHvTCKQd0nR5C9kPB5Rl/XlL3A7zvZ6EaZvQA/Z9Alip29sEluc/rKoL0QrMtt6q+ivZDHxqUAb6S9GEyPXcYDpr3A8o0pO2qnvRBpGercnqi9tPRNPa6eqb2Qmc3JO2eqvWCXBbKe9qq9UCX4539Lq73ICoMFGWWrvbhyuWg0Q6u9QOWITC3mqr2we+uY7k6qvRxnPmbzfqm9mKUR0EJ4qL3s669ybT2nvdiolQSK0aW9EGqDfzA4pL1M591hc3WivTyC6NDYjaC9KINuOaEMnb3wUPUST8iYvQBn1xD3WZS9QP+6+66aj70g6Cq/I12GvQCfi9gRKHq9ABwQSEXCXr0Ady1BRPVkPUAbbMHYKHw94IaE53eVhj1QJTTo9KmOPSitOrJhHpM9WI33uDSdlj0o0pSEpciZPfC+mx/ymJw9QHly63gHnz0oFn2fZYegPbgKeDJdVaE9GIM8vi3soT3Iks3gBEuiPUSPvmCwcaI90Hq0PZlgoj3YrAYrvRiiPbTP0xelm6E9kBWvSlzroD1sy427ZAqgPbBDxE9U9509oMhTLOuEmz2A1B5kwMSYPZDD75iIvpU9IGa5EWN6kj0ABo+GgAGOPWDd/JeMtIY9gDEDeO8+fj0AvOd+ik9tPQCEHd48lTO9AGisUMtBcb0gWiR77qeAvcA4wFlnoYi9EBmln84+kL3gIZiZ0xaUvUDTRTPA0Ze9sJSXbxJpm70Qe0+u09aevTgkQBjQCqG94FAgXlmQor2Uc93X9fmjvZgBskvqRaW9IBkTHtNypr10cObeo3+nvXyIIBGma6i94ClDrHY2qb088IroAuCpvRgaLsOEaKq9aOqFJ33Qqr1kybNYrRirvXRhbyoRQqu9dJijatdNq71UmL5kWT2rvVyzovUTEqu9lGCGE6DNqr3opJrgq3GqvWBSH+rz/6m9KClXfT56qb1YRZLvVOKovaynJEP/Oai9MNeYVQGDp71IRxanFb+mveCZiNfr76W9IAp+MCYXpb0QvNXpVzakvWADlOUDT6O9eCWAqJtior3w5l89fnKhvYAWsRL2f6C98KxNPXEYn70AcQvfyTCdvaAUXxAFS5u9QCASbwNpmb2wyalLdIyXvfBiZmfStpW9wI1CvGjpk71gk6EQUSWSvfBTN8F2a5C9AHoMVTR5jb0gGZqlpTKKvSANxDgyBIe9oD0ksZjug72g9wzac/KAvUCA9L6qIHy9AN5h96uRdr2AVgZgWDlxvYDxTWUMM2i9AI2nPU3SXL0AGha8OmxEvQAIyGZnfT09AFvXf+bbVz0AxUSVEZVjPQDB8x7qmGo9wH+w/yV2cD1ADpPLsUBzPcDDkeYkpXU9wGTKFtacdz2AvLwzzCF5PUDduj8xL3o9gJEG2cDBej0AFJDsMNh6PQD6Ai6bc3o9gKJ/Et+XeT3A8s4G5kt4PYC2Kne2mXY9gDduDpyOdD1AFR4pDDtyPQCfTQbPZG89AM38cUsVaj2Ae+KDsrdkPQCCvBpq/l49AJA6PUdBVT0A7vW7m0NJPQCMWopaGjY9AMAqG7nq8zwAqLLnxWYlvQCY2xzBLym9AAC7hnpNDL0AEC0y0xIxPQCile4hxEg9AB4VFuNyVz2AkAoNEq9iPQB/85U0+mo9ADFucTM8cj1ArhKSiH53PQBHT/Q3KX094L78hruOgT1gR/Ltn5yEPYB+1IUUrIc9YEpOOi6qij3gxyxZvIONPXDNsIDhEpA9sKrhDvw+kT2w94cTmT2SPZCeirrmBpM9sJLaHwWUkz1AFY52LN+TPQB6XrTJ45M9IGdNRpSekz1AdP/Ulg2TPSAGrK0zMJI9MMjxARwHkT1AWRVAfCiPPcC1TlFitYs9oJrMjiu9hz2A2W5V4kmDPcCfe10Tznw9gNrykZBCcj0ARTSNjzBcPQBS+aaH5VK9QNbLt/TxcL2AbHcO6IF9vYAFoA5BJ4W9oEfdS0Gfi73wMtZMpg6RvVA971prS5S9wCAAlUqBl71QkEuzSqyavcALdVEgyZ29EMrD8ZZqoL2ovQRrPuehvWjk9CPYWaO9kAvpbPrBpL0QUfjfdR+mvVCNdPJIcqe9SL692JG6qL04Lh9kgPipvchZnoZHLKu9GDv5dwxWrL3ohg802XWtvZADZHSPi669EEm0O96Wr73s/eTxm0uwvcSKR/HmxbC9DJHgscY5sb08GrC8j6axvVCy0n13C7K9BM532Zdnsr1U3v/a9bmyvdiOIjuJAbO9gNllaUU9s70YI+pOI2yzvRR8b9ErjbO9SOjiRIKfs73sJuK3bqKzvfjtTLlnlbO9dMBlaBp4s70cXgF7cUqzvZgStdWZDLO9xAHVzQW/sr1snUX6bWKyvYDaRYHP97G9IB3ke2iAsb18POBesv2wvbwO+0dacbC9mGq0l2+6r70ANVDXh4auvZjj5qEaS629MHCLHlsMrL34cMS9e86qvYAiDZyXlam9aCxeHp1lqL2AqIfXPEKnvaB9TEXYLqa9EB+fsXQupb0wztAisUOkvXgfWeW8cKO94GCUZ1S3or24AhJMvRiiveBFiVnHlaG9aJ6jFdAuob1ojVz3xOOgvRiSt2QrtKC9WAAt/yWfoL3Yu3SueqOgvbhK9fCcv6C96ORc8rPxoL3AxW8tpDehvSg+ltIWj6G92A9VDYP1ob3Y2Io3NmiivciWjZtb5KK9kGH8HAhno73wo5M3Q+2jvYBQviIQdKS9sC4WV3j4pL0IVyGJlnelvZiOgN2f7qW9QFgeuvBapr34mJSjFbqmvXizb23UCae92BEtXzVIp70oUWBNiXOnveCT8Thwiqe9IAloZd2Lp71I2w/wGnenvZjL2xvLS6e9qJRtCegJp73YsESgwrGmvbDHTqn+Q6a9sCN7kY7Bpb245OnIrSulvajDhCvZg6S9WCzOL8jLo70oyE5MZAWjvciujSu+MqK98I37DwVWob3IECftfHGgvVCrXgnnDp+9kOLbc2o0nb3QcNU5BlibvcA7iP8Tfpm9MK2fH7Sql73Q6buPvuGVvdAmlr25JpS9QHBMXNR8kr2AGYLY3uaQveCAY7Kczo69YJyhYocAjL0AST5xH2eJvUBtZJCABYe94FqZ+lbehL0gp8l9+vOCvSBdy76PSIG9gIx2Vz68f73Alj9fT219vUAm0xxYqHu9QEjsrnBxer0AVUhyvcx5vQDVpcpIvnm9AGTSHN9Jer2A3eoKxXJ7vcD/o49jO329QKD8uPmkf70Aow+CmleBveCc2x7rK4O9ILykDDBNhb0AJGO637eHvUBsUwsNZ4q9AGn5SlJUjb1QSWOX4juQvdBLVFoC5JG9YJ5MZiWdk70QyPxgSGGVvTBhOkDhKZe9MMYaYPvvmL1Qw/b+WqyavSAoRIWjV5y9MFsOUoDqnb1wsPpo0V2fvXh1kQhqVaC9WH5Uy6bloL1giiXe1lyhvShzLP6XuKG9+ChH4Pz2ob2A91TLlRaivTBlhuB4FqK94GXDl0X2ob042GK7JLahvZhMC2HFVqG92JUFgFbZoL1Y1XxDfT+gvdCJVL+RFp+90F73BUp+nb0w30uLlbubvdDHFnFi1Jm9AJJvP/nOl71gvDJV27GVvRCSo1ung5O9AMX1H/xKkb0AygOjuRyOvWDlHdgxqIm9oJly4ndEhb1Aiakr7fyAvcBb905UuHm9wAnf2NPXcb2AOo563NNkvQB4LLY28ku9AAAWqDjsRj0A0muX0jthPQAgqRu7cms9AJzptWoocj0ASXg6luV1PcAyB9dg7Xg9AJgCGz0+ez3AEEF6h9h8PYCT1Ctwvn09ADD31+/zfT2ADF9wsH59PcBhfxDtZXw9QHF+XmGyej1ApDXfG254PUChgPtTpHU9gB79Qjxhcj0Aig1sk2NtPYDKkVPiRmU9AP0gf48PWT0AJGrQbAw6PQD4USvzxEm9AM/kA053YL0AIQsBPrlqvYD59QQIkXK9QF9Xg9TPd70AS1FOnxF9vQA3c2xoKIG9QAl5u9fEg70geEHNN12GvYBImYqN8Yi94Oc6qrmCi72gxRxMaBKOvWB6uv9zUZC94ISJfIabkb2g758oAumSvZDVPueQO5S9cMQ6y9uUlb0wcH1mcfaWvaA56v6vYZi94C3yLbXXmb2wuKCWSVmbvdDX4ZnV5py9kOKBN1mAnr1Yokg0tBKgvVg9z0WV6qC9YIbDTTHHob246SGGvKeivWjIrO1Ci6O94JbKUbFwpL1Y3arj3ValvShiBtWQPKa9gKl6yo0gp70APK57nAGovUBGjWaQ3qi9eOLegU+2qb2Ytdnn1IeqvajpcQA2Uqu9yJ06oqEUrL2gaQUuYM6svRivnIvQfq29cJd/8GQlrr3YFjIMncGuvYC0DIEBU6+9gKJMYR3Zr724JIf8uymwvQjpj8bIYLC9PFpQ9m6RsL3MzwMGYbuwvdD6dedJ3rC95Odl2sz5sL209nyBhw2xvfCONKETGbG9tKFsIAocsb10v+G3BhaxvRDKaLirBrG9QP3Z2qftsL2k701JusqwvQRBwzm2nbC9qMsXO4hmsL1kQ/F9OSWwvahAtTjks6+9aIQVJvgJr72wQFrqh02uvRgwVMexf629YKkwANehrL3Q1+5imLWrvYDqXt7PvKq9oHy8xom5qb14EJ84/a2ovXiUkqOAnKe9UOyuKYGHpr3YC0/udnGlvSD3MDXZXKS9sBdW2BNMo70wNJrRfEGivUgHumxJP6G94NjTbYRHoL1wi2/vCrievYB3Q//T/Jy90GX31hxgm70w6s0AE+SZveB0GmhSipi9sIuUfeJTl71AErvWNUGWvWAeOu0sUpW9wN0+GiGGlL0A1NVr6duTvQA6Q+btUZO90OqhXzbmkr2Ay/OVeJaSvWD/o801YJK9MOBchchAkr2gZYrwezWSvaB1zPKkO5K94LEpJ7BQkr3AAVKtOnKSvWBlWS0hnpK9AApaPYrSkr2gvnWG8w2TvWAo1/g2T5O94CZp8o+Vk72QHt2GmeCTvRBik7RMMJS9cPX0AfiElL0gFOkCNt+UvcCXKd3lP5W98Hi5UR6olb0Aee3pHxmWveBRKPhGlJa9AC3iZ/8al72AofvNuq6XvfDkM1TjUJi9oEvCqNMCmb0QmPiNzsWZvfD3R2v2mpq9gIhiEEiDm71w4wJkkn+cvaA8Ai5wkJ29wIdqeUG2nr1g6p+jIvGfvWh3W7JzoKC9WFuJr4dSob3ojViwXg6ivcCcF9hV06K96CS6VZCgo71o1HbA9HSkvZBh5/MpT6W96CeeoJQtpr3QnhVxWA6nvYAk9QdZ76e9iCzRQz7OqL0gKQKZe6ipvbAIm+JZe6q9QOuC1AJEq70AIJPXj/+rveC+ZRQcq6y9mMr029VDrb1AxsM0EcetvXifiNBbMq69cM5fJI+Drr0gg/qS47iuvdAO16IB0a69CHUprg7Lrr24mvDHuKauvXg3qjo+ZK69WKvy33IErr1IqLWlvoitvSDHTKca86y9aFK+bwlGrL3Y9U7BioSrvcia6mAMsqq9WEfKl1bSqb0QrCnZdemovejOIT+j+6e9sBB6nykNp71wROMfTCKmvZArjVMqP6W9oHcjUaZnpL2gqGbRS5+jvRhsHYs46aK9cHQ86glIor0YbWw+zL2hvZgaqGbwS6G9kNYMkEPzoL34OqSa7bOgvVjHwMRxjaC92NINV7V+oL1AWnsuC4agvZgb97BAoaC98OlMGK/NoL2A+qg5TwihvQATDg7NTaG9KCA4Ip6aob3IzbsuFuuhvSgZsXZ7O6K9sEg+mxuIor1g7c1xW82ivQgs0dzGB6O98OS5Ah80o734IsWkY0+jvShCzgjdVqO9COH3PiNIo70Q69EZIiGjvYh1KVgc4KK9qCtjJq6Dor04FyfDzQqivUC3bZ7MdKG9sOO/6lbBoL1gV4p15uCfvWB0FygFBZ69MMUR5YHwm72A2x/ChqWZvbB/2KTvJpe90FCFdE14lL3wByDb452RvWDu4etMOY294AAs4G30hr3AWe8+xXmAvUCVnWhmrnO9AD3O8JveWL0AKmB99UBdPYCSy9TKxnQ94ChuleIDgT2gShg+yXaHPYBpzojOqI09sKiIRTTDkT1wbEB8Cn6UPSDwuNpR+5Y9YP3RVcIxmT3QWY1+jBibPeBG0SeGp5w98IixzlTXnT2QTuwPlaGePTCcfKABAZ890BrYy5Xxnj3AQE6VqHCePdA74hIHfZ09sOzKlQAXnD3wWY/rbkCaPSDyzz23/Jc9QPBfbL5QlT1ADR3L20KSPcCkxEl8tY09gB8ldZVChj1AXHlozoF8PQBY+eBvGGc9AG0WWwO2WL2AdB8lRXt4vWA80vfllYW9YNKF7bMGj70AMbJ4szuUvfBwZEbx55i90HUUZXN8nb0IihqlGPegvVALm11qGaO9MC4ZyGkgpb0AY88iwwenvUhQ2c+ay6i9QOPLe5Foqr2gpBOGx9urvYiplXDdIq29GBbey/I7rr1wxe/LpCWvvZCrvAsM36+9zO/UIN0zsL1gHtEW21+wveBxjHC8c7C9YL8pv/VvsL1UeiWgMVWwvYh7+yZQJLC9kHq9Rcq8r73ghUsKbwmvvQDw6Y+AMa69OG/ltFA4rb1ApiM6jiGsvdAYQwVA8aq9uO4s7r+rqb1gKEZCs1WovehmuL4B9Ka9cO/VYsuLpb2A9k0XWiKkvYDhnQgTvaK9gAhHP2dhob1IDPUjvxSgvcBO7w7OuJ29UHF0r/Z6m72gA6nnpHmZvVDpeEjOvZe9QJstLohPlr1gYrIe4DWVvZAXULu7dpS9IDgtnLgWlL2QbtE5FRmUvbAIX62hf5S9IDNXerRKlb2A1X2tKXmWvRBkGjpnCJi98CGvmWj0mb0QSAzq0jecvZD9q/0OzJ69YFX5U7PUoL2QTPhrk2OivThGkhfiDaS9EHfVLYLOpb0IOacJE6CnvQiI2eMFfam9OEEHELNfq70gazEDbkKtvYg4Vb2YH6+9MOF1Ftt4sL0QGApgvlmxvX4tVWTzL7K9cioFPiD5sr32GwWSGrOzvfIkFkLuW7S9kNpBMOLxtL0yLIjRfHO1vcKxVA6I37W9FOmmARQ1tr1cNySeeHO2vVyFsflWmra9iOgow5qptr1cCymjeKG2vWgXntdsgra9BIAlRzlNtr3gEqH+4QK2vTynXt2opLW93DbwEAk0tb0ommKrsLK0vYxqJ0J6IrS9XBKmk2WFs71YvMrGj92yvQiVVlYrLbK9nGN8VXd2sb3QSaiktruwveCAxzBQ/q+9UCEbTv2Frr2onzBPshKtvfhKGwV4qKu96OktEhVLqr2QIjuRAv6ovejPY3RixKe9aA2HDPigpr2wjqkUIpalvdBVl4bWpaS9wHXFSp/Ro71oevvimRqjvcDtn9V2gaK9ADh+23oGor3o7l4yg6mhvQju2BIIaqG9iEEIOSJHob0wDAE8kT+hvVBqB3/BUaG9KEoNENR7ob0wbirzpbuhvXBinxrYDqK9aElvxNlyor0gHq928OSivRDXnXlBYqO9aAtnPdzno714evLYwXKkvZB8CKvt/6S94DYmPV+Mpb2ABrRGIxWmvYCO8zBbl6a94Ao3x0YQp72wdAEvTH2nvQCx2xsA3Ke90Nd+AC8qqL1Iu3zs5WWovdBL1Zh7jai9AAgyjZifqL2YKfFvQJuovSjuP37af6i9uAPC4DlNqL1oqXN1pAOovWCS9C/Yo6e90DmSsRAvp70oz8YUCqemvQCFWTEBDqa9UL2stLJmpb24g0OVVbSkvbDhbqWT+qO9oMTy8X89o70wChHdiIGivSC7cXFmy6G9CN4n8gYgob1oqVX6eISgvUBn3iCj+5+9QNz46iQin70A2100GoaevbDPW/SLMJ690AC/8rApnr1gl/EKtnievfAzN6aJI5+98DDVEFUXoL0Qkdqff86gvRBdsTPct6G9cMuPthjTor3I4J7v8x6kvYB/7fQ5maW96LymfMg+p724sCTYlwupvRDdhN7H+qq9ACjIRrQGrb3ghWUDDCmvvQyytJt2rbC9XARSQILKsb30jB6C1+eyvVQ024SPAbS9sLa7ZsATtb0Q3snnjxq2vQh0BkBGEre9zA49aF/3t73gipfDm8a4vZxCcmoPfbm9RO/rLy8Yur0My5Vq25W6vbxVvClp9Lq9BP+ZSKgyu72cWgtQ5k+7vXDqFD3vS7u9cEFpkQsnu73cYAiN++G6vbS21NXvfbq97reNl4D8ub2s1Olgol+5vdRxSQeZqbi9UAeBAurct72ChT36Tfy2vcSoihKiCra9zgvs0tgKtb3uteXv6/+zvdAKwnXO7LK92rbOH2DUsb1CvutUYrmwvSAcpBTdPK+98L1tudsLrb0wFCerJeSqvZATg7YK37Q9HP0zI75btj0grsJR1uK3PZCZmKt2c7k9DKmCnb0Muz143fdqxq28PaguawCrVb49mkggocIBwD0CKwb1N9vAPd6I2pHDtsE9muVUzfOTwj304jcZV3LDPVTT5IZ7UcQ9jH5ybO4wxT0MT+CZOxDGPdx3SN/s7sY9pDWvsYnMxz2wYhFalqjIPVqrwtyTgsk9WAr7aABayj3cTGtOVy7LPW4lKb4R/8s9GE0R0afLzD1iZGi5kZPNPZwsI6lJVs49OFFgv00Tzz0uCjESIsrPPdsT6ZYpPdA9BcGGQbyR0D2Bhlidm+LQPanRmEyiL9E9VfJ287N40T2g8zB9vr3RPbTXONq6/tE9tg1vaa070j2QWWN+pnTSPcTYfDjCqdI9sIx0JSjb0j2aMuqfCgnTPS9eDrilM9M9DjQrnT1b0z0GDszvHIDTPUh8J5WSotM92gioXu/C0z3CuVfJg+HTPTxF6x6d/tM9wA75xIIa1D38+LPAczXUPVhYfTykT9Q9em8dSjtp1D1KQpslUYLUPci9JZTtmtQ92mpJaQaz1D0uHaMyf8rUPUC/GB4p4dQ9oEx7YcP21D3swI4J/ArVPeicuWBxHdU9LnUlvLMt1T0MI+HRRzvVPYr+W/CoRdU9MHahKUxM1T3W0Tbgok7VPaY3X8wdTNU9FAbj4i9E1T3Goic/UTbVPbhBeLwBItU9IGFv9MoG1T06u4d5QuTUPUQt5VcLutQ9/mDsb9eH1D3iRzlGaE3UPcoXtmGPCtQ99HeVVC6/0z3qXZc3NmvTPR6eNyWnDtM9YMF/O4+p0j1kQccbCTzSPaiDGMU6xtE9eha/zFNI0T1W5MXFi8LQPV5iHbYgNdA9XK4ZOKpAzz1oj96D3QjOPVy+nQlqw8w9HC94Q99wyz0wChPYyxHKPbylGr27psg9BPUzOzcwxz20Zg5Pwq7FPdylXbbcIsQ9QAhWfAKNwj1waDVkre3APShDD0qrir49uNKFROkouz0oYWcbDre3PcA50ocdNrQ9KM/yNSunsD3QYYtAvRaqPXDkayDvx6I9II4c0kXJlj2AUH7yhH5/PYA2nvB/mny9wDUAqINClr1gi0VQRLaivcAyN9ZXTqq90BJs5KHysL0A0WObTru0veC4oeDofri9+A/w7Rk7vL0gQnC7g+2/vRQZCMLkycG9YNrvccqVw738QGqET1nFvYy3IOtaE8e9EDtmQ+HCyL2wX6cP52bKvfSb69qC/su9KEln296Izb1kNpL5OAXPvWRVcpBxOdC9sFuoxKDo0L0QlF4T5Y/Rvf51FmEBL9K9zFtGML/F0r1G5Zt+7VPTvY7NSkRf2dO9yP5QSupV1L321GObZcnUveZ6YL+oM9W9xuhct4qU1b3pNYBy4evVvXCrqaKBOda98DM8yT591r0MScTj67bWvVpa+v9b5ta9IP5zw2ML170zJE242iXXvdGl7zKdNde9mVQPGo46172p9LgTmTTXvZiCd7m0I9e9k5BWaOQH1738cRFNOuHWvUPiC+DYr9a9JNZ+iPRz1r3QpI6W1C3WvT5FuBjU3dW9eIrnGWKE1b0s6YxGASLVvetpymhHt9S91VLXWtxE1L2rZRSseMvTvUJyN7/jS9O9eyf1pvHG0r0D5vx6gD3SvQCcf7F1sNG9zPcNk7sg0b0VIQ0DPo/QvRTFUzzP+c+9XtaaXT3Vzr2YHB0JhbLNvV78BxpRk8y9NGZjmzN5y70+NtBvoWXKvXJb4k7uWcm9cCQtZ0lXyL26dM70ul7HvQIMZCoicca9krnMZDSPxb1mOUjefLnEvdzX7udc8MO9LgU7Zw00w73ICLmZoITCvVpkmaUE4sG9EI4SCwdMwb2+ntTpV8LAvRZttf2NRMC9kLpvtlakv70oiHBWQtW+vcTyjeOoGr69oIVYzERzvb2kmn5Ayd28vbj+S1vqWLy9dPX8d2Pju71wHJ9n/Xu7vehEmUuTIbu9/DrqCBbTur1UFJGuj4+6vTB6DyskVrq9IORFtxEmur3UdW4OsP65vaCT9dVu37m92DLi6dLHub0kOAqwcre5vTjBD4Xyrbm9THy7QACrub30p9IiTq65vah6fPuOt7m9KIerQnLGub2cmAQln9q5vXDVxdGx87m9lKCunzcRur34ziTcrDK6vdjUzSl7V7q90Fzklfh+ur2k7In4Zqi6vb4Y+Ub00rq9Ot1Lcbv9ur0q0gCYxie7vWSQH7YQULu9JO5BJYl1u73o5uB/Fpe7vXq84R+as7u9pNiZovPJu71WSFKrBdm7vfTP4Yq537u97p6ACAPdu72MhsWO5c+7vSSusLF2t7u9lmMfhuKSu714Oqk0b2G7vSCYLIB/Iru9PLxmQpbVur2cqmQFWXq6vfbcs9WRELq9dobWpDGYub38yqnpURG5vb7yvJU1fLi9AqOm1knZt70gj3ojJim3vSwvaFGMbLa9zIrHQWiktb2Cn/eCztG0vfxzU/X69bO9pstsuk0Ss72MmhM8SCiyvT4vFRuLObG9UMZku9BHsL3Qn8zQ0qmuvVizP3tqxay9xMGogz3mqr0Uq0lPKRCpvVj/wEkHR6e92N3W2p6Opb1kfEU/l+qjvfRoJvxqXqK9JI8mG1rtoL1o0QoTvTSfvRg7w11B0Jy9AGqVWNyxmr1gTql9ZN2YvXhK5PrcVZe9iGwnzGwdlr2QHGN7WzWVvbj1zb0MnpS9qL2SmARXlL0QDIP78F6UvTDSDVGxs5S9AMlex2RSlb1Q9vDmejeWvXjD+9nEXpe9kIN5N4rDmL1I+kEon2CavdAxrPF3MJy9kBLdPUQtnr3g8noogSigvZxGe3PLSqG9mNjH+HF6or0cnQ6ZbbSjvSSofwnJ9aS9yE+6yqg7pr0I7+/4U4OnvYSRrD47yqi9PHhne/0Nqr2MzKesbkyrvYhyvVibg6y9JKTe9Mmxrb1gUurhfdWuvXTlrmR27a+9ElPNOld8sL2SojnaLPuwvSaG4i7xcrG9IIEY+nHjsb3OPQ3ekkyyvWRhlIlKrrK9mIw9YJ8Is710MG5Oo1uzvTIOHz1wp7O95hSr3CPss712Ughh2ym0vYDbAoawYLS9Frgqx7WQtL1Q3yiZ87m0vW7ClMFm3LS9juft//33tL3iAgWwmAy1vUoPbMUHGrW99CZn8A0gtb2OS9D0YB61vSQz0SesFLW9AOii5ZICtb3wq2VwtOe0vQRKdKyvw7S9hKjUOCeWtL2sif4bx160vQCZOeJHHbS9AGgy1nPRs72oaM8JK3uzvey/FdZmGrO99OXtkT2vsr3UkOb85DmyvWhT9Q61urG9AOAXUigysb2kmMlk3aCwvUg2no6WB7C9WH/bKnLOrr14LSKfl4GtvZA6KaTqKqy9KNdz2PPMqr0w8cfRb2qpvVCvopZJBqi9QHd+DJKjpr3orcVEeUWlvRgomzxG76O9oEo0rU+kor2Ice5L8mehvdDn4aqJPaC9ABxkU89Qnr3QiLU2llecvVBzn0WxlZq9cI1f+CERmb3gx/9Nks+XvRBUnP1C1pa9kHjch/wplr0ATPr2+86VvXDNWdzgyJW9oKqI750alr2QMGLKZsaWvcDcoxugzZe9UIBFeNEwmb3girT0lu+avWBus9yYCJ29kGNE+IB5n72outY0ex+hvRj+JoZOqqK9AFvfp4tapL3I40d+By2mvRDhPiAhHqi9ICc9hcwpqr3Y3HKsnEusvViEuETTfq69UOunrzhfsL00fPMMpYKxvUDrfOQMp7K9IMNzts3Js72wV3JqUOi0vUy1LU4VALa9OO9mhr8Ot72EOH3GIBK4vayPIFdDCLm9yEqESHTvub0UWenRS8a6vXDexY6zi7u9IEbTlew+vL2ovw40kd+8vcTZ1IaWbb295JsFzUvpvb2AMU5pV1O+vbhHe6qxrL69OLeH9Z72vr0MWhWYpzK/vaSoIwKOYr+96CPnCkWIv700c/7r46W/vdygYxubvb+9xAH5L6jRv70oJSkFSuS/vST+dCG197+9gi1JnwQHwL0YyT5IoxTAvWxGjEKiJcC92NWJ49Q6wL0KdBag8lTAvdyXFkOUdMC9tirFBzKawL0Gug/YIcbAvVDJWEaW+MC9QIq4i54xwb3sMKUfJ3HBvZpFCDv6tsG9IAqGhsECwr02VrqXCFTCvRCuJPA+qsK9fFlG6roEw70gKCFQvWLDvfoTkPl0w8O9ekOEWQImxL08IuRCfInEvVCBY9/z7MS9qO3DVHlPxb2qYxUqILDFvcxTC+wDDsa9btZmTkxoxr26w7ZVMb7GvWoqXSH/Dse9bDFpihlax72aXshJ/57HvQ7DJSVM3ce9TATGyboUyL2OfnY3JkXIvcbfCxCKbsi9dpQrtgKRyL2mwUhRzKzIvWB6AjJBwsi9iNt2t9fRyL3AEJOHH9zIvcJGTNK94ci9/KpYNGrjyL2cd86D6uHIvYzDGE4O3si94Acxz6rYyL16bxDkldLIvY7HKfKhzMi9yuME45nHyL2MZT2vPMTIvdgdR8I5w8i9YENAAC7FyL0W5l2toMrIvVgefeUA1Mi9pERPBaThyL34ZpwTxPPIvU4k1Gp/Csm97m8p59clyb2oYF11s0XJvayhcxbdacm92Ogf2QWSyb0azKfdxr3JvRwNgluj7Mm9soARLgseyr16enzBXVHKvc7lr0nthcq9qsJWnAG7yr3OcRoi3O/KvSLirQ27I8u91sqSeNxVy73aIehfgoXLvSBRgGn1scu9LoI8IYjay71aaIYmmf7Lvc5p7raVHcy9Zu07cfs2zL3i+2b/WUrMvZIYBv5TV8y9jvZg8Z9dzL2m0h40CF3MvcanFc9qVcy9hGhbFrlGzL1ANB1i9jDMvSS8YC83FMy9xJuSVJ/wy72YSa5kYMbLvQDDyyu4lcu9rOw3eu5ey70MWzgZVCLLveqtb3pA4Mq97O/XEBCZyr1GLOaeIk3KvXgVwgDa/Mm9NHnD1Zioyb0mzeYIwVDJvf4o1LWz9ci99sHlqs+XyL3UyaJ4cTfIvVSivY/y1Me93gfIPalwx73GjABj6ArHvZZxwmr/o8a9UhwNcDo8xr2+MSPp4dPFvR48MBg7a8W9vlHc1YcCxb0cnI7HBprEve6nCH3zMcS9iBHvJYbKw72QxBeB82PDvQYSDf5s/sK9th3tlCCawr28FYcBOTfCvSIbSBPe1cG9Mi4slzR2wb22M4BgXhjBvULZCQp7vMC9FCk0fKhiwL3EbDGBAwvAvcTc7o9Ra7+9LId0n2zFvr3odDfdmCS+vZgPpLYdib29HDrky0zzvL1ULr7LhGO8vVzHvh8z2ru9MFoBk9ZXu734CUmyAN26vRhSCFtWarq9QMFlL5EAur3A/t8DfaC5vVzNexf2Srm9CHa5ROYAub3klL45QMO4vXiONCr6kri9BCKtvQdxuL0MSk/VUl64vXy5Wza0W7i9dDgdKutpuL3w56i7lYm4veSGiyIpu7i9mB/iKer+uL3kKdzS51S5vZD2RRr3vLm9jNKRDq82ur1ExrNBZ8G6vaBWh+E3XLu9XKtvRvsFvL1EnaIuUr28vUiLe+uogL29kDAfyD5Ovr3E284zLiS/vWAbtAA7AMC9LOJumIFwwL2ADz593eHAvcD9PudCU8G9dnIH0KzDwb0U8ZAVIjLCvUBR3Za5ncK9smHawZ0Fw73ABwMqEGnDvTY2pL5rx8O9xBEsjiYgxL0QEY8Y03LEvbZiS3sgv8S9MniMHtoExb3KuB0g50PFvWhwVmxIfMW94KZtHBeuxb1ky8DAgtnFvUSuPMjO/sW96kCqc1Aexr3UQvyObDjGvTAjX6yUTca9rLpWkEVexr3Aueq1BGvGvaqasb1edMa9KF5e9uV6xr1oIrGQMH/GvSpWyAzXgca9ojOCa3ODxr2ybBMYn4TGvU5+bsvxhca91KgxcgCIxr0Wk7dPW4vGvZr1G9OMkMa9KHmy5xeYxr10Zl35daLGvY5qZVcVsMa9OA3bLlfBxr2Wjb7xjdbGvfhmPHD778a94o+kUs8Nx73a8HonJjDHvQLQguMHV8e9TJl9ZmeCx70OQ5UDIrLHvZbZEuz/5ce9VtruvrQdyL2CcnOq4FjIvfIGrnASl8i9XICd78jXyL1SVx/ldRrJvRbPlwKBXsm9RDIXrkqjyb24bv4/L+jJvVaus7aKLMq9wC7gNbxvyr1EUUbFKLHKvRofi5s+8Mq9mpcr93csy72aLdhWXWXLvYxSAgOImsu9lnlNoaPLy72cbd1Cb/jLvSxHUS6+IMy9SqqzRXhEzL1amnTemWPMvSSUE0czfsy9bsCm5GeUzL0GuiQWbabMvezkvdaItMy90FTjSxC/zL10+GLYZcbMvdjomDf3ysy9QIKtczvNzL2wkfkCsc3MvVgJM4/bzMy9hqb9r0HLzL2YSOEka8nMvarc4mTex8y91CHniB7HzL0ADthEqcfMvSx3rtT0ycy92GYFpm3OzL2gNMdidNXMvUZb/XJc38y9IpF5jWnszL3IBFUMzvzMvUSbfc+pEM29OCnUSggozb0EVxa330LNvVwgsoAQYc29+Gx2mGSCzb2WPzuVj6bNvfjN0wIvzc293ncRL8v1zb1gCvZ42B/OvdJknS+5Ss692nHomr91zr2YJW2cMKDOvaXY9ZBGyc69mrvs1jTwzr1uqyRSKxTPvSNvMVhaNM+9c/VI0fZPz70E3N9pPWbPvfzFsih3ds+9jlR6AP1/z73t77JZO4LPvReEala1fM+9a3nUdAdvz72xgIhO6ljPvcFhLqI0Os+9+AeC4NsSz73oQgB49eLOvX4PojK3qs69UcTLXHZqzr2iYVF3pyLOvajk4hLc082925k52cB+zb1bGm0YGyTNvZDCDy7GxMy9yhiXvK9hzL0YA3eo1PvLvaYA4mM9lMu9RgLQVPkry70SvGqAG8TKvaDeUEW2Xcq90H5SYdf5yb3WMODlg5nJvZg5WJ60Pcm9NCAcd1LnyL1oDmB0M5fIvcJbK8oXTsi9sPXK1aYMyL3WR6uubdPHvQjMW6Dcose9blBVg0Z7x7003SEn4FzHvZzpRbO/R8e9eMhb39w7x72CbWLzETnHvfgNKRAdP8e9CIbL16FNx70m14zdK2THvQCZPikxgse9blAbRhWnx72s6yNRLNLHvdhuEK6+Asi9aK6QYg04yL2cj1BaVXHIvVpFQlvTrci9cKtBDcjsyL3IRkVkey3JvRR976M/b8m9Oo9O/XSxyb1s8qDti/PJvfLbldkHNcq9FrvzyYB1yr2a8cKSpLTKvVp+I5A38sq98GBLoBQuy71GcyiNLGjLvYwEkyiFoMu9BAL0rTfXy71YDaO8bgzMvehKMaJjQMy9dNduTFtzzL0M8ENZo6XMvWTNIiqO18y9IEoJNm8Jzb1gPqoCmDvNvfDbrtpTbs29pEhjzeShzb3EKCYtgNbNvYQ2R+FLDM69JvCg2VtDzr0Ws09gsHvOvazjx8w0tc69DJpLAb/vzr3qpEVZDyvPvc4esY7RZs+97NYJaJ6iz70iFu4b/d3PvWYRIlEzDNC9yDi3X6Qo0L3nbXDNBETQvbjSj70FXtC9hfYuilh20L2+gdTisIzQvTg/76jGoNC9dAPDw1ey0L2wvecOKsHQvXdVI7IMzdC9bleDvNnV0L1SGonUdtvQvXG4cNPV3dC9OxWcz/Tc0L0YwLIP3tjQvWhpK1yn0dC9SpAwE3HH0L1nmbMVZbrQvWkScUm1qtC9DIyGCpqY0L0RevAzUITQvbxZOm4XbtC9eYF7EzBW0L2Vx9+l2TzQvY+PtgZRItC9LC2jMM8G0L1E7/SkD9XPvVrjDwhRm8+90GNsQbBgz71iLoz3bCXPvYooX+S46c69gOC8Xbitzr1KxHqpg3HOvcR5sU4oNc69iCUGd6v4zb1kP3/3C7zNvVI7DL9Ef829QvCVWk9Czb0aK32sJQXNvYjZREHEx8y9CHtrvyuKzL3sPZJTYkzMvTp+jIR0Dsy9bpFTD3bQy72mgqYXgpLLvVLa5HG6VMu9ZiKgUEcXy70oRAzFVdrKvXDAkK8Wnsq9qgm9x71iyr04lhX7fyjKvboCbzqS78m9CMO2NCi4yb322CkHc4LJvSjJMqWgTsm94JqKb9scyb1EFKbCSe3IvTR9etANwMi9mDiXJ0aVyL1IemxRDm3IvbTSg2p/R8i9kHI/+7AkyL024MdCugTIvTBbHUiz58e9HPDbcrXNx728MWTB3LbHvcBY4t1Io8e9ksdTOR2Tx70KYf6MgYbHvTwDyQmifce9+viwmq54x70kirWa2nfHva4a0M9be8e9Lmd/YGmDx71ONSpVOpDHvbTYULMDose9jtTa9Pa4x70KDtg4QNXHvSaU2/cD98e9YAbfd10eyL2+wVoGXUvIvbxBVWsGfsi9hGVsPk+2yL02STY1HvTIvZ4uCypKN8m9sJrfYpl/yb0MzDsKwszJvRxTd0xqHsq9DCv8xih0yr1WsdVkhc3KvfwFeJH6Kcu9/tR8n/aIy72whip33enLvQgwrz8KTMy99pdbQ9GuzL2+FAxugRHNvehSWBRmc829/ONvrMjTzb2mV4MZ8jHOvfIh6Owrjc69epBRMcLkzr3CQ/3QAzjPvcAAcY9Dhs+9zI28U9nOz72cCYAmkQjQvUDSvQtBJtC99cxazjFA0L0toHCDHFbQvdP3ppi+Z9C9c98zGtp00L08S/hrNn3QvSGzpfqggNC9a91ptO1+0L2F86Hs93fQvRy1W1Wja9C9xcTuldxZ0L3nftFbmkLQvfpMjz/eJdC9urQrfrUD0L1e4OiSc7jPvdgj8AIkX8+9snfRyOT7zr2G9H3NOY/OvdyPvWbCGc69SEiY+jiczb2Kzj7ncRfNvRJWU9JZjMy94OA8gPP7y72k/jQdVWfLvU4/mYqkz8q9MK0fixM2yr260PTn25vJvXoqaBc6Asm9alQu2mhqyL1qDXg4nNXHvSTsPZD8RMe9cOEAq6G5xr3qJmc9jjTGvd6nzJ6rtsW9BqlGWMZAxb0uJSHfitPEvWiRVliDb8S9fO77HRYVxL1c0z6khMTDvYLLBKjrfcO9YNQjykNBw70yrGrQYg7DvZyeb+395MK9vHByb6zEwr1a2Xxy6qzCvT58jMwcncK9yOG6ZpSUwr3Alcb7kZLCveyvCuRJlsK9hId+++eewr0yl3EXk6vCvTYG64twu8K9PL7ePqfNwr0WvimBYuHCvQjnJbnU9cK9PIffXzkKw72QUT/J1h3DvarfNN7/L8O9xLMmvRVAw71OyZA2iU3DvZaF85HbV8O9PBO+bp9ew73cUmQpeWHDvYKyKBEgYMO9aHaLp15aw73033sZE1DDvSByGXQvQcO94HYk1bktw70ME3VRzBXDvSge+22U+cK9mvV3B1PZwr30fWUrW7XCvVyw0hgRjsK93L4kP+ljwr3m4WqJZjfCvXpUMocYCcK9pn8l6JnZwb3oCwU8jqnBvUabL4OfecG9GOCFTHxKwb1Uzhli1RzBvdLgfMtb8cC9ULunur7IwL3QtS1RqaPAvXBwSUbBgsC95GgsgqVmwL2ajFMn7E/AvYKHr/QhP8C9ZsOqeMk0wL1KmrrpWTHAvVx/+M8+NcC96vfwPNdAwL0cztNjdVTAvS4GCWdecMC9zqpIl8mUwL0ELXMv4MHAvVzb7Je898C9mGivomk2wb2wdJr84X3BvZz94CQPzsG9Lq9vlsgmwr0cb4B804fCvbiJatDh8MK9JB6By5Fhw73cAPJwbdnDvTyhFXXqV8S9EJlIbmrcxL3IFAyeO2bFvaatijKa9MW9gMr9d7GGxr18wC4jnhvHvbTaKKRwsse9hmLeSjBKyL2eIRKc3uHIvRiGghF7eMm9XDDCKwcNyr2uvdiuip7KvXS9F+wXLMu9eJL1QtC0y700BbMb6DfMvbz1SMCqtMy9Kt5YNH4qzb0O7uHY5ZjNvWiYRPqE/829+PJbgyBezr1snn61n7TOvTIo3xkMA8+9zFAI5pBJz722Gf9JeYjPvSAEI+AtwM+9RHT7EDHxz73iJRWBDQ7QvUbPcFbKINC9YRhZWykx0L2CTfTNhz/QvZOZ+MFCTNC9q3bGObRX0L3MOFn9L2LQvUTA3tIAbNC9hnhz2WV10L3K+vvpj37QvR+Y0dGfh9C9SWAJmaSQ0L29pINmmpnQvVr6gh1qotC9NEDxM+mq0L3l9ZEh2rLQvSNpiITtudC9GJSRpMO/0L2uvTlQ7sPQvfiC5XzzxdC9CP9/+k/F0L2axTxlesHQvRl/mXnmudC98PElNgiu0L2iD3owV53QvYm2tANSh9C9ST3yO4Fr0L0bvsz3eUnQveXByZjgINC97m4r/NXiz71CjH18xHXPvXBkyfZH+s69HIpI/0Zwzr2g5D4+1NfNvTr6Kb8uMc29YJMgFMF8zL0k+Ev5H7vLvX7ZTj0I7cq9LOJl3lsTyr2qqsuxHi/JvWZySzhyQci96nEzkZFLx71m0V3ZzE7GvZpmd12ETMW9guVfoSNGxL22OP5IHD3DveGs6CThMsK9GneaWuEowb3Y9V2ygyDAvRKZE3pENr69cH9hfgw0vL3apUgoyTy6vaJcy5a0Uri9ZERc7T0Etj3IYTpzhZ23PeAC+ScIQrk96KE3urPwuj3cMUGHa6i8PfSHC3ELaL490luLqDQXwD0aiMesK/3APWwkVJJS5cE9DqY5bxDPwj3MA1Scy7nDPbDff0fppMQ99CRmRs2PxT3cIUYu2XnGPQIUn6xrYsc9hIGD3N9IyD2uu9NGjCzJPTqEMVLCDMo97JDL0M3oyj1c90fF9L/LPb5i2LJ3kcw9dO2F0JFczT0YXvVWeiDOPShQFwpm3M49ZOvwIImPzz1mAATKjBzQPeLDOSYpbNA9WFvCHDu20D10nPzYafrQPboAFy5kONE9RsAwcuJv0T2uPrRBqKDRPQjSRmSGytE9eI5mWlzt0T2wetShGQnSPbgkxtq+HdI9fp+TWF4r0j3wn+lhHDLSPRDOjQ0vMtI9mBpj1t0r0j3cMWlegB/SPerbn618DdI9EMi5g0X20T0y6xGqV9rRPRiTxXc3utE96OGOw22W0T2+0heMhG/RPU7UAtkDRtE9DgokKW4a0T0wPE+cPe3QPRY4leHgvtA9jL3hiriP0D3ep+agFGDQPaCn9c4yMNA9guXeCj0A0D2IIP9YkaDPPbhbhnGsQM89tFaXqqPgzj1oV03vJ4DOPahP9u7FHs49PMsFb+m7zT34Fpd94lbNPZQog4vq7sw9AFK/9ymDzD1wGyzVvhLMPdjutsXCnMs94Crk9FEgyz00yQFlkJzKPRhKSu6vEMo9UMP1h/V7yT3c5eA1vd3IPZT7MuV9Ncg9GCJG4MuCxz2s0z8bW8XGPdBQ92P//MU9/I3C8aspxT3M930Ic0vEPUw6aCuDYsM9NP+LoSRvwj3gHeMStnHBPbQGHiqoasA9oDwxYPO0vj3wZKeIZIO8Pbj43lO8Qbo9MDvVNBPxtz24uVAfeJK1PVCBIwPqJrM9qARR/E+vsD1wMNpW6VisPZBoLNEEPqc9EE1vnAEPoj0gBmL9UpmZPQAY2CQO3o09gLgwetB+cD2AQnv45FF7vQCJT6Se7ZG94D2/qQksnb0wm+OfCUikvVCHuQIADaq9gGzG2Ozkr734G7aF0+eyvXihgVxh5rW98K/JYMPtuL14LB0gbf27vcDIrdeeFL+9dFJOFDEZwb2gxhDww6rCvdQ1He1TPsS9eOek0xHTxb3wbALcFGjHvTx/WOtd/Mi9tDP9+tqOyr3AHt2+ah7MvbBsLNvhqc29CCrfnA8wz728Ghhb4VfQvfouFRPnE9G9xhXE3obL0b3SBzJtNX7SvS41q7tvK9O9tvCBrLzS072qyTIMrnPUveJrz1/hDdW9YJUmFACh1b1i5AZgvyzWvVQU3BrgsNa9lCRlwi0t172GUktwfaHXvRjI4aOsDdi9sJgXH6Bx2L1q6ZVLQs3YvcDRQTeCINm9QjE9kVJr2b12NbyQqK3ZvZyNRCJ759m9CvZJwsIY2r2GVFtXeUHavVH55zqaYdq9qSX0SyN52r0PkotqFYjaveAKFph1jtq9s7xnUU6M2r2SAEf6sIHavaF/0GC3btq98nCy+oRT2r00MotsSDDavapOXI08Bdq931BsTKnS2b2kg9sv5JjZvVY1tIVQWNm9OrH8QF8R2b3igfY3jsTYvWrPeyxncti9Xd7dZX4b2L1pNlLzcMDXvfhr0pviYde9ZS92cnsA170d14CC5ZzWvbxJ3B7KN9a9SVVpPM/R1b1iFkvulGvVvU0HncmyBdW9Es/yurWg1L3gI6PKHT3UvQYTSoJc29O9vZc0htN7072Qr0R20x7TvYNiyzybxNK9SCDCrldt0r1O4jKIIxnSvQoZCiAIyNG9YOO42/150b0qQOJG7S7RvZQwB3Ow5tC9PoArgRSh0L08/79v213QvQB8Ku69HNC9v/Vxn9q6z73hjOlLKz/PvZZUOj6/xc69o2EtjOVNzr21SfPP7tbNvToRwBYxYM29OTSGcgvpzL3fvuj96HDMvR73ryFE98u9mmont6h7y71+XHyhtv3KvbwbVNAjfcq9v2JMNL35yb2HhTyHZ3PJvb1cG/Qf6si9lx7havxdyL33AnwUK8/HvfmqiTfxPce9Txl2Paqqxr1tBw2lxRXGvQfis93Ef8W96iPHsjjpxL1e80G6vlLEvUoVSNb9vMO90xbQGaMow70Boo+dXpbCvcXVx83fBsK9e83updF6wb2TVDuP1/LAvfjL/NSJb8C97BQ6MOXiv72qjQA/F/K+vdoxM/V2Db69jrJmrKg1vb3SQL32I2u8vSjSeDEyrru92vjfdu/+ur3idOzbSV26vS7h+TkEybm9KBpOTLlBub0YRXky38a4vR4z5B7MV7i9RoM0pbvzt72QqAOW1Jm3vV4QrbQvSbe9ajq1Ed4At73OZzf777+2vSDCBLJ6hba9IiOiCp5Qtr1uW7VuiiC2vfz7bp2F9LW90HyOwu7Ltb2aTkIOQaa1vWZBoooWg7W9WERDqilitb0IESs2VUO1vahd2b6TJrW9BjJQo/4Ltb1OcEZGy/O0vdpy5m9I3rS9NKs3X9vLtL2qrrWg+7y0vbYc12ousrS9fMaYnQGstL22dCs5B6u0vUCUdn7Qr7S9bIhFIum6tL2q4mh70sy0vQoYAwQA5rS9qmuH29IGtb3KAlMmly+1vf5qACiAYLW9euSubKaZtb3KgOFQBtu1vfQLDA1/JLa9oKcsV9N1tr1yj60Tqc62vcySJMGKLre9rnzuzOiUt70GlnRJHAG4vVyn7e1ocri9OOxdsADouL3KnfC1BmG5vY7hPhOS3Lm99GWPK7JZur0soNCNcde6vWCNZGXZVLu9iluvY/TQu72wsJtr0kq8ver2GgiKwby9VuTqMjs0vb0SN1p2EaK9vW4t9xxFCr69DuUARR1svr2ghQXU8Ma+vW5c2pMmGr+9ZhPQ9jVlv70kFf4LqKe/vXg1HkUX4b+9gVvZKpgIwL3iFyaH2BvAvZ7aBkI0KsC9MHyOj5szwL24/dHkBjjAvSXMwPB2N8C9lmnfMfQxwL2EqgmRjifAvXQQp6hcGMC91vHeW3sEwL0yewgiG9i/vQwZ5ll2nr+9fnrvKWFcv71C0JFIOxK/vWKuwXppwL69oDu+wlRnvr3KjUCfaAe+vYJkd7gRob29dA5Xyrw0vb3wK3dG1cK8vaxEwHrES7y9Vrh8v/DPu70qrCHfvU+7vUCJpv2Ly7q9WmoiPrhDur0mH9n1nLi5vYKxkseRKrm9RjzxruyZuL3wv3emAge4vRSFJwspcre9OOceF7bbtr3cj4lLAUS2vXYjev5jq7W9wCkejToStb0+GdOK5Xi0vbAF6y/K37O96rPKq1JHs71qEqIT76+yvbY70t4VGrK9EJN6eESGsb2yLl0YAPWwvfL6vHPVZrC9ODxANrO4r73QxZcsVqyuvTQLHwfkqa29YJu1tMGyrL3U5oaKaMirvSDRQoxl7Kq9/OEBJlogqr34XMe/+mWpvZAud3kMv6i9KMAB6GMtqL3IS1U74bKnvfgqtxdsUae90B4IYe4Kp71Yf3VnTeGmvUAsjPBj1qa9kGLP1/nrpr04NXONvCOnvfADe084f6e9iPFctcz/p73oNAhzpqaovYjoi8q1dKm9yMui7aVqqr1wiaBl1oirvVDL76tUz6y9mC8eYdU9rr1ALr83stOvvaioYnnzx7C9sFxRU4e4sb1gVTjYsbqyvfTawa9gzbO9pMJMxVPvtL1EnVrWHx+2vcwrtp4xW7e9ABC8U9GhuL02M0QnJ/G5vcTJEqFAR7u9GI/CohaivL0ulu/Bkv+9vfCjWfCVXb+9GE3Hi/9cwL1nIASNWAnBvUeyukjNssG9EJMD2l1Ywr32D7pzFvnCvVCwTwkSlMO9qfxvJ30oxL17bOCSmLXEvePEb2q7OsW9G5JRuVS3xb1lFU3t7CrGvXc7KAEnlca9mVj2zsD1xr1U1Hoxk0zHvS/3lPaRmce9nYSx98rcx71JHR8NZRbIvYEd6u2eRsi927C7Uc1tyL1pOFvRWIzIvRc1kqW7osi9eFnMXX+xyL0+OEx3OrnIvShVRP+Nusi9y2kXXiK2yL0NimrfpKzIvZdyM1nFnsi9nOBxgjONyL20kPIfnXjIveLYyserYci92JScoAJJyL2pVnLcPC/Ivedgjy/sFMi9EKv+hpf6x70emukwuuDHvZkNd/jCx8e9kbvPnBOwx73edIGdAJrHvUapNALRhce9Bxb5475zx73+kbxV92PHvZDFEF6bVse9UhQdfMBLx70H3KmucUPHvYomQcKwPce94ATumHc6x71axP55uTnHvYIuS65kO8e9wM/0HWQ/x71qMkS9oEXHvSS3/nQDTse99YEdbnZYx72y8YTV5mTHvebxgy1Gc8e9TLDzPouDx706DaFes5XHvSaHDdvCqce9c/1avMW/x724L0Bkz9fHvZ4VR7P68ce9PDucCGkOyL3xRIi2QS3IvT7UdaywTsi9RD0bsORyyL3R9GagDZrIvQ2XSGJaxMi9I+ja0vbxyL220XmRCSPJvcQBlnexV8m9kk/opQOQyb2b/DAfCczJvd9lu5K9C8q9ExxHcg1Pyr1LmPDM1JXKvTePtJbe38q9vduckOQsy70HRs8Ej3zLvdvydcF1zsu9nL7MXiEizL2g2secDHfMveE6ceGmzMy9XdplLVYizb0CtifGeXfNvQPPo4Rty829sA2c3owdzr3fnsqoNW3OvaLFWwTMuc69IZgZ4LwCz73AKTIwgUfPvZSv3T6gh8+9SM3m4bHCz726jng4YPjPvWtGWlU0FNC95OKPkE4p0L3ecFXpcTvQvdLTDn6bStC9DT2v7tFW0L0WkR/SJGDQvRfXIK2rZtC9pMhI0YRq0L1SS9on1GvQvYIrpcLBatC9t07FV3hn0L12VSrWI2LQvWlLrsXvWtC9yvErOwZS0L2mH0eRjkfQvUOFjiqsO9C9VrrppH0u0L2UXfBDHCDQvegtHW+bENC97MoedggA0L3GDCi41dzPvYxfYsmIt8+9a4P2PCOQz70iO1sWlWbPvf6i1PzGOs+9gXEr9psMz70I4Hiu89vOvXOro1OsqM69IeMA2KRyzr2ZqAG/vjnOvQlfvfPf/c29sE7za/S+zb18Lcur73zNvfe4A6fNN829V867DJTvzL20YbWGUqTMvRMlIQIjVsy9ccgx0ikFzL3/Lt9VlbHLvfWohUueW8u94uQyoIYDy71rY1pNmanKvWpsGcUpTsq9nIDdVZPxyb1ue8eZOJTJvdzHtPqCNsm9CWvvZ+LYyL0JXQXlzHvIvRL9Q1m+H8i9QDzkJTjFx71LQpD6wGzHvcTr5zPkFse9qVsnfTHExr1ioiYLPHXGvdunJzmaKsa9PFNXEuTkxb0QAxrTsaTFvaD7fC+aasW9GlZpSDA3xb12gIFZAQvFvbT8vuGR5sS9ttXe5lrKxL2u5SsZx7bEvZAHP2svrMS9PEMCUNiqxL0WqCw17rLEvSJhZPmCxMS9vnXH54vfxL3y7FxC3wPFvT6mmFczMcW9wr9gFR5nxb1GmcSEFKXFvTYCJP5r6sW9DiUSFlw2xr3UM6zIAIjGvfZDXdpd3sa93uA0vmI4x73CQW5Q75THvcwdUbjY8se9IGmOxO5QyL2yV9r3Aa7Ivdroe7boCMm9PKxOH4Vgyb0gdejKyrPJvbzzzbDDAcq9XLGGvZRJyr0EyjazgYrKvUg3YTHww8q9Kl7fMWr1yr32PZipnx7LvWixechmP8u9HjBB+LtXy71S26PEwGfLvZDEmjS6b8u95jg/xw1wy71i6v4/PmnLvQxiB8nnW8u9bGratLtIy71gAJrBezDLvfaMia71E8u9kOhYKf7zyr26LIPpa9HKvcIx+gQTrcq9Pn5zlMCHyr3IzwION2LKvTrzXV0qPcq9boMUNz0Zyr36VkJK/vbJvYiMwW/m1sm9UDhuB1e5yb2ymV1umZ7JvX6UbNvehsm98KOgokByyb18I9iuwWDJvVCa20BPUsm90E977cJGyb2IZ87N5D3JvcQAyCduN8m91iqO0gszyb22vfoeYTDJvWySb1YLL8m9FA4806Muyb10ElJvwy7JveA74JwFL8m9jnp5ogovyb1qWpBjei7JvUjCtpgGLcm9bMFddGwqyb1e1PV/dibJvarSjY39IMm9zrXQw+kZyb1InNIgMxHJvVI3lzbhBsm9gHNw6wr7yL2c0Xso1u3IvfAfiWZ238i9tPyIbivQyL20fOv7P8DIvRaOYzcIsMi9oigl8t+fyL3iLjkHKZDIvUY8AJ9Jgci9OtLaZqpzyL0gPZ7ptGfIvcL+GE/SXci9WN7a8GlWyL0UbyCR4FHIvSKbKlWXUMi9+FFwG+tSyL2YfQraM1nIvT7EshDEY8i9kj+WlOhyyL1WMM8b6IbIveoblNoCoMi9CKxP+XG+yL0eEv3qZuLIvVwputsKDMm9jFgNo307yb3aCVcO1XDJvYD/JHAbrMm9SGfiyE7tyb2cX3gKXzTKvTBmtOUsgcq9UCyjm4jTyr1QuAy7MCvLvV5w0SbRh8u9aFv9EQPpy73AFv3vS07Mva5QiRoet8y9pJjlbdkizb2DIEiBzJDNvRXum0U2AM69niXmLUhwzr1TyiszKeDOvW0exCT5Ts+9WbuiKNS7z73uF9pH6xLQvejIJn8QRtC9mt/LN+520L0KUJVOH6XQvciHlPhG0NC9DEuFchL40L24nra1OhzRvSJx4M2FPNG9oHrj+sdY0b0MZQqE5HDRvU6FSaXNhNG9/sCXz4SU0b2WOYdWGqDRvdWS/3isp9G9ucaBYWar0b2Flp+QfqvRvdWE8Gw1qNG9+s9kX9Oh0b1AmqyXppjRvdIskFoBjdG9kAzAkzd/0b3wuJfTnG/RvfrOhneCXtG9yqNxtDVM0b3wVO0X/jjRvZvVrRwcJdG96C0RBsgQ0b3JSvMBMfzQvdq+WLF859C90uYwHsfS0L1ewQCsIr7QvbWuwFSYqdC9sC2wWSiV0L2oZFTtyoDQvQK/apJxbNC9BHHbEAhY0L18Z722dUPQvaBTes+eLtC9nHcjAGYZ0L3kgN+frQPQvfu8dH+y2s+9R6C4B56sz71zKy3g8HzPvfYLK3OHS8+9sPx51EgYz73e+Le5KOPOvYZsCzsorM69gNSndlZzzr22xeLj0DjOvarg0rfC/M29RHp2O2S/zb2e0BaQ+oDNve56GT3WQc29BoRohlECzb3klZnBzsLMvRSFW4u2g8y99BpPg3VFzL3YAzlbegjMvR6x/+Azzcu9PMKLCQ+Uy72U7kH6dF3LvQQtJ03JKcu9ROskCGn5yr2YZvT+qMzKvV5rDtTUo8q9+OP3Oy5/yr2k+PRF7F7KvfynWVY7Q8q92KDEHz0syr0uCuAbCBrKvT5AfAaoDMq9ZMUdEx4Eyr1ArBlKYQDKveR82gZfAcq9juUzaPsGyr0WzMFaERHKvfiSyxVzH8q98gUSXOoxyr1Av2sZOUjKvaTxt+oZYsq91Kq/5z9/yr1ioGaJV5/KvUwM3SsHwsq9TE86bu/myr2s2/WRrA3LvTD+EUvXNcu9enL8BAZfy71Oevo1zojLvTgEmGDGssu92stNcofcy70muTO8rgXMvdZ19qbfLcy9pFK32MVUzL3eShqwFnrMvbJfmc2Sncy9PKcoWQe/zL0wAqhGT97MvXocNLhT+8y9sj4r9AsWzb1oUIkPfS7NvXgotaG4RM29lM3psdtYzb3445rGDGvNvYhszWN5e829yK8HSFOKzb3oS/MBzpfNveAK470bpM29xGGytmqvzb3ShAHe4bnNveDW6vKew829jJo9mLPMzb0oO/BfJNXNvU6NruLn3M291CYiC+bjzb1kBJId+enNvejWhvvt7s290nLFiobyzb2AGHJUe/TNvYirQ7x+9M29viGPM0Dyzb1OKrLAb+3NvdyvOFDB5c29EMAcgPDazb0CWzkmxMzNvXQVXEsRu829pIC56L2lzb30BP6Lw4zNvVBbfHswcM29ZJp39ChQzb28UOXr5yzNvVC9dVu+Bs29lnWm8hLezL34cyd6YLPMvXjD81kzh8y9VpFArCdazL2s8q9v5izMvWaTvisiAMy94INsQpTUy704DR+3+arLvTyt6m0PhMu9ztPkR49gy72Op623LEHLvSzlzAGSJsu9BgxjbF0Ry73EOKSmHgLLvdwUtX9U+cq9bEPj8Gr3yr0oLL9kufzKvYxFuA2BCcu9PJV7vesdy72uo1foCjrLvVbg/ivXXcu9jEEtoy+Jy70Kuwyy2rvLvWy0uueF9cu93iQQEMc1zL1Avy5fHXzMvZK7Lr/yx8y9LqHoTJ4Yzb2Gut+8Zm3NvcxVmoOFxc29ULQx1ikgzr0+0g6CfHzOvbInKcyj2c691ragGMc2z70gjt+CE5PPvdY6qgXA7c+92jEirwgj0L16KGn/rk3QvWYcy+KIdtC93waXelid0L3XvNM77cHQvY6NChMl5NC9k6Me3+wD0b2SF963QCHRvbmAFOArPNG9d9W9LchU0b3iUJIaPWvRvVryT3S+f9G9FP80vYqS0b0zTeQt6aPRvZ02YasntNG9cGUQgJjD0b3n3ZTFj9LRvQIgwgRh4dG9ByN6qVzw0b1WvMfmzf/RvTGJtW74D9K9A+uUSRYh0r0lGhViVjPSvSugvfnaRtK9LxYy2bhb0r0wq4tx9nHSvVgeZeOLidK9RzDm+2Ki0r2hiZSOV7zSvXX+nKM419K9HXZGTMny0r0opWH6wQ7Tvb0ZsD3SKtO9Nhrod6JG070INMvI1WHTvdoABsYLfNO9hxcic+KU071i6HcF+KvTve1orZXswNO9IrgBAWTT072TFfXrBuPTvdYzuxWE79O9xoj6g5H40734wzAz7f3TvU9kELpd/9O9t6p1rrL8070ia6HMxPXTvYxpNvx16tO9RBJEZbHa073RUpMTa8bTvSfnS4+frdO9gndLhVOQ072Y731Rk27TvZp22XNySNO9tkbFEAse073f/Jxbfe/SvemD9CbvvNK92Ky/lYuG0r3XuS+JgkzSvUuTv0YID9K9vNEL71TO0b2JqWxEpIrRvZB1dX01RNG99nWu50r70L3kqlC5KbDQvdJ75NMZY9C9xWU2ZGUU0L2+KpsdsYjPvSwf8JSC5s69fA49md1Czr223ACVYp7NveKwUAKz+cy91I7Y+m9VzL2260CbObLLvcbJ6nCtEMu9XHALS2Vxyr2QOs0a9tTJvb7pV3XuO8m9Zlx3xdWmyL3EqQbkKhbIvSSckahiise98B75k+cDx72wNE55GIPGveJf/ElICMa9qIpW0r2Txb3EZmH5siXFvRhaRstUvsS9QAzaIMRdxL1gxXXIFQTEvexNP/VSscO99PsAB3plw72cJ/tffyDDvbgj62hO4sK96FuNmcqqwr2wFpDN0HnCvTDkHXo4T8K9LjQStNQqwr2ISZjOdQzCvQyns4Dq88G9XH0EZgHhwb321bseitPBvR53jg1Xy8G98D01Yz7Iwb2slwOAG8rBvU6O6eXP0MG9uhqajETcwb1UfDHvauzBvbD+t889AcK9ah89y8Eawr22rUk6BjnCvZDJx64kXMK9+B6laUGEwr3Oj8k/i7HCvepWibk65MK9Ko/UR5Ecw72ogMgx2FrDvchTFlNfn8O9zhjjKXvqw70+gZsxgzzEvZiVO8TPlcS9yLKad7f2xL3Qu7/pjF/FvVK9mluc0MW9eP5DKylKxr0CiXpwa8zGvRwY/bONV8e9NoCPx6rrx73wK6yHy4jIvY7EYMLkLsm9zvjIbtbdyb38x2c4apXKvaZEzthSVcu9wl7z5ysdzL1ys2PIeezMvdgBYzWqws29jsmxPBWfzr0QkOWn/oDPvcSp3ufLM9C9wlFI3QCp0L3CBGzNpx/RvcCKm9xEl9G94vPtEVgP0r2sC10eX4fSvQvdcbrW/tK9IyOKZjx1071YF6ENEOrTvUmuKVDVXNS9jHgx9RTN1L3jQ4MNXjrVvSiuQvxGpNW9QY6GPW4K1r3CL1z1emzWvcqW00Idyta9oYA+IA4j173lihtWD3fXvV5//Avrxde91MLIBHMP2L0MDzEBgFPYvZiLrI/wkdi9qXk5BqjK2L2ARvSSjf3YvebunceKKtm94pbXpopR2b3B/piOeHLZvYoYYkU/jdm9WIVZMcih2b0XZmDW+q/ZvX9ojXa8t9m9mGRQBPC42b2Ncts0drPZvUR8Io8tp9m9m4vZCvOT2b2Cn1flonnZvXknSG8ZWNm9DSdZKDQv2b3VvQ7e0v7YvVn4uPTYxti9+Z8jkS6H2L1M9NXKwT/YvWzDThCI8Ne9dIGRU3+Z173an1vlrjrXvQJyDpso1Na9VGKlrAlm1r2SyhQpe/DVvfjWAJKyc9W9hhwEXPLv1L2C0NzUiWXUvWYiBgrV1NO9hOoFzDw+070hIvglNqLSvSgUQthBAdK9bK6Nf+tb0b3cXxW+yLLQvXzjVwR4BtC9PEogpj6vzr3tgdG/1U3NvbVkMxYX6su9icTVfGqFyr2BfQQuOiHJvYFev2nvvse9Qpw9p+5fxr0YJSPckwXFvb97X98uscO9vpA53v9jwr23QaD0Mx/BvdYp5h/Ex7+9DqGJzw9mvb0cXQUGp6muPQBDsmZ1MrA9/Gh7CtYNsT3Mnvbo8eWxPXIMsbjkubI9zP5Hu++Isz3e4Ksxf1K0PVRaic0tFrU9mAj/IMfTtT14o5wzSIu2PRQJ1LfePLc9fHeVMubotz1gydRt44+4PVwwz9Z9Mrk9FK+uGHjRuT1UQsvnpm26PeAcvqfmB7s9jLS+6BChuz1gzkfK8Tm8PeDrZk4807w9OOYg7oBtvT1ozcoJJAm+PbDCHudVpr49wOjPkAxFvz10T8VV/+S/PSwvgHjSQsA9bLffDxqTwD2w8yAj0+LAPfwO/kteMcE9egQIpwN+wT3EK4G398fBPax2lB9hDsI9FvJAo15Qwj1mzQk3Do3CPRTO3+iTw8I9Xl4g1CDzwj18CXjx+RrDPWZqpfZ9OsM9yvAOhCpRwz3m7LOuoF7DPWwZpFmoYsM91KvsgDFdwz2Awx7jVE7DPZZ91gNTNsM9TlqQVpEVwz3cKUXrluzCPQ6ury8HvMI9modqEZyEwj3YspbxHkfCPTrd5HphBMI9buJI7zW9wT1sj6WaZ3LBPbJFb+GzJME98mBRJsPUwD14yNI2I4PAPfhaS7VCMMA9PCuPydq4vz10TRYKlQ+/PXCby0a4ZL49zJX7NwC4vT2QX6C25Qi9PfgiGh+mVrw93PmAg06guz0MtInQx+S6PSi7CVzlIro9xEQNAHRZuT28YtX5Soe4PTjAR2pbq7c9tOl8eb/Etj10Kto8ydK1PQSEt5kO1bQ9rDOWYHPLsz1MMBb/MLayPWSXD2DalbE99FFtkF1rsD0w45nHAXCuPZh9ASq8+qs9+IOJ3rF6qT3obqyNJ/SmPUi2vMDCa6Q9iJuz5mfmoT0AREi/LtKePTB0qWyP8Zk9sKYkNXw0lT1AwrJh0qOQPWBOE/rzjog9YDyK4UZMgD1A/bjgPhRxPQBW9dGR/EQ9AFT/6Kh7Zb3AI41GigN3vYCIRBw0HIG9IEwNPTA1hr0Akg7QBteKvaALvM8KD4+98IwK1pN2kb1AFozisEGTvVBeSkmh8pS98NAQKJ2Tlr2g2vl+/C6YvdBV7Xnjzpm9ABvkLPV8m73QTcu/BEKdvTByK37RJZ+9EKj4B2iXoL0I+AP0/LChvaAXCaZV4aK9QMcjD0oppL1oTWs72oilvQjGggIy/6a9uJAWR7eKqL2ADqBMGymqvUBRQBty16u9kLgGXk6Srb1gUbN94lWvvVRzK64Pj7C9qEr0E2xzsb2M4HV58VWyvZir3e2bNLO90DEKaocNtL0QrtRX/N60vXy67BB6p7W9DLfY7L5ltr1QEkLhzBi3vQxDs0Tsv7e9GCNr26tauL18ILTJ3ei4vcS8H46Sarm9qIFp5xLgub0UKGnS1km6vehWwDB8qLq9xJEL4rz8ur1AwbEzZEe7vTBg6hJFibu92OtRnC/Du73Uj4rH6fW7vWjHP7wnIry90AwdY4ZIvL1ogQ4ah2m8vZJNxCqOhby96PpVJeGcvL1CvLSBqK+8vVQbKXDyvby9knmtb7fHvL36BsqZ3sy8vdyOaNRDzby9WkgKkL3IvL0869jRIr+8vbKCytFRsLy9CBf5tDWcvL0mvLJjy4K8vZpG1UslZLy9QsE9LG5AvL3mPIag6he8vRjssKf56ru9GAJ5dhS6u73qLRkmzIW7vUIclGjGTru9nM6wRboVu70+cT+oa9u6vbr4MP2loLq9WsE67TZmur2MNj2x6Cy6vRDWV6989bm9pqnSgqbAub3uAcHnBo+5vZiYkEQoYbm9BiBpJXo3ub3GadZnThK5vY42Eb3W8bi9Cu4xCyTWuL0MtYQIJb+4vdiCqKKmrLi9xvfx3lSeuL2MKX6pu5O4vabBNwdJjLi99lrexE+HuL1SuauJCoS4vYDNKwSfgbi9SFgTUyJ/uL1WHCrUnHu4veqYWpMOdri9lrVoDnRtuL3aFQxZymC4vQwblncUT7i9OKoifGA3uL2UjiVvyxi4vVTAs5GG8re9TDKZMtvDt71y87g1L4y3vczWav0HS7e9sIzp+w0At71kRH7uDqu2vUQRr6z/S7a9fPuLhv3itb2QtJW8TnC1vdpWHd9h9LS9FGtV6MxvtL1qkCl9S+OzvWrFyr+7T7O9Mryqlhu2sr1c/vzUgxeyvTho7iQkdbG98Ejamj3QsL3WSGqHHSqwvTQjWh8vCK+9OFyYWf++rb0QMVGlSHusvdS6HMeRP6u9ALmeCD8Oqr006u3zh+movYBc1/Fs06e93FAgFq/Npr3M07kzyNmlvTBqy6rl+KS9VGop1OMrpL0MdpcUS3OjvSCq+qhOz6K9iMWC+sw/or1wVT8sUsShvcQup5McXKG9tBxTvCIGob2AZG8xGsGgvXTD14aAi6C98PWJW6RjoL20ULNkr0egveTVM9OyNaC9GE2lKbIroL1kwoWmryegvfT9BgG3J6C9xMiK2ugpoL3gSp01hSygvTCnuWD0LaC9pPMA/84soL04/yYn5SegvaAHw0BFHqC9GIFDUj8PoL0ojnhPzfSfvTA3uPEmv5+9YAzb/MF9n71w+K8NWDGfvdDiSbsf2569kKLGc798nr3o427CQBievfixvXcEsJ29iHBj1rFGnb0Q8yCbIt+cvfDCd7FRfJy9EKhNREkhnL1QljtWENGbvVC0vrqVjpu9sDY/JKBcm72QfeCfvT2bvVCxmx80NJu9SNUDlvVBm70ozf1AmGibvUCaZBBMqZu9GNyFB9YEnL2olr2ZjnucvVj/rn5hDZ29AFPFC9C5nb0AhWQq+H+evRjXXN2cXp+93LblLBgqoL0QkMKwcK+gvWwTwkpSPqG9wE6Wx6HVob3YwUGKNXSivUDfvlzbGKO9JCK5JV/Co72cudj/kG+kvSzB+51JH6W9cGvYqG3Qpb00SUjK74GmvUwD/pvSMqe90PbQVSjip70kItCDEo+ovZSPLz6/OKm9LBTEjmbeqb24dSBNR3+qvWAKWEiiGqu9hKmG+bivq730FTzDxj2svZBQz8n+w6y9YFoAl4lBrb0YFDLVgrWtvajA44j4Hq69IHWUyux8rr3UE5gUV86uvXyQ0e4mEq+91COgP0lHr728Iq8TrWyvvdSbqfpKga+9gO4TcSyEr70gNzIoc3SvvUjBRgZiUa+9LC6vf2Qar73YVuSoFM+uvaxdyrlCb669jJe0u/n6rb20EcINg3KtvTxnHgJq1qy9uJiU93onrL3ET1R7wWarvTCs7QuFlaq9SERVGUS1qb2o7saRrceovdwv5FyYzqe9IP61rPrLpr2o0AvP38GlvZA9NdNesqS9yORAypCfo728gbo1houiveBLsKE9eKG9tPoL35xnoL2Yiisc1baevfiTi3yRqpy98AbT4l+tmr1Aqatn28GYvcj1IUlI6pa9aKU515Uolb0ofYLyY36TvUhpKhkH7ZG9YP2OSJF1kL3gboTOtzGOvQCUW8ger4u9cIsEFlxkib0QIaVFOFKHvYD9H8RVeYW9sPIB/zzag71w/4VcZXWCvXBj7149S4G9IANwvTJcgL0AGfstXVF/vSAdiwkoYn69wEZjIIHrfb1AuhzYAu59vUAroo4ban69gLCU6/hff73AoI12u2eAvXD/8EMHXIG9EPQ+jGOMgr1gjfJDDfiDvUBR0CT6nYW9MJ5IhNF8h72gnWZs55KJveC9TC0+3ou98N1tioJcjr1oXPEMh4WQvbhgttl085G9sHHFBWd2k72AdHgukQyVvchguMcBtJa9MOFIHaRqmL2A55S2Py6avWCiEl19/Ju9mH391OXSnb04UFgL5a6fveDH6UbnxqC9yJLrc3C2ob1cWh9bpaSivZC64JQWkKO9nBsMjVB3pL1YOjvw31ilvaC0AQFUM6a9mGQYmUQFp70kH1iKVc2nvXQZUF47iqi9CHg81MA6qb2oMCIczN2pvTwSiJ9icqq9sNMbh633qr20Lm74/myrvQzRapnU0au9xJS4YtslrL081Zcl8misvQy9DKIpm6y9PAm/CMW8rL24WurIOM6svXR/oA0p0Ky9aARIzWbDrL1cinFV7KisvWg48k3Zgay9YBNFHWxPrL0cn9Yl/hKsvVSmAUX8zau99Omc+9+Bq70wME9NKjCrvVDyTxdd2qq9uIRS+fKBqr0YwE+0WiiqvaR28Xnyzqm9rHIvof92qb0cUOstqiGpvSy1ypL4z6i9mNfadMuCqL3I6Psp2Tqovfi/7QGs+Ke9gBlObZ68p70ku2SQ2IanvYDAdGlPV6e9ZPXPk8Qtp71sXkTcxQmnvWyHvcev6qa9TAfwN7DPpr00UCiKybemvSB3UsrXoaa9pCSsaJaMpr3gQJ5Vp3amvXx6hBWdXqa93J3lsAJDpr1EFlp5ZiKmvdz8325k+6W9rGhZxa/Mpb14qBoNH5WlvfBOftC2U6W9VAnpLrIHpb2UYeMzjLCkvfAnaNYGTqS9WMMc4S7go73MkoyqX2ejvVSPMcZD5KK96Cuz89NXor10VVvdUsOhvfDkMURHKKG9BAIGnXOIoL2gzi1/l8ufvRgpp8zRhJ69eOMhn/lAnb0YUOfhhgScvUBCI7rm05q9UChckWGzmb0YEM8Y/qaYvVhV4xBospe9oHKazdfYlr2wcyT2/xyWvWAMzkL9gJW9qOb8uEwGlb2ATCSHxq2UvRh0e3Wbd5S9yOwmplpjlL2ooeKi+2+UvSDsp+Xrm5S9+Nm6rSHllL2Aeo8bMkmVvaAAdQFrxZW9EHT/rOpWlr0YM7VyuvqWvdi7dsHorZe9EHC3RKRtmL04WYONUjeZvdj3LKSkCJq9wGoSm6ffmr0428J90bqbvSjurgcImZy9yIBYnaJ5nb3Y+nQwaVyevdBpU/GLQZ+9KGZA4MwUoL1Ehpb/toqgvXSDu1IOA6G9ZCsdhm5+ob2wnh6Kef2hvUzrnN7KgKK9OE7Wz+kIo72MmqkdPpajvbQ+d8EFKaS96BkMe0vBpL30WG443l6lvUitMb5NAaa9SKotCeanpr2km7E8r1GnvUCiTahv/ae9qHqZAq6pqL0A4YCGulSpvXx0jQi4/Km9HLYX1KSfqr0ITb1bZzurvfzRbqDZzau9yJ3omNZUrL3c9JRpR86svRRuB8kwOK29bD0ter6Qrb2ckwx5TdatvcgRNPN1B6692NV3WRMjrr1kKlNYSSiuvVAK/Q+JFq69aDnYm5Ptrb3ksjiQeq2tvShdkoCfVq29aD1mv7HprL1MfgdTrGesvbgvE8vQ0au96AcA/aMpq70wORMr6XCqvRA/lnSdqam9oAeSBfLVqL30ux3yR/invYgvVSgrE6e9cFLhmk0ppr2UVLwGhD2lvYDwvn+/UqS9VOA2eAhso71I1s7eeYyivZClEfk3t6G9OFW+VmrvoL1wOk6TMjigvaiKMKxDKZ+9GA4xyVkPnr0ANXrEPyidvajUZi8heZy9OBESxp4GnL0Y4DV3r9SbvWhrNrGA5pu9GJ63nVo+nL1wrWZ+g92cvWhAEqMmxJ29ON5s00Dxnr1kXIP2RzGgvaDKDhJFCqG9qIpfXS8Bor28HGIy/RKjvZAr/E0LPKS9JMi0iyh4pb2Q2DPNpcKmvSQM52xoFqi9DBzmqgFuqb2IeLJXx8OqvWTjytjxEay9dKP8x7hSrb1M2HjPcICuvdS5TmCqla+9pE6AJqdGsL1AUIrSXLGwvfQcQhjrCLG9yvdbXZhLsb2gsp57BXixvXIyaLI0jbG99DgSvo2Ksb20C+Vc4G+xvTZdpv9jPbG9ugNKU7XzsL3ICzSR0ZOwvchfjskPH7C9QM8+NC8ur70QRHcrrvutvRRhuQTvqqy93Kj9cKFAq71sEYeLucGpvYT1Ad1SM6i95N7vIZeapr1Ebk44o/ykvSy0YWpvXqO9yLsQ8bfEob1o+lIL6TOgvRBRwYAWYJ29iLWCumt5mr1Yhqp/A7qXvVDYL3wAJ5W9GDrgv2jEkr3YxPepIZWQveByvO3jNY29MBsQMg2tib1gBGrKAY+GvfBeJf8P2YO9kEoWjrqGgb0gwPYT3yN/vcCRv/9+5nu9QHWe8zdEeb3A6FDJMCp3vWCrqZxphHW9gIsbYUE+dL3AsPho90JzvcBZjMUzfnK9ANR/pYPccb1AH1Ikx0txvcAtZHiju3C9QLuT0dAdcL1AilZa3MxuvcDoDI1yGG29wKNPj3IRa71A1stvvLBovQC9dDID9WW9AJwwAbriYr0AmFDEwgdfvYAXHUJ+z1e9gAHoxO9EUL0APcqkKTJBvQDQaWAmSBC9AGYpx5zoOD0AOeLk275JPYDTVPCipFI9AG8yM0RBVz0A7YvJa2xaPQDwc3Vs3ls9AIYlOztSWz2ASAyW54ZYPQCZmtm9QFM9AFhMqK2URj0A4Lkjv1/9PACrdsbFx0q9AJ9pQh1fXr3APFrcHUhpvQBhXahugHK9QN+OexYteb2QY4vs41OAvYA0IvDudYS94JokiTL5iL0QI21uGdmNvVj+KUIAiJG9mHFiOaRLlL0wPkGktDOXvRBVnfYFPJq9KJPjChFgnb04zzh+fk2gvfw0RyjW86G9KAFXSmSgo72UoFj6ZlClvZhpor4NAae9cLcdY32vqL24825z1ViqvWhMdxA5+qu96HVHH9SQrb0EUH464hmvvfqkv15bSbC9jtHbM2H8sL0+qYKkzaSxvYx63q+CQbK9wsOFKn3Rsr1OYWn22FOzveZecQrVx7O9wgw5KNgstL3AMz8qc4K0vWooaqBkyLS9FKKWnpv+tL0EK1lfOSW1vfQz0m+SPLW9cMhj5C1Ftb3YPr7Kwz+1vV5LRc46LbW9rI25AKQOtb1oPRuPNeW0vaJC5qdDsrS9AAJwBjl3tL2chqYojjW0vWQLe8i/7rO9ArOAi0Sks71QsPfHglezvdL1qw7GCbO99PZevzW8sr2Ew1mDzG+yvWLePGdQJbK9NJA0pEzdsb0qMe6zDZixvZzyFMyeVbG9aoFuSskVsb1i3t7DF9iwvZi9JuDZm7C9wKNEiCtgsL0WfNw8/SOwvQDy6lY+zK+9DGgAVZhKr73Iy7xHb8CuvUwsTRI2K669NBgzaoeIrb38hdAuQdasvcRffyWeEqy9OJ5yU0w8q7083QXbflKqvTzrCY8AVam9RLgzzzpEqL0ASJnUOiGnvTi8I7+w7aW9kBKI9OerpL3EEFUhu16jvajXFI2BCaK9uEGRgvivoL0Y5sEtUKyevbDQZQWLAJy9OOVhWChlmb0Q5KvjiuKWveimdSOtgJS9YGtnqORGkr249wcxqTuQvaD/WpPHyIy9MNIO3ZGKib3whsipdMKGvfB/IE1pc4S9EGqOqZWdgr1gX1H7Wj6BvQCvJaVzUIC9QAnJLmqYf71gEJAow09/vQD1fKYEsH+9oFxMvdNPgL3ASd+ytgGBvdDZHIup34G9UDdkkLvbgr1wVP8dfuiDveD3Hatl+YS94HvYvCMDhr0QlQey6PuGvUCJdk+j24e9gKISnhyciL3gMnCqBzmJvRCRG74BsIm9EDgo2HYAir3wd3ZUgiuKvZBzJ0y8M4q9oEqb7QUdir1AiqlSROyJvZDa2UQip4m9II9mtNNTib0w2Hut2PiIvdA3qfTGnIi9kHglCRpGiL1gluXGD/uHvbDAeX+TwYe9kMD/7SSfh70AiM+H1ZiHvRBypc1Bs4e9wMPcl5Xyh73wcumBj1qIvXD/R6+P7oi90Dh8y5axib0QWgmMS6aKvUCn4Gb+zou9EIiGJJstjb1gmfvJmcOOvRC31/T3SJC9gHwMTXpMkb0IeZfWH2ySvSCpqx9Gp5O9ePPH8sn8lL2Q9DNl9mqWvZgGMmp075e9QJGMxEKHmb1QsncarC6bvaggjzRK4Zy90A2PTgeanr1wJkD5lCmgvbzd/BQ0A6G9RM5OvYDWob2YwLJh8J+ivfQD4UPgW6O9kKwcWKsGpL1QPS2JwZykvZzG3dq/GqW9AEL4AYp9pb2w7SJdYsKlvdRe+wsB56W9qMqoPqjppb3QdvJTNsmlvYA2t000haW9cK3PIOEdpb3c17ngOJSkvbjDPTP16aO9sPful4sho72AnyIEJj6ivRgeAjGWQ6G9CCDB3EY2oL2IoR45UTaevSBdVxQy75u9oI9qSpOimb3o3HbrR1yXvUAe4FFUKJW9SDf7VbQSk70wqMrXHSeRvUA3Q/iA4Y698CQ6lBb0i72wJVFk5piJvTAxKMJ/4Ie90MtkYbfYhr0Ab2fkV4yGvdBoYe/kAoe9MMojomhAiL2wA4BxS0WKvYBh9AFRDo29EIFUWExKkL3g/CtX3WaSvWDpRiv91ZS94F+gQkOPl72Qe+Os5oiavQiaDYfvt529BLn7IzmIoL34jwmz50KivRTqZ9d8BaS9RGsmQF/Jpb2UiSbnB4invZzDifQlO6m9hHhrksLcqr241UDwYGesvSjAeI4e1q29qANhjswkr72cXrDyAiiwvdB3sTCgqrC94AxZEGsZsb3U9pF8BXSxvaQrLF6FurG9oIdRxnHtsb3Ym38evA2yvYKiUxu3HLK92Kz1Zgscsr0QJ4kSqg2yvbR7A8a987G9TvdyCpvQsb2ayo1GsKaxvaqDXIV1eLG95q+76lxIsb1KoDKrwxixvVwdCJvk67C9fLjyDc3DsL2oIFhzU6KwvcB4coUPibC9UEPkT1V5sL1GdwuWMnSwvToGPCRuerC9gKYLCoqMsL2iJGmRxqqwvXx6b30n1bC9ZJJk6noLsb3AiIV8X02xvX4eQGhMmrG96uctHZnxsb1kpEN0hFKyvURRLI08vLK9MgxdFOUts70GoWIpnKazvWzZr9N+JbS9KtrC6auptL00C3GFRTK1vSATrFZyvrW96J8hVlxNtr0CxtwBMN62vZCQ9TQacLe93HcP80QCuL2IboAB1ZO4vSrW4LzmI7m9Hpyn4Yuxub1SnxtKyTu6vfa/PqCVwbq9nMgjethBu73UF7FWa7u7vZL9nSEbLby9dhyomqqVvL3srpb81fO8veBKaA1YRr291Fxr2u+Lvb3uO/NTZ8O9vcgrOWia6729Wqymfn4Dvr3Ssb8rKgq+vaZOo0bc/r29rrpptgPhvb2wDWHVRbC9vXwUsJmDbL29bHaHVd4Vvb3oL9QWu6y8vQyTG3PDMby9sm0RlOalu72iKoBPVwq7vZ5UqfCIYLq9IASMWyqqub38fZF5H+m4vQYp+Z55H7i9FiOGu21Pt71eoUIoSnu2vSpBbBFspbW9br3UITTQtL1+fC/Z+v2zvcZkbcsEMbO9vMJ6znZrsr3KptllTK+xvSoQWGhO/rC9vBG7HwpasL1kHHATloevvQho8Zgqea69eDw1T0WKrb3w1ckdwbusvbhVXNrgDay9uIPYF1OAq72MKiqtORKrvXg3bMAzwqq9cOiNlGuOqr0ADE9LpnSqvZx1ISxUcqq9/E18MKWEqr3c3vxanKiqvdT6EgYk26q9ADj6kSIZq70ggjs/jl+rvRg8/IZ+q6u9tPM4wj36q70sSVymV0msvSTDjMOllqy9yPuLmVrgrL0gETfKByWtvZj6GJajY629yCC2o4qbrb0k0misfsytvZB1XCGk9q29KDtbCHwarr3k5SgI3TiuvZDaRNjpUq69ME61gwZqrr3E0QiPzH+uvSif+kT/la69IEHVMn+urr10GoSwPMuuvSA4CSYt7q69ZOEN0j4Zr73Ae6QnTU6vvZgaSEIYj6+9qG4hwzvdr72w3lZmFB2wvSITZwqQU7C9ON3PL5aSsL0ca5Saj9qwvYzhWG/HK7G9RJ85jWqGsb0s6s7Vh+qxvYT2xp0QWLK96pw3rtnOsr34OkxWnE6zvbJKMXX41rO9WC8jRXZntL2iCKmHiP+0vQai2hCPnrW95k0aq9lDtr1iMANvqu62vTwifPA4nre9XOnKErVRuL1gjrwHSgi5vQKzMkwhwbm9WCXkMmV7ur0cvJX2Qza7vSR/z9nx8Lu94M37k6uqvL1AV+souGK9vRrnSIdqGL69to2W9CLLvr1wN3D4T3q/vXObAYK3EsC9xc2HTQZmwL3kwsIl4rbAvSvT+0ogBcG9aRvIOp1Qwb0zEQiDPJnBvazUYg/o3sG9Em+svI8hwr1wd1wWKWHCvepQOU2uncK9vR5P7h3Xwr20lGMreg3DvXoKYwjIQMO9SULqAQ9xw71dtxTUV57DvQE4OPqryMO9TYBCqBTww70SJXXSmRTEvWk3gg9BNsS9aIDvMQxVxL0D52RY+HDEva7AH9P8icS92BdHzgmgxL05bzNYB7PEvTWsiCXUwsS9XVIJyETPxL19DLLsItjEvf5wW1At3cS9bOt8qhfexL1AuZb1itrEvQDE+HEm0sS9MgDDAIHExL2Zv2LXKrHEvR2LicSvl8S91e7vsJl3xL1sr+brc1DEvbI9ekXOIcS9pituakDrw73pIiaAbazDvfSR1soHZcO9IuBqGtQUw70jhg3grLvCvaV0pvOEWcK9L3UIlWnuwb3PWhxrhHrBvZoG0Goc/sC9KC7bKJZ5wL1KBv995tq/vWgEFmCitL694jDm7c6Bvb1erCr1CUS8vQQ41LkZ/bq9C4iqiOWuub1ek3NWbVu4vVoWjy3BBLe9BBizm/estb2hF+knJVa0vRyxogGjSaI9/OUGG1UHoz3QH0g15bijPeRqZkBvXaQ9TJR292/0pD10czo6z32lPQAzZyfp+aU9/PFCGJNppj0M4639HM6mPUwKKjhPKac9CK1ix2V9pz0Yde9vBs2nPQQvmYEzG6g96NMpcDprqD087g7LnsCoPQCpxVsDH6k9+JYnEhGKqT3Q5gf2WgWqPcRT5RhClKo9TMRhOtk5qz2MQYNkyvirPdxX3uM906w9TOY2S8TKrT1M3VLJQuCuPappvYfyCbA9GBGohYmysD14yrpVNmmxPfzAxRHlLLI96NFREiH8sj1e0ombGtWzPXCW8FOvtbQ9AlacznSbtT3cjH3sxIO2PRyxfsrLa7c9BCx7ApdQuD1C8/lLJS+5PWh7dTF3BLo9Hpk4sZ3Nuj16scl7yYe7PZA1zKBYMLw9yLt8b+LEvD0qaYmdQUO9Pc7tvCGcqb099g1hcWn2vT2iAwOqdSi+PQxWbK7iPr49uq/FmCc5vj1AIPfPDRe+PaKz1K+s2L09oM4v8mN+vT0CG4DV1Ai9PezLEW7aeLw9DNewHYLPuz12WH4gBA67PUY/n5K7Nbo9EHtL4B9IuT3QqmDivka4Pc5qW6U3M7c9BGkKQjYPtj1CRTMhcdy0PUKQIOymnLM9Klljy51Rsj1gw07iI/2wPVA6v80eQq89PDA7a4B+rD0MMEshQrOpPYQ6I4BS5KY9zAyR3rsVpD0gtnXRpEuhPXCIpD+gFJ09wDB6qzaslz0oMT+P8maSPXDnnDKtm4o9cOlnSd/TgD0Ajtdx0SFuPQDNIT1/T0O9AC9EJ+emcr1Qs726AsOAvRDqK+n6dIe9MAzkel1cjb3YPOfkHTeRvXh44cAIUZO9kAmVUA/5lL1AlNig2i2WvVj7NGy+75a9iC5wBdNAl72YXfZsBiWXvbgTIfwgopa9mLmLpb2/lb3I3BWNN4eUvSCJ54uHA5O9qHSBKBZBkb0wPQjMAZuOvWASVCGqboq9cKAgU3wbhr2Q9cL1X8CBvYAo5zIx+Hq9oFi0cBHZcr2AUJ281LdmvQD9hxqP0lK9APCjGTzZLT0AQqmnD55VPYB+ebdfLWE9AKAho1nMZD2ANSOFFZJlPYCDoUSld2M9gMRh4J4RXT0AM5l1qI1LPQDmyTkRTzq9AEZfYqeCX70AcaXuIDhuvSCroiBqLHe9AFapgBDjf71AuexfY4eEvUCo4vedPom9gFfgHTf+jb341K5BBVeRvaidXr+2m5O9uPL259vClb0oxKjdYMOXvSj3c56glZm9IHtSRYQzm70INPd6l5icvegLf0UPwp292BbZrb+unr0YDth1Cl+fvZABRCPB1J+9sOlRdX4JoL3UTvJc+A6gvajBvD23+p+92ObvoRyvn724HlrCaEGfvWCCTd4nuJ69gFxFLvsZnr1INwv+aG2dvUDLV02zuJy9qPK+67QBnL2QNjtRxk2bvXCcv8yloZq9MGvQVm0Bmr1o+ENsiHCZvYCP9qKy8Zi9AKRkv/uGmL0YQ7fx0DGYvdjrdRAK85e9sKV2b/jKl72IyJazd7mXvdBs5YwCvpe9MNH91cTXl73gjyvGsAWYvYCoMK2QRpi9WAEtwxeZmL2APVr/8vuYvVDiVsvTbZm9gPdI5Hztmb1owuXxynmavRArI8K7EZu9wGcGJXS0m73woosPQ2GcvaAwG8eiF5290EegOTjXnb1ogvh60Z+evUCO0VlhcZ+9nGASYP0loL2oQhZg5pegvVzqipSMDqG9uEzM7haKob3EOhMorAqivfjS7eZukKK9PASNmHgbo73oP6/R0qujvZic7ZFxQaS9xFPENy3cpL1Q23n+vHulvUzPnV2xH6a9HBvPjG/Hpr34+f13LXKnvbRLMQ/wHqi9dEx2b4nMqL00WjoAmXmpveBjnq2OJKq9rA/8tK3Lqr2IXUqxEm2rvSB40Vu7Bqy9AHt4+4+WrL0cPClobRqtvdCBSuYykK29CFS4qM31rb24RGAgR0muvSTaCEjTiK69AOvtnt2yrr0MsCW+FcauvbDY9mV7wa690LomBGekrr04O+4vk26uvew5Mw8hIK69YDwZ7pu5rb2AGame+DutvXQY3fyTqKy9QGum+CsBrL0sf6wA2kervVBi+e8Gf6q9eH8xkV6pqb1I7d0iwMmovQhKdwov46e9kH7HxML4pr2QvHJnlA2mvQiJQgetJKW9NOTwlPNApL3oIsnlHGWjvZSs2Meak6K9cAAeL5DOob3sbk5uxBehvYijzF6ZcKC9AP3/9Qi0n72Yl+xoFamevYD+IsZ6wJ29EOnW/3f5nL3QrzzrcVKcvWhqFfT/yJu9mKSeb/9Zm72g7wmfqAGbvRAWzRypu5q9KMjLFkSDmr1AQit7clOavcBSOjkEJ5q92ESMzsT4mb0Q5QqrnMOZvUh35gi0gpm9yJViyJIxmb1AcK/TOsyYvVgTAAxBT5i9GD1WtuS3l73oNYWJHQSXvYAdmt6lMpa9IAP5hwBDlb3IjKqCeDWUvTgjHFgaC5O9QM58JqvFkb14DdixmGeQvUCUspXQ5429QB7ULzzcir0QOVeBSLSHvQBOYflgeIS9sGzq8E8xgb0g+EptC9B7vQA9YxbISnW9gDDklAPIbb2AW0x//1dhvQBeJn48jkW9AMfGOFrpRz1A8faVNqpgPQAMixuVmGo9QB8VeATbcT0g3IxGp/t1PcCxhhObqnk9YOCsqUPmfD0gbJR21q5/PQDDoUAXA4E9ANX+s8f3gT1Aj1ilq7eCPRBRvqFkRYM9EIOUrtqjgz2As/FMGtaDPaCUHu0s34M9EFqjVvzBgz3A9YGvM4GDPWDxLr8oH4M9EHSp4cudgj0QDXEinP6BPWB47J6jQoE9cHqh7X1qgD1AOQB6uOx+PUBtH8wzzHw9IMSsHqtyej0gy2DRGt93PQC86EKAEHU9gKcDNRgGcj0AzTNwVn9tPQBiUxKme2Y9gC4ozf8IXj0A0a5CyX9MPQAAatZRjiK9AOZbbPySU72APjbQsrFivYCafN2tzWu9QKFeeuyCcr3gQi7enR93vUBubjDPrXu9sHtpMoYOgL2AzCxL5i2CveBUHBPmK4S98Oa/JTP/hb3Ap9RrhZ6HvYA/5RnSAIm9oPBA1Yodir2wkzDS0uyKvTB1qGe5Z4u9cKTummeIi71QBYWoTEqLvTD3bzBDqoq9ENkNxqumib2QbtFAez+IvVAFuEBGdoa98F+69jZOhL3AaMhX/suBvWASkoB66329IOXrrsOld71AQ4Ci9ddwvUBZOcwQKmO9AOaXnDgWP72AMvLyc/ZXPQDpZ7UjRGw9ANLPOwdmdj2g0Pfh77N+PeD5WWZ/e4M9kMZc68KNhz3w7GE0oYeLPRAiaM7PYI89UH7nAfmIkT0oREeDU0qTPYhJsUDH8ZQ9cLgvxiR9lj2IJs+Vt+qXPYj7yPA/OZk9wFgMI+lnmj3Q/3IePXabPbhV9WAbZJw9QPhErKwxnT1Y6gqBVd+dPeAn/XasbZ49yF3FWHDdnj2IeMVFfi+fPZDllSXPZJ89QAPmKXR+nz2wXKCekn2fPfhyw1hmY589cPtSxkAxnz2QQcIpjuiePQg6WVDYip49OIn8qsgZnj0QMiecLZedPeDRCX39BJ09WEd00lZlnD0wpf3fgrqbPYjt9EX1Bps9SPe75UZNmj3I+1ZkMZCZPVhqzTeH0pg9UHgMQCoXmD3okAKcAmGXPVDDr+jxspY9EAUWSsIPlj1o4+AVGnqVPagbx+5s9JQ9WPXaT+qAlD2wwURNcSGUPeDIvfd/15M9SGvnLiOkkz2wDkrK7YeTPaAMF1rtgpM9iAUilKOUkz14B0/bALyTPdAxNUlg95M9MAeloYtElD1YAbu/vKCUPaB4AI6mCJU9QEBkQIF4lT0gsOuMGeyVPYj/H+biXpY9GGPfQBDMlj2QhMGKqy6XPThUGBmugZc9iJV/niPAlz2gTBdCSOWXPUgCvC6n7Jc9+J8GJTnSlz1AI0bbgpKXPVCRlVKxKpc9YA4uhrOYlj0QKZm1TtuVPbg7OQgr8pQ9+Kymwdvdkz1YwrpP5J+SPYDmHPKyOpE98IixPCtjjz3w9Nv9VxGMPQB2rYmViYg9ENY8AbvWhD1QzkasjASBPSAL2Z7VPno94Fgb0v5ncj3A0BrTvDtlPQAqCGiYyEc9ANl4o1q8Ub2ALRwDVQpnvYCoOvP/NXK9IM330B9xeL2gx09A/Ch+vSDMfX+OqYG9AAtW1xL0g71g3Www3fGFvRBYUekmooe9gBDLpmgFib0gFJwGLh2KvXAkC8rb64q9UKmnLXp0i70AygK4eLqLvaDYb492wYu9sCAGaRKNi71wOjoWviCLvTAp7yyef4q9sMsHe3usib2AwEJtvqmIvRC5KmNweYe9IJg551kdhr1QEYddGpeEveA5fZFS6IK90JIRndYSgb3A3672uzF+veCiRd1u+nm9ACVq9O+Gdb2gReRUReBwvQA4sSsVI2i9AC80Fm6gXL0AbkoWypxBvQDypDYX0UU9AGQdhQI1Xj3A72RSk2BoPeDS6hGUjHA9gCCatc2KdD2Ahv13oBN4PaA++g1gEHs9wM4oobprfT3An4vQfhJ/PQABXn5L9H89EMmPShQCgD0A7N9UGTl/PQCLbouHjn09AI3vSZMEez3g4sjcPKB3PeBQmhZma3M9gAigS2LpbD1AmUfEVJ5hPQC2hfbKjkQ9AEsmrk2jUL3AhB+9c4dmvYDHtRm+n3K9gLaZFaocer2AVOKDBc2AvXBL+AoCfIS98FXuiBMMiL1wy1+gG2+LvTDO8vJumI69yLD7xI++kL0QZF/+GwqSveAlcMNyK5O9eIO5+UgglL24N5h6dOeUvfA7tP7ngJW9SKn5+aHtlb3wW7t3mi+WvaC+gtqiSZa9AKjsKUk/lr0QmvLmsBSWvYAhfq5qzpW9kG1xyElxlb0AxTRVPwKVvUCvMqcxhpS9EAZX1tgBlL3o6efEn3mTvVhQbHGJ8ZK9sOJHNhptkr0QM03vRu+RvQgoQQJtepG9wFTXhE0Qkb2A1YufDbKQvTBE8gA9YJC9cAHTlNwakL3g8lGC08KPvcCBkvPcZY+9cLEgUyIcj71w4P+ASeKOvVBl5TR0tI69cALT5l+Ojr1wj6jsf2uOvSB7Db8WR469AOWpNlQcjr0wJ5RiZOaNvZBlrPmLoI294Ay2JzFGjb1Q7LjQ7NKMvXBe52+eQoy9QPveDnWRi72gxFgTBryKvQAhgeBiv4m9QCAuMSmZiL3g/GPtlUeHvZBEQLugyYW98Od8Hw0fhL0Qvv1ohEiCvXC+fjCsR4C9IOyv5WY+fL3g8rk5vqV3vQDWAxAiz3K9wMuFQhmNa71A16MdNzRhvQDGxKQPz0q9AMgCpKCEPj2A2Sg8h2RcPQACtTWcSGg9YJXIctn0cD3AWnFTsHV1PYDOgkImknk94NaYAIk2fT1wQ6YyVCiAPaBkKBk3aIE94Pup/ypUgj3QXrwP8uaCPVB19jEIHYM9oLZV7L70gj2AdWFTWm6CPcCI8q0ZjIE9gBIwxjNSgD2g25afho19PeBYitlJ43k9QA5Ugo+4dT3AsI466SJxPUDnLtQvdGg9ADYG0+FdXD0AJr3kK1Y9PQDWpw+qi0u9wDSOZDxFYb0A7ds790hrvSD2wGbZXnK9gDeIRWO7dr1g1MAjEKZ6vaDW9dt0DX69cHdUE4JxgL3wS5g2l42BvXDdUP27VoK90MFEsDTKgr1ggotDt+aCvYCyg9VYrIK94IoMuWscgr3w87cNYTmBvQA73kKeBoC94DciNKYQfb2gLTGkpIZ5vaCiXITceXW94OTmbaj1cL3AXW09ugtovQCWmAeE2lq9AHbDRrxDMb0AgETD91NTPcBh94l38WU9AOOmGb5KcT2Aw2faz753PWAzC7fASH490ORHgi5ugj3gPACKr7aFPWCWWyi194g9YGjfNwgrjD0wVJnOaUqPPZj27unMJ5E9sDeg9TKakj0AyNvGXvmTPdBzz1NiQpU96CkYFHpylj0QLeYSHIeXPaD/c7QIfpg9AC/NJ1xVmT0Ixve1oQuaPWDoAtHmn5o92A06acgRmz1omzSAf2GbPRh6aKjoj5s9OLeoLomemz1QebkBkY+bPVC00ZHVZZs9KD9sPcYkmz1YjnJhXNCaPRCBxy0HbZo92GaxHpP/mT1APOyADo2ZPViKDe2pGpk9OPuZvZStmD04RPmx3EqYPaBg2mBK95c9KJaJt0C3lz04Fe/doI6XPXD0mvKugJc9mBSVlQCQlz2YnKyOab6XPQCYMnryDJg9OMl/rtV7mD3IGMoKgAqZPfAoHI6at5k9oHKbrxiBmj0wIToxSWSbPeCBUlTsXZw9UNm4AkxqnT2AtAVAWIWePah+fYjBqp89IJMe7QlroD28GlPvZwGhPfhb6xdAlqE99GqPnWcnoj1oGqZby7KiPViLQqR3NqM9fGbxWpywoz1ol4vykB+kPWx50+LVgaQ9vFp9EhbWpD2o7EC5JhulPWC8NAcIUKU9eGX3CuRzpT0obEHcDYalPcT4OSYDhqU9FA9NdWtzpT3wp/3BG06lPfzpCjYYFqU9ePCABJfLpD2MpsTOAm+kPZAed8j8AKQ9jA5xnl6Coz1wMKEePfSiPTSAUmPoV6I9gHZXcOmuoT0Y+Aw0/vqgPfxwMlQUPqA9mBC6X3/0nj2wb6nGY2OdPZAw2dpczZs9ANmxM/g2mj2gqEl6qaSYPehDmL2sGpc9eOXGyeeclT3ABv9czi6UPQjFhhpG05I9sIIxrY+MkT2wsj9XN1yQPXAduy0Qho49oPXj9hyCjD1AqEmuNquKPbA/Q0+g/og90I5OqmZ4hz2gCUNpmxOGPSCRZzqSyoQ9QMaBbTCXgz0QjOzVPXOCPSDoDyG4WIE9kLh56SFCgD3A9GSXpVV+PSCB3FF9Hnw9wH+F0k/aeT3AkIqaoId3PWDQBMQcKHU9YDVHpavAcj3gTE/PU1lwPQDjDBcK+ms9gLSwK29yZz0AYr9+4jpjPQBDpfy16l49APhBi9qKWD2ABRJsrp1TPQAQCZE5aFA9AEBQwsNTTj2AQV0b3hlQPYAc8pOgZFM9AFiUO88pWT1Ai2xvZ71gPcDVbg7RLGY9gH8Spy7cbD1AiP5ETV5yPaA4WLrK23Y9oDcdPtjXez3wXjXfXKCAPdC1mVgegYM90JwP5SuDhj2wL+r785qJPSCDqvesvIw9MNj6Frbcjz0oxC+J+neRPTiq8RQT9pI9mLfXZRNklD248Ql0Gr6VPRCPqn4LAZc9GEoo45wqmD0YnHc9XTmZPSgc8WWzLJo9IOZM3dEEmz1givtZp8KbPeBzmdDDZ5w9UJx1NDr2nD0447gvgXCdPShUjfxQ2Z090PL4ooAznj2o7k1x5YGePSD6xVkzx5492P52D+IFnz0QncEqF0CfPdi9ImOWd589IMjKSratnz1goDhvX+OfPfB8pCWFDKA9sAX2WmMnoD3UFsEZI0KgPXR4dyV1XKA9+Ppr7ul1oD200ack+42gPXSsXK8TpKA9MKy8f5a3oD2EQt2l5segPYwng7lq1KA9tBpr4ZDcoD38d9cl0N+gPcQQhtin3aA9zD3bfJ3VoD2k8STvOcegPRRYBG4EsqA9mGd/F3+VoD0wPtN/InGgPSj97SNZRKA9NI+fs3wOoD1oA9bFq52fPZjI1xU6CZ89aM5K7fldnj0Q/3nKMZqdPdAGIeEnvJw9aB8EajbCmz0ICd7W46qaPcieQIb8dJk9WGdWdq0fmD3A/oNqoaqWPYjGV/wYFpU9sKO9+gVjkz2QbaBbHpORPdA3p6rUUY898Lf7wZVPiz3ApdYA9SeHPWCcWqcQ5YI9gBNyOhMlfT3ALP29sXp0PUCHiHk/zmc9ABZJrcJATD2AiQwRLg9SvUDEin+UO2i9QHdbHsQnc72ALaCTEYV5vSBGYfpRG3+94NHe85bpgb1wijCUhcyDvdDrVuPULoW94ETC/lMLhr0wmWnEcF+GvaCkkBJZK4a9sAStZARyhb3ASubcMDmEvYBqwYtMiYK9wKc5k0dtgL3gOBLzuuR7vUB2LwKST3a9oIv4G9k8cL1AOMjI2KFjvQAWazNij0m9ACGz2vDISz0AX5IbKRJkPcASPYigV3A9gIM93g1Adj2gtJapD6B7PQCClTBCLIA9kOGXNQ4ngj0QRgQP9bSDPQD5dgrtzIQ9cHVJBI1ohT1ggqHuKISFPfAtLSPkHoU9sNJnt7Y6hD1wzvIhX9yCPfAklodEC4E9QAH5EY2ifT1gqMdDCXV4PYDU01snqnI9gG8vaKbCaD0Ao7/QBvJWPQA+tY1ACjK9wAmBszgjYL0A7kDb1ONtvcAZndkJnnW9wL5lakn0e72QDdXn0+qAvaBcEDNNk4O9IIApheHnhb2glToORt+HvSDQkyDTcom9cNkBprOeir0gP4vM+2GLvWCEREatvou9AFd5/aa5i70wPWzGg1qLvfCbmj9iq4q9YI2au5q4ib0gQdsIZ5CIveBpRL92Qoe9oNbIFH3fhb3waTNTtniEvfCv7a5rH4O9kDai9Hjkgb0QHQBD1teAvZDzJ34mCIC9gPPA5qYEf71gFamUcqJ+vcBRbCHO+n698MWED/IMgL2w8vgeXQOBvYBoEOyVYYK9gLN3ugsmhL3Q0dniz0yGvYBZ4+bWz4i9YHimFUKni73Q93VDu8mOveAYE1lrFpG9YCINsb3ikr0I5xKFJMSUvbh5sHIAtZa9+NVfiPOvmL04r6MgD7CavUiTdov4sJy9eIgvCQWvnr10dZ4Np1OgvTArcYTdS6G9WBNh84A/or2MOO5TTy6jvTCjuE5gGKS9eBWf2hf+pL282odcFeClvZyH01Ugv6a9iLkkVhKcp72wzK1gwXeovaDQVanpUqm99PLp6Rguqr2A7tvfmgmrvdgUUZNo5au9KP1QtBvBrL005ESp5putvQR6GFqQdK69hJWW4HVJr73Q8AyIRwywvfyaJF68b7C95rnc9sHNsL0O2xkW5CSxvQbKe72dc7G9TlAVsmS4sb3U8Sx2tvGxvfbylO4lHrK9UvURLmg8sr04xr7zYEuyvX6PI0kuSrK9YALVAzI4sr1SMKYnGRWyvSxkMpTi4LG9dNFETuGbsb10GD6FvUaxvRC1vspy4rC9XsQXEUtwsL1cT3rhruOvvczNUDXP0a69iHv1yPyurb1wdGNGi3+svWAalhIBSKu9sHDTvfsMqr2gR8LQE9OovYAOJD+/nqe9oJkyGjl0pr0AX5q5aFelvdhfc+PMS6S9YHGHxWpUo73840ZgwXOiveTnNuy/q6G9ROps2sH9oL20tZbLjmqgvTgaOp295J+9aC6FI8Qpn71oHn1/maKevQCQuHDKTJ69YDcZ1CUlnr1A4VAM4CeevVgMi4S5UJ696FDW1h+bnr2Av9bFVQKfvfgq7YCTgZ+96KrxLRIKoL2UY9WrwFqgvVTp+l+zsKC9ICTcK/MJob3ktM6tumShvWTSl855v6G9dNqIz9gYor0UCKhDtm+ivUBeSDMnw6K9kLShAXUSo71gR/dfGF2jvcTrTZ+1oqO9tHl0wRfjo724CskPLB6kvbiP7zr8U6S9LKnob6qEpL0cTKk6bbCkvZC5x3mL16S90Lu1+ln6pL2A/zn9NhmlvUT507aHNKW9kFNlP7ZMpb2kLy5/L2KlvcTYQwVhdaW9jLSi9raGpb0kf4wwmZalvXAuNt1opaW9tJmJmX+zpb0woosRLsGlvVBElSe6zqW9DNdorV7cpb2cJAjhSuqlvWiMeo+h+KW9RIqqkHsHpr0ou0Qy6RamvfR3HKfzJqa9CMIbSKA3pr3AyiH280imvQylD3r1Wqa9sNNHb7Btpr0IUDNYOIGmvaA1hOOqlaa9INlfjy+rpr3Ia+t7+MGmvdxDULdA2qa9JGQLF0n0pr0AP6O/UxCnvSjsEH6eLqe9yFdaXlxPp70ginlLrnKnvbzjXOmbmKe9CIejXwvBp7309Ewbu+unvQwEg9U8GKi9mN4NDPFFqL08B1pJB3SovTRp90l/oai9UJaEECzNqL2kHiD/u/WovYyOCxTDGam9NLUWFcY3qb2I/4GIS06pvYQjR/3qW6m93DP1JV9fqb2YO6wCl1epvVDUU3vFQ6m9eJA/SnEjqb2UcS6ugPaovWRWucFCvai93Iym9nR4qL2gvUYXQymovRTpZhZE0ae92KnSlnByp700pgnNFQ+nvVzvb6vDqaa91NCYgzdFpr0ARMcKROSlvezt/yq3iaW9GIR1G0A4pb1IAkXVU/KkvaxJsggVuqS9NE6WLj2RpL1Eh/b+CHmkvSwFrHspcqS9xOZ1crp8pL2sL3MDPpikvcjWVhOdw6S96JNyWS39pL3gLlhjvUKlvfhP5UykkaW9IFldrdfmpb10lO5GAj+mvTBliQ+elqa95NOGFRDqpr3MjZ4CxDWnvZwjbuZHdqe9PJzzUWWop73IlDYUOMmnvbQJ+DZC1qe9lJruKnzNp73EWSi0YK2nvZKHQgH0dKe9xHcZysYjp73uXFk19bmmvUp6oDwhOKa9DB8E1mifpb1Gn3x4WvGkvY6Ng6DmL6S9CBmWGNa7mz3QELYU9z+dPXDwtzfywZ49JFMeYlggoD301CZer92gPZQNDIe5mKE9CFqVR1pRoj2oyHkknwejPTiI1V3Au6M9JMGIyB9upD2Q2nv5Rh+lPUAIq7jjz6U9AMRaOcKApj20nR6ixzKnPcBDMh3r5qc9qIzWkSyeqD0gLqKljFmpPbgZJCMDGqo9jDYCG3Xgqj2gBv2zqq2rPRQKWJBGgqw9+OsqTLterT2I5cFvREOuPWwaoQffL689ZpJdjCESsD38A/Qb8I+wPVR4Q37tELE90J8hzIWUsT0KU3if/hmyPQDzik14oLI9hGf9TvAmsz2mOmfwQ6yzPfhVWsYzL7Q9UAxMjmeutD0ekkyUcyi1PZ7aM5Pdm7U94nXLpiIHtj3okUqLvWi2PY5Ebtosv7Y93u11pfkItz3YFOVevUS3PYy5MJ4ocbc9CEUUDgmNtz3Ex5FZT5e3PTpUTFgVj7c9VFuQp6Jztz3OG+MccUS3PbjGQwQxAbc9SD0e88uptj1K3E1/Zz62PRDeggBnv7U9+i4wtWsttT3SBZthVIm0PWbC8Kg71LM9uPCnPXUPsz0SL3xliTyyPY6+AkgwXbE9qisOtUtzsD20W285vgGvPcC00MwOEK09yKGS3OMVqz1gg0QBpRepPdAUXFSzGac9cP5cCFQgpT3ADgWdnC+jPUAuAT1fS6E9cB0JozLunj2YVszxxGubPWBn+YS+FJg9uDv5XWztlD2YhWr7DvmRPfAMXMCec449wDwDpnJhiT2Q/7RKhLuEPRDpo1+hf4A9gCaAxTJTeT2gCxSSzGZyPcDnpFxlVWg9ANd3D7UyWj0AkomHvoI3PQASwwnxSUm9AHQ99ku9Xb3A9WwsQeVmvYBXyPQEmG69QGTl6hcUc72gj5+Jy+J2vQDYtKzlznq9YJnukqLtfr0QBWfjKqmBvQCFyCYOB4S9UGzsGceXhr0A3kPuQWGJvbDnTDfyZ4y9IMvsmsCuj72YWf2ifpuRvXhVMv8pgJO9UKk0WmiElb1ALBlwcaaXvbA+lRm345m9cCDiYO84nL1IOOtIIqKevWASew5cjaC9qArF+cnOob2IL17vlRKjvSwDyonSVaS9FOT3N3mVpb00/gR8e86mvWhUdYrT/ae9EA59H5Ygqb2Yq15PAzSqvaDKSviVNau9jD6M3xEjrL2IZXELkPqsvSwes4qJuq29RNYxE95hrr0IAmBY1++uvaCqfz4qZK+9eFGTlPO+r73IKaOJWQCwvYQQZ6YhFbC9kVk4o2cesL1LDD3b4hywvfRlF3xlEbC9xoKsKqz5r73kkEaET8CvvSyJ9pGmeK+9wvLueaMkr71YCvJLLMauvVJflhsTX669YHLL1A7xrb0SpJL8tn2tvabdw3CCBq29Nnqpy8aMrL3euy3tuxGsvdAdW7x+lqu9qtVbPBYcq730QCh0eKOqvWAlMs+RLaq9zvGzeUm7qb0I5q6Khk2pvdBlNGkz5ai9HD4r2z6DqL3ePqWFnCiovap6F5VC1qe9Cs9cqSaNp73aB1hyOE6nvfjuVZtbGqe9uu63fl/ypr1qg45D99amvUDSeEuwyKa96v9vRuvHpr3AAlPC09SmvT7+7kla76a9xp/2rC8Xp70yAhg2wkunvazoMuY8jKe9lqbYjYnXp72AMrL0VSyovbQ5lIsaiai9kKsTrSPsqL10daX+mlOpvc5jOu6Uvam9KpWyvR4oqr3clZB/S5GqveJ1Pa5C96q9IKg0LkxYq70AnLaL3bKrvVzn1PGjBay9/GTlNo1PrL3U0VnpzI+svXxOawPgxay9CIZZto3xrL0ceiVV5RKtvbwyoOQ5Kq292MpOUhs4rb1Aur4zTT2tvZBq4ni9Oq291N+opXgxrb3w2cwNnSKtveDWzHBQD6296B26mLX4rL24AWFZ4d+svZBdIn/Sxay9cBk8DmurrL1A/qrNapGsvfwrOBRteKy9HG+yoepgrL3s2XOIOUusvewSzQySN6y9jCN7BxImrL24OXgYwxasvZi2KzGjCay91IZ6Bqv+q71MRqlE1fWrvaRtDD0l76u9SMGFiqzqq7000cTojeirvSQewJUA6au9qMZPg0/sq73Q7Wr01/Krvdz2qzEH/au91D63UFULrL1IDtXKPh6svYCgkcA7Nqy9yEkB+7ZTrL3IBa2OBXesvUg/HVFdoKy9DLpsTszPrL0Q5LWEMAWtvYiRnZIyQK29lDXm3D+Arb3A19EYicStvbhqYbABDK69zChn8mFVrr0gDCGsLJ+uvTBuPv615669IHOaVCstr71ElbWBoG2vvQwt5mAdp6+9jL8ibazXr70skYeDaP2vvR5hpA1GC7C9IlF7gcAQsL2sqphpdw6wvVJNDbHjA7C9GORtmlHhr73MTIvUMamvvSh6X5BvX6+9DOWbMncEr708mfPuG5muvczTIYuRHq69JEYxRGiWrb2Qow02gwKtvdhBaXwNZay9VAY3BWvAq70UO3wFKhervSRPZBrza6q95DgSO3jBqb2w2YmWZBqpveDSnoBMeai95M2Wjp7gp72QMI1qllKnvcyAPFMy0aa9jD9LSCtepr3MDBqh7fqlvdzNnEaXqKW9+IJ+HfZnpb0s4TzlijmlvRCdlKWMHaW9eL8cte8Tpb3kqXcibhylvYS5V/+QNqW98JQAFbphpb0oP4NQLp2lvQgfE38f6KW9sD/GjLZBpr2EcE/GG6mmvdh+WZN+Hae9VGsDkxqep710ntMZPCqovSBxQJJAwai9DFX4d5diqb0wfphvvw2qvZBOLFVDwqq9CCaqz7V/q70c6ZQbqkWsvQS/5m2uE629fFlEe0Pprb2kVkEI18WuvVToRKi8qK+9erSmCZRIsL1exD3AFL+wvRiW+RpVN7G9bKqUXbWwsb2AG5QAgyqyvTYD6S/5o7K92EAnWkMcs72eELEPgZKzvdRFXavJBbS9MIx/JDF1tL3Oscevzd+0vRwDxGu8RLW9zPmc8iejtb24VoAITfq1vaTP7j2ASba9bPrT3DKQtr0uiXYm9s22vazPwLR+Are9xNHRHKYtt718S4nJbE+3vWqZGqH5Z7e9tmIZo5h3t722D1atuH63vY4svDTofbe9/BwwP9F1t72eUnCiNGe3vX7YTf/jUre9XvXBRbw5t73GZqSWnxy3vRqFJq9u/La98E+eiwLatr2qNk1NJra2vaaVr+SRkba9XDZQHOZstr2gLFwBqEi2vRhc7gs9Jba94gdX9ekCtr00Bvnp0OG1vZblSdjwwbW9xBjYLSejtb1a2JdXMYW1vQ5+dzWvZ7W9IjN1YCdKtb22nPz/Cyy1vVbigIu/DLW9dPaKoZvrtL1MNUqd9se0veLU7PwqobS9DpFGCp52tL0kB3wExke0vUioewsxFLS9dHUT1Ynbs72oY6fTnJ2zvSwstZBcWrO9wpihgOMRs73gy3BjdsSyvaKos+CDcrK9guTohqMcsr3uBLNQksOxvRQMy70uaLG92hZjz3MLsb2cvNzeca6wvXQLYXJHUrC9nOt4OzHwr704c+wODEKvvchdhyBInK695Ong7uMArr3sqJCFonGtvUzBVsb876y9oIEcZBN9rL04il21oxmsvYShixkAxqu9VDmsFAyCq72Qy9wHO02rvbArIMSSJqu9TDJTyrIMq72wHOdF3f2qvQgwzI4E+Kq9hIfP9Nr4qr0MUL1+5P2qvdCddraMBKu94ERuOzoKq72AKRxiZQyrvRx8bOSsCKu9wHqVp+r8qr24ByvDRueqvawSBKdIxqq91BP2buWYqr04LUYoil6qvQRA9BkjF6q9MJR07B/Dqb2ANXyncmOpvRBuCbGM+ai9yJdmC1aHqL2UfEH5Ig+ovWBSilujk6e9EM99l9EXp73wJbiH3p6mvVhNAoMbLKa9VOuIEOLCpb1kLH7wemalvdAVvscGGqW9DBVgn2bgpL1cQRttJrykvZRl75hmr6S92EmoMMm7pL3U0b48ZOKkvZisd7q1I6W94OM2k5t/pb2slHMiT/WlvcDXFjJlg6a9BLDyLNMnp70UJ6zZ+N+nvWhLDjCtqKi94C8F1E5+qb3gODwf2VyqvdRb5Hv7P6u9mH95wDIjrL1M4XM+5QGtvUhyrYV/1629NNpGtJCfrr1k09hN5VWvvYzcHIyi9q+9knQucC4/sL2QPtbcFnWwvZRWEyfhm7C9EnyGDbWysL3SVN3uDbmwvZrObZK8rrC9ipCDMOaTsL3gNgukAGmwvd6c/ozMLrC9NMN8U5vMr71In1pQgCGvvcgcPj8cX669xCkgeYaIrb3AVGDL/6CsvYRwYOnZq6u9sE3i7l6sqr1IDJAuuqWpvST6qDHkmqi9vHhsEJCOp73YvL6lH4OmvYg2usiaeqW9SKhWXKl2pL14GCHEkXijvXRM8AM+gaK95CT5AUGRob2kPtIE4aigvTjtJ4tJkJ+9wNemJ8Pdnb3YvxT4mDmcvRhdFOkTo5q9eK1scXkZmb0YwcKpKpyXvZi8zgW/Kpa9WCVlmhjFlL2Quoxlc2uTvSDvM6psHpK9mPJd/wnfkL0wlK1Ga12PvfASiotoHo29AITYhCoFi73gYSOAQRaJvaCay6+EVoe9wC0JVdvKhb1w4JThCXiEvaBKtxF9YoO9UEIN3BWOgr3wnOyAAP6BvSDZxB6GtIG90AQ3hO6ygb3wAXY9ZvmBvVAjxob0hoK9kKoJWXZZg70g2Oc0qW2EvXC1HQE3v4W9QBdibtJIh70AFvVOUgSJveDUPwLe6oq9kOLJ7RP1jL2wJwLsNxuPvYCnC/ytqpC9GEvLDsnNkb2oQFPkCfOSvcgxOfC3FpS9eNoyYlM1lb1Q/Bg3pUuWvUD4UcjJVpe92MU0QjpUmL2I8Wlo00GZvYCdQZHYHZq9mDqYDvPmmr0wTbJeNJybvSgn0yMTPZy9SCvlbGXJnL2oxI+YWkGdvRBsZNd2pZ29CG7Ax472nb14s92yvzWevfD9DctuZJ698Ml6jj6Enr1g5hi6CJeeveDASGjbnp69KAabQ/Gdnr2gIM0mrJaevdAu0cSMi569uEjbaCl/nr3AyH3qJHSevRhaEYYibZ69GEKut7psnr0wXqxlanWevfjU20+HiZ69CBGDfS+rnr24turpONyevWgPtdMiHp+9MBKRLQZyn73QD9OzidifvSAgZLDsKKC9VEnR/85uoL300FCffb2gvaSTn05IFKG94K7Y2j5yob3cG8CQNdahvbjzxUzNPqK9vD1OQXyqor1wGlZGmBejvezwlwNjhKO96Me8HRfvo71UYrmw9FWkveDNC8ZPt6S9mO8qypsRpb0UQWDJdmOlvUiNIsqzq6W9DHlj4GHppb28fLPg0humvXBI7d+cQqa9iCvM05pdpr2kY3n76mymvUyZNmzqcKa9CJSL/Sxqpr3U2AQld1mmvcSL4xWzP6a9fKVXGegdpr1MnXlwL/WlvfxU0ZmpxqW9XL2W+XOTpb2wC9Htn1ylvRR+EBQsI6W9+Jusnv7npL0kyboU4KukvVgYMbp3b6S9uDbwTEszpL0UD1PWvvejvVSdNIIXvaO9tCebjn2Do73w8jKy/0qjvcySuyaXE6O9fLqWZCvdor14hBzWlaeivQSHXdelcqK9INeH1iU+or1ESBZ33AmivZg6MdqO1aG9kNOWlwGhob0oFx1s+WuhvViYoN47NqG9tDEPJo7/oL3oBYdmtsegvaRMkrd4jqC93OTQtZZToL2ock6YzhagvUAMFai0r5+94K76lt4sn70ADCMLfqSevbD1oq3vFZ694Mew+ouAnb0I6KtBquOcvUAHhEqkPpy92EcMrt2Qm72AyGYuy9mavVBPuVD4GJq9iL+UlQ5Omb0Y+Y433HiYvdCoYyldmZe9EDVahsGvlr1ozP8kc7yVvRggNMQZwJS92GLy0Z67k71gI8n0LbCSvZjaRMY3n5G9cAuo/HGKkL1QG48MoOeOvUDLteP+uoy9sOqao8GTir0wYXTp/HaIvdBUlvYAaoa9oPoc/EZyhL3A5AOiVZWCvZDmUlil2IC9wAUp1v6Cfr1AbgGtual7vWCNq1uWLnm9oN0kY6IZd72A1TMrqXF1vaAY1F79O3S9YGgBHEh8c71g7uf4bzRzvcBl+aB+ZHO9wHcpmokKdL2g3xDeriJ1vaC9Z60Vp3a9wFmd7fePeL2Ab+AaxdN6vYA2qu9EZ329MGN/J9wegL2gfY41i6SBvVBhBI4ePYO9IFNrRpnghL1Q9ITttYaGvTBxCjIHJ4i9EKc7sR65ib2AdNrPqTSLvZBUVPSTkYy9sOUsCCXIjb0QqNVuIdGOvbDqu5znpY+9cKezwUQgkL0IAiQv7k2QvbB9FAzFWZC9yEKfcBNCkL3ozQRaoQWQvVB8/wZ0R4+9wJ+BnGA4jr3Adrg4xt6MvcCGiax2PIu9oIcvQWBUib2gS7/KjSqHvaCXJ1AkxIS9IMuKQFYngr3gxh1subZ+vQDAfobH0Hi9QAx8Ruqucr1AbP09iclovYBgSUTjHFi9AAAoiBX6FD2A0SWJxVhaPcDzWG3xUWk9gDPmadF1cj2gWu0M+eZ3PQD5BSvQ53w9kM9OZqyygD3wkseQUqeCPXDOF7KlSoQ9sGLoeuSWhT0Qm83554eGPZBtYDxLG4c9cPwM5HhQhz0QYKertyiHPTDNg6Ynp4Y98CzJCbTQhT3wj+jX7quEPaCivnXoQIM9YMj3EfqYgT3AlpIMA31/PWBBoIY/eXs9AMSNBss9dz3AI5TVAuJyPQAtf+rd+Ww9AAuUOk1JZD2AGMX8CbdXPQB6RsvBrT49ALTRqd09Pb2Ap5TB1gNVvcBilGGpo2C9wCaM1dX9Zb0APfdGXYdqvcDsHTD2PG69AIjyBV6QcL1g8srny5xxvYAOyPQ/SXK9gDJqzteccr0gmjEh6p9yvUBKAd+EW3K9YMrIFerYcb1gTNijLSFxveCiFBzRPHC9ANIFQMVmbr2AFYpDcxZsvYCG0oZ4kmm9gGZFd4HhZr2AlTqE7gZkvcAkSnIOA2G9gMurvImmW70Aertyo+RUvQB4GldUY0u9AFqmy1rvN70AVDQPZIMiPQDXVVdCjkY9gEnPD6j7VD0AnvUbz35fPUAmTPQjb2U9AC2NjqmRaz0gD3r3eBRxPQCl0VIHmnQ94BWJdnNXeD0AZq+xGEl8PQAioBDjNIA9UMcYpmxZgj0glI8sL46EPRAPSvylzoY9kD/vw+AViT3ADrV5n16LPUBoRg94o409AN+sc/3ejz3oYwxz8gWRPfA3MKuUEpI9GAbHnRETkz0gzH5QUQWUPeiaV0yC55Q9ULdDTiC4lT243Ceg9XWWPeDhyYEfIJc90MHcXAu2lz3g4bQgcTeYPeC0FA1RpJg9iOsZOuf8mD1YRWyIpEGZPfB78t4oc5k9eJD0YjeSmT3ACwrSrZ+ZPYjjZ6B7nJk9yDTxTpeJmT3A2Q02+GeZPViN3FGTOJk9SN2R5lT8mD2gkVAOHrSYPbA4GH69YJg9ANMoSuwCmD2wcLESSpuXPcAcAwFfKpc9gAwMHpmwlj3g4zmvSC6WPfBGyUSho5U9QLPD/7YQlT0Q6NV2fXWUPdjdXxnI0ZM9eEEWsUolkz0QkVUynG+SPcD/pRI5sJE9KB5eCoXmkD14nHW+0BGQPfBKI3rFYo49cPsVCPWIjD3wgrL9uJSKPfAA3ZuxhIg9QLLCS61Xhj3weSXCvwyEPQDnje9Uo4E9YOmTupM2fj1AHo6G9Ol4PWBtsBqrYnM9AMNyVblHaz2A7RcK9MdePQAAMJgULjk9gCMrjSbJUr2AYcanBSpmvQAQH8mPi3G9QGubRxMLeL1gECqwyod+vXCLSlebeoK9cCvbbi6jhb1wFLluC7eIvcAQsHWor4u9oD5OdquGjr1gFdujC5uQvdBjSrg13JG9gCck3GcEk72Qg/3XmhGUvbD8Moc5ApW9UMtZ5SrVlb24WdTk3YmWvZCu7BRQIJe96FERTxGZl70IXjm+RPWXvZgl7giYNpi9qL6CkjtfmL2QU7Tn2XGYvWhaP4mLcZi9ePr0ucZhmL04QRTSTUaYvfgmFR4aI5i9oK9Fp0X8l70YrUye+dWXvZA5wrZYtJe94Cf1wmmbl71oAwltAI+XvYgn2Kirkpe94HCfxaOpl704Thf+uNaXvSCIeqJFHJi9GPWRSR98mL0AYbKajveYvSAshv1Fj5m9ODpN7VpDmr3QoIseQhObveDyxTrN/Zu9eBumWywBnb0AGgRt8RqevdC5mZwWSJ+9DDV+cIRCoL2EHpSQ2OagvaDkVkDCjqG9tPkGoco3or080H1fU9+ivTBmK6uigqO9HJK9ZO8epL3cKN56brGkvbiWAqlhN6W9DEBE+iWupb3Y/BRDQxOmvYwD/m18ZKa9sJctzt2fpr2kxmj2ycOmvVTIpzAJz6a9MNP59NPApr1o2/713ZimvVA7fqhdV6a97JLxMBH9pb08fUaHP4ulvZQa22m5A6W9SPESFdNopL1sEFDoXL2jvaiSOsSZBKO9eGcohjBCor1Yp8hTGnqhvaTzDxiPsKC9iG193N7Tn72gV5L3WlWevcgsbfJm7py9EBSW2Zanm70ogHiqComavWDgVUM/mpm9qAWLruHhmL0oFEC3qmWYvVhvDzA8Kpi9EB6K9gYzmL14kWbaN4KYvRA1yoSrGJm9kKsRrO31mb1IHYLfQRibvZgFTX2xfJy9+MpHECQfnr04GnmZffqfvQBxxstgBKG9iKhOzp0hor3YE9r8VFGjvdzu+TW1j6S9UFzKHdTYpb3cDUBKwyinvTy19kike6i9aI+iirvNqb2Y1zIFgBurvajsbbypYay9UCrdLjydrb246GBgjMuuvQCR3XxF6q+99OanHbV7sL0AryLcqviwvWJCQOdba7G9etiXh0jTsb3GnwL/FTCyvQwGZkKLgbK9QMiWwo3Hsr1+Z5u5HQKzvRDQEHZTMbO97FhHAlxVs71C5WEYd26zvXpR3Xv1fLO9EhHTTDiBs70MNeEpsXuzvQIvL5DhbLO94lvUwltVs70Chpo4wzWzvdi2t9LNDrO9gI+1qEXhsr16tnFpCa6yvd5fGSgNdrK9QhXjZVo6sr3i/JhmD/yxvYbtsvddvLG96uGf8ol8sb00keuv5T2xvcgcgSbOAbG9oKFm5qbJsL3o4SKa1JawvfCSPnW3arC96jH9v6RGsL2Ue7mU3yuwvYrYNEWSG7C9ShjHJscWsL1UoJMiYh6wvfYvrFgbM7C9fhwDmHhVsL1UZgMvyYWwvU5P140ixLC9ukf5kV0Qsb3aEqKSFWqxvZxAGhCo0LG9rISEezZDsr0Qp9/oqMCyvUpn3suyR7O9gkWm89fWs73Omf1zcmy0veCdK+a5BrW9MOoBf8yjtb12xF/ltkG2vSg+whJ93ra9JHD08CN4t722vhBEuQy4vTCLcYhcmri9ECTALEcfub2g/1HP05m5vbTrFKeECLq9+J2n5Qhqur2Ay7UNQb26vXqfCFlCAbu9tAKZMFk1u71uZ5RFClm7vWLL1doRbLu9eDb4A2Nuu70SG92AJGC7vTROccevQbu9qmEPhYsTu722IxHbZ9a6vbj//8wYi7q95jPkg5Ayur2gEzdd2c25vRpXvi0QXrm96t0PK17kuL0IfRSW8mG4vRbR4az717e9BmPWJaJHt72CZQJbA7K2vUbZVbUsGLa9mHOlpRZ7tb1gebD0oNu0vXqwtquPOrS9pMv0UYmYs70MMIXCFfayvRxAwQ6eU7K9Eh/Pymyxsb0OVQACsA+xvczyn4R7brC9rJERPpmbr73AVGNBHVuuvYz7/Sg/G6290NWcqavbq70oWr4cC5yqvejNy4kNXKm9fHLCv3UbqL0kCbNRI9qmvbAiwxMdmKW9dOZe0phVpL1cmFCFABOjvei2yM720KG9YHmMPFeQoL0oitI9aqSevTjuFrStL5y9oAZl9GDFmb247MJhs2iXvTD0EO4GHZW94Ecc/tflkr0IOgxKocaQvZDbZfqHhY29UERtRti6ib1wLbjm7TKGvfDeVXy78oK9YElDF5P8f71gxNeJN7F6vcDtHvI/B3a9IKnB0lcAcr1AKNkoBDhtvUD+oYaNr2e9wNEgOs9eY72AZXhtSzpgvQDRMaNbaFy9gDBI2v95Wr2AntkE6ohavQBJ3kFJdFy9QBZeBz4OYL0AYAs0DrJivUDC0n6RGGa9wAS0/LE2ar0Aq6xabQNvvYBMG7btO3K9oNpdfHhHdb1gBHYekqJ4vaB4a5L5S3y9kKGPC1EhgL2AAd1crkKCvRCRyHpAiYS9YJe0NMnzhr1wiiqfb4CJveD6B/KfLIy9YNjpSOn0jr0wdYxQdeqQvTDuXUqlY5K9EBPe8dvik73Ifh1oeWSVvZgEMIp05Ja92LBVQW1emL34II4kxM2ZvUhx0mKyLZu9mJuBR2l5nL1QROLGL6ydvTixOf2DwZ69QLxubTi1n708Fsfrx0GgvaiIermrlKC9wPxLnv7RoL1c/+eV0PigvVhK3SSQCKG9pGHHVA0Bob28SrP+eeKgveyU9m5nraC9tKTpmMFioL24pLCcxwOgvczKmmkGJJ+9uJHl6Xkenr3w8t1pWRSWPVj3Hfcd7Zc9oPnB457gmT3Ir3NGge+bPThdYLxYGp49wEQ1atEwoD1wLkW332KhPbx8o0t1o6I9FO/hIJvyoz20ht8tQVClPQwSsKI5vKY9HI+CxzY2qD1wPBdDxr2pPUgZeoZOUqs90OArRwzzrD1g+shID5+uPcwc3FWcKrA9tB50wR0KsT3IzZnkTe2xPcAB3nlX07I9iJgz9E67sz34plLZM6S0PaimudPxjLU9HFx7a2N0tj2kyASGU1m3PRzWEGSAOrg9aG3U3Z4WuT2YilqeXey5PQDe/apouro9iNVVwmx/uz2UeQTHGjq8Pfz+rW4r6bw9gP5ayWKLvT2sIMg/lB++PQjiCASmpL49uBa6SpQZvz24OBItdH2/PRjxyIN3z789ckZZwncHwD2YEVXHpx3APb6y7cQXKsA9rPinBacswD2cbXJCSSXAPeiG/AAHFMA9yOitn/zxvz00rTYkxqi/PciPN3v9TL894MHrR2Dfvj3colcr1WC+PdTY+VFo0r09ICJVmkk1vT04+GTlx4q8PVRcC19M1Ls9XHHPjFQTuz38qLyaa0m6PTyx8zwjeLk9+AXV9AuhuD2EveQFrcW3PTit5Tl857Y9OLF02dQHtj188FsY8Ce1PYxakV7dSLQ9tJxBE3xrsz1QV1BUdZCyPfxb7zw4uLE92AIHO/bisD2sv4tGohCwPYDenTbiga49SIWsQLfmrD1QAEuDRk6rPXCI+Vuvtqk9+Px4sLwdqD2IW3/R9YCmPYhFzqOx3aQ9uPixVC4xoz1YV9siqHihPaCWahflYp89IDdbTxuymz1A6z9AeNqXPdCtfsEy2JM94OS3WbNQjz2Aqff24ZGGPQAvqX815Ho9AIjYzEaOXz0AmwacSrFnvXCKUn0XI4C9cLYXFw2rir0oR8BoPr2SvRj4jHrNQpi9oOUdLV3fnb0Eu8PmocWhvZQwP3QUn6S9vMZJOJZ3p72IcBaZh0qqvVhTq4UwE6298HbWdNTMr71UdmkOZDmxvXSCvChDgLK9bjXDJ+G4s71Wf5R4PeG0vdZotCCF97W9fK4gxhr6tr0EhNNOm+e3vYYqiEPjvri9il8kMRJ/ub1CMCtXjie6vb5yj1QFuLq9Vp+cJWwwu72gYK29/ZC7vSp34so52ru9RCBa+OAMvL0C8MUG8Sm8vSS3DhGfMry9Bq2HiVIovL3W3FdIngy8vaCZqPs54bu9lIF8h/mnu71uFv5ZxWK7vX4SB62SE7u9cK0LzVq8ur3mROyPE1+6vZAyCNin/bm9al9pFfCZub2ijVpTrDW5vcOVLM9+0ri9dwVng+ZxuL37KTqmOxW4vdgjyL2svbe9ZJ4wJj1st73jYy8axCG3vWTkLU/t3ra9ZGG8rDmktr3GTVHnAHK2vQsWbKBzSLa9e6K7lp4ntr1XRBVNbQ+2veJzRTeu/7W9gXhmORX4tb2ER9ldP/i1vW6meX21/7W9QVVYBe8Ntr1mbv3zUyK2vTbNmOk+PLa9KvgsTv5atr2G90ED1n22vewuqlP/o7a9PaUtParMtr33MEH3/Pa2vZQeQx8VIre9mgwyYgdNt73jFQmW4Ha3veBX2hmmnre9hDIlKVfDt71lve7x7uO3vY2yMKhm/7e9gPU68LcUuL2KFz9h4CK4vYXzMlrlKLi9IfFYx9cluL3ILNwC2Ri4vZj9sAAfAbi9HcW+S/ndt72LAtkp1q63vcC8TDhHc7e9Ye/wzQQrt73AJRp78dW2veOfaE4ddLa9JNrpocgFtr34C6r8ZIu1vUquxSSVBbW9dq3+Iix1tL0aJ4rlK9uzvWwtydDCOLO9wBKJ20ePsr2Is28bNeCxvQLVs+IiLbG9IshvrMF3sL2c2wVRpoOvvUAJjRZGGq69UP85GwC3rL1kE1zYZ12rvTgaht/4EKq9rNbBAAjVqL2g2jDntaynvaSBuOLimqa9XCHfESSipb2QRhHiuMSkvYzVMdOFBKS9NIF4BQ1jo71MWFR6aeGivbTLvrVMgKK95LlU7P8/or3UapC6ZCCivaDJNWD5IKK96BdDONxAor3c1+tR0n6ivWDbcZ1O2aK9JL99CXtOo70QtXEZP9yjvUzLj+xKgKS9oHFQJCA4pb1IdV7dHQGmvaiKnDuJ2Ka99D0JX5e7p73sgcKtdaeovWxFU55Tmam9YL2tg2yOqr0Q1qLkDYSrvRSok4Sfd6y9QAM4A6xmrb2QzIwC506uvdCBOR4yLq+9FFEjJ1IBsL107WwASGWwvRTasplDwrC9mvk82LAXsb1moA+2H2WxvajAvyxGqrG99DS2BwLnsb38q6FKWhuyvarVhxl/R7K9wP13wslrsr3Yw29JvIiyvTpkY9b/nrK9SmoPmmKvsr04/dEm1bqyvWST2PBmwrK95iUZD0HHsr10Vv6xocqyvRxGv2bWzbK98Lk6ATXSsr1a3ULMFtmyvVLJdvzP47K9FNdZAanzsr2me6v01wmzvZxyNNh6J7O9JuMXVZFNs70CqDkH+HyzveIavXJjtrO9CEt8xlz6s73S2KiGP0m0vcRUgUA5o7S9zufs4EgItb3S9SKSQHi1vSyzcxXH8rW93NH7EFt3tr3ELt/qVgW3vUB0rDr2m7e9jhkIIVs6uL24hCYok9+4vQgjG4acirm9HD27h2s6ur0cGb8V8O26vdDM+hwbpLu98IUCGuJbvL2gwSMuQxS9vajt+h1IzL29nL9dogmDvr00V1UssDe/vQxVt4p16b+9wmqrTNJLwL1eO1fJzKDAvUjUtg9h88C9ssHw901Dwb3ud1SCWZDBvYxBJPNQ2sG9gtodJgghwr1WpfZbWWTCvcaJ+KYkpMK9rvEW+E/gwr1mchpJxxjDvZA3QzV9TcO9AAaQ7Gp+w71gTxOIkKvDvR7oDy/21MO9ngV7Fq36w7202Ewe0BzEvf7c/2KEO8S9TCCOPfpWxL0uPOCMbW/EvapQXjcmhcS98ORJEniYxL1QP2wlwqnEvS7co1BuucS9DLSkmvDHxL1Kp8EexdXEvVLo4Mlu48S9CK1kY3TxxL2OjSbCXgDFvWQv1sC1EMW9UrG46/0ixb3Kkrz8tDfFvb5B9HRPT8W9opcuGjVqxb1oRP77vojFvQj+o640q8W9xGPwZMrRxb0+Apc7n/zFvZp86Ae8K8a9YodPQhJfxr0yYGAifJbGvUapsOC80ca9uj2HrIEQx7361+LnYlLHvYya1N3llse9TC0CLn/dx71pZOUjlSXIvcCXCM6Cbsi9ndfanpq3yL1K4VBOKgDJvbvms8x9R8m9E5M39OKMyb2hKUgurM/JvW1FJvgzD8q9Wllepd9Kyr3OCynqIYLKvXNmDzd9tMq9akBQoIXhyr1PFH1g4gjLva0q48xOKsu9IYfQuppFy737wvCuqlrLvaRsimV3acu907jaEA1yy72A+Y2QiXTLvXG3PZ4accu9FOqwfPtny71JjX7CclnLvZ+x1FfPRcu9BoDqK2Uty73b94l1ihDLvSRyVyWU78q9g4beNdPKyr0k3SunkaLKvZ5c7R0Qd8q9xmo2EYRIyr1DZj2+FRfKvQrIhEXf4sm9DgPMcOyryb3xkUXPOnLJvUqMO5G6Ncm9X4GG8U/2yL2exHAj1bPIvURGQhcdbsi9WD560/YkyL0dTHjgMNjHvV2gGYGch8e9GpEuLxIzx73X6TGKdNrGvdnkU4C0fca9gIFffNQcxr3Iq6Ee67fFvTLU/Y4lT8W94en6bsnixL04Vo7INXPEvVPbcU/jAMS9b+QHoWOMw73QWT22XxbDvchhSpKVn8K9tNZiR9Uowr0+pkFP/bLBvbZSMlH2PsG9JdcmSK7NwL1yeXlDE2DAvdwaJvob7r+9DisIXvgmv70ychoDVmy+vfqhgKKkv729BPzJ9B4ivb3cWQNuwpS8vVDKaehGGLy9vv2tkRitu72UFnxdU1O7vZAuzELBCru9RNPemtjSur0eE9O7vKq6vZiEr15Bkbq9iCkFeO+Eur1sdDQ+C4S6veKDgr+cjLq9vDMah3mcur22Ofc7T7G6vXarB9quyLq9aGqd4xjgur2ivvi1CvW6vcYJl5wLBbu9CL9NyboNu71a6zF/2gy7vSBZj45bALu9lpc7N2jmur2yieTwbb26vXTWtAwlhLq9zIirepc5ur2+jAOxJN25vUgKV1GEbrm9hEzHP8btuL3aeWYCUlu4vfaYtbnit7e9ZHV93YIEt73o5W1PhEK2vfJxkTd4c7W9IhOOOSWZtL2+SbMjfbWzvbTt9ryQyrK99vMgg4Tasb1wZFkUhOewvbhuWNJs56+9kBZPBWICrr2o7DuF3COsvajJUfuFT6q96Kn+A66IqL3Y8fxYO9KmvRgzYESgLqW9QOq0XdOfo70wJwqJTCeivbguHxACxqC9oAC5wtz4nr3wyUwRKZWcvYBU/cYSYJq9sMRjJP1XmL1gF0kkoHqWvdAdg9IpxZS9oJ7u5l40k70gyyXBu8SRvSA/FSOXcpC9wOPGN4h0jr0gmq1WXjCMvSCs4X75EYq9AO0SSVATiL2g6vWSMC+GvQB+5FdiYYS9gJOcxr2mgr3g/HbmO/2AvQDaKwcFyH69QLHKrcy2e71Aq1hZxcl4vUDmRin7BXa9QHUY9WJyc72AsvcpmRdxvYDbDucn/229wDCmAqhqar3AFYPIFolnvYC7nXd6cmW9ABfuhsA+ZL0Aic9cDwVkvUC0W/AN22S9gNmEcD/UZr1AhqjZgQFqvcDDf1xfcG694MdsV2EVcr2gUu50R5t1vaDdUB6vynm94InPjSqifr1AO3lHCQ+CvZAgDek9HIW9AKFPSqh0iL3wWur8MROMvRArw+zT8Y+9aOjbrdUEkr1o0mFZjSmUvcgxWZP0Ypa9aKvAO7KsmL3QyNVeSAKbvaBykggoX529QO87cce+n72kUmh+Ww6hvczVcfNbOqK9hDbx/2Zho70UFhuXq4GkvRDNNgmNmaW9NDdhXqunpr1E1PPg56qnvXjy52hpoqi9uFCJGaGNqb2oyM24S2yqvaz1JHJwPqu9lJnUpV0ErL0sHCpdo76svfAkH1QObq29eGh0aKETrr3cIYGbjLCuvZg1GlcjRq+9JLzp+dHVr72UGzdJiDCwvVCfPUesdLC9xEUIww24sL2aJ5G2XPuwvbAqnUA7P7G9iEM+ijqEsb2E8z+11cqxvUIi5DVxE7K9rvlHd1hesr1EmtShvauyvfz8tvG5+7K9np73s05Os71iHGjSZqOzvajm/j7Z+rO9nMZyXGxUtL1uOiVl2K+0vdLvUv/LDLW9Pl/6We9qtb3cagac5sm1vZD82wJVKba9ygsCld+Itr3efJRPL+i2vTQF04fyRre9XJlrL92kt73u8HHqqQG4vYhKxDwZXbi91IgJv/G2uL0+xCt8/g65vaybyxsPZbm9rMe4mPW4ub0qNAulhQq6vcRctSqTWbq9mn3Hm/Glur1CkaO7c++6vaK/f07rNbu9iv4CVSl5u700EsS8/7i7vS7BYTtB9bu9IuPWK8EtvL28wpISVWK8vewDeIvWkry9HI+qbSS/vL2kDhWJI+e8vXppC8C9Cr29rvsM4+Epvb2kZaOOg0S9vVzPYQCbWr29tAyzqiJsvb0Uz8lsFXm9vaw8TXlsgb29PEQ/NR2Fvb2MdAoRFoS9vTyp9D08fr29GJEUHWpzvb2IX+HQbWO9vS7oFAkITr29itkDIOsyvb3qMmpEuxG9vRBPv1MQ6ry9JLlXqni7vL10y4goe4W8vWyjeLqbR7y9flGfjl8BvL3e8nqxUbK7vTZj2CEJWru9pJYE5S34ur2mBUfPfoy6ve4SUGLWFrq9hhzQzS6Xub0IykLlpQ25vUAPNnWAeri97NJ3bizet716hoB8QTm3vZgwczKAjLa9gj04jtDYtb0wo1RSQB+1vcTx9BT/YLS9fNL49lifs73U8Kv+sduyvWTAe8B/F7K9DvhBKENUsb0kjRjJgZOwvXiEloh+ra+96OtEiO0+rr0Ui6J2Kt6svWQ8+s7mjau93JLcdKBQqr2YOQWzmCipvdhT47fMF6i9AOfMku8fp72ss3ZHZ0KmvVjyp4pJgKW9CF1F1VnapL3UFeBZCFGkvYBJPCV25KO9sCQxsHaUo72QS17ckmCjvexfd9IOSKO96Dtjxu5Jo71M3sOB/mSjvWSjDs3Wl6O9WA8nDuXgo73sOEe9cT6kvZDCh3SnrqS9ZC3tMZsvpb0odGXcUb+lvZjF867HW6a9/EP6L/YCp70U2W4F27KnvRTlTV99aai9PHi4+PIkqb08/DJZZeOpvYznvncVo6q9RBneMGBiq734aLZRwR+svSQT7xbX2ay9jHN+6mOPrb0YhLYcUj+uvRhC8ZO16K69oCBF0cyKr71OaRi9gRKwvSi/Ay96W7C9+nIveDSgsL3YOf+GreCwveiZTM76HLG93A0fWkpVsb0oHDLq4Ymxva44DZMeu7G9AIKAzXPpsb0AqEUtahWyvRCS7pydP7K9nDXR0Lposr3yqjXFe5GyvfIshJakurK9TlS39f7ksr3cHW/iVRGzvX6THsdwQLO9ZMxnYg5zs736rFP33qmzvWqw1It+5bO9gNf6Om8mtL3ImUCHE220vQrrqeupubS9aufUo0gMtb1aJfSB2mS1vTKTGJUcw7W9ir80EZwmtr3KP7uBto62vWLjqIua+ra9GrOpykppt72eX3VPodm3vYrNhklUSri9VoGdt/q5uL0ypTPGFCe5vQKV+/sSkLm9Wv/W+l7zub2s9P+nY0+6vQBTR7eVorq97BdObXzrur28zE4Iuii7vTS5+roTWbu9gqyk+nd7u70KBDusBI+7vTxZGNwLk7u9IFf/VBeHu73qpWhB6mq7vSA9nXmCPru9dsiq9xcCu72geWGrG7a6vRoRhdkzW7q9Lmg4Pjjyub0kx1FELXy5vVb4dtE++ri92jI4SLptuL3MHIAZCNi3vfxyQeKkOre9MEZgoxqXtr26UgvA+u61vWxscanXQ7W9UBLjlj+XtL1wmfi0t+qzvYwoj122P7O9Eo+JKqCXsr22cdiCxPOxvWCWtN5ZVbG9Qr7RlHu9sL2+/wJaKC2wvXjRSNqCSq+98FFMQBBNrr3YNOVrPGOtvQTKwjsIjqy9YAPcHTHOq73sJ16yMiSrvcShRY9EkKq9TE18d1sSqr2wceI2KaqpvQBhmp0dV6m9QOgaBGgYqb2ojh8n+OyovXhzd36B06i9OLlQMH/KqL1AG3TiNtCovXjppKC+4qi9kLQpFgUAqb3Q0jH51iWpvXipvuzoUam9AHWJNN+Bqb0QqqcMWbOpvcDJyp3746m9oAl1SX8Rqr2Yt7gLuTmqvUDiKiOnWqq9gNhurntyqr1Q/vK+p3+qvTA7sMrlgKq9GA66BkJ1qr2Yf9ldIVyqvWC3mmRFNaq9+MMkGdAAqr2QRR+VRb+pvSCioiKKcam9yCDgs94Yqb3gwA7d2LaovWCyvU9aTai96KCYGYfep70YF8UouWynvfDTKUFy+qa9sAp71EyKpr0oI0iK6R6mveivzb3euqW9yAltCqhgpb2gd5AGlRKlvfBcBmK50qS96O3Ij92ipL0IUreKcYSkvfDXF0KBeKS9aFu2la5/pL3gnq/xJ5qkvWiUf0+nx6S9QIt93XEHpb0ovKAYWlilvcAlGCnGuKW9CCFS4rgmpr1gw7pW3J+mvQyQGpGPIae9zBOcvPeop70cg6EMDzOoveykefW4vKi9rC8UUtRCqb38J9OKTcKpvQQXgCkyOKq9RO0ircOhqr1cPO3khvyqvTymFyJURqu9YMBfz2N9q73As6g3WKCrvbwzE8VGrqu9CJ9827umq70wKEXAvomrvSAg3PnOV6u9VJtWweIRq72MThtjYLmqvSjiU9YUUKq9hExJrCrYqb2gWe1XHVSpveSDUV2txqi90H0Vfc4yqL3YaTEemZunvWCYrOA5BKe9zFEO1uJvpr24b5Vnu+GlvejnGvnRXKW9CHDQZQ3kpL0oj7LqHnqkvdAdniB6IaS9BD6rNErco73w0T86a6yjvQhS/2Bjk6O9LNKdNV+So73YzPf2LqqjvaxMkvxG26O91A+flMElpL2EAjnMYYmkvQgXqRCWBaW9GMxy536Zpb3AdP/h80OmvWBHkQWLA6e9jMfMSKHWp710usOGYruoveRT2G/Tr6m9FE09ptixqr1QanRCP7+rvXBOzQ7G1ay9dEPjNiXzrb14w7aBFhWvvYY5q16uHLC9JAOBmuWusL16fKWDJUCxvdhVqOZvz7G9xgfEadZbsr1oJ/bme+SyvaTasbeWaLO9dI0R23Hns72sW7hobWC0vRJw9iT/0rS9xixmTrM+tb0yZ97mK6O1vd5/3FQgALa9oiEAel1Vtr1+wjB1xaK2vZKoZu9O6La99NotFwUmt716lTrXBly3vSBIQSSGire9FLHzTMixt71uGHvUJdK3vWrJQEgJ7Le9LKub9u7/t71+7ExTZA64vYTnLdYGGLi9Kgv0EYMduL0YDa4Pkx+4vWwat478Hri91gAj2I4cuL0MN6ZvHxm4vbjEVneHFbi9kvxL2J8SuL2IVv7nPRG4vRDHQtIuEri9QvLkazMWuL1gae+w+x24vRqGkaIiKri9svoEvyk7uL082sGudVG4vUAFoQlLbbi9co8U7suOuL1oG/7w9LW4vRYN2OOc4ri9tsO613MUub1g/yGnA0u5vfh8exqyhbm96oywHsPDub1oXPtbWwS6vQZv7kWERrq9jq+wiTCJur1c1HPHQMu6vYJA1P2JC7u9MHyfddtIu72IU+jnBIK7vW6v8AXdtbu9bjzF8Ubju70AWDNJOQm8vbaiC33EJry9nunxkRc7vL2yW6aPhUW8vfIV5peKRby9IGpq3886vL2sh5v4LiW8vcSfFvu0BLy9YEkvK6PZu72MTEpBcKS7vThwayXIZbu90LXErYoeu720MA2pyc+6vXBCG4nFerq9SHE1Eukgur08GpKsxMO5vSKc6hwIZbm9dG0g23sGub20tUca+am4vTJPlnNhUbi9KrgQ9Jb+t73ql13Qc7O3vWj3KYXBcbe9blLzxDA7t73A7HXpUBG3vS79Ce2H9ba91gg16wzptr1Cbe124ey2vRo9HLHMAbe9Hhmj5FYot71Gvcgnx2C3vSTFvfshq7e9iu/DcCkHuL16EelvXXS4vbg0VxT98bi9psKgjgp/ub1+EaaFThq6vQBBRmRdwrq9QqLLU5x1u73cGJdXRzK8vfCCa/J39ry9SISecSzAvb1MyAoyTo2+vf5Q8Oa4W7+9CwMzgKAUwL1GZ5lG3XnAvU87Dg2A3MC9bJwnyXw7wb0J1pGn0JXBvRvAMPuE6sG9pHrUbrE4wr2dHLr9fn/CvZmxRA8qvsK936S7QAT0wr1G91xMdiDDvW8hi0UBQ8O9F4NMjj9bw73++Edj5mjDvT8UvFfGa8O910r+C8xjw70S1bc4AFHDvfo9jkmHM8O99rQNzKALw73JJb6aptnCvZb3fOcLnsK92Xzu7FtZwr2cNBqbNwzCvZ2KBQlTt8G9PUxLbnNbwb3IkU8BbPnAvRY0aZ4aksC9flHRMWQmwL0OYddrYm6/vULaiQDUir69cA4NM+ajvb02VhVKU7u8vfyqhm6+0ru9sMnab63rur3UNr5egwe6vSJxoJN6J7m9OKlAoqBMuL286OgR0ne3veYxZze4qba9BBYqesjitb3SEb4ORSO1vZaST9E9a7S9kFxjIpO6s72cLPjI+RCzvfQMboz/bbK90qru+xDRsb3QWpDSgDmxvUoMSIWOprC9fFIqD24XsL2czGrQnhavveg1LyDMAq69pEh2XuDxrL1kqpKie+KrveT+9z9u06q9QLWR1cPDqb0gvFIHy7KovRzbdAYeoKe9+E62z6WLpr2kQqOWnHWlvfAfvCqOXqS9iB72I1VHo71kzA7ZFjGivdC0Iug8HaG9mOBa4W0NoL048k4vBQeevRjRKPn4Apy9+KfZffQSmr14BbwUVTuYvaD53quBgJa9kFKxpdDmlL2gc2NYc3KTvfA2lSldJ5K9wLWyhy4Jkb2oOATsIBuQvcAlT0Pqv469EA4DW8+zjb0Ag0OFRxWNvWD3uhdx5oy98P4DwiYojb2AlYxP99mNvaATELQk+o69+HQvgNNCkL24NNK7GjyRvah/nnsnZpK9sEU7sqe9k70I8IeCwD6VvUC+DKQZ5Za9UCqaYOurmL3oCQ47DY6avZBWHa0Dhpy9YDm4ThGOnr381jQoJFCgvVxKUPlOW6G9MEJ2h35lor3w+vq6qmujvWTF0WjXaqS90KzpQR5gpb00DwrYtkimvawORtb/Iae9JKSZkYbpp724sBHoDp2ovSRQX6OZOqm92NMhlGrAqb2EvKJaDi2qvZyljPNef6q9rJJWOYa2qr28nDEvANKqvQgOrVqb0aq9BItSZXm1qr08NZJ2DH6qvazhQQkVLKq9xDI+fZ3Aqb00o4Bl9TypvZDIrZWqoqi9LNdnzYHzp70oWa1wbzGnvbThbDyPXqa9lAZAtxp9pb2UJ4UoYI+kvULetKK5l6O9mpYnUYOYor3wof3FEZShvdALMYRFooU9oLD3ykI0iD3Awv/41QmLPfAYEfmJJ449uHbWdtnIkD1wjxJdJ6aSPUgh2a10rZQ9MAyKhD3glj3oatKupD+ZPTBa0gBjzJs98Hf3r7WGnj3QyVhrJ7egPWi6rtokQaI9CBBxto7goz3wqiCDSpSlPXBrgdvjWqc9CE6a7ooyqT1Icz06FRmrPXBFVIb/C609wMbj9HEIrz3w3dZNo4WwPWBM1TGJiLE9uMgOAxeLsj14jaZiYYuzPWCts8drh7Q9VGPw+S59tT2I57AZoWq2PVC3l2+9Tbc9eNXkWowkuD2ch3S5K+24PWwP7BTVpbk9GFD7FOVMuj2IvIhu4eC6Pexo3h9+YLs9XByhBqLKuz2wItc9ah68PdxjbUUsW7w9WGnvIHeAvD34e6YzE468PcwU4XUBhLw9YCn9iHlivD3M3/LD5im8PcwLX+7k2rs9KBgK1Tt2uz1kAwrr2fy6PYiaHO/Pb7o9ULvvc0vQuT38lSHMkB+5PXzEGxX2Xrg9yDf3ed2Ptz3IUTrRr7O2PcAFb8HXy7U90PWjubzZtD1MtbvKvt6zPfTe5fYx3LI9kAjd1VrTsT3wrS3XasWwPUjAIpf7Zq89KEXxhy89rT3QrqnCRQ+rPWAEOyTb3qg9YLK21lKtpj3oKjJd1nukPQgWySxVS6I9mGUYgYYcoD0gdOxj2N+bPXAurRWpi5c9oClcncE8kz3gb55UKuaNPSC07ZWpXIU9QJvLhv23eT2AjJpJqYthPYD/7ai5P2C9wKCGycn7eL3gjsS/KOiEvcB8AuybT429wPMda1Xakr1w6XTWlQuXvVCOe74kO5u9UHKYMTlon70YppGoz8ihvWBtRlDb2qO9EHYlnDfppb1wiMq7pvKnvZDRsgS59am9kEh9oNLwq734fnOMMOKtvRgSZhHxx6+9SMDzww7QsL3YmBrUWrSxvWBsVr3cj7K96iQApZphs71sN8lepii0vaTn23ci5LS9YqyQEkiTtb1QUZjZazW2vZK8y0gByra9aOJrw55Qt73+Ues0/8i3vcjU3QkEM7i9tvuAEraOuL1MkHZ9RNy4vbBOhvUEHLm9fPFpBXJOub3cvEZCKHS5vY7lRgnjjbm9NDz9mHmcub1e0t6+2qC5vTDwdxgInLm9SEifjhKPub22QUexFXu5vQI82HEzYbm9IjzJV5BCub0quQshTyC5vb5t2tuM+7i9vKrSal7VuL3UuzJYza64vZwwr6/ViLi9gO4CnmNkuL0KEfeGUUK4vSR5ErhmI7i9OkWawFUIuL3atOpcvPG3vTJiEHQi4Le9JFGYMPrTt71M3egmoM23vdq3aKFazbe9gn+Bn1nTt72yOZBQt9+3vWxmYh148re9OMjP44sLuL06UvX5zSq4vdj/qXoFULi9ornyhuV6uL03R95ODqu4vek5CUsN4Li9DY/o614Zub15WBkeb1a5vVeHx6Oalrm9hnuKYS/Zub3gd++3bR26vZFUzVuKYrq93toqra+nur3zqihv/+u6vfsfPxiVLru9CYa9poZuu71dkoc356q7vT1dLyXJ4ru9i9VwTEAVvL33w8RkZEG8vZw3HkFTZry9jNrshzKDvL0+B95QMpe8vcdbnJmPoby9gHI/85ahvL3Iy54+ppa8vW9ixjgvgLy9HCUXcLhdvL1jlYZS3y68velAbSta87u9o93Q6/mqu72DNnLCqlW7vWsVqKd187q9t8g14ICEur38TMdwEAm6vflWJoWGgbm9tr9OvWPuuL38JXgOR1C4vd7l+o7sp7e90mIl7yz2tr1I/LOG+zu2vWg0AfZkerW9wBHO6IyytL3W85YTrOWzve5mk0cMFbO9cqUV1AVCsr145aRB+22xvYDgx01VmrC9FNMo7P2Qr72oK4R+wPOtvfj2ptKyX6y90A4u7nvXqr2oVOBkoF2pvYgo3ut49Ke9hGFDbCuepr3AlpeFolylvZC+MQ2EMaS9GMJx5iweo71kr07WrSOivWi4S8jIQqG9AAKxFvB7oL1IhXSdjp6fvRjhiPRLeZ69CO8eSjeHnb0AKWNy7cacvajhxxWVNpy9gJ9W3fDTm70w5lXncZybvbjhOw1KjZu9mBat8ICjm71I0SCUCdybvUg/ZeTWM5y9iB/1F+mnnL1AiS88YTWdvfgSC2aN2Z29KAJ3d/aRnr3QQkeDalyfvUDyG+Z/G6C98Gq3Zw2QoL2UAXepNguhveSkpLJ6jKG9LDKlu3wTor24NPAzAKCivSRxynHoMaO9LBu2YDHJo70IS1Ak7GWkvQy/gFY8CKW9cP20UlKwpb2k17QQZl6mvcCAETy2Eqe9JCIMJIPNp70okykRDI+ovRAimaeMV6m9DFHQhzonqr2cxeRYRP6qvRBgUcbP3Ku9/G9LrvjCrL2EwgL8zrCtvbRmZaZXpq696KjWgImjr72kYJ3LJlSwvZYNNPM+2rC9UukVwPFjsb3aP2KoGvGxvfBuC62LgbK9sJpGEAwVs70at0xuWKuzvYaOvxciRLS9KpVAOg7ftL0QjJMTtnu1vao2nJ2mGba98PGdRGG4tr0MrcfeXFe3vSIl/0cG9re9nK11lcGTuL2eWFQ46y+5vfRT9pvaybm9wLQEbORgur3m3garXfS6vVrGg5Gcg7u9PIep9/sNvL0EBao83ZK8vd6Sp9KrEb29Eq4/MN+Jvb24Q6YV/fq9vSK8wDKbZL69Eo2F8mDGvr0MnS+OCCC/vWLTRSlfcb+9jCDLi0W6v71IQZ3er/q/vRhJZ4JSGcC9C8EBMR8xwL1LUyo600TAve/BaR6LVMC9O0P3gWpgwL1GyfwPm2jAvTGe/BlMbcC9jEdyR7FuwL2SKPVsAm3AvfwF7SZ7aMC9Fc1ChlphwL1OxNO64lfAvWqODEhZTMC9xEh07wY/wL0MgC+WODDAvW66VCs/IMC9TpXuc3APwL24EstIT/y/vTrfwHmL2b+9DlFLU2S3v72GBn21tZa/vb4ZZlZoeL+9cu6HkXFdv73WP9GV0ka/vaS/OJOVNb+9Lncuicwqv71GZZFyjCe/vSrIaqzqLL+9Tl5qw/c7v71Kk8k2ulW/vS7/tTApe7+9mqeXqiatv70MbBaQeey/vQi2jsjjHMC9WGoF/MdKwL0VzyQ/E4DAvbQQrHXXvMC9Gv3wrgwBwb3n+APKj0zBvTGvH+ohn8G9+xUiBGj4wb1XMHwP61fCvcZJ5RkZvcK9KzuXjEYnw70i1XrMsJXDvRFuWw+AB8S99AXOEMt7xL3ld2zsmfHEvc1yCADqZ8W9Y41fnLHdxb3qc1qw5FHGvTsNQ0x4w8a9oOLzA2cxx73QmBd8tJrHvdylmRRx/se9ET97gL1byL3H8pSdzbHIvbaIhAHr/8i9HjPtKHdFyb28k3p07IHJvSZHOszftMm9p+A52ADeyb1JSDwaGv3JvRAkMOUPEsq9dG+GCd8cyr2kuQurmx3KvcVCVpRuFMq9O6i4HZMByr2sMBMmVOXJvV7yIVIJwMm9GhmKtxOSyb1SYAus2lvJvcQlpGHIHcm9ic/IX0fYyL3Wpcb1v4vIvVfqD4OVOMi9EXXRySTfx73YNQV4wn/HvZYDIkm6Gse9rhpv006wxr14BdfauUDGvXCokNYszMW9FlcowdJSxb1qNoEA0tTEvUIrHw5OUsS9JJota2rLw73YZ+hpTUDDvc9KNa4iscK9qbeEjR4ewr26jRfbf4fBvdkp2biS7cC9VP0vxLJQwL2ImidwmGK/vcpnAGS6H769Lq74+erZvL2UyisQbZK7vcho9IKkSrq9eIofrxIEub3WYOA+UcC3vSiExcwMgba9ttfyW/1Htb3ujbiZ3ha0vXQPj/Nm77K9oqPeVD7Tsb2OWESp9cOwvTzGAE37ha+97EOhyjyjrb1kTraQ3uGrvYDUtGWhQ6q9BKiWOcvJqL00oUqKHnWnvUDSZsHTRaa9mIiLUZc7pb0Qy2FvilWkvbhM6zBIkqO98LrSeuvvor1Qq76rGWyivRBygxMQBKK9aA005bS0ob3wQBdIqnqhvXC+RxlhUqG9IAwPOi04ob0IPNc3WyihvVCwcnJGH6G9sBnjwW4Zob0gUlc6ixOhvfA4m62cCqG92ISzn/z7oL3YZ8hja+WgvdBjA2oaxaC9UHrxM7OZoL3obPdeW2KgvYhQece2HqC90Hg6a8Wdn72Ae2fw4OaevfD/Dy+4Gp69AOnl/QI8nb0AvA7NIE6cvdC734z3VJu9QEZ15NNUmr3wChzkRlKZvQDpi0cEUpi9AG0ltL1Yl71Qxr0PCGuWvQDCxl06jZW90OpBX1jDlL2AQkVV9BCUvWCotqUheZO9QADGp2P+kr3gaugHqqKSvQBc0ylNZ5K9YJ6nGA5Nkr0AXLuWGVSSvbBUvYUOfJK9oGPiNgrEkr1wtEJ4tSqTvQDQGCpVrpO94FVFlt1MlL1QW6knAwSVvRD2ZkxK0ZW90BNIdBqylr1AtKmoyaOXvUCAbkevo5i9cEW96S2vmb0QLxJAvcOaveDArtjy3pu9QMWDUon+nL2wdd6PaCCevVAD16ClQp+9wD2MwMExoL2gctyRusCgveCSzbmPTaG9UKY8SKvXob2Y8KrJjl6ivVACIDbT4aK9sMiwjChho73wg0FcVNyjveizkSUzU6S92PxXELnFpL3AOrMC8zOlvQjTjfUGnqW9cFfBmDQEpr30I5ws1mamvSzQYaZgxqa9LAoUl2Mjp71c70H2iH6nvaSpS/qR2Ke9VFbud1YyqL1kq5LYwYyovbQ43bnP6Ki9XHZzz4VHqb10HFUA7qmpvahgITgPEaq9lFiHSOh9qr1QEtXFZ/GqvfzO0tFibKu9bE34so3vq720KUDzdXusvRD/cxZ7EK29TN7/K8murb2w4wdHVFauvRCsksPWBq+9wCZSQ8+/r73qwLdQQECwvfD/uQv7o7C9LFpeZIMKsb2Sgk9lLXOxvYA6lso53bG9gPhKZtpHsr3QNnpHN7KyvayDPj1zG7O9xjpCirGCs70KRiBSG+ezvQIAI5flR7S9zIvuklWktL2y445uxfu0vYbaeyKnTbW9mut2yIeZtb1EFfBMEt+1vfRwooYQHra9JFufwmtWtr2ohd3pKoi2vTLauZJxs7a9XicQnX7Ytr16EhOVqfe2vbAYesheEbe9aJAqBBwmt70YP9+CbDa3vThy23PlQre9sgjbmSJMt70IFt5gwVK3vZ4J9jteV7e9eMknJ5Jat7102Y8P8Fy3vQJ7m1ACX7e9tkqCPklht71+KsWVOmS3vYx499xAaLe9JE4IVbttt70qswoY/nS3vRgLa49Rfre9YGLBWPOJt70Creg+F5i3vb6x+AXoqLe9hOTNuoe8t72cTsk6ENO3veIsRPeT7Le92v8vOR4JuL12Rtacsyi4vVoNLBpSS7i9vG6qNPBwuL3Iy3c8fZm4vWxLRavgxLi9+hwOH/nyuL20zKbQnCO5veByhNWYVrm9jvZvRLCLub2aIXiIm8K5vU6TDuAH+7m9KHD7qJY0ur1ojKYP3W66vWbs1UBjqbq9tmOO4KPjur161ojFCx27vfSM1AP6VLu9yCVjw76Ku70+09Kmm727vfxC51bE7Lu9WIMY8V0XvL3CVyiifzy8vfZpVfcyW7y9HO6cAnZyvL3eLKBlPIG8vd7pCD1xhry9BFCsj/mAvL1svHcbt2+8vWjHNX2MUby94LD4gGAlvL0YfYhwIuq7vRLedKfPnru98sLzF3lCu71QyOHZSNS6var5uOOHU7q9zIqy06O/ub2K2jfiNBi5vaDDHPECXbi9HCo9zwqOt72gxI8wgqu2vTwg7ebatbW99Crm8sSttL1SEx4AMJSzvTj8izNLarK9toAt/4Mxsb3Ult7OBdevvWwSsANQNK29WFThKAp/qr1ovmKnrbunvYyuidr77qS9iF13Zuwdor0A2UBDNZuevbhyNP1hBpm92PY42qyHk71wr4NFblKMvYAZqtuf6YG9AOG/Zmaeb70ASk9gaCJKPQDgB1gdR3U9YF9GuiYOgz0gggKlP9WKPZBMzkUH95A9cGCWzt8nlD2gyWuxv/mWPdBn4Wc+apk9kISa6e13mz0gQDf+UiKdPeAOwBbYaZ49MNMPt75Pnz3wr8XeDtafPSAjA36G/589YN895X3Pnz2AIz2410mfPTAvxXLpcp49oFZUDmpPnT1gHe1YX+SbPYAOWZIJN5o9YEH1dNFMmD1AhnfmOiuWPeDZNUbY15M9UJU/nz5YkT0gQiUB7mONPYBoyRPq1Ic9ALAT8RsOgj1A2XErvDN4PQAaJuytCGg9ADD5/Qu3F70AA2a2e8dpvcBMzslEeXm9QO+r8tAHg70gQKqTMEyJvYA7iEQ9g4+9kJVisZrTkr0Ara48k9mVvRDi08p90Zi9QLKIvsO5m734V2+GRJGevWC6KxSrq6C9IH+bTOMFor3Av5+ybFejvUCQJmmgoKS9GE9qoQzipb3MT6tfcBynvXQVi1K2UKi9/H5Ktut/qb1Qe7+7OauqvSi1n8Db06u91BP2+Rb7rL2kJxcCLCKuvUAWgmNOSq+9niiq4Es6sL1szlHw/tCwvbYmrWGkabG9yNNhXoMEsr04CE04wqGyvVpN8YViQbO9cMWClj7js71mugfVB4e0vcDy0jtGLLW9WE51xljStb34DB0odni2vSIuP6ywHbe9mqX9VfnAt70gRLURJWG4vUwVJYXy/Li9sAt+hxCTub3oWRgDJSK6vYB02HDVqLq9kpi2Fc4lu72uuaCYyZe7vUaPP6qY/bu9fNQ/dShWvL32GEV4iKC8vdpFy6Xw27y9iuQVjMUHvb0WIWK8myO9vc6qAFs5L729FIFSRZgqvb0OuUNu5RW9vQJEGGd/8by9kOR06vO9vL3im99s/Hu8vfQwhFZ6LLy95LDQu3HQu70eNZ7+A2m7vVpMsyhr97q9LDko9fN8ur2S8Ckf9/q5vV6RzyHVcrm9gO175vDluL2AMV7+qVW4vZB4J2FYw7e9+tpejUgwt72SmoxauJ22vf5LWDbUDLa9bqWHnrR+tb3a66aqXPS0vRL1IpK4brS93GBv2Zzus73wA/0XxXSzvby8uuPUAbO9vi7BbVaWsr3uCAwPuzKyvfDA4w1b17G9esyVdHWEsb0yAftuMDqxvSbengaZ+LC9QmfqQKO/sL3ivA6PKo+wvfzxcrrxZrC9vPGJI6NGsL0YkXxL0S2wvY79dfX2G7C9AIj/P3gQsL20KWsppAqwvXjn8BO2CbC9kI3sCNgMsL0SwHeUJROwvVQGkbGtG7C9RvmJRnclsL3y15G1hC+wvd4SOdHXOLC9UL4mbnZAsL0ayDI7b0WwvUr3bJXeRrC9eiTINvNDsL1+c/ro8juwvZ666Uk+LrC9Kiu1eFUasL1sZQ95t/+vvTTD/000va+92ElztQFtr70AackXUQ+vvRjU7xalpK69DDcu1s8trr0UuSFy8KutvcyLoyBtIK29nFvQQ+uMrL24BuR4R/OrveTO4zSKVau9VOgRDNy1qr1I5bvnehaqvaxZoqmream9UIA3VKzhqL1oONRjp1CovfDNsQSnyKe9aAwFNYlLp71IgwFt9dqmvaCh6LxSeKa9eMsS0sAkpr0oQOVWE+GlvfCbFb7NraW9SJaIUCOLpb2YW6qV+HilvZBva+TjdqW9eKpz3TSEpb2gFelm+p+lvSBcdY4MyaW9ZOSpWRX+pb04DywFnD2mvZhkDNwPhqa9POdwpdTVpr2EotkBTiunvfDMzFrshKe9TEe/izXhp70Q1MbTzj6ovXRYtoKFnKi98CNDElj5qL2cJez/elSpvej5Cw5cram9GCAn76MDqr185ofRN1eqvfjRXTw4qKq9TLDbo/z2qr2UHkT5EESrvZBQJdMvkKu9aJvVfzncq70Q1xCvLimsvTix+DsleKy9JJ4fY0DKrL2Yo8JmpSCtvQB+9d51fK29WPiZCsXerb0IAVqsjkiuvdjjLmuvuq69WPsU5941r71Ultuuq7qvvVLzoIa7JLC9qF2jEjlxsL14VZuszsKwvYjIjA1lGbG9hiAm7850sb2SVg45y9SxvShG50AHObK9zAlDzSGhsr1iIrQ8rwyzvWpJeCw+e7O9iDMJolrss71mwbJdkl+0vSoB0oJ41LS9wKXHqKlKtb0czFMhz8G1vbwG8YqhOba9AJC4zemxtr3auuNqgiq3vXTCC+lWo7e9gCI6amMcuL3EdwCCspW4vSw+o+FaD7m98NB+UHyJub2WXeHVOgS6vRaW6e66f7q9wt3mbxz8ur3wysqRdHm7vSZ1xW3J97u9EPuh1Q13vL1sVqFgHPe8vWyeG9Szd7297pEA7HT4vb1SAtY24Hi+vSC0wUxV+L694KGnFBN2v710jT45OfG/vZeQv6FmNMC9o1gXht5twL3rtD2rcaTAvVkQWIyH18C9ePaJvIQGwb39iYxEzzDBvRyxdfbRVcG9WEZbbgB1wb3B9dd72o3Bvf716yDwn8G9Xoxvu+Sqwb1/11Dvca7BvY8uRJVpqsG90O6lQ7eewb3+vERGYYvBvdWxJ9CIcMG9lz2mhGlOwb2QKL9mWCXBvYbNJrfB9cC90RVA0SbAwL2cMz3lGoXAvYvh+H0/RcC9mi6dVUEBwL1OW7vAp3O/vVoxE9ha3769LjutQAZHvr2MzxXBCqy9vbIyF1q3D729vlFH4kNzvL3qc3pByte7vWxu+kRBPru9/C+pHHmnur38IU2KGRS6vX6cpUGfhLm99GRnilv5uL2guV+ddHK4veYfQArn77e9iIZBg4lxt71O003lEPe2vVZ8WH4UgLa9VAyvihMMtr1c5Q+Hepq1vdo9zlGpKrW97G1RXvu7tL0MjuDEzU20vfSqs6aG37O9yN5cWJtws70QVX0algCzvUhAyUMdj7K9KvOw0fcbsr2+dDc7EaexvfTMlMx8MLG9yM0uGXi4sL0oAZTgaz+wvfj0ZAHai6+96FE1gHSZrr2E1l/0c6mtvbhl1Ynsvay9ODAXVi/Zq70siyGHv/2qvYjJrFBELqq9tDvC4Hltqb0ca/V4Ir6ovXT8nEr0Iqi9rPOQp4eep71YnV4fRjOnvUTcEOpZ46a9XIau956wpr38KHcplZymvWCLOWtTqKa9PCl1BX3Upr18Uaa9OyGnvdQS/8k5jqe9AMOMUaAaqL3UnfhPF8WovVS229LJi6m95B6DQWtsqr00tPG1QGSrvTgQIbcrcKy9BIYk0rmMrb2I3DvHMbauvRhORW6l6K+9SoAfrQCQsL00+tF4ECyxvTybup5vxrG9vhOJ8RRdsr3awNN4Ce6yveRMuKlvd7O9EHGzwIv3s73uc7Mjymy0vfBwTujE1bS9phLlC0kxtb1iY4DgWX61vfo4wWczvLW9ANy3ikzqtb22eVbNVgi2vWqN17I9Fra95tVybiUUtr1k7PEPaAK2vWbU+2uS4bW9ssvjomCytb1WexJouXW1ve4WfKCoLLW9jP6F01rYtL22beAAF3q0vUa0xrE4E7S9pNc5BCuls72oLJ+1YjGzvXz8UZ1YubK9qq5sa4Q+sr3i5LWvVsKxvVqRWo40RrG9DI17RnLLsL1AOPnGT1OwvSzr6D3pva+93DtmBtrerr30Zu9jTQuuvUTZpYXcRK29zNOgStqMrL2QUo9cU+SrvTDayyEMTKu9MLSyKoHEqr04/sD6502qvTw5ulox6Km9WLqWBw2Tqb1E4LDQ702pvUjhE1cZGKm9/D+7g5nwqL1kFJUVV9aovcARYr4WyKi9GGRYGoPEqL0wGFGbNMqovXjAtxS416i9aO1uApXrqL2AJlVNUwSpveBeHe5/IKm9IOmna7I+qb0oe1hqj12pvfj1H47Le6m9SGWbMi6Yqb24sjF1kLGpvfCafDrexqm9CEHURRfXqb0Q6Od9TeGpvXAejb6k5Km9gB1lmVLgqb3QtJsLntOpvbCx6u3fvam9IMrls4Seqb0IyDMuDXWpvZjuVecPQam92ANfsz0Cqb1I4zowY7iovRjcrTJtY6i9MNw+WG0DqL3o1bBznZinvfAUmkFjI6e9OI5FV1Kkpr1IVKVqLxymvaDczUXxi6W90MMWccD0pL3ARQGN91ekvfhu+3oet6O92BDn6OUTo70AnMROIXCivbCMA0y/zaG92MA/yr8uob2oylQIKpWgvTh0WbMBA6C9sKTyrHT0nr3gIRrtVfmdvYBStOMCGJ29cPrOM3BTnL0QkeY+FK6bvQCBK+PQKZu9ELdY5ubHmr2AoSjq6YiaveDGD1a5bJq9QHa7yX1ymr2gcCxGqZiavRDwlnT73Jq9ELOSJZA8m70A/QlK7bObvbDBkbIVP5y9ILN5HaHZnL2wjhrQ1H6dvaDr8je9KZ69SH3frUvVnr1YgkuEc3yfvdDzbowjDaC9JO6cQQhVoL1kF0kdtpOgvbCMg/cvx6C9HMC3E7ftoL0spxVw0gWhvbgKBVxVDqG9QKc2q2MGob00GhIJdO2gvWj3FXlPw6C9aPWYYg+IoL1o35IiGjygvXgaa4I8wJ+9KJwmEhfqnr3IWqT+FfidvdgWIvHq7Jy9IHSQoZbLm71QY0EQVJeavejrj5qGU5m9AKzwHrVgPL0A4JO4w2wYvQB89qIyCjY9AE6MZqljTD0AtelhSrVYPcAQ+VU/nWI9QHa4CKb2aT2ARPxrpz1xPWDdhx3IHnY9IKkSgoOmez1Q//iqfu2APXA9ZVckYIQ9oJcmjxAsiD1gC8+qzVCMPfA6xTY2ZpA9MPKjerbNkj1wsKkeU1yVPVCLg5ybDpg9sMCX0ELgmj1gtbd7I8ydPeBw5LIiZqA9wLbDmPfsoT0Asbni3XajPcjUas7Z/6Q9MOCC8LWDpj0orD0tFf6nPZjFu7KFaqk9kOIoApjEqj0IdSu18wesPfjEXHhuMK09ECmRUyM6rj1YF/WkhyGvPYDGzLR+4689GFoII7U+sD3skyc+nXawPZBL7t28mLA9tPRBRKqksD2wxZj1TpqwPYyFfXLnebA9LBPOrwFEsD2IMrn/8fKvPXjjmczgNq89CJRgyZZWrj0Y5SuESlWtPYDXpm2NNqw92PQ3yjb+qj0ogg42TLCpPbiH6PnpUKg9YFNVMyvkpj0YhX1YFG6lPZiCxG998qM9MEpHDgB1oj0oFF715figPZD7KIQ4Ap898A/GnE8gnD3gJkf0PFCZPZACsMJBlZY9APeA1LTxkz0wBFcnB2eRPcDHKoOc6409gOCwsqk7iT0A0+dmWryEPWCSJ8eOaoA9wHxeuTiEeD2ACq5LAnxwPQDtW6abYmE9AIApwSyDMT0AwDXjDG5ZvYB7PWbFa2u9QGURBGcCdb2g1F9/oEt8veCPPm5xzYG9EBYQ1/t7hb1Q3HAzdzSJveCC9cT7+Iy9gD5PRFNlkL14eE+Cy1SSvTDe1w92SpS9CNKwjGVFlr1IUKDqOkSYvTi6BwgtRZq9sEg4bhZGnL1AtD6sgkSevYQ+7tXeHqC98GBrcnIXob38VVYwfgqivdCb9K9/9qK95ImlQvnZo718VmcYerOkvUAN7T6ogaW9HNUTWkhDpr3Ico69RPemvTA8Ym+znKe9oFV6F9wyqL24LBmFO7movQyN6KKIL6m9lL64pLSVqb1c7W2J7eupvfRtelScMqq9qK503mNqqr2EbwSYHJSqvRwYm5jQsKq9lB4jh7bBqr00p9w7K8iqvYhO17+sxaq9ENKu1M+7qr1wyf03OqyqvaDWHLyamKq98LJ5GqCCqr2gc9568GuqvdzQbzYjVqq9bOuFVLpCqr2s6wLBHDOqvSDlSNSPKKq9eKbW+DEkqr1wohur+CaqvVgF/2atMaq9TDYs2OtEqr0Q36nNIGGqvfjO3dyLhqq9pNCPSkC1qr1o0wXbJu2qvWhBnH7/Lau9pITZ6WR3q71YxoeA0MirvYzynvufIay98AXp1BiBrL24U6rKa+asvQBXPXe5UK29UD6lYBe/rb1UCrQylDCuvYzjkAI8pK69JPfWDxwZr71krLV6Ro6vvRaAcG5qAbC9QtyHoPU6sL0vnzneXHOwvRl/9RU/qrC94lPJ7ULfsL0u6cP6FhKxvdsgUsFxQrG9od5zShFwsb3nYw7BupqxvThgdAQ6wrG99wCbKGDmsb1UqsuwAgeyvRDpMLr6I7K9jqb2eyM9sr2IsSccWVKyvW4Fbhh3Y7K9x4P8W1dwsr1tAiML0XiyvdIq88S3fLK94xHLPdt7sr0ajcBQB3ayvWH3sQUEa7K9+1ZSoJVasr3SOyJ0fUSyvc6z9n57KLK9imMyhlAGsr0ZM2gTwN2xvQ9JL22SrrG9EgUa9ZZ4sb3ClpvrpjuxvTxPAYqo97C9ov2zcJGssL3qoUSKaVqwvboIU3VNAbC9EFoWeN9Cr73MfEzRNHauvThdbBRgna29pEnLcVa5rL1gjrPAPcurvTCtwf1p1Kq9vBW7a1rWqb1UmqwVs9KovaTxsTE3y6e9MIaDhMLBpr2kc/YQQbilvSjX0gGmsKS96Ozw9+Gso73Qbtbt2q6ivfyOlPZkuKG9mCWXFzrLoL0Qw/sU4tGfvfAT8Y7wJZ69mGqepiKVnL1AnhbnliGbvQiUHLAGzZm94B+++MGYmL0YaE4asoWXvXCTNEhdlJa9WGLfg+zElb0oApdDMxeVvfAEBU+7ipS90PxslcwelL0gy2ltedKTvdjesZqppJO9MMJx3iaUk71QFMm0p5+TvUDXlgvXxZO9UNQV31gFlL2ggeos0lyUvXgsH6TsypS9COZqcltOlb3o+ev72OWVvWiV1MYmkJa9oC9s3AxMl704kaAeWRiYvWBhWJrZ85i9sM8HJVndmb346AU7oNOavdD1osZw1Zu9QL+ZdobhnL1YY+/IlfadvbgDctdME5+9cPQRqiwboL1QxqkbN6+gvSjSxggjRaG90P5gfVbcob34c/JbQ3SivbgZEkNqDKO93LUXDF+ko72YIjySyzukvVgOQMhz0qS9kKhvHjdopb28p9uOEP2lvciOiFwXkaa99FythH4kp73sRbOskLenvRi9Q5WsSqi9OKvEXT/eqL3UgVhJvnKpvUTKlmOeCKq9rD7kNU6gqr3UqzTKKjqrvWCQaa141qu9INcA3Fp1rL1AoeuKyxatvTwBy7WVuq29bEF0009grr0oXV8sWAevvVj9uvnSrq+90P5lL9YqsL08ZN64TX2wvfYigJoTzrC9MDXdvVYcsb1iw0osNmexvXbX2OnGrbG9HPHP/Rnvsb2iAHs/QyqyvS4ThnRgXrK9cpOEEqCKsr3oobDgR66yvQbBoCK7yLK9IC8DhH/Zsr26iiu/QeCyvWg1b0rY3LK9CsB/iETPsr3kaB3ls7eyvS6/Ft99lrK9dikY9CFssr2o65lCQzmyvR767mKj/rG9KBGQoxy9sb3AmLgkmnWxvQRwEoMQKbG9Jl4uCHbYsL06ANg4u4SwvUB8R0jELrC98HDcbMSur71I/8ztmf6uvQjSuHM/Tq69PEZuba2erb0wT5uEmvCsvWT1hO57RKy9KIoMOoqaq728Ja2FyPKqveSHtRYNTaq9WEA7aQ+pqb2kYi11dAapvUiObIreZKi9EJEau/zDp71M1kebmiOnvcgAG6Stg6a9GP7uo2Pkpb3k7Db0LUalvWTICzDJqaS9vCi3n0MQpL0QWc3B/3qjvZSpPKSx66K9iE6oSlpkor0EX3fyPuehvUDE1n3edqG9EMrDmeEVob0s7D7TCsegvSyKJQ4ijaC9KMK1vOFqoL1QxkfP4GKgvXRnzSh+d6C9YDVEm8yqoL30iLPpgP6gvWzAIw/fc6G9IIToI6wLor18E0IvI8aivaQyaBfsoqO9HCmNmhahpL1ML2/IGb+lvTxqDgPW+qa9SGQzdplRqL3UYmEyKsCpvch8gvvRQqu9APVb9G3VrL3gAEGrgXOuvUIiVTwkDLC93KVvqGXfsL3q+JV++7CxvbLrnshYfrK9CPDgBPpEs71odYVtbwK0vZxVI8FntLS9gLzzbLpYtb38fR8RcO21vfgaFIHKcLa9UJ584Evhtr02GiS1uz23vQIKojErhbe90G0Gbfe2t7284G4VytK3vZov13SY2Le9dK6T06LIt71IFnIncKO3vdhygEjJabe9SgbzTbMct70mvtMfab22vYBmKctTTba9PhJsZwPOtb1YUAyJJUG1vQ7/l4d9qLS9EiRxd9sFtL0quzIxFFuzve6OySH6qbK9avWBIFb0sb1CfjiH4DuxvZixqBo8grC9+B4uX+KRr73Ut/yc1iKuveBrPy/quay91K7ZVm9Zq71kpenjcgOqvdTSe468uai9bOsnLNJ9p728cIbf+lCmvXQEVFtBNKW9kNgR93gopL2o29gVQi6jvZDlrFIQRqK9GDf7JC9wob1E3YzIxKygvUAb1h6s95+9yNFtwpS6nr0Q2nPD2aGdvcAEPuTarJy9eMjtKr7am72QdebQcSqbvWDFQEyqmpq9KCA0M+Epmr3YxTxbTdaZvcA6MqTinZm9OMJO2lF+mb2QexeWCHWZvZA4+V4wf5m92IG55bGZmb3I/3/oO8GZvegYBXhL8pm92GE14zkpmr3AzlvwSGKavaDXcH2zmZq94BktFMHLmr04Rz9F2/SavYipANOgEZu9IOmj/fwem71oVVAEPBqbvSAMRv0eAZu9aChWSu7Rmr2IgZT5jIuavUgxq2qELZq9iEDMhw64mb2Q66KMFiyZvfhkfQQ9i5i96EwDKtTXl70IJEmq2RSXvSAsxqvmRZa9wHOGHSFvlb341+e+J5WUvWj6SA75vJO9MInTJdfrkr1Qlw3WLieSvVgoCSJ5dJG9YOQg8hvZkL0I80b1TlqQveB5obf9+Y+90MY+sGGLj70wLf701nCPvTB9Fb5EsY+9MJCRVyQpkL0QaLM9C6yQvfBO1om0YpG9ELWNGLdNkr1gUogM5WyTvVCFywtLv5S9SCV27zNDlr0gNoJkMvaXvRApGBYt1Zm98MYURWzcm72gB8jVpweevUgx8zkMKaC9jMfGbkVbob2EobrTu5eivSzHE1+L26O9oDFl5Lgjpb3AaIc5PW2mvQinAIkOtae9ZOGgwSr4qL2MEo93oDOqvcy7MvaXZKu9EJJEp1yIrL2Yxk42ZpytvahKgMdcnq69cE1SjCGMr706hQGM6TGwvSSlxf3pkbC94uxKdWflsL1WKnqI3SuxvYxBDuHuZLG9+iCXWWaQsb0qdcd7N66xvYxLycF+vrG9ZAUDO4HBsb2Q8o5VrLexvSq9c5+TobG9HDiXy+9/sb0cpasOnFOxvQIZ9dOTHbG9wj7x/u7esL3OKPYX3piwvcLKOsalTLC9CPTXVDT3r73kKSsVNE6vvcA17ugSoa69JPXfXZjyrb2E3TnpfkWtvUizE0xnnKy94I4Kfsz5q73EI1tu+V+rvaTFa8/+0Kq91LpkSalOqr1gwbsod9qpvZg1L3mRdam9LH6V3cUgqb2kCewOhNyovYQ6N7rcqKi9LLG2+4GFqL2gxg8Jy3GovVACA8i3bKi9vEHePvp0qL1kdOgF/oiovcSy9qD1pqi9QB8kc+XMqL1Yt3FXsvioveS9NBAuKKm9JLqKzCZZqb2kpuubd4mpvawyDBYWt6m9HJmGYxzgqb0AA14P1gKqvQS9WzPJHaq9HHNzJ74vqr1g/371xTeqvbxz7Q08Naq94HcEpMYnqr0kl2QIVg+qvQCEKdMf7Km9XIRpepm+qb00qCe9coepvZw39oGLR6m9QMTQF+r/qL24vmLjsLGovcCmqDoSXqi9ZGiBRUkGqL3AYcjVj6unvUAYTasVT6e9kHYdb/fxpr1wn7CKOJWmvXTJ9o6+Oaa9qEigS07gpb1oE5UyiYmlvaCGK07tNaW9hJ3mH9blpL3Aa66Df5mkvVTVE+gHUaS9UO0tunIMpL0QCdE8rsujvTBd+OGXjqO9lIpI8ABVo700OUsDsx6jvSQpXulz66K9IPi0kgi7or28HgZmOI2ivaDQwIrOYaK9hJHil5o4or3IAdRjcRGivQwrk7Ys7KG95HLJO6nIob1EPiX5w6ahvZifudtYhqG9dH8eiD1nob381JVVP0mhvTBAcwQfLKG99LSCKI0Pob04IATwJvOgvVCV5IN01qC9TME0Rea4oL3s/R2q0pmgvcAPjK11eKC96LlWlfFToL0Qu488TyugvTCLOagC+5+96Laffc+Sn71YYWplpRufvQiOxIYSk569oB0Snpz2nb3A/9ikz0OdvWAnyJNKeJy9EGqyj8+Rm724dF7mUI6avXhgo1P/a5m9ADfqFVkpmL0IvRbcNMWWvZha+YbPPpW9oI4xLNSVk72AeoEWZMqRvaBsJXIyuo+9wKj9Pxaei72Q4dMgm0OHvfDa+XjZroK94JXVC6fJe72gIPljydZxvQA3P5CSSV69AMYjFSOnRz3AABKSh15rPSCYq2/5i3g9AJ/9l8e8gT0wM7kFDDOHPUAEC/W2n4w9eL42Utv8kD24AitzDJyTPWixHBUUKZY9eCmpa8OfmD3IPJlJIvyaPVAvctV4Op09+PcWTVxXnz1Mq3/c2qegPQDwnA5ikKE9jJs1vRFkoj0IjmIo6CGjPfBefYcVyaM93FheffpYpD0IbONWKNGkPdTyidlgMaU9/MD1Q5V5pT3wQNPG46mlPaA2o16VwqU9dClwWhvEpT1kpIduDq+lPcizVV4rhKU96D4rO09EpT1cUfgadvCkPSxheIC4iaQ9sFcAJ0gRpD3cTmiDa4ijPVwN/BZ98KI9QORgnOhKoj1EhSBPKZmhPaznKuLG3KA9WEWAvFEXoD2oQPkSwpSePfB4iEsi75w9MIf64v1Amz0gmJ5fj42ZPbg9ekQG2Jc94E3L2IIjlj0wwEylDnOUPfBmT9yUyZI9cEXKudspkT2A6rVn9SyPPVA3n7ClI4w9EIfVxQk8iT1ggLK20nmGPQAGZMMP4IM9kL75+RxxgT3gEx4kMV1+PaAAOwGjMno9AKFqs35idj0AfFR86upyPUCf7jWgkG89ACQEF77qaT3A9NeGG9ZkPYDG+zBVQWA9gL20OwYwWD0AiRphOYZQPQDNONiOpUI9AJzToqf8Ij0AyDbsFDAyvQDBWGmBU0e9gGTXjlUzU70ACxcMA2FbvcDefML+M2K9gJLG9Zo8Z70AZdrG/N9svQAILPEtmHG9ANxuM/Qddb1gra24MgZ5vUCzUO9hU329MJanKb8Cgb0gNNLL+oyDvbBIqyfSRYa9cFMoxnspib1wOF3xBjOMvaA+d/18XI+9mOBI7oJPkb0wZy5oh/mSvVj11Wc/qJS9sPHH1XhXlr0IgU3u9AKYvZD/+RKFppm9oAqKAiU+m72QHEpuFsacveCpZir4Op696A67+9qZn73ULybAJ3CgvYSz38g5BqG9pMzPaHuOob1kS4OfjwiivYBbiflhdKK9MCNm5SLSor3IJV1wQCKjvfwqEzJfZaO9UPh+IVCco70ModBeBMijvYyDSQiA6aO9lLYkQ84BpL2822Jz9RGkvfjvlyPqGqS9bEmz24QdpL3UA5kudxqkvcAsTltDEqS9yHVHOjcFpL1cFZqXavOjvTQzCpa73KO9NI77S9DAo70ot0dvGp+jvWRDIzfcdqO9uP3EETBHo72IH7B+Eg+jvSyIYTdrzaK91Bw94RmBor0o7u6nAimivWhkKsYZxKG9SAwILm1Rob2EdQrqMNCgvYzbd4jIP6C9aM43/54/n72Q0l72PuCdvaBRtMOrYZy94KVs9qjEmr1QYx7ygwqZvcAogBIRNZe92FNiI6ZGlb24OX+zDUKTvSCJFV94KpG9gC0ZndUGjr0gW7KqVaGJvTClA3xQLIW9MD1LzdKvgL3A9gkiz2d4vQCAvBi9AW+9AOapII3nWr0AXIEl5/A9PcDB8IE0emQ94GqZWclUcj3gXJFgQRx6PbBxP1i3xYA98KZtPAJOhD0w7OiTxKSHPRAxM1ymyIo9gCv3vyW5jT3Yt5+DRDuQPaC1MQfmgJE9GKTt3UCukj2IPTjJX8STPWAr6Gx9xJQ9YP4ulfSvlT2AwxIyMoiWPZiElyikTpc94AoDOqoEmD143wwxh6uYPRC7filTRJk98NEZE/PPmT3wTfYAD0+aPeiV6v0Iwpo9qPImnPcomz3ImvQxpYObPfDY6UCO0Zs9YJMld+ERnD3Y8st+gkOcPVDtG0QNZZw92IofLeJ0nD0YgJuSL3GcPTCgLKb5V5w9yNSq3iUnnD1YtMnDi9ybPbB6S3oDdps9EKVG23fxmj1g6+3I90yaPRiYELjEhpk90IE5n2KdmD0wmOX7q4+XPdBaWEDiXJY9UEm3Y7sElT2QCUq2bIeTPZAsxKi15ZE9oAA7l+QgkD1gFG1/u3WMPVAusG46bIg9YEIesmMrhD3Aw0Ic23R/PYDofZUbQ3Y9gFJazoSnaT0AGN1Tk9RJPQAPDREDzlm9YNu+974gcL1ASe9zAbd5vaCTfOEPkIG98PgPlC4jhr1gucGtcoqKvcAD0/gavI69CHj4BZxXkb14soZo7y2TvRBvi++o3ZS9SMi5DxNklr0I2CPyLb+Xvfgdjg+47Zi9WONp9jDvmb1wzYOL2sOavXjH/9a4bJu9wIvPSIrrm704qJ4mu0KcvSDnXN5ZdZy9GBayswaHnL1oOC/U5HucveAvVpaIWJy9QLvG0t0hnL1Q4OEmFN2bvQBv1TiMj5u90G8nFsU+m72wUZ13RfCavXDdwNyHqZq9UDTX3eZvmr1gqnVOjUiavYAtdZxlOJq98LWMNghEmr2AHy23qG+avRAGP5IJv5q9oAWD12w1m70wNsczhdWbvXDA3ORpoZy9gGhpkImanb0gpGSlocGevZgG/DBYC6C9yAWX7XbMoL1gdHi/Y6OhvUA0mSjtjqK9JFOMG3uNo73UuX96D52kvSh3KQxIu6W98BijpGTlpr10OnCETxiovbyAHG6lUKm9MG8qm8GKqr2ATR+6y8KrvSjXS53G9Ky9QB/McKIcrr182lXxTTavvch5nF/kHrC9aKgKNpuXsL0adPVyeQOxvWg+rg/SYLG9QD1ruCWusb0gavEaKuqxvaa+toHQE7K9fo6o0Usqsr1+K31WFS2yvaKPWqPuG7K9RIFP5OL2sb1+WmodRb6xvXAsrRiucrG9QDuj1fgUsb1+jLRIPaawvZqChUPJJ7C9fLDnlDA2r734eb3IlgOuvcyAJIs+u6y99NENtMVgq70IA73a2/epvWyw67guhKi90JwZuFUJp73YTqxdwIqlvaBKwOSnC6S90HXpvQGPor0gO2CZdBehvQBVXHeeTp+9iJuE+QCBnL04lNlHKsmZvcDqmpdvKZe9yL10pmSjlL1gNeOF4jeSvYC1i8cszo+9YHy+Fh1hi71QsKyKoiaHvTCuCMrlG4O9wGPjf7h6fr2gU6Zp8g13vUCgYpWV0W+9gECUgroEYr0AP8BN+Y9CvQCmbyWewVA9AIPAtAgYZT1A2rO80MZwPQAIDaBJ5XY9QHtHNy7qfD1QhUkxNGuBPQBhQp9zVIQ9cAFunEcvhz0wI2HUIPmJPbAdnFB2row9gPTr9c5Kjz2gV4utb+SQPYAdojtOEZI9uMLRvK8okz0ISnChBSeUPXBRwsudCJU9gIQ1/7fJlT2QLKQNmWaWPdD4tXui25Y9kDm8wG4llz3ofeLM5ECXPSCX5/BRK5c9mEbCc3rilj2wVLaRq2SWPQi45QzLsJU9iCNlyGXGlD0IyuMCuKWTPTCF0YeyT5I9qJxnPPvFkD1wV3wr2xWOPaASHjgpQ4o9kCzxcEYbhj3AxzxTy6aBPSA274rA3nk9gJ3vhX3+bz2A7920PhdXPQCRqiaC1lK9AFQ1Qa+0br0AN28aLA96vQBSSUJ3XYK9oCj3Bmeih72wTeHOV8qMvSjomELl5JC9WDBjqPdKk734xVD9a5KVvQg93k3Etpe9CJh75w20mb1AGDrs6YabvTjUdLqXLJ29uFkU7fSinr2YsdbJfuifvTz7BlEmfqC9HEfOxAfvoL1cNz7+BEehvRgLgQ2DhqG9wDhphiSuob2ImrUvxb6hvfwI6vBwuaG9NJQvnFqfob3Mbj6q1nGhvVyCXRZVMqG9ZFgGIVrioL0gDvkQeIOgvdiwehtHF6C9sLRDAMU+n724VpO5xjqevSBJ9OO4JZ29MI/r764CnL24IN1VpdSavYAj4GGBnpm9CAxQLgtjmL2IVY+Y7SSXvTjgUVyz5pW9EDTffMeqlL2Q2WS8dXOTvQiy+ifqQpK9qPa8HS8bkb1gBQcfVPyPvfAAQxUy2429AKMuTx3Wi71gRbH04e+JvWDeuZLoKoi9cK+CaCiJhr0A65i0GwyFvRA4xuaxtIO9UJYNCESDgr1gYxFuj3eBvQAiqsyrkIC94KO9V/qZf70AJgcZW1R+vcDmuvlRSn29wH/EvkN0fL3geAIVJsl7vWBa9mOJPnu9gPHjQ6zIer0g2c1HoVp6vYC5oPZs5nm9oLQjJz5deb2gcE9Qnq94vYC1clqszXe9wBZpmlindr2g5KxttSx1vaAYzhhGTnO9IDEJ20v9cL0AzBniKFhsvYAKBZqXnGW9gB/LH0tlW70As9DxaSRCvQCRSm/Uskc9wBKKYEq2YT1ATnJkkNVuPQCB6Ak3o3Y9IEUyVjx/fj1QeeFxMXuDPSAgm6Nx/oc9gE3SH9TBjD2oxysAGd6QPbA2HYtrcZM9uBU7odEUlj2QKCVVlMGYPdinuSdvcJs9WChHmqkZnj1gcqZgm1qgPUwrmNVqnaE9lK0jJRvRoj3EUHKlj/GjPTimrqfL+qQ9fOU79gbppT3wnYfiv7imPfhD08DPZqc97JvRmHvwpz0AMk7DglOoPSwOwwotjqg9gCoLw1SfqD28I+tvb4aoPTgc+Y2RQ6g9mOXlqG/Xpz3oDEZaW0OnPfRKcrk+iaY9NMzsiZGrpT20M21rTa2kPTypRLbekaM9TNAGvhJdoj0skUaQBBOhPdiA2S4OcJ89mEVeFx+hnD24G6QRQcKZPSBL/HVm3JY9YF39vUT4kz0oTcKMLR6RPQAiNvzWq4w9gNt1iUNNhz3AAzbwYy2CPSAcQAqgrno9oLVOQ7KocT0ACs2txq9iPQBERjnjdDw9AOOmRrkGVL2A4jlgm/5lvSAz0146MXC94K1VqlCadL2girD3TUB4veCDuLF1K3u98G3o+z5mfb0AqhS+KmRPvQCAO3asZ0a9ADmU4x1JNr0A3GZagSYVPQBvJW2ANEM9gEGWFRZlUz2ABbNs5dFePQCF6Bcg/2U9QL/PrrqCbT1AV9kD9P9yPaCkRVJywHc9gGSnWc0GfT1QPRd6yWqBPcDZKY7ZloQ9UJt3/icHiD0w1dVuR7qLPfDrhZi2rY89QN9BBebukT1wn7aw2CKUPShw/JCtb5Y9GHplQcTRmD1wy02w5USbPdgmLKhNxJ09NFcy/1sloD3Y8BsWOGmhPSy2vMSyqqI9PBG1zaDmoz3Iq3pCwRmlPVDEKbzLQKY9/BET235Ypz0EoWevr12oPWzFS3dZTak9SNdgJawkqj1YnN/8GeGqPSQ0TOdjgKs9RH3rTKQArD1YbjQKWGCsPbCsP3llnqw9gBLUoyC6rD2gigo1TLOsPQh4tEYZiqw9lAMD7iM/rD0Ij+gzbtOrPcgVh9ZXSKs9PNiAxpWfqj1wxWlOKNupPXi2FrVO/ag9XDrMm3oIqD3UMWeRQ/+mPWyEz5VZ5KU97OI/K3m6pD1MJRYpYISjPXgP+lfCRKI9bHxtBUD+oD2w32lxumafPZilTB73zJw94BgAyKczmj0wbrfx4p6XPfCkpMheEpU90MVtG2yRkj3I/obP9R6QPbBi+igGe4s9sCRtn2/ehj0gsMCQsWuCPWA93ltDS3w9wKaHwtwcdD0AxsOJvZ5oPQABmBhlk1M9APVMijMNQb1AhodD2odhvQC3pUAQBW69AMiPabDedL3ApVwlK1p6vWDYyYwsd3+9sJj7ICMcgr1QnvcUJFCEvbD0HGsaWYa98KD/g5k4iL0Q6xu7OfCJvYAZjPyVgYu9gFhGIEbujL2wpTBC2zeOvWDlzjjgX4+9ALcZm+kzkL2o90s0lKiQvWAv2gulDpG9oDmFGtBmkb0giO0IybGRveBHtclE8JG9iGGIg/sikr1oZwqarEqSvYTRTrQgaJK9jPFfNyt8kr0MrRY/rYeSvYT8kdaVi5K9ZLT0EeSIkr0co/qfpYCSvciM66f4c5K9oDx3FAlkkr1wEbjADlKSvVhPC09KP5K9rOPyXAMtkr1kkQGfgBySvUQHY2oFD5K9rFljeswFkr3o/BZVAQKSvZShQuu6BJK93HBfRvkOkr206tbJniGSvbiDyJFrPZK9aI5Zsfhikr20E7V0tpKSvcjaUyLszJK9hIWatLQRk728xG2E/mCTvUSS70uMupO94BZ/MfcdlL0cyJ4Ts4qUveyx21cRAJW9MF9BFkR9lb2I+XbTYwGWvcRtiT92i5a9hJ0qaXMal73Mnob5Sq2XvVx3m3LrQpi9JL34/UramL1QyjvtaXKZvVDVWv9ZCpq91J1oPkKhmr2cDw6WZjabvaxO7ssqyZu9LF+6MhRZnL3wFvhtzOWcvZjQEtojb529pMBqXg/1nb2wuAHeqXeevYT28VIv95692Mibtvxzn73cjij1h+6fvX7nM0+vM6C94rOolo5voL3Stjg2M6ugvdQLkCfu5qC9YghSPwwjob0cULY60l+hvTy2Gox4naG90ivgCCbcob1mIxZ87BuivZIBPlnGXKK9iLCQlJKeor320kJWE+GivQqX5s7rI6O99MJq855mo73WDJZEkKijvS7TtgkF6aO90itbfCYnpL3ODc5qBGKkvbTtuMiZmKS9PmDRJtHJpL06klgdivSkvWwl0NGeF6W9EBXl4uoxpb2yXxEIUUKlvbJ842XCR6W9bEu8K0VBpb38pKLy+i2lvSgOcdMlDaW9bAvPOi7epL16NyNRpqCkvZBQxCJNVKS9fNV1MxL5o70exJirFY+jvcIxqnupFqO95PSI01CQor0SQ5OyvvyhvbDGIk3RXKG9cN8cYJCxoL1s+kyiUvifvYSTxeLUe569TP9BM3nwnL3c+WR4PFmbvTysbUM+uZm9/CwoOLcTmL3IZKQK7muWvXT8IeEoxZS9xDuggqYik71UvimkmIeRvbghK5s27o+9OHDFHlzojL2QwjuuWQOKvch9V1yURIe9SKquiB6xhL24Ajr4r02CvQjCqDWbHoC94LDodZNPfL1g3IGHddl4vVA9gon54HW9MGtTPlhrc73QTIZ223xxvaBw1sDeGHC9QECHSIaDbr1gvA/AwPFtvYChM24ffW690II7nyMScL1QYUrw5HFxvTBoABcFW3O98IGzf6fJdb1Qlc727Lh4vWBnrSn4Iny9IJKu64AAgL3IAFZLtiWCvUijo4HqfIS9cF2wBpgBh70w/AyJ9q6JvZA/LyUSgIy9wAzJx+Fvj714xdtMrTyRvdQEQ9HEy5K9TB4Y+tZilL10+SmwqP+VvZDe7ZgsoJe9MCVflY5Cmb24tKLUPOWavTDBmx3uhpy9qPJo86Mmnr3YnYMirsOfvVD6vsDTrqC9OFaI0jh6ob1wWuqOFkSivajdeh6XDKO9AChoSPjTo7342yohhZqkvUS4GpGLYKW9VANH/VImpr0kDypIFOymvciRk4Twsae9ZBxFs+h3qL2UzsTq1D2pvdTY1PJdA6q96Ovs4PjHqr0AttXk5IqrvQRxgRcqS6y9RE2YqJkHrb3ch3E80r6tvbAl5FNGb669aMkxu0QXr72sy4tnArWvvdxv4ExSI7C9dtYoESdlsL0yjOTTFp+wvdjW7IVF0LC9ftOWdev3sL10YkSNWhWxvThSukIFKLG9YPdb3YMvsb1W2O13mCuxvdoI0DgyHLG9ilBMHm8Bsb0ekeCVnNuwvSACep82q7C9xKStZeVwsL0svSK7eS2wvfDRAb/Pw6+9CFHSnoMer72kZ7RWYW2uvSTWjd/Zsq29UDE4tmvxrL24EHwikyusvdByYA+7Y6u9bN8q+Sycqr2ERlzbAdepvbwGGAAVFqm9DHyML/paqL1o6xtp9aanvcSH/lvz+qa9tBSMGYZXpr2o3yOI5rylvcikWkf2KqW9YLwqmkOhpL0kVegEEx+kvXRKQM1mo6O9dJQxaAwto71IaKrfqbqivQQdKJ7LSqK9NNvHqvPbob3g3yqyqGyhvbiK6hCE+6C9xCpkAEGHoL0YyTnMxw6gvdjK+GdzIp+9OFv8s/Ibnr2w9UpNYgmdvXhr7maw6pu9SJDF5WXAmr1I3030p4uZvRilydAuTpi9GIQwQjoKl73Y7ttYhMKVveiscYIsepS9OLpuoKI0k70IBEdVjfWRvcizLhWwwJC9kBTE/qMzj73w/eGVQgmNvSCjs7EyCYu98DgLkdE5ib1Q0ozguKCHvbBVEgSWQoa9kI7WIA0jhb2w5Aq0mkSEvdDP4fKGqIO9ALrbzdVOg71QpqRLSDaDvXBHpm5oXIO9MI/aq5e9g72ATr9eIVWEvUDwJERcHYW9UCTR+8kPhr2QjZ4ISyWHvaCYjiRFVoi9AAdNHtSaib2w37dk+eqKveB7k5XPPoy9sO7lPb2Ojb2wSdpeqNOOvXhN9K+NA5C9qDt8zbeRkL3YJV5S+RGRvcAJfZR/gpG9uCTcTQnikb0QuT4R7y+Svbimk+glbJK9WJ3cWD+Xkr3gNvsEZLKSvVjmLOJMv5K9sMGQ5jbAkr14yH5W1LeSvZjto7g5qZK9MLoJV8yXkr3YKda+J4eSvUDqpTYJe5K9+JdZdjd3kr14rIsxan+SvRAFCF0xl5K92HzSRt3Bkr1IuJjdawKTvWBDkpxzW5O9KN64NRLPk73o0ix44V6Uvcg392fqC5W9mBhpaKLWlb3Qtp7e5L6WveDs/Tr0w5e9SJwE/33kmL3QCRfRoh6avYAJqLwCcJu9EL53f8fVnL2o0jdis0yevTAklC010Z+9VHUxULyvoL2wuXctvHmhveBDemCJRKK9BKFqzg0Oo730hsjSN9SjvRTFS/4AlaS96PU4UnVOpb289fV7uv6lvaDbnH8VpKa9wIC/gu48p70oQPMW08envTSBEhN5Q6i9lD/qAb+uqL2Uu1zsrQipvUQ6fpV2UKm9oNa6QHGFqb0UWhUQHKepvfjnG7UZtam91GFJES+vqb3El3S8QZWpvUwhQKFWZ6m91GQ3yo8lqb24MxsnLNCovSxKlWSGZ6i97HhzgBXsp714Py5ibF6nvUzyYgc7v6a9OLoSHlAPpr30AuN8mU+lvRjI8nQlgaS9XP5vgSOlo70094nX5LyivUBbNP7dyaG9JAkNA6TNoL0wgtnb25OfvYiJkjwngZ29aN1K2xRnm724vx3VwkmZvSCSki1+LZe9WJirIrYWlb2g/fC+8QmTvRgHpUTCC5G9sHtaZWdBjr2A3HopfJqKvWCJOr9vK4e9UBui44b8g70AdYdYghWBvUBcy2Ly+ny94CswhIN1eL3A8E8+nKV0vQAETYAylHG9wIUvEjSQbr2AqvLLxItrvcA8D3xuH2q9wEYFVqtKar2A0GiuEQhsvcApveRtTW+9YDJgTN0Fcr1gs4+zsBd1vcCYUKBD0Hi9gAIQEK8hfb2AEiHFIP6AvRAflSNfp4O9AG5gKVODhr0AxIcYPYiJvSDbMzkCrIy9INhNBFHkj714AQK7ZZORvXDTswyZNJO9kO32jcDQlL3o/ApeCmOWvbBbxjjl5pe9WMso2RFYmb3gRzRfr7KavWjsHsNI85u9GBMo49wWnb3Aag5y5xqevXBv8alm/Z69gD6kTt+8n72M+jchLiygvfzgKhi3Z6C9JHhBpxORoL0USe2kjKigvSDLP9emrqC9REtsGx2koL0g60aU24mgvfTuX7n5YKC9lB++7rIqoL3Yo4PZwNCfvXgY1A7fNp+9+NQqYLSKnr249jhZPM+dvcjCOU9oB5298HjI5w42nL14Tmhp3F2bvehXluJCgZq94KdPiWyimb2YvueAMsOYvXikphYS5Ze9iAxVFSQJl73Ifb+hGjCWvaBIcVlAWpW9oCoMRnmHlL3g93NbSbeTvUAetPXf6JK9sNWE/CIbkr2IPn71vkyRvdgFnJQ0fJC9MOCs591Pj72A4JDQrJyNvRBd5dvM24u9cCwaCXwKir3Q+RCZbiaIvQAVg/j0LYa98A/2AxsghL2w2AChufyBvSDMkx8QiX+9ANqZck/yer0AJlwuWDp2vaBpOzUiaHG9wICGgZ4Iab0Ai6i8DmRevQD3+mixjUW9AJxPt7QoQT0A9uuYwHhbPYB/TZEN2GY9ALYXnheCbz0A03Uj/89zPYAkgAdPjHc9QG23KWTqej0gYl4H8t99PeC4ZLsTMoA9INyf6/A3gT1wIm2Z7P6BPbBJ+8hahYI9sF6dt4nKgj3wBerAuc6CPZAE28sak4I90IEqtbkZgj1Q9forbmWBPcAAOOi8eYA9IJuvKni1fj1A35j2/xl8PQBGCMTvKnk9QFUKDbLydT0gTzH+9ntyPcAkC7cJo209QAsTETT8ZT0AREdyDjFcPQA058EqMkg9AFrkgQegML0APshbXmxUvQA7M/f/R2K9gBf66mc4ar3Afl25ovtwvUChsbCsunS9IPWaYhJSeL2AuXyb6Lp7vaDNbsiR7n69YF0WOFrzgL3gOKXem06CvUBXxcEchoO9YEEoFgaXhL3AHO1Lnn6FvfDTuIZMOoa90CeNZJ/Hhr3gada2USSHveAJzcxSToe98KGTa9FDh73g2UJtRgOHvXChYACEi4a9UI1sVcLbhb3wcl7tqfOEvRDanNld04O9IBK5OoR7gr2w8tM6U+2AvQAuEGAhVX69oLmMUzJrer0AuaJhyiJ2vQDQqTsGg3G9QB2nK0Ioab0Ame+CjX1dvQDOHEkf8T69AEl8NJ2NTT2AEEcYRe5iPUCMfWbZqW49gLMA+2A+dT2gXb8MmCZ7PXC1x5tegIA9MGSjAB9ggz3wnfC0fyyGPRC4FRnG34g9IPNM2qV0iz2w0P+TVuaNPfgQBiNTGJA9+FWnggQokT0oSFxi1CCSPXAZIW62AZM9WIfhcv7Jkz0ohd/AY3mUPeguGFn7D5U9iD7QhTWOlT0wbasT1vSVPXDOHSvvRJY9wCQQrdV/lj048ChFGqeWPWiAw6F7vJY9uBdkmN7Blj0wuDy6PbmWPQDESb2ipJY9KHvQbhqGlj14xG+KrV+WPfhdgRlWM5Y9MEWaTvcClj04CoAvWdCVPRiABCwonZU9MAQLT+9qlT2Y0G6aFzuVPVBIozTmDpU90OgO1H/nlD2gpaxc58WUPWByP3cDq5Q9QBTYI56XlD0Y1ZtAaoyUPQg/6Q8FipQ9aFNHJfmQlD0Y204xwKGUPTBY/xnFvJQ9gA+IKGPilD1wmfko5hKVPah97TuNTpU9wOTYkYaVlT1gwYGK8OeVPTDZzE7XRZY9CCbKPTKvlj1Azy3z4SOXPYhfk42so5c9ePzy3DsumD14FzfqG8OYPdC8H/S6YZk9+NNMdGUJmj14xNWARLmaPYhB/lldcJs96LaVc5UtnD0Y3VhYsu+cPWApQsJZtZ098Cmc+hR9nj3QswMVVUWfPUD5oks9BqA9WAMUymtooD0MPBOlWsigPTigBlQuJaE9TIhJsg9+oT1AwiuKL9KhPaRRjOLKIKI9gJM0wC5poj3Q/G+Hu6qiPXQsL93p5KI9+EhxLE4Xoz1odnhhmkGjPRg2nh+gY6M9sO7jY1N9oz3oP5tByo6jPRgnIqA7mKM9mMbaVf2Zoz1oPbMogpSjPYBLaBVViKM96ELXGRZ2oz38ZZNfc16jPRxDtb8kQqM9bMfsT+Mhoz0kBZ/SYf6iPfRVxZZF2KI9XKiaaiCwoj3cKtMWaYaiPWArWmh2W6I96Lr/+nkvoj2AYqemfAKiPQQcx0Fc1KE9xGJl2MmkoT24s8aoS3OhPchVjA8+P6E9qLE0ndgHoT3kQ31wNMygPWCwVIJSi6A9hJTqOCJEoD3A1diWFuufPQAxa4L0PJ896IZpwNJ7nj2gXmAE1qWdPQAIhStluZw9cLpWcz21mz2wp0XThJiaPUiBoP/YYpk9wONOYlwUmD0ogZVevq2WPYA5JwhBMJU9SAJqmL6dkz2YC2M0pfiRPQhGcXfxQ5A9gCpkwkUGjT3AhcHEY3SJPQCuYa0B24U90PMSv5VDgj2gMIhpOHB9PeBgF0HahXY9AB33wDi6bz3A5UTBBxZjPQA4ODHdIU09AFqDhP00PL0AznBzKmNavcBzAf6plWW9wGmCUIeTbL1gzcCV6wdxvQAfU/bh+XK9IIKO/acWdL2A4EUi0ld0vQCWIIiSuXO9gAjyed06cr1AbhKi7LpvvQCNmiOsS2m9QM9yrDA2Yb0AsrT21DZOvQB86zX4rjw9QIOVcloYYD3AgbVTwNltPcDB52BsW3Y9QBOzT+xEfj2gNimeukqDPbCqwWo7nIc9sFPe0ocMjD3gTiPEmEiQPTgKZMr+j5I9CNjsZIPXlD2gFjNEdBqXPbheMQ5xVJk92FcmLHmBmz24NDH8+J2dPdDYTqvTpp89+FLHSrbMoD24pKYI1bmhPWBs0hL6maI9REchQ5psoz28QzmDaDGkPaRwWqNS6KQ9HLttu3uRpT3Upk7xNC2mPfBgLgH3u6Y9HE180lo+pz3wfNOLEbWnPYRJPYDcIKg9ULSWx4SCqD0YnTym0tqoPdh1EqGHKqk93Hv6w1RyqT1gLAbq1rKpPfAhdMKR7Kk95Ft2gusfqj28dCxfK02qPTTk4Kx4dKo9MKC/EtmVqj3cQUR+MrGqPbSf9OtPxqo9tFgJn+TUqj38mF9EkdyqPVTtrt3o3Ko9RL7hxnjVqj28lAbC0MWqPZSCDzqKrao9FKWdzU+Mqj0sQ1AO5GGqPQyI2DkpLqo9sDWYcSfxqT3ASZElEaupPVBX//9GXKk9/HzB8lgFqT3IvGkbCKeoPbhLfYlGQqg9IE8RfDPYpz1QcQjVFmqnPUB4KyRZ+aY9/KKRoX2Hpj3slSs+GBamPRzsYxfFpqU9fOgWbB07pT0Qz/tJrtSkPUAB0ejrdKQ9gM+lDikdpD2UBfiHjc6jPZwNKJEOiqM9PLYuMGZQoz2sK0I+ECKjPbSFdbFG/6I9oBE1BgHooj3MhEAW9duiPRhOJOyY2qI9bJGS6yfjoj30MIfRqPSiPciiZTX1DaM9FM9dLsEtoz285eK6pFKjPTzy1z8le6M9XD664L+loz20UTay8tCjPeCgrLBE+6M9lD/dTU0jpD1sHUAkvEekPYSnFkFfZ6Q9COfbUiaBpD0Y9/rAJZSkPXy4yXuYn6Q9pPHRtuCipD2ojxMbiJ2kPSDGnXk9j6Q9FPFzLNJ3pD1ozCkqNlekPag/Gu51LaQ9ILhB0rb6oz1wx2ZrMr+jPTjpg34ze6M9JHNFmhIvoz2ktjD6NNuiPawF9rkIgKI9qEkQKQIeoj0YpHPkmbWhPdT2i1NMR6E9GCR+MZnToD2cwwl2AlugPRAbHW0YvJ89uCW7e3m6nj34I10aObKdPbheuT5rpJw92M+bZiWSmz1An0IOgnyaPWhF4recZJk9qBJft5JLmD0oELKygjKXPTAtTTSKGpY9EG3JMMcElT3Qcb5SWPKTPfh3boNa5JI9YOB8NObbkT1gGHzzENqQPbBWd3/av4898PNqoRndjT2wPyt0Ag6MPYCV8A60VIo9YPLMA1GziD3g49jU+iuHPQCEBYHUwIU9UNsfawR0hD0APD63tEeDPSDPJRwOPoI9oGoVRTNZgT2wH33VOpuAPbBkyakqBoA9IHcZ/NU3fz3gD66oe7x+PWA9jBFmnX49gEqa3TXdfj1AFHd8531/PQBTF9VZQIA9gHppg/nygD3g5gsjhtaBPdA9t48o6oI9MJKC/XkshD1wQjy/dpuFPTCsJiV+NIc90FfszUj0iD2gHdQD7NaKPeCRB9Tm14w9cLsfHyryjj2AnbRbEpCQPVjb14HorZE9KJkdEmXPkj1Ab4QIMfGTPYjigAPfD5U9UBYfSvYnlj2gwS90AjaXPbhWcS2gNpg9qFTdI4gmmT0ocdVbnwKaPZjXVs7/x5o9cCcUJQJ0mz3gPWB/SgScPUDkPv3Qdpw9eMbiTuXJnD2gcxAMNPycPfhmnUvKDJ09GPmjzRb7nD24Ge2Y7cacPbDUxQeEcJw9QJ0JbG74mz3QCKsmnl+bPZBZAZZZp5o9iJVJkTvRmT14L7L8Lt+YPeDMXSVj05c9WEXVT0awlj044cpdfHiVPagJHNnYLpQ9eAZUEVfWkj2QnCWXEHKRPUjA2hgzBZA9MEWDGvAljT3QBf85OT2KPUDp7O+yVoc9YN3sva54hD2gX/rWUKmBPeBVPF/43H094PFwxYybeD3gp+cR2JhzPcD/Vv0BvW09QFvQTo3qZD0AXZlnzJNZPQBGES9KokU9AAD99RfgIr0ANxw1iMJLvYDSDtR8sFe9gDa5e9q/X73ACVxZ3gRjvQB/7tJGRmW9wPwylzilZr1ATz+PoyRnvcCpteQuyWa9wIkcmw2ZZb2Alboc4ZtjvUAjCD2R2mC9APcQJx++Wr0ApR2FwmhSvQCG0GmjmUG9AHhWlCrHHz0AgLaM37BLPQBLyc5lq1o9AEnMUjIsZD1AHIv8xGBrPcAJ/q8PcnE9oIytl0ZTdT0AM41cBEx5PaCZMRseVH09sG+odaSxgD2Qlq4Yi7iCPaC+ma+BuoQ9EF4LEDuzhj2Ai+xsZZ6IPZD5pU2td4o94EzAvsc6jD0AX0c0e+ONPcD5U9umbY89KAx9aaZqkD0Qy3noTQuRPfimKAIAl5E9CGg+1hcMkj2gb5ecHWmSPbAhOhLOrJI9EGqL4iLWkj14nxhyWuSSPbgorXD+1pI9aH++yuqtkj1gsge5VGmSPfCCfNDQCZI9iCMxOlaQkT1oZc1TP/6QPdhZVNhKVZA9YI4KADUvjz0gP4VLZI+NPdAgo4Lm0Is9sIgVeyn6iT2Q/9LuMRKIPWBM+zSGIIY9YDTuCxothD0QCxV8MkCCPWAeoBdGYoA9IHPMFro3fT2gR5cC4up5PQDMo8ea7nY9YHQKGN9SdD0g80WayyZyPWD1jY5keHA9AN2JZ6qobj1Ap/TPd4ttPYC01zb+q209QD4kQkgZbz1ASrkqJu9wPaC6xsPaAHM9gGYcEt/CdT0gq3swBDR5PaC+FU/GUH09wAnoqaYJgT0wndZ4trmDPaDoHoZXs4Y9MHZ/STHwiT2wN7L43WiNPcBVo295ipA9eFV+rIp1kj3o/n49h3CUPfh6ExvzdZY96F3gwwGAmD14UOYNp4iaPTju2D6niZw9QGDIi6p8nj3QuTyjqi2gPdAl6iOvD6E9YIlcL1ThoT1YDX6CrZ+iPVh3B3T9R6M9CDSd0MHXoz00JVryvkykPfA98YsMpaQ9oHnVvh/fpD2QJnB00/mkPdRp+Npv9KQ9PEEdvq/OpD2wjwGUw4ikPdwV11ZSI6Q9pFJY4Xefoz1Qkw/bv/6iPWiXTBwgQ6I9qDdKRu9uoT1EV6Ar2oSgPbi5zJGrD589YF7q0SD2nD1oQbjNxcOaPdDtURKAf5g90Djyw0Uwlj1oKyqf/dyTPcBe/ZJcjJE9gPgg/42Jjj1gokJ7bhiKPaDFb1FJ0IU9wEPgUty6gT3Ansh2JcF7PeDlKtDgkHQ9ADgRhgrgaz2AVX827ZpfPQCmPNLx0UM9AOtjSkmYQr1AVPbTjQVavWA0ry0RJ2S9YOMb/9ocar2gJtl42/FuvSB0Ae+xU2g9gHNOMjlTbD1gjsObuVFwPUDHnCI4oXI9QJU2G8IWdT2Aqk90rLB3PYBsiigCbXo94DZ5nJVJfT3Q04g6CSKAPXi1QdMErYE92LWy3X9Egz34vsmcP+eEPdCpWvMRlIY9wBSLl9JJiD14RfgyageKPRDnzJvSy4s9YFYSIBWWjT2gh42bR2WPPaRNUyFCnJA9NBgy13OHkT0EtF2hwnOSPSQPGJavYJM9jB91j6tNlD2o9Y+KEzqVPawaCwctJZY9YN7XVCAOlz00VoRR9POXPaQU036M1Zg9PPYamKexmT2oxZOl34aaPXBYveynU5s9BBMjfVEWnD2E/hNlD82cPTy4ZrD7dZ09MLybhh0Pnj309yqRcJaePThRurXsCZ89MKdiqpBnnz0YtJ2rbK2fPUzkXrOp2Z89ZOEDbJXqnz1Yn0BJrN6fPRxs7t+jtJ89RECirnFrnz0wKgUbVQKfPXjdAY3eeJ49+O/HDvfOnT2QbLd14wSdPVgahptJG5w9FOn+pC4Tmz0oV/JG+u2ZPZxzKEd0rZg9NBy7UsNTlz1MTcCeZeOVPYQTiU0qX5Q97FshVSbKkj1wjG9UrCeRPcgQKZp/9o49QDuIZQ6Riz2gNs5feyaIPfgqbyBCvoQ9EKtrxsZfgT1gop6jaSR8PfD4TWS4uHU9QIFyckgSbz2g8cbBU0JjPcCCnPqiK1A9ABqB3rAQM71AqtwwRy9YvWCOHNiqAGW9AKIlJKYWbb0AdLWjWytyvVANtbXLYHW90GG6A7cteL3AX2NbxZV6vVDQGzUGnny90KAHQbZMfr1Ak/0nDal/vWhoH096XYC9aIpAlmPFgL0AC2DthxCBvSCABVYhQ4G9gGZ62kNhgb2ItXoevW6BvTDnws/+boG9AGCIIQhlgb0YV+GFV1OBvfiHr7XkO4G9OGB8SR8ggb3I6JkW7QCBvZggWem13oC9gC5uwnC5gL3opY/ctJCAvWAgLy7NY4C96A5OXs4xgL0AtQZQZvN/vZCqYcjndH+9AJUGlz7mfr0QIxIK5UV+vVBlnWzYkn29sA9zCsHMfL0AJ+KyCvR7vdCzLJn7CXu9sK3uMr4Qer1gG4iHVgt5vUDWwauf/Xe9AEEVLzvsdr3ggbpseNx1vUAKj+Y31HS9IG+Th7/Zc71QEsRfkvNyvdAkuYpCKHK9EIQMGUJ+cb3ACE/gt/twvVC9kfVRpnC98CfUThqDcL1gMa03Y5ZwvYDoNUuj43C9gBgSqFxtcb3gULa0ETVyvZCeHDs9O3O9ANpN1FB/dL0wHUcewv91vdDIKDEQune9MAQp7eGqeb0QsZGFIM57vUChA68NH369QO/fYjRMgL04MgjWR5qBvdj+wH7R9oK92LNKytNehL14AFDbT8+FvdDZdatWRYe9UCGNGBa+iL04O7Gr4zaKvSjikR5BrYu9cINxBuYejb2Yv6C2wYmOvfAHiLj764+9kPpKkPmhkL0cb2j6HkiRvVi8dZPP55G9aJYNIoSAkr2AU0ouyBGTvdxF5rw5m5O9MFylloUclL2oxLjuY5WUveSHEkWWBZW9XDCoWudslb3kSRL8KcuVvSxFXQU5IJa9ALunyfdrlr1AetkpUq6WvUB0tL0+55a9JN0B+r4Wl73kS6EH4TyXvTR0mWPBWZe95NTTHottl7040wumeHiXvbTGZGPTepe9BJ+ft/N0l718tE3GQWeXvUg/KZUxUpe9DDXOcj82l73Ecc/I7BOXvVwjmra+65a9VNbmtTm+lr0cVcjE3IuWvfy6bCcfVZa9VGFMAW0alr0Mng9rI9yVvWwjHFGOmpW9VPY+UeZVlb08TBL6Tw6VvXBRp23cw5S9kPuWRYp2lL2UV0deSCaUveDsG7n30pO9wPKwc258k73k2uR3fSKTvWzF2lT4xJK9/PqE5bdjkr0wuKDkoP6RvYSCDdanlZG9+DKwK9kokb2I+4/HXLiQvQjyhrd6RJC9wPAtCD+bj704VSKrvKiOvXgeo6Xlso29YE/Pqn+7jL04ZADInsSLvWjjdeWh0Iq9iKcNjSXiib04QlXo/fuIvfjWPrYuIYi9uDZVt9pUh72YBodLNZqGvciHmNJt9IW9wJsB7p9mhb0ow6O5xPOEvSAV2GKgnoS9IFGd6bRphL3Ymxr0M1eEvbjg6czpaIS9qNbYfjaghL04FJ5FA/6EvRBRmQ7CgoW94FsbAWYuhr3IYkVqYwCHvdjAWJaz94e98LsjadoSib2ATm+j7k+KvRCj6NGirIu9+FUexlcmjb14vAZNLLqOvVA78bWGMpC98ES61eIRkb1YDDq9iPmRvRRuMyfZ55K9gIMgvz7bk73I0LV5N9KUvai1C41cy5W9aAHVA2fFlr1c1a6pMr+XvVB2b3nDt5i9LJjt3USumb2ABVHcCKKavZAhc0eGkpu9BKGBt1J/nL28G5OCHWidvURrLfuoTJ691LPDfsIsn71Gul35GwSgvepgKJlnb6C9RkzrEh7YoL1qMxScDD6hveIFDu3uoKG9oJI9rmwAor3+wAhyF1yivbpLEaxps6K9BqDMIMYFo720qeOhelKjveDt0s3AmKO9zBfVSMLXo71WiuopnQ6kveIUkw5rPKS9JDFz0kZgpL203JT1U3mkvc5o+1zFhqS9ICj9PuWHpL2O3+gOHXykvcifFln6YqS9TvyqEDQ8pL2EDDagsAekvfDmaciIxaO9dE/0MAl2o72yyKBjsRmjvb4JBFEzsaK9nl05zXA9or3wdliadr+hvRJW9Ml0OKG9BO2stbapoL1CBWxVnBSgvViUeAwh9Z69qHY6jf65nb28wXr8lnqcvThMxXSLOZu9aAqfzUb5mb2w4p/k6ruYvaT5BdtCg5e9tPG4yrdQlr14SS5DSCWVvRQvLc6BAZS9CDrZpn/lkr0kHKYj7dCRvfRFDhMJw5C9sMZmMmF1j72g6z0c0myNvahp2HTiaIu9AHUhupllib34bnO/sV6HvdDLSI2+T4W9sPYC3lI0g70Q8K8aKgiBvUDU4ZSWjn29cKdaplfceL3g4WzxlPNzvUDUE/0gn229wG5UmfPZYr0AxJANzFBOvQBT0JJHyUA9AB4+qZF2YD1AKRI/XjJtPfCL4so0LnU9oJbdwUX0ez2oHxfoAHKBPfCfrPR6+oQ9SP1/UeCOiD1Yng5DJSqMPai1lhP9xo899PT3xvuvkT1wNdAMzXeTPbgpH5I7OJU9hKaPxKPulj1MGb8yfZiYPegnKkFkM5o9EPL1UCK9mz2cLxevsTOdPfA6vUxAlZ49pFqgizLgnz0iMb3VkomgPdjodDl3FqE92nHDxUuWoT1SGiXvrgiiPW45f0NWbaI9REOYJQzEoj1SI6wVrgyjPeTL42YqR6M93B6pvX1zoz00fg/psJGjPawva1DXoaM9rittLAykoz3ch3Q4cZijPUbXWP0sf6M9cMgwemxYoz32FWX8YCSjPWZJbgBB46I9HsnfHkiVoj1EBfJauDqiPSLCmJzb06E9stPKVgRhoT2UHSngjeKgPSalbQrfWKA9LGCfrteInz2YZJTCakuePagt8aqY+pw9RPYRUqGXmz3QmRiZ5COaPSg0oNfhoJg94E5PYzQQlz2YM71MlHOVPayeXuvTzJM9IAyJyNodkj2c73noomiQPVCBBAtnXo09COF1Uz7niT0Q1BTl9m+GPfjnlLG0/II9cLdvTxwjfz0QscZ/+2R4PUA/2Ua9xnE9wBREc36fZj1AV/wL0RtUPQCkafhP0zC9QFMG1WebW73gKRusYAFpvTBrOAAM1nG9UNqeR/Xidr1gPOcVKqR7vbjVmGWMC4C9ePelAvMcgr3AZRfKuwWEvYDKDOO3xYW9QEFY6hFdh70YGsCgRMyIvYivZ44YFIq9YC5gh6A1i71QJJbCKzKMvTBvRvU3C429wMjYUWjCjb3Qt8XMdlmOvahOayQq0o69kJpAg0Uuj72IiJAHeG+PvVisOGFNl4+9UGqcTSOnj71A31lhGqCPvaCyyhkPg4+90JXrGYxQj73gN45WyQiPvbhjucCrq4696MsMy8Q4jr1An1RlW6+NvbCmspBvDo29sCU6MsVUjL0gYjln8YCLvWjuf2VvkYq9aHSfZ7iEib0Y1ue4UVmIvSh0mVHfDYe9MPBy1Tuhhb2IeuVXjhKEvYjJn+haYYK96JWTQZGNgL1QZD5CMi99vcD1gi+8AHm94D8/QaqSdL1AkZF969FvvSDbWW9WEWa9gM36ylTfV70AAmTFU60nvYBQVRkve1I9gAy366koZD3giShuSjRvPYB+cwHLJnU9IC/ZNJiwej1QMgq34xaAPWCvGy9QyoI98B/Ow89thT1gmANnzPyHPbiUUfrncoo9kA8UAAfMjD2wmxA2WgSPPZRgBA01jJA9eIYI0oiCkT1cswa1wWOSPbxGvtGiLpM9RKvmkhnikz3ocRvnO32UPUA7JGZG/5Q9uO3eD5lnlT2c5qAOtrWVPYgnHyg+6ZU9GPEoH/IBlj3MMzlUrv+VPfRWngxu4pU95BA0l0uqlT3EsWShf1eVPcB/OY9l6pQ9INSGKnxjlD3Ut4tMaMOTPcA3aNX1CpM91OBEvBo7kj1wdtZh91SRPRiLrlrXWZA9ILVFa2GWjj3w1dkjSFWMPeienebz84k90M7ddkJ2hz3AShzBUeCEPfCM3hZ1NoI9kC50U0/6fj1w/Kh6/nF5PWCdpKVI3XM9gBnQFwKLbD0gbbXsz2dhPYDdvRY8jEk9gKnx7bfGQb3AyKmU9QpevUBKmzw4SGm9QCsaKFOVcb3g3HGVN092veA+2yMNy3q9IKy21YACf71IfYV21HeBvTg7Q816RoO9aLquO5LqhL0A2l21mWGGvUgmBBEyqYe9IGSVShm/iL0w/ZmHJ6GJvQgLZaFNTYq9AH2U0ZfBir3g3dCXNvyKvZBkbrOG+4q98NwHuhu+ir14v2wXzUKKvQhO3NTFiIm9ELOvvJGPiL1I6B8gL1eHvcjSDgoi4IW9UG8ywnwrhL1wRf2C7TqCvQAnKaTCEIC98IRIluZfe73wHNOBSDh2vRDaDYU/s3C94EkxZji1Zb2At3RkM+VSvQAw9jx/Szo9QHR0HzdlYD3gQFRFu8VtPdAqFdOJp3U9YJ5y6HByfD0gFfXYrZqBPXC+1LMf8YQ9QMqTtr01iD0I1GW9A2KLPTADS8zUb4491O7hJceskD1kZGOQDA2SPTDb06B7VpM9oJC0VCaHlD1kEG1fcJ2VPTDsxzwTmJY9GLy7Vx52lz1EcM119DaYPQwtnnZI2pg9ND7NcBtgmT1ETCSPtciZPeT8voSiFJo91M7Z6qxEmj1AD88121maPVATrOdnVZo9THIPir44mj0QlBNTdgWaPSiZe6dQvZk9+ETwPTNimT3wxJ0vJPaYPfBBNglFe5g9hKU6hNLzlz2IVkA/H2KXPZygWc2NyJY9CMiLd4splj3ML+kLjIeVPXh+tNIC5ZQ93FGZjF1ElD0gsnzo+qeTPTz1KEQiEpM9eKgdEv2Ekj0o80tZjwKSPdRcQ9+tjJE9sCIGTfgkkT1UC/0b0cyQPdDIUFNYhZA92DQCemVPkD0QQcXVgyuQPfju03DxGZA9iBJ3hZ4akD0EKeIWLi2QPUx/zDj7UJA9UMWmGB2FkD2EIQm3b8iQPbzrAKObGZE9wMJSJyB3kT3YfBAkXd+RPVhnbx+eUJI9DLkyMSfJkj1s4VSBQkeTPVzs/7lKyZM95NZAHLNNlD1wThtyEdOUPQzI0MAmWJU9jHfCWuTblT1UFkpubl2WPfxyEYUd3JY9aKhmQn5Xlz0YFDfvTs+XPYyx5OZ4Q5g9eHeMPQu0mD1UAh8nNSGZPexygho7i5k9KD2ShmvymT1oz1zJF1eaPcRszpiKuZo91LkTvv4Zmz2wWKfAlXibPcCvAt9Q1Zs90IwcDw4wnD00bV3AhYicPTjQBjJI3pw9iFCWxr0wnT2o0GtyLH+dPQzQf4a6yJ09FMOpknUMnj0Q64z3V0mePbSXhKdUfp49eBLOgWKqnj2wrO1og8yePbiFKpTM4549sB7Tf3Lvnj1IrrxG0u6ePTiLFxB54Z49qE9rKirHnj2QZS8i4p+ePfjF77Paa549cGlS+osrnj34+Ep9q9+dPRDdxDIpiZ09gIrxVC0pnT1gb5I0D8GcPeg+BklRUpw9WKe3dZjemz0AwqbJomebPcAmSbQ+75o9kBWTMUJ3mj3gxRO5gAGaPRgb8WvFj5k9SC8b8cgjmT3gHtjAKr+YPUhqo85rY5g9gO7+9ukRmD1oW9wG3cuXPfhWu79Skpc9YGGvRitmlz3QZTSdF0iXPXiumKydOJc9BG8zPhc4lz18A7ays0aXPbCN1O14ZJc92EcIxkORlz0A0BTizcyXPUwKaIatFpg9/EineVhumD202CA5JNOYPaBbCDBKRJk9oMxdf+vAmT1k+ltSFEiaPSw0cAu82Jo98JugGcZxmz0wzxQHBBKcPdzYOss5uJw96ObyuyBjnT3w3uCIaRGePQS3qG27wZ49OF2W87dynz3M2R2MfhGgPbhE4/WSaKA93peER+a9oD009Wn1xRChPS5uzVSAYKE9hExbj2WsoT325tRhx/OhPVz58/X5NaI9sD5aa1Ryoj1EZjU4MaiiPfLe89Tt1qI9SJba2u39oj34/RysmxyjPbJTMENoMqM9iI4+UMw+oz2kiIiqSkGjPW5K6P5yOaM9nPwU4uMmoz08D2aWSwmjPaqtB2Vr4KI9Pn1JTBmsoj1iD7R4QWyiPVT/Dk7pIKI9GjW1MzDKoT24qZM8UGihPTp3Id6e+6A90OYEDIyEoD0sv54WoQOgPYRmD/b98p493HPYXrbNnT2UUReU/picPaDGhsuIVps9ZG+1tRoImj1Yyrmfg6+YPSgxVoeVTpc9UJPMGR/nlT1gLxMf4nqUPdhkryuKC5M9eJOAoKSakT08Q8MJoCmQPSCjYuWMc409YIyShXqYij1gVu6iC8SHPRD5GuoD+IQ9oIwg0O81gj1AbXd4Z/5+PQCV3qM6qnk9IILgUulxdD2AI4aSO7BuPcAbOBuRv2Q9AJ3X2jcxVj0APOu6WzQsPQCSts4E3Uy9gBMYNneYX70At5pmYO9nvYAm4vzHkm+9gDLakI1Tc71grzb60412vQCiaNRab3m9oIzVt+3ue73A9dDrOQN+vWAw0rMVo3+9QMG/f9xigL2w337mhbGAvfDjYo73uYC9ALGme0B5gL1Ak2I/Ztp/veCK9jn8KH69AImOT4zde72gOosrZ/l4veBbploEgHW9AK26pwd3cb0AFFooZcxpvYBA5qkjXV+9ANDfbVWvQr0ABcF4EIVMPUCzZQ9um2M9gD/LBJlRcD0gTEeo0Qt3PbCOaDeJ6309UITc2PNvgj0gdokpOOyFPdAAGKGtYok9uBp1yPDLjD3EWajNpBCQPdzdQP1krpE90K3NDLQ8kz3oPSYJirmUPQg0aFpfI5Y9RDaOOTF5lz20EDQBf7qYPSD/ZuVE55k9uMG9R/b/mj10edxycQWcPVw4WsXv+Jw9NJpUb/jbnT0EDUhGTLCePST9wg7Xd589WNCFNU4aoD14XPn2UXSgPSDZ4/nzyqA9JE/8ayMfoT0CcuHluHGhPR6az2xvw6E9xG9Hv98Uoj1uJpdcfGaiPQjjmJSOuKI9+CwRfDMLoz0mBjDmW16jPRIiDhDNsaM9wlSkFiMFpD0u/9ZC0lekPbTdTncqqaQ9yAkVs1v4pD1WA8Uie0SlPUZtq12IjKU96iEuG3PPpT12xJdyHwymPUITIhFsQaY9DiUNOzhupj1KG2eaapGmPYSoRQX1qaY9HKr4c9i2pj3cTMFUKremPULnjSwaqqY9Mvj01PSOpj308HgCKGWmPaCM/dRELKY9okmxugPkpT0eLaAbRoylPeB6PBoYJaU9noSySbKupD2ghHN0eimkPRJvIRMFlqM9vlC2lRX1oj3cjHErnUeiPXL0tSi5jqE9bhY566/LoD3MbqrV4P+fPQjhuyodWp495Kd4En6pnD1gyJfLpPGaPRj1z59gNpk92IJ8NKJ7lz00xri/cMWVPegS8O3XF5Q9aENBlNp2kj2I5Y0vZOaQPXDMHht01I49QEeQjdcLjD1AjbZ8iHmJPTAJDEV1I4c9wBH6888OhT1wBmzV+T+DPdD8h/hvuoE9UKDWAryAgD3g2pnIyCh/PcCdxAzV6309IGyqrptJfT2AsxPMID99PWCTb6d7x309YEODoPDbfj2AodHYCDqAPUARW/31QoE9IGowaheDgj0gYknQLPSDPWAooiJ+j4U9MJ0kMvRNhz2gI2LcNCiJPWDJ1Dm8Fos9gHDPPfkRjT1Agk7wZxKPPdgAEB1UiJA9bHGbrsiCkT0oLpXoInWSPWC13M8jXJM9fH79y8M0lD30rN+WO/yUPeSW9XEHsJU9uLEkUu9Nlj2M2dYWCtSWPejv2QPEQJc9IJDbz96Slz388ZejcsmXPaRPut/x45c9vCcfkyzilz0sqjeNTsSXPfyPmuzdipc9QMI0b7c2lz10vVAFDcmWPagK8wdiQ5Y94FnV8ISnlT1AsLNBiPeUPXzwrae6NZQ9uHDFgJ1kkz006m4b2oaSPTQWLP04n5E9JH+iYZSwkD2A/P2SlXuPPZAYvxFkk409aJsbLBmuiz04EzKc+dCJPQit1rDxAIg9aLH1aH1Chj0I5VnqlpmEPTBbv46kCYM9MKm6OW6VgT3gGiZbGT+APaBe9ZxCEH49ECu5kaTiez1gQKS9lPV5PSB25aX5R3g9YICRyYzXdj2QLY+U7aB1PQBMWtq8n3Q9cLApWbTOcz1gwlI61SdzPaAK48+PpHI9cAhyDO09cj2gX6fzquxxPcAKQNtnqXE9cJwOK8BscT2w2Wnsdy9xPeAWkhSQ6nA94F9woWOXcD3QTQo2uC9wPWAfKPDGW289ALbm7I4Zbj1A7inXyY9sPeAaHpnEtmo94EgQVyqIaD3gjZ4IJP9lPSAiImNiGGM9QLh7ETakXz2A6L99BFhYPUBRUMumTlA9AJsE+SQ3Pj0AMPxm8xgevYB19eOi5ke9gO78UV2YVr3AndkwR99gvaCS94dmqGa94DcaoKabbL2QLcLK71VxvcC+EbtiZXS9wNjCjZF0d72QF8NSgnt6vWC0IMr0cX29UJm/jsEngL1Ye1CQ4IWBveASWwQyz4K9OCjtxLb/g73Atv0yohOFvTDgVYFuB4a9oJwfevDXhr1glLOTZYKHvXCLuG+EBIi9sHHwsoNciL0A22K8KImIvXgYVYzQiYi9WM21YHFeiL1IhVtbmweIvRgL2r91hoe9eMC88rjchr3Yl19upwyGvbBkEKEFGYW9aAXpgwsFhL3Yi+R9VdSCvUi+JwDTioG9oLlpv7AsgL1wW3hWkXx9vfB78IYbiHq9gENbYvyEd71w8H/YGXx0vVB6yw8ednG9YOXMxpX2bL0Ask4O0CZnveBgmdFni2G9gMNHxhpjWL2Aw00hspNMvQAV7Dt+fDO9ACAf809kLj2A4YIrBVhHPUAYJuydtVI9QJwtrkTjWD2AIhfYbjJePaCL81MCUmE9gKglySweYz0grLQQgYFkPaCeZUtbgWU9gNICY4YkZj3ADbAfKnNmPUCSZxW3dmY9IOJiGNQ5Zj2gCzmyN8hlPcDJr3KPLmU9QNL4U1V6ZD0A/SUGwbljPWC2n0CW+2I9oIotWAJPYj1ghhluYsNhPeCah4shaGE9QJ0JvoBMYT2AAWegXH9hPcCp+zHtDmI9QJD5uIUIYz0gUk0VX3hkPWCd34BZaWY9wCRDsLDkaD1AL/oXwPFrPSDVq1nAlW89sG3y183pcT1QzIXJ5lV0PXASmLUdDnc9YKb+iwsQej0g9FTT7ld9PZDTSypYcIA9gKbetPhRgj14tmn4D02EPSBXu2xIXYY9eNZawtB9iD1AbH0+cKmKPdBuxkWg2ow90I+0ZaULjz3k8xwWVpuQPQxcwQzyqpE9wOajhcyxkj3Ek3XIJ62TPfBy5CtvmpQ9TLtngkF3lT3Q7Be2e0GWPfhpg1g+95Y9iLRHx/KWlz3wfPfkTh+YPdyqkmpWj5g9tA/KmFbmmD3IkKQV5COZPRj0Y4XWR5k9eDBQVENSmT2A8HQmdEOZPQh0ITDfG5k9kFIXtBzcmD3cirKL4YSYPQR6gAD5Fpg9RGObmjyTlz08P6JGj/qWPWy38ujZTZY9LEQmoAmOlT2EGlLADryUPXgKXbrf2JM9+D7fRXzlkj204MvJ7eKRPfQeDNpM0pA9oPW/X41pjz0ww8ATRReNPWAX/7eKsIo9cIVrLGo4iD2QkRaUM7KFPRCJJyaBIYM9OEhhRTaKgD3wIPMf9OB7PYDjHEtesXY9EIWPxMaOcT2A5PsMEgVpPcB12T55WF49gI8vh4WXRj0AgUEIQt07vQAQXteyTVi9wPhv+F1LZL2gUA8UYdprvcBYoVByY3G9cN7dswWDdL1w09Dgp0d3vTCX+MRbrnm98Lp9E3G1e70AbgHtjFx9vdCoIO+npH69AL0zYACQf71QEyFDBBGAvfCaAcmjL4C9kM7wg58mgL0gni9GQfJ/vUCTcp9DVX+9ENlE+W2XZj3Q4tDQtMZpPXDaF9x6Hm09OJOv0TtMcD2YkV1uyBZyPQAdtRH/6nM9oDuCgL3EdT2Ab7pGtZ93PZATOYyLd3k9MF6XLvBHez1QmND+tQx9PbAjLhHywX49YGRI5wYygD3wrpIs8feAPaDEBB9gsYE9mNyX9kBdgj3YNmjSx/qCPTjmnWdxiYM9aDAUtv4IhD2YI/ildXmEPYgytx8W24Q90PeAD1MuhT1Iz211yHOFPRhKMGAtrIU9YEACtErYhT1QE7zU7fiFPVDd8k3bDoY9oPFRgMQahj1YKitBPR2GPUjj14O1FoY9oOam7XMHhj24I4vZj++FPSAiTJTuzoU9+C2PpEWlhT3orzkrHXKFPQi1OQ3VNIU9UO0EEqrshD2o2bPwvZiEPXA6I6ggOIQ9iKrfetjJgz3IF11q7EyDPcjALGttwII9sFuNooEjgj2ofUmXbHWBPRjUPmiVtYA9QAkgwRrHfz3w1YxmMf59PYAzSP9gEHw9MNysZBD+eT2QcICCF8h3PSBkoNzGb3U9kD7pXN72cj1wux3GkV9wPeDPWeUHWWs9wIVMM4TBZT1AfxP44f5fPYCWcJWkNFQ9gLsPsBtpQD0AREpv8YAvvUDw3EYtJ1C9ALYtNKJdXL1A9T9e+j9kvUAvkYwaPWq9gMS6MQ4OcL0Qpph8culyvbBnKT25q3W98AOB1fRPeL2g9ZSwV9F6vYDZLaVAK329YDHhikpZf73gHB9FrKuAvXiRvlHQkIG98AWF41tagr1I1FUx0AaDveiHULrolIO9SOEpVqMDhL0AZe1RRFKEvaCt0bZagIS9EMsmVsKNhL1ou3qZpnqEvfhNmJeFR4S98LgOFy/1g73AKAL2xISDvZCIWta394K9ABChVMVPgr2g4oxF9Y6BvYgD9jaUt4C9wB75SlCYf72QYRqp3J59vZAuOWGeiHu9cF148qtbeb2gj+G0UR53vVCIIE741nS9UAJE9RSMcr2gbwRUB0RwvYACGbQbCmy9AGiQU1KqZ73As7WuFXRjvQAxP4r64169AEOUSl5bV73Aln/rg19QvQANHi91/kO9ALY67D4bMb0AuFq6VgYIPQCJPUViPDQ9AMnXudZDQT0AfYcJFO9GPYC4QldeI0s9gPBlNLXpTT2AeZu7GlBPPQDUMnhVaU89gNG9FjpMTj2AUdXvihNMPYBEp/Ud3Ug9APO6j3fJRD0AbVkq7fU/PQBhv1YBKjU9ADbJQprtIj0AKDXYr+EGvQCEEVY6Ey+9AL14/wdPPL0AB2Bt7HZEvYDW1PcUlkq9wHQVOYw1UL2ARexgxe9SvUAoyTtXcFW9QGmdMsmvV72AsU2Qd6hZvcDCOhGuVlu9AGcg7oW4XL1AhBGw5c1dvUCXundImF69AMOcAJsaX70AwkSi+1hfvcB0svOjWF+9gNm2n38fX70AXzuoDLRevUCfbiYYHV69wJHGAZBhXb2Ahp9JMYhcvQDuKpFnl1u9AH4VrUCVWr3AO3+9Y4dZvcBini3ccli9gJxdGBtcV72AsuVVIEdWvQD52waHN1W9gLisb58wVL2AS8hYbTVTvYAvgJQGSVK9AOVj+ZluUb0A0Ij9x6lQvQCMXh89/U+9AJA0AoLjTr0A6Es+5xBOvQC25690kU29gCpPxnhyTb2A0Qa8d8JNvYBA1qjRkE69gLng24ftT73AF0qbW/RQvcDLBuglSVK9gMQRIY78U73ASWAMIBVWvQDzX54cmFi9wO56CFqJW73AhCArDetevYCMhTusXmG9wGHwSBF/Y73gxirSldRlvcA/ds/sW2i9gOd1+JoQa70A1U4j/+xtvVDod9s2dXC98Kb3yq8Acr3geeZWzZRzvbA52DovLXW9cFNUm0LFdr2A8guSYFh4vWCwxkvx4Xm9AMx+JI9de72Qo50DFMd8vUCiGpmvGn698KxlIgFVf72gfLBSljmAvWDZDMlyuYC9CHakcDopgb0w6JNkYIiBvaj002Om1oG9yB/9gBwUgr0IpWv3GkGCvXiEYOU4XoK9QIM9HUZsgr3wqbLLRGyCvfjh1XpiX4K9eFsxVOpGgr14yS4zPiSCvejmySbL+IG9wJAybAHGgb3ol7xtSo2BvYCUUMMDUIG9mB5X6XgPgb2YWV0Q2syAvWDNKSo6iYC92Od4bodFgL1wSjfhjgKAvZDg9W/xgX+9QA9Ad5ICf70wcF6ou4d+vRD23pfYEX69IOi44gihfb0AmHWMLTV9vUDAdcTrzXy98MtP87JqfL2QY0Erxgp8vdDMC5pKrXu9QNk2MEpRe73gpEUlxfV6vdD7Lgm+mXq9kAqxR0Q8er3QLM6Dhtx5vbCMCVfleXm94EMPvgIUeb3wknK/xKp4vQCcUrJtPni9MKYOMKLPd72Q0gEkcF93vQCMME9R73a9ICVokyiBdr2AK0/qQhd2vbBizh5LtHW9wLqI9TRbdb3Aj3JYLA91vZBlTtJ703S9cIJysHSrdL3g+JHgS5p0vfC65471onS9cGrE0QHIdL2gvYTvfwt1vdCio2/ZbnW9AD7t4LLydb0w+kZQ0pZ2vcCIwHAVWne9gPtQCmQ6eL0g66AjqDR5vZAOSfrLRHq9wE/5vsdle70g8cv9t5F8veA5EuD/wX29EF2IgmTvfr3QS4lQGwmAvWBb0dI+kYC9QOfCRREMgb1Y6xcHkHWBvXgyftbYyYG9kLIBUEQFgr1I9iOweCSCvSAC7ql3JIK9gE4Q47ACgr2I5d4BEb2BvUgLceIHUoG9CBWk9ozAgL2QDH5OHQiAvUAG/Kd6UX69wBnezuFFfL0wg8yMZ+95vbA5J8TiUHe9gCcC9uhtdL1gTYG1sEpxvUAMkxr412u9wC3oUuetZL2AmO4LNkRavYAKXIVo/0S9ANofLeVqNz2A9Wp48bNWPYANsLSC+mM9IC9TDrXDbD1Qa0dzRdVyPUBvyEoiUnc94EdvWTjTez3oe5fPtymAPZD5YNjiZoI90ID7oqeehD24yttglM6GPYgsOic49Ig9YD8VKR4Niz3gmEsjyhaNPTDLplC5Do89XFRJxy95kD3wlU8Wk1+RPeilXs45OZI9XA77wdcEkz1U8m9NJsGTPYwSmsvnbJQ9AHwkguwGlT04e2R9GY6VPaRBWn9wAZY9rHAUNRZglj2gyhj6V6mWPQhdG/iz3JY97DquV975lj0UrgmqxwCXPSwGlyKh8ZY9jF4nhd3Mlj3kaik2M5OWPVQoQDucRZY96DURPVXllT3csxHB2HOVPVwI7IHa8pQ9dB/zK0BklD3Mni5WGcqTPRhwi/OUJpM9hOR7iPZ7kj38RKJRisyRPShOHEiaGpE9VHfKF2BokD0YOxPv72+PPShAZfOpFo494JtDyW3IjD2QNTWoPYiLPais/pqQWIo9CLjP20E7iT14tJ+ViDGIPchyZC/0O4c9WAy4/2lahj2wegEBKoyFPfipD03bz4Q9qPxaw5gjhD0Y4JVcAoWDPSj42LpX8YI9wHd5JY5lgj3gJnJZcN6BPbhELp21WIE9GM5qziTRgD0oHYGurUSAPQB74QQVYX89MDvwgq4kfj0AitzbT9B8PbCSrh8yYXs9cCbiKrrVeT2gRkweiy14PVDOqjWSaXY9cIBRBv2LdD2g0RKiK5hyPdBLC/2VknA9QC9P5FgBbT2gcLFnXdFoPUANFrXwomQ9gMPjfZOEYD0ALIWhRQpZPQCSGkrlZlE9AFdkL0x3RD0ANtHDzhktPQB2p4GjUiK9ADRoZSjhPb0Av/5VoKtHvYD4Ks8RrU69wA4MeP3yUb2A64UXsqhTvQDflao5elS9wFHjex9vVL2AznFO0JNTvYAu7CFL+VG9gPNstkFpT70ATz++8rxJvYB+UmbwJEO9AJ9uzFG6N70Apu+XVZIgvQAUVKj/Ih49AFsQMJ06Nz2AibxynCdDPYDfZKnzJ0o9QOIAqAE0UD3A9JiR39tSPcBG3MY591Q9QDm9ZOp1Vj2AnjqQgExXPQBJhMO3dFc9QKbpeaLtVj3AadUT07tVPcB2d1sd6VM9gG9Gtm+EUT2Amaz6KENNPQAPrwNAsUY9AK7fM18WPz0AgnagxB4wPQCAZsf/LvA8ADCMy0ZfK70AYZWWd2g7vQCdRcO0y0O9APEIuvDXSL2AfW+JMpZMvYAwT64yyU69AK0ORkQ6T70AeoN/m7pNvQCvbjZgJEq9AANsB3hbRL0Avd619Js4vQAQQc7MSg+9APf82BxaNT0AlxZtiYlJPQDlHieWRFU9AGQALLjFXj0AM6Xf75lkPQD4aNeWO2o9EAU6VTwdcD0QIfXkCkRzPdCiJpaRinY90IkHv+HoeT0AmuRL9FZ9PXAZrQxnZoA9EAhXHVAhgj24XBKAb9iDPWg7rWgtiIU9sF/x8isthz34lRtmS8SIPYBm/n+qSoo9AA5smKi9iz0QMPz75BqNPcDZRh1DYI49IFxIieOLjz3ghJ2KD06QPRzsHNrBx5A9oLc2XmgykT3AHkcZe42RPSR2kbiG2JE91Fyr7iwTkj2kiWVRJD2SPaQyYCg4VpI9PFpOLElekj28toGMTVWSPexnarRUO5I9TH5eW4YQkj084JUIJdWRPRiDheOOiZE9FMYbzj4ukT04kOIaz8OQPbSWq+j2SpA9ENuvoxmJjz24NpSfCWOOPSiu+ibfJY09SNTZXvPTiz2w1EaK0G+KPSCFP+kn/Ig9gDY9GNJ7hz3YBxQ7yfGFPSin/acjYYQ9CDjm5wjNgj14RE5vrTiBPeC1WWSZTn89MBo9u0Q4fD3gtTKPyDR5PbCT03h5SnY94D3nF5B/cz0QxdrhH9pwPWAEYS8fwGw9YPtSWA4uaD0A7H21zwhkPeBGmvaUWmA9QF04rrJZWj2ArasEjRBVPYB0mowm6VA9gJFBUfThSz0A3qc6kmZIPQBdExejcUc9gATA2iYPST2A2k0ZZkVNPUADHNgnClI9QB2GQZS6Vj1AiRgCM61cPQD87nrv62E94MGaj24WZj2g4sHciM1qPfC8h0J/A3A9gBlQPoHbcj1wNklkM+h1PXCikKZYInk9INetey+CfD3A4IsSg/9/PdDuqebsyIE9UGvIWEmYgz3Qfyu6f2mFPSj4ebREOIc9kBQ2GG4AiT3YVt+OAb6KPQCJ2ks/bYw9aJkulqwKjj34VWBNJpOPPQCIUab1gZA9PEdT1E8tkT1AyySMqcqRPTy9QSJBWZI9OJnBx4vYkj0YDJ2LNUiTPQCIvHMeqJM9oJlxl1n4kz2ATqpAJzmUPQTcEjPyapQ90KYnH0yOlD00ztX16KOUPSzx6omZrJQ9SKRd/0WplD3QfKyo6pqUPQBiScqRgpQ9EFr2D09hlD3USYV7PDiUPUBZi3V1CJQ97ORxIBXTkz2ACeDYMZmTPSRlSsvbW5M9XCCHehgckz3QnvKA4tqSPQjUH9UomZI9AN44K8xXkj1YMkKjnxeSPZQzqxhn2ZE9JO+N3dadkT3sU+Lkk2WRPaAZ4c0yMZE9ZJPbZjkBkT2UyeVyHdaQPcw8sZNEsJA99Ks6PwSQkD2MsYwBpHWQPRxPll1cYZA9FNRLvlVTkD20ZbmzqEuQPVjV/H1dSpA9XHNlc3BPkD2EflPsz1qQPcQqQ41cbJA9nI6X2OiDkD0kcDPMO6GQPcyq+AQSxJA9bFlvVSHskD20+d4uFRmRPRSrl1WQSpE9JARn6jCAkT3I2t4Ak7mRPVixHqJQ9pE9qK0TW/81kj2AMOflMniSPaCZ4Qx/vJI9MJavbnUCkz1QpHA6o0mTPYTTKxmTkZM9UEgtRs3Zkz2MuC/T1CGUPai9pUUjaZQ9rIN3JimvlD1wM0q7SvOUPYxLGGfhNJU9kEZZmDhzlT2Ao0csja2VPUSq/fQP45U9lGnJh+QSlj2glNvrJDyWPZgPxbnlXZY9LCg3dzZ3lj3sDuIPKoeWPVROGKPZjJY9dEr882yHlj3kGe8tIXaWPchinTZRWJY9GJMbsHstlj2U1QVYSPWVPfAlAJuNr5U97Ow3bFhclT2E74BV8PuUPajcwI7YjpQ9pADbUc8VlD1gNKNfzpGTPVTwBnsIBJM9cHxn6uRtkj1o6Bsc9tCRPRQd18/zLpE91BoUZq+JkD1QoS33F8aPPXgIW2PheY49eD5VO3oyjT2olN8UevOLPYhXFW02wIo9EMpOXrCbiT2gc7iggoiIPVhRlALNiIc96C1ZsiSehj2AWp04kMmFPYjCkKqFC4U9qG032uVjhD1YWcRa/dGDPZCZ72CRVIM9cK06O+3pgj3YS+3K9Y+CPdBu+iA1RII9MNsCH/MDgj1AG116S8yBPUAXepxImoE9kPAH7PtqgT0o5gjkjDuBPYB7eJJUCYE9OAKtJvPRgD3gFTULYpOAPbAikQX7S4A9gPFzHAL1fz3wFHQDUTx/PaCEcIQ9bX49IHIyGgiIfT3AiP0F1o18PSDHbwWfgHs9MFc2khtjej1A5VJVpjh5PeDbE7AfBXg9IGCyvs/Mdj0AGLOQSJR1PXD/thZLYHQ94EEYxZs1cz0Aqvof4RhyPRCFW0uLDnE9gJN++LoacD1gwyBAWoJuPcAL+GRDCm09AD7oo5jSaz1Amlxsn99qPYAuIGZ0NGo9QI+GB/3SaT0AD2Ub/LtpPYAL3oYO72k9oEgHJcRqaj2ApGqKySxrPeC4lKMIMmw9INjzWtN2bT2ggReEBvduPcC+mC4WV3A9oBzWTN9LcT3gYf9goldyPeDkNoM7eHM90K5b3LSrdD0gSdw4U/B1PbAZrTumRHc9oGswiIeneD1Q02ltIhh6PXAR+sDllXs9gAuMjIAgfT0AVhND17d+PUC94eX6LYA9oJezs3cGgT24Dwd5X+WBPbCD27WZyoI9aB+VKeq1gz3wiwMT4KaEPSiSGzDGnIU9cCe6BZqWhj2gyTSuAZOHPSBu15FAkIg9uDke5TWMiT0A+Sv/X4SKPaCCOI7edYs9kH6wOXpdjD34uOtxtDeNPehnIbLdAI49YP72+Ci1jj0IxlsfxFCPPcjFhnX4z489FItgF6QXkD14m7xgxjWQPeR1230JQZA95GvcMFw4kD3IoDHDAhuQPZiPL/NE0Y89+Mj6BpRCjz2gM1kn8oqOPYiodKM+rI09cC4OLz6pjD2QaIpKkYWLPailHAGiRYo9sPm8JJLuiD1Ay/DgHoaHPWi2I5uEEoY9SEejD1eahD0I+YhbXSSDPfBYW4tnt4E9WPwoFStagD3AXadQKiZ+PQDeP5pM0Hs90AxaDp69eT2gsWktnvd3PdBeSSNBhnY9YAydUclvdT0wNOHsorh0PeBlt0BRY3Q9oE0WkXBwdD2gERWrw950PTByZm1Mq3U98HNI317Rdj2gL6Vg0Up4PcD2EoU1EHo9oGiVwgYZfD1A+Xn36Vt+PYAHcvBzZ4A92BUHjNqzgT2oTE4O+A2DPQA+/EqqcIQ9iIIrn/vWhT04ahdQOTyHPYBcEb8PnIg9QO0FXpzyiT3Y67BnezyLPeCZETnNdow9ONWQCEGfjT2g85DmF7SOPUg83zwntI894CpKwmhPkD0EKwtt/7mQPRARYKcKGpE9cPzQLfZvkT2cyquFXryRPeiwnCsKAJI9lF3b8+A7kj2IlFd95XCSPTQF2PwqoJI9JBL2+8zKkj10MwfZ5vGSPUD6wqGMFpM9fJz/hcI5kz1AVhVZd1yTPXzIzh56f5M9QJ3zZHWjkz1YH28T68iTPUDVHlsu8JM9DGhBvl0ZlD0IGWH0XkSUPfgmLmrecJQ9ZDIOFUyelD1MDlGX2cuUPeBQ7Rp6+JQ9WOA38uQilT0AfSlAmUmVPThf7qriapU9PGQYaNuElT0ggL7wdZWVPcjg5dyFmpU9mJltAs2RlT2MQXcCBXmVPez/qKzsTZU9aHUM3VQOlT3koOriMLiUPfzbZhekSZQ9SPfcqRDBkz0I2GjKJR2TPYDAF83sXJI9YOJX4NR/kT2wuZHZvIWQPYh94J733Y496Hcaksh4jD2Yw2Tlit6JPbjZhv7QEoc9WCzmvSIahD1oJ9cj7vmAPbDCFJvncHs9gFhvyFO5dD2gBupMh7hrPYB96BlPp1s9AMBCjFVq6rxAtcvQ195bvaC0htACiWu9kLFWvaVidL2QNYZJu8F6vQj79yMVaYC9EHI147ZCg72IeYmTKeeFvaAiJC+UUIi9oJriCvR5ir3IHbnkJ1+MvUCdwun+/I290CTSIDtRj72M2C9pSC2QvYwb3FRPjJC9qOGZBfLFkL0IKbrJ3NqQvfhwLRohzJC9wK87hCubkL2ofz/fuUmQvQinHY6hs4+9UOs9kF6bjr34zTFOjk+NvehUH8dm1Yu9+JxUg1syir0Akz5eDWyIvUDejBM7iIa94BdE37OMhL0IlIyNSn+CvajIjHfHZYC9UFtbz7uLfL2Aic3fSkp4vQCGHJchEnS9IFQshJfbb72gHCjJxc5nvSCoavAQEWC9wJlhAjlpUb0A7NX0y6QsvYD/oO+meUI9gBn0YUrvVD3AwPXcd2pfPWC1d8znTGQ9YE0pSFo2aD2Afsg2cmtrPYDrRKxO6G09oAMZYW2rbz2gb3kH21pwPXCJTO1BhXA9AGjBHs5XcD1g7SPeG61vPeDUMBlhDW49IAKIIv3caz2g4iNscippPeAyYmnzBWY9gGHlXh6BYj2AuEhzb11dPcCPbq6ZRFU9gEt378K/ST0AlLMpml4xPQDwdkWssDC9gK0mBCMKSb1AWCmQb45UvUADBDY8Jly94Bwv58KWYb1AxKCypMRkveB/y3hWkWe94BZJyr3zab2gIrdMPOVrvQAlElTNYW29IOhvEhtobr3A0uDtffluvQBV7ObuGW+94GnYwPPPbr3ABBmJciRuvSBW8sGXIm29YAsFeqXXa73ALkymsVJqvaDMuyBIpGi9gKpMoTveZr2g3O7pLhNlvUA5cTpMVmO9QArPG9K6Yb0AYU2/zlNgvQB3RgNxZ169AFk31RrYXL0A4/T00BlcvUDlHdFNSVy9QPh82VB/Xb2AFp1x8c9fvaCmHywMpWG9YHrLTZL7Y71g87jePO1mvQCzIPOieGq9IFwzu02Zbr3gGCQY26NxvXCG4C2aPHS9wJCrwxMQd73wTCj5GxZ6vYCMww9ORX294FJ+l5lJgL2YYZXINfqBvViVCsBzroO9yF/zkRJghb24KarpuAiHvZiGSisOooi9+K3l7t8lir0A/gNcQ46LvaDNt1y41Yy9AKyLM0T3jb0gyc/kje6OvUCcHhr4t4+9fFmHulsokL24okgFb1uQvYygFmq0dJC9iEZHAiR0kL3IGw7kL1qQvUj6PQPAJ5C90FsfZFi8j71YbMOYa/6OvVjM7EX3GY69AG2jbNgTjb0YgwYrcfGLvSi3dl6JuIq9KE5B4iVvib04CWeDZRuIvVC/BP1aw4a9ePyMN+9shb1Y/NW5vR2EvVBedIL12oK9UDIFUDmpgb0onrFwi4yAvbAi/5dpEH+98JHJKns9fb0gh1p5xKN7vRC6T/EgRXq9gPS4dNAheb2QqjT9gDh4vcBwutFrhne90D5c4GsHd72wupHEKbZ2vVAuBABHjHa9MGiCO4OCdr1gDk9C8pB2vfC69Sotr3a9QBDEE4HUdr3gtEuqHfh2vRB6D8o/EXe9ECStJ1oXd72QKFdENwJ3vZBtWS8Vyna9sFBPkcRndr1Qm7muuNR1vWAVDwYVC3W9sOjxLbkFdL0gvVM+UMByvaC6mUlSN3G9QKPnZAnQbr1A8ojfAKFqvWCIKPho32W9wMMfoMuKYL2AyNCEzUhVvQCbEmedvEC9AJWX3DCCNj0ARC9w5qZUPcCzf/koUmI94MxT82HCaj3gjtwwKsxxPeAT27c5Y3Y90Mc4rLweez0gK0AqOPZ/PWBAA7w2cII9wBvw57TphD04q8LqUmKHPSCc3VSN1Ik9IHTRcrU6jD1oqsMbAY+OPSxucxDSZZA9WL4wUnR1kT3MUpiso3OSPVy/86+/XZM9bOZyVlgxlD10Vt3lOOyUPaxa11lzjJU9+EvIrGkQlj3AshR21naWPTwkpVTSvpY91LBhhNXnlj0gpQ2Mu/GWPQzg3j3C3JY95O1akIWplj3MHl0z+liWPQzHK6pl7JU9/LVKPFdllT2kQLO4m8WUPaT3JOAxD5Q9nHFZ2jxEkz14De9I+maSPdAgYLe1eZE9+IbGC75+kD1we+JYsvCOPfCoGJd20Yw9CDsJ9wGkij24hKZoUWyIPejlav4cLoY9GM96utXsgz2wOMZOo6uBPRCf4g/O2n49gF2kiHxpej2wMz69GAh2PVBerD0Eu3E9IO/cL5cMaz1AlNIlZttiPcAPI9s901U9ALqMlXvxOT2AHkTjpYBAvQAXqcWgVVa9wMIrO0nbYb0AEtGxLitovaBMC4c/FG694KwO6TnIcb1Aua/XEk10vaD2T5YTlna9IFqVqPageL3AYqud0mt6vZBsmugz9Xu9MCqPsTI8fb3giYgAf0B+vUBEEA9qAn+9UEADZO+Cf71wVL6PvcN/vXB6SfAux3+9MBNjrkOQf71Q7RBvmiJ/vQCZhWlhgn69GBpy1zy0fb1I/0c0Nr18vWgS43+donu9iGUAavdper0=",
          "dtype": "f8",
          "shape": "13, 1000"
         }
        }
       ],
       "layout": {
        "annotations": [
         {
          "font": {
           "size": 16
          },
          "showarrow": false,
          "text": "<b>Difference at C3</b>",
          "x": 0.225,
          "xanchor": "center",
          "xref": "paper",
          "y": 1,
          "yanchor": "bottom",
          "yref": "paper"
         },
         {
          "font": {
           "size": 16
          },
          "showarrow": false,
          "text": "<b>Difference at C4</b>",
          "x": 0.775,
          "xanchor": "center",
          "xref": "paper",
          "y": 1,
          "yanchor": "bottom",
          "yref": "paper"
         },
         {
          "font": {
           "size": 16
          },
          "showarrow": false,
          "text": "Time (s)",
          "x": 0.5,
          "xanchor": "center",
          "xref": "paper",
          "y": 0,
          "yanchor": "top",
          "yref": "paper",
          "yshift": -30
         },
         {
          "font": {
           "size": 16
          },
          "showarrow": false,
          "text": "Frequency (Hz)",
          "textangle": -90,
          "x": 0,
          "xanchor": "right",
          "xref": "paper",
          "xshift": -40,
          "y": 0.5,
          "yanchor": "middle",
          "yref": "paper"
         }
        ],
        "height": 400,
        "template": {
         "data": {
          "bar": [
           {
            "error_x": {
             "color": "#2a3f5f"
            },
            "error_y": {
             "color": "#2a3f5f"
            },
            "marker": {
             "line": {
              "color": "#E5ECF6",
              "width": 0.5
             },
             "pattern": {
              "fillmode": "overlay",
              "size": 10,
              "solidity": 0.2
             }
            },
            "type": "bar"
           }
          ],
          "barpolar": [
           {
            "marker": {
             "line": {
              "color": "#E5ECF6",
              "width": 0.5
             },
             "pattern": {
              "fillmode": "overlay",
              "size": 10,
              "solidity": 0.2
             }
            },
            "type": "barpolar"
           }
          ],
          "carpet": [
           {
            "aaxis": {
             "endlinecolor": "#2a3f5f",
             "gridcolor": "white",
             "linecolor": "white",
             "minorgridcolor": "white",
             "startlinecolor": "#2a3f5f"
            },
            "baxis": {
             "endlinecolor": "#2a3f5f",
             "gridcolor": "white",
             "linecolor": "white",
             "minorgridcolor": "white",
             "startlinecolor": "#2a3f5f"
            },
            "type": "carpet"
           }
          ],
          "choropleth": [
           {
            "colorbar": {
             "outlinewidth": 0,
             "ticks": ""
            },
            "type": "choropleth"
           }
          ],
          "contour": [
           {
            "colorbar": {
             "outlinewidth": 0,
             "ticks": ""
            },
            "colorscale": [
             [
              0,
              "#0d0887"
             ],
             [
              0.1111111111111111,
              "#46039f"
             ],
             [
              0.2222222222222222,
              "#7201a8"
             ],
             [
              0.3333333333333333,
              "#9c179e"
             ],
             [
              0.4444444444444444,
              "#bd3786"
             ],
             [
              0.5555555555555556,
              "#d8576b"
             ],
             [
              0.6666666666666666,
              "#ed7953"
             ],
             [
              0.7777777777777778,
              "#fb9f3a"
             ],
             [
              0.8888888888888888,
              "#fdca26"
             ],
             [
              1,
              "#f0f921"
             ]
            ],
            "type": "contour"
           }
          ],
          "contourcarpet": [
           {
            "colorbar": {
             "outlinewidth": 0,
             "ticks": ""
            },
            "type": "contourcarpet"
           }
          ],
          "heatmap": [
           {
            "colorbar": {
             "outlinewidth": 0,
             "ticks": ""
            },
            "colorscale": [
             [
              0,
              "#0d0887"
             ],
             [
              0.1111111111111111,
              "#46039f"
             ],
             [
              0.2222222222222222,
              "#7201a8"
             ],
             [
              0.3333333333333333,
              "#9c179e"
             ],
             [
              0.4444444444444444,
              "#bd3786"
             ],
             [
              0.5555555555555556,
              "#d8576b"
             ],
             [
              0.6666666666666666,
              "#ed7953"
             ],
             [
              0.7777777777777778,
              "#fb9f3a"
             ],
             [
              0.8888888888888888,
              "#fdca26"
             ],
             [
              1,
              "#f0f921"
             ]
            ],
            "type": "heatmap"
           }
          ],
          "histogram": [
           {
            "marker": {
             "pattern": {
              "fillmode": "overlay",
              "size": 10,
              "solidity": 0.2
             }
            },
            "type": "histogram"
           }
          ],
          "histogram2d": [
           {
            "colorbar": {
             "outlinewidth": 0,
             "ticks": ""
            },
            "colorscale": [
             [
              0,
              "#0d0887"
             ],
             [
              0.1111111111111111,
              "#46039f"
             ],
             [
              0.2222222222222222,
              "#7201a8"
             ],
             [
              0.3333333333333333,
              "#9c179e"
             ],
             [
              0.4444444444444444,
              "#bd3786"
             ],
             [
              0.5555555555555556,
              "#d8576b"
             ],
             [
              0.6666666666666666,
              "#ed7953"
             ],
             [
              0.7777777777777778,
              "#fb9f3a"
             ],
             [
              0.8888888888888888,
              "#fdca26"
             ],
             [
              1,
              "#f0f921"
             ]
            ],
            "type": "histogram2d"
           }
          ],
          "histogram2dcontour": [
           {
            "colorbar": {
             "outlinewidth": 0,
             "ticks": ""
            },
            "colorscale": [
             [
              0,
              "#0d0887"
             ],
             [
              0.1111111111111111,
              "#46039f"
             ],
             [
              0.2222222222222222,
              "#7201a8"
             ],
             [
              0.3333333333333333,
              "#9c179e"
             ],
             [
              0.4444444444444444,
              "#bd3786"
             ],
             [
              0.5555555555555556,
              "#d8576b"
             ],
             [
              0.6666666666666666,
              "#ed7953"
             ],
             [
              0.7777777777777778,
              "#fb9f3a"
             ],
             [
              0.8888888888888888,
              "#fdca26"
             ],
             [
              1,
              "#f0f921"
             ]
            ],
            "type": "histogram2dcontour"
           }
          ],
          "mesh3d": [
           {
            "colorbar": {
             "outlinewidth": 0,
             "ticks": ""
            },
            "type": "mesh3d"
           }
          ],
          "parcoords": [
           {
            "line": {
             "colorbar": {
              "outlinewidth": 0,
              "ticks": ""
             }
            },
            "type": "parcoords"
           }
          ],
          "pie": [
           {
            "automargin": true,
            "type": "pie"
           }
          ],
          "scatter": [
           {
            "fillpattern": {
             "fillmode": "overlay",
             "size": 10,
             "solidity": 0.2
            },
            "type": "scatter"
           }
          ],
          "scatter3d": [
           {
            "line": {
             "colorbar": {
              "outlinewidth": 0,
              "ticks": ""
             }
            },
            "marker": {
             "colorbar": {
              "outlinewidth": 0,
              "ticks": ""
             }
            },
            "type": "scatter3d"
           }
          ],
          "scattercarpet": [
           {
            "marker": {
             "colorbar": {
              "outlinewidth": 0,
              "ticks": ""
             }
            },
            "type": "scattercarpet"
           }
          ],
          "scattergeo": [
           {
            "marker": {
             "colorbar": {
              "outlinewidth": 0,
              "ticks": ""
             }
            },
            "type": "scattergeo"
           }
          ],
          "scattergl": [
           {
            "marker": {
             "colorbar": {
              "outlinewidth": 0,
              "ticks": ""
             }
            },
            "type": "scattergl"
           }
          ],
          "scattermap": [
           {
            "marker": {
             "colorbar": {
              "outlinewidth": 0,
              "ticks": ""
             }
            },
            "type": "scattermap"
           }
          ],
          "scattermapbox": [
           {
            "marker": {
             "colorbar": {
              "outlinewidth": 0,
              "ticks": ""
             }
            },
            "type": "scattermapbox"
           }
          ],
          "scatterpolar": [
           {
            "marker": {
             "colorbar": {
              "outlinewidth": 0,
              "ticks": ""
             }
            },
            "type": "scatterpolar"
           }
          ],
          "scatterpolargl": [
           {
            "marker": {
             "colorbar": {
              "outlinewidth": 0,
              "ticks": ""
             }
            },
            "type": "scatterpolargl"
           }
          ],
          "scatterternary": [
           {
            "marker": {
             "colorbar": {
              "outlinewidth": 0,
              "ticks": ""
             }
            },
            "type": "scatterternary"
           }
          ],
          "surface": [
           {
            "colorbar": {
             "outlinewidth": 0,
             "ticks": ""
            },
            "colorscale": [
             [
              0,
              "#0d0887"
             ],
             [
              0.1111111111111111,
              "#46039f"
             ],
             [
              0.2222222222222222,
              "#7201a8"
             ],
             [
              0.3333333333333333,
              "#9c179e"
             ],
             [
              0.4444444444444444,
              "#bd3786"
             ],
             [
              0.5555555555555556,
              "#d8576b"
             ],
             [
              0.6666666666666666,
              "#ed7953"
             ],
             [
              0.7777777777777778,
              "#fb9f3a"
             ],
             [
              0.8888888888888888,
              "#fdca26"
             ],
             [
              1,
              "#f0f921"
             ]
            ],
            "type": "surface"
           }
          ],
          "table": [
           {
            "cells": {
             "fill": {
              "color": "#EBF0F8"
             },
             "line": {
              "color": "white"
             }
            },
            "header": {
             "fill": {
              "color": "#C8D4E3"
             },
             "line": {
              "color": "white"
             }
            },
            "type": "table"
           }
          ]
         },
         "layout": {
          "annotationdefaults": {
           "arrowcolor": "#2a3f5f",
           "arrowhead": 0,
           "arrowwidth": 1
          },
          "autotypenumbers": "strict",
          "coloraxis": {
           "colorbar": {
            "outlinewidth": 0,
            "ticks": ""
           }
          },
          "colorscale": {
           "diverging": [
            [
             0,
             "#8e0152"
            ],
            [
             0.1,
             "#c51b7d"
            ],
            [
             0.2,
             "#de77ae"
            ],
            [
             0.3,
             "#f1b6da"
            ],
            [
             0.4,
             "#fde0ef"
            ],
            [
             0.5,
             "#f7f7f7"
            ],
            [
             0.6,
             "#e6f5d0"
            ],
            [
             0.7,
             "#b8e186"
            ],
            [
             0.8,
             "#7fbc41"
            ],
            [
             0.9,
             "#4d9221"
            ],
            [
             1,
             "#276419"
            ]
           ],
           "sequential": [
            [
             0,
             "#0d0887"
            ],
            [
             0.1111111111111111,
             "#46039f"
            ],
            [
             0.2222222222222222,
             "#7201a8"
            ],
            [
             0.3333333333333333,
             "#9c179e"
            ],
            [
             0.4444444444444444,
             "#bd3786"
            ],
            [
             0.5555555555555556,
             "#d8576b"
            ],
            [
             0.6666666666666666,
             "#ed7953"
            ],
            [
             0.7777777777777778,
             "#fb9f3a"
            ],
            [
             0.8888888888888888,
             "#fdca26"
            ],
            [
             1,
             "#f0f921"
            ]
           ],
           "sequentialminus": [
            [
             0,
             "#0d0887"
            ],
            [
             0.1111111111111111,
             "#46039f"
            ],
            [
             0.2222222222222222,
             "#7201a8"
            ],
            [
             0.3333333333333333,
             "#9c179e"
            ],
            [
             0.4444444444444444,
             "#bd3786"
            ],
            [
             0.5555555555555556,
             "#d8576b"
            ],
            [
             0.6666666666666666,
             "#ed7953"
            ],
            [
             0.7777777777777778,
             "#fb9f3a"
            ],
            [
             0.8888888888888888,
             "#fdca26"
            ],
            [
             1,
             "#f0f921"
            ]
           ]
          },
          "colorway": [
           "#636efa",
           "#EF553B",
           "#00cc96",
           "#ab63fa",
           "#FFA15A",
           "#19d3f3",
           "#FF6692",
           "#B6E880",
           "#FF97FF",
           "#FECB52"
          ],
          "font": {
           "color": "#2a3f5f"
          },
          "geo": {
           "bgcolor": "white",
           "lakecolor": "white",
           "landcolor": "#E5ECF6",
           "showlakes": true,
           "showland": true,
           "subunitcolor": "white"
          },
          "hoverlabel": {
           "align": "left"
          },
          "hovermode": "closest",
          "mapbox": {
           "style": "light"
          },
          "paper_bgcolor": "white",
          "plot_bgcolor": "#E5ECF6",
          "polar": {
           "angularaxis": {
            "gridcolor": "white",
            "linecolor": "white",
            "ticks": ""
           },
           "bgcolor": "#E5ECF6",
           "radialaxis": {
            "gridcolor": "white",
            "linecolor": "white",
            "ticks": ""
           }
          },
          "scene": {
           "xaxis": {
            "backgroundcolor": "#E5ECF6",
            "gridcolor": "white",
            "gridwidth": 2,
            "linecolor": "white",
            "showbackground": true,
            "ticks": "",
            "zerolinecolor": "white"
           },
           "yaxis": {
            "backgroundcolor": "#E5ECF6",
            "gridcolor": "white",
            "gridwidth": 2,
            "linecolor": "white",
            "showbackground": true,
            "ticks": "",
            "zerolinecolor": "white"
           },
           "zaxis": {
            "backgroundcolor": "#E5ECF6",
            "gridcolor": "white",
            "gridwidth": 2,
            "linecolor": "white",
            "showbackground": true,
            "ticks": "",
            "zerolinecolor": "white"
           }
          },
          "shapedefaults": {
           "line": {
            "color": "#2a3f5f"
           }
          },
          "ternary": {
           "aaxis": {
            "gridcolor": "white",
            "linecolor": "white",
            "ticks": ""
           },
           "baxis": {
            "gridcolor": "white",
            "linecolor": "white",
            "ticks": ""
           },
           "bgcolor": "#E5ECF6",
           "caxis": {
            "gridcolor": "white",
            "linecolor": "white",
            "ticks": ""
           }
          },
          "title": {
           "x": 0.05
          },
          "xaxis": {
           "automargin": true,
           "gridcolor": "white",
           "linecolor": "white",
           "ticks": "",
           "title": {
            "standoff": 15
           },
           "zerolinecolor": "white",
           "zerolinewidth": 2
          },
          "yaxis": {
           "automargin": true,
           "gridcolor": "white",
           "linecolor": "white",
           "ticks": "",
           "title": {
            "standoff": 15
           },
           "zerolinecolor": "white",
           "zerolinewidth": 2
          }
         }
        },
        "title": {
         "text": "<b>TFR Power Difference (Left - Right)</b>",
         "x": 0.5
        },
        "width": 800,
        "xaxis": {
         "anchor": "y",
         "domain": [
          0,
          0.45
         ]
        },
        "xaxis2": {
         "anchor": "y2",
         "domain": [
          0.55,
          1
         ]
        },
        "yaxis": {
         "anchor": "x",
         "domain": [
          0,
          1
         ]
        },
        "yaxis2": {
         "anchor": "x2",
         "domain": [
          0,
          1
         ]
        }
       }
      }
     },
     "metadata": {},
     "output_type": "display_data"
    }
   ],
   "source": [
    "def plot_tfr_difference_plotly(epochs, picks=['C3', 'C4'], title='TFR Power Difference (Left - Right)'):\n",
    "    \"\"\"\n",
    "    Plot the time-frequency difference between left and right trials for specified channels\n",
    "    using Plotly for a clear, interactive visualization.\n",
    "    \"\"\"\n",
    "    if len(picks) != 2:\n",
    "        raise ValueError(\"This function is designed to compare exactly two channels.\")\n",
    "\n",
    "    freqs = np.arange(6., 31., 2.)\n",
    "    n_cycles = freqs / 2.\n",
    "\n",
    "    fig = make_subplots(rows=1, cols=2,\n",
    "                        subplot_titles=(f'<b>Difference at {picks[0]}</b>', f'<b>Difference at {picks[1]}</b>'),\n",
    "                        x_title='Time (s)',\n",
    "                        y_title='Frequency (Hz)')\n",
    "\n",
    "    for i, pick in enumerate(picks):\n",
    "        power_left = tfr_morlet(epochs['left'], freqs=freqs, n_cycles=n_cycles, picks=[pick],\n",
    "                                use_fft=True, return_itc=False, average=True, verbose=False)\n",
    "        power_right = tfr_morlet(epochs['right'], freqs=freqs, n_cycles=n_cycles, picks=[pick],\n",
    "                                 use_fft=True, return_itc=False, average=True, verbose=False)\n",
    "\n",
    "        power_diff_data = power_left.data[0] - power_right.data[0]\n",
    "\n",
    "        fig.add_trace(\n",
    "            go.Heatmap(\n",
    "                z=power_diff_data,\n",
    "                x=epochs.times,\n",
    "                y=freqs,\n",
    "                colorscale='RdBu_r',\n",
    "                colorbar=dict(title='Power Diff.')\n",
    "            ),\n",
    "            row=1, col=i+1\n",
    "        )\n",
    "\n",
    "    fig.update_layout(\n",
    "        title_text=f'<b>{title}</b>',\n",
    "        title_x=0.5,\n",
    "        height=400,\n",
    "        width=800\n",
    "    )\n",
    "    fig.show()\n",
    "\n",
    "if epochs:\n",
    "    plot_tfr_difference_plotly(epochs, picks=['C3', 'C4'])\n",
    "else:\n",
    "    print(f\"No epochs found for subject {subject_id} to generate TFR plot.\")"
   ]
  },
  {
   "cell_type": "markdown",
   "id": "26f661eb",
   "metadata": {},
   "source": [
    "## 5. Visualizing the Model's Input\n",
    "Before feeding data into a model, it's crucial to visualize what the model will actually \"see.\" For a convolutional neural network like EEGNet, the input for each sample is a 2D array containing the voltage values for each EEG channel over the trial's time window.\n",
    "\n",
    "The plot below shows the raw signal data for one \"left\" and one \"right\" motor imagery trial."
   ]
  },
  {
   "cell_type": "code",
   "execution_count": 159,
   "id": "8c974b8d",
   "metadata": {},
   "outputs": [
    {
     "data": {
      "application/vnd.plotly.v1+json": {
       "config": {
        "plotlyServerURL": "https://plot.ly"
       },
       "data": [
        {
         "mode": "lines",
         "name": "C3",
         "type": "scatter",
         "x": {
          "bdata": "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",
          "dtype": "f8"
         },
         "y": {
          "bdata": "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",
          "dtype": "f8"
         }
        },
        {
         "mode": "lines",
         "name": "Cz",
         "type": "scatter",
         "x": {
          "bdata": "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",
          "dtype": "f8"
         },
         "y": {
          "bdata": "giGmVCRMOkBw7IYEGUw7QNh4TOJbhTtA2SSTwR/NO0Ckyh/WLmw9QH0YVHpckT1A4BtHJFNPPkA/gRUQuoQ+QFJG8EPD2T5ATrFkg22yPkDzTvD/R649QAZpNG26tD1Av6wsKJadPEA+uwHkivk9QDOjQZO6vD9AlmgjfCIWP0A5qKVxlyhAQMYORNrxbT9AIDNdMKevPkCaIjsQuRY+QAZiFu7PQT5A3djJBEwdQECv/JJNF4I/QLZFdgWKB0BAnCJojo6ZQECYSgc9FodAQPVa3jYxekBAgLr6Jq8uQEBnRUsgxyo/QMpnuPFV3j5AlLnf5JBzP0BoDLLYbng+QOyo9RNoQT5AoI7cksv2PUA2oaL5BrM8QB5aCEfiWDxA1xwv1VJaOUB2O2NHJeg5QLCT77LzkztAwwqpJUaxOkCOJld+DdQ9QAHr7jYrBUBAQ3iQ07e9QEAzlA8uZ2FBQLpTjowNO0BAtXzIds64PkA5VmYM8SQ9QL7TwhwmTD1ADNA5BjUPP0DP/Rs5EN8+QC7bfqa5KUBAMzjKbbkHQECY9Ju2tzo+QGPFQxwYRz1ALMJQh7V8OkCIlCTiQxY4QJgiOeN6KjdA2hItisgFOEDZ9qBDCfw4QCij5yrERTpAe1R4M9EJPEBHTesZjxw7QNa16iO/tjpApqwo67qhOUAidKZ7yz44QJSG2BB89jlA3LEtWKBoOUA6k+m11NE5QMUQm9ccpDxAemgh9W0mPEC82UZ/XCg8QMIVMQIADT5A6Pz/uE2cPUCn+EwTnro8QH7OR3GAGz1AJrX+XiCUPECmndCYzZU7QDUXxhR6HztAOzxtSbvFPEAob6vO5wM/QOKrDkS63j9A3R4bhoyrP0At/kwCGZg+QJM4Uw0iZD9AxwweixU4PkD67FICJxw+QCpkFm8+D0BAa7EFaSifQEBkR5UQtSpBQG40SGuvE0FAEhWHirkMQUBG8FQQX4xAQEsMClrfPj5AMsFtqd9WPUAS81tVMXQ8QOFEUzyLPjtArD02cp+aPEBgeQ/HXxA7QG1Ha7Zz0TlAGnTCYnxJOUDazucgddM4QGP6cpSDjDhArAPLatY2OUDWwkuB42s7QHO+q8YzFD1Aorl0l0TqPkDlUxwp/TVAQDLr3myvaEBALaF6VVgyQED4RDu7tfhAQPwH7O0xQkFAatFuAx7lQEDNBHxXj4ZAQLyXsv1BYz9AYlqvSawePECK1R2YwHg6QMl/V4az+TtA+qn7ad9oO0CgwtiDBoc7QF8N0ZNjlztAYRdWw23LOkD2DFs38+w6QKmIXPzGyDhA0d7kUeatOkAef2KbZzY9QB8L6Buw+D1AyRNM2A4JP0D78MO54YM/QLyFdy0wM0BAplSnsNPHP0DT1aAlXuZAQKJBBKt5fUBALtTwduM6QEDkPCUDLEhBQK/RWgH3xkBAcE9lPAChQEAzPTkbVnY/QOtOPdc6ej5AHsAbYY31PUAVgXWZ2Po7QMo8oG+XjTxAaHgdkEluPUA7GpPdE6Q8QKDxh3LYTjxAL9dowSJuO0DpryKr6fg5QNlaDkPMdzlAtxTYx4SXOkB3eIQ2cHc9QDFapVuxbzxAhqUE8lCqO0A6ni4Es2Q7QJF+vTVcvjlAE+L6jlbPOEAyVXdg6s04QDJnMClVMjpA01EWH6kFOkDoPFNOSAU7QMCeRiH4aTlAWnhYN2aZOEA2zsm348U6QFguUZMsWDtA1pbZ7dQ0O0DGxJdHyrU7QPKdj047eDxAtwosIU09PEBD/QXc+V86QJ5zwnpUdjpAT5pfsQ/eO0AXhpZKOks7QKf3rkqT2jxA7M8UeDWxPECeeW+0bcQ8QCGhCdZzVTxAZ/DPvo5xOkDnLiqWKTs7QOxYrYFTfzpADbzRE5KMOkACR7n2DJg8QFYrD7eGWDtAT6ptN75sOkAML0tK7Pw7QOYQ1QKLOztAk2kAPHZHOkAepTfmjVo5QMbzKXguYzhApbIbQ0GCOECmFCzeHjI4QC9tx8i6PzhA9qbaukIWOEDVQ+9Vtyo4QFuQHf8YADhAWot+pJOMOUD6UBCITi47QEeq2aGDgTtA8UbpNSkvO0Bdyd9aekk4QPRCUscS2DhAdU63viHXOUDo/Om2EHI6QCaPcRo7OjpAqQHiO8wGOkCb/JgyJ8Q6QDb+2YO9iThAptjLJp2qOEBDtSgXO6k7QNv90AQCfT5AMm1ZxftxPkCs3/IRiWM/QAxROrxT4D5AD6U1YUTSPUAirnx1VnY+QA73mORI9jxAXEATlC1JPkDSArPIcDE9QO072HyUqjxAeJXUAlk9PkDchMt/eyw9QA4x24PrUD5Ai8SKw/0RP0BWEPWiyABAQDDGldyqUEBAzAXYunogQECo9Te/jCNAQEKc85jVpz5ApPTLupV8PkDxio7K4+Y/QNDzhPQQuz9AY13z+zZNQEBmQPkSWc9AQPja1++HAUBArGj4FMvyPkCh9YM+Neg/QOAxuZfZTUBAOzSCsAMVQEBsnjPsrMs/QGW7G6MKhT9Ae7M2BbDXPkDXVrbcu1I+QJ5AAdgQYj5A+1AV6p47PkBNNh8Aa58+QIqyuvDyDz9A18kMqwq+P0DUPprQzfM/QF2uo5Hhcj5AAWyIt0JcPECkVcOr47A6QAel+l0G6zlAurYZ55HCOUCqD+/nnZg7QEOn62kY3zxA3XRdgHEyPUCew4DW7XM8QDSvIV87cDtAQu9Od/o1PEA7YfonUiI9QIpblY2s4j5ALK+qjZZxPkDi5ve5xls/QDhiswC3JEBAG7MOzXRkPUAvyZ/381c9QOuKPAZe1z1AuA1+esLsPEA01deRltY9QFGCujT+Vz1AU1e9atBcPEDzgl0/yvw9QN8LCURLdz1AwgW+IEFfPkD594HbHE1AQEfne8ednj5AWh35zI+MPkBb2Y0CAIo/QAq694bZsD5AWU5yYf7TP0BtIF7nT4BAQN9T1kTBu0BAPIrtRPIKQEAlH+f7SbI8QGhWsfupBTpAVj3b5XMhOUBkm1iB7zs6QIQcnONjKDpAEw9aLsnJO0BH3ggiZkk8QFK2Qx14+TtAHfYZOzihPUCN6J9RR+c+QDvZuQxDmkBAMdC7ay6KQEAdfbksAVpBQNzQ8eY/g0FAMv7j0sRvQECj/cteKL5AQG1i3bYzfUBAwgwmYhsrQEDQ97Fa83c+QMNYbBBwxjxAu9KS6gOUPEBlrsHH4kw9QIjUGX41jD5AZH19KDnUP0AuPPoVaF1AQLxHu62bFUBACPw9wlC7P0Ap63YwV0g/QADFFAnjAj9AAVukezQGP0DLRqpIzKc+QD2DsT5LQT5Ax5kR6yzAPkDE9T6UsNE/QO1Fki6iwT9AUPxCxBrCP0CYJpy6dW8/QJWTlFmelD9AQvEb2LB6P0DZeICe+Wc/QHVqW94+pj9ALwk4+3h/P0ATslomV4pAQK29Od0/0EBA+mByCDzTQEDLFftdz3xAQOli35J88UBAkiZacEPJQEB/Rs7CLmRAQJ1Hav0/vUBATHKAVu+TQEB8jhnSRW5AQO/OtQDwJz9AenKra35EP0BhDiaCrUY/QCAlfgJcGj9ACsW8czcsP0CO27fewxQ9QOu6PUoEcz1AnKATVcWBP0A8IR8eC/s+QHCGDDYyREBAbkkBHiXIQECUT+hoXuk+QFkiF35fuj1AeW5+g5yJPUC5BLqffSc+QKnttXQqpT1AKV3zy0yaPkAx5pa2MX8+QBamEIV3UT9AH9N6L7GjQECISz6w4Ns+QJR2RAYHl0BAh2xGdOXQP0Do0I1y7QA/QNiSqi2y9z9A7MLQjvywPUD7hJFw5uw/QD2JbSigDUBAR6aJUyYuQECfK+X6BaI/QBdJVqP5vD1AxYYDHQPGPUDYm9/xJeo8QIWCvMC4mztAh61TO7WeO0BUCYDBaxc7QJJyiRQJHjpAREAvx9OOOkBE1grG8Bw7QEoRjDeXAz5AlbyjEtvMPkA/gAToWzA+QAE16DnZfj1ADlw942s6O0Bck45sEyM7QKoqNY7GcT1AKs9KZPQ0P0D+rMtDM8Y+QIBvhlAoqD5A/k1IpaiSPUAMBMYINRE8QLASw2ewNDtAxhEZXnuTO0CM33QwUWM8QGibrbs+dD1AEGboj775PUDH6OBU3E4/QA5toS8J/j9AJ2BfYMgOPkBPRB3sG6Y9QERQ045LOD5A36KgkdNEPkAXHwkvftE9QEKpXOijQz5Ay/M9AdwqPkBu/4JSJHE8QGcTyKYWVTpAGBGQcgBOO0DkJq+bAMU8QKu2AsH2UD1APjB29OGXP0DV7uT935E/QASIOghXUD9AZUOd3/LKP0A6pSegLgNAQM2FNtsAUEBA4bz9yjH0PkC5xV1NUvA9QC56hJSHuz1AzMr7VLbVP0BGXgl4sZw+QA7KxoIvQj1ACvhw1NFbQEBa0KA64BRAQJ8gevHp7T9AGaK072+pPkAtjHUh0pA/QHeKKrJKnkBAKGLJVDpnQEBoakYq6hJBQDXHFS/7WUFA78F/8jGjQUBYKNMOp0NBQGqwTkxBDUFAflTQ4dIMQEAtWzHkLHA+QEeSxGrPgj9A2kV/C+tOQECCeDsukcZAQAQ6vPGhjEBAlHWqanUmQUBszavd5t9AQPJyqAmEREBAGp8puSR+QEAO/+10brBAQOw2lAi7z0BATBd/4DaVQEBwJmwiJsFAQC4iHtp9FkFAJDWCT4UkQUBaIps24pxAQJ8uA7fUkEBALMjpXgy0QEABtgJYBG5AQMOs1v57xj5AbAGJLE4CQECzLi8DT6RAQFlW4HXvCEBAf187nXbRQECgXi3YCHBAQPGCAbtvN0BA/Q8HgbO4PkBBPKMSxnI8QLJboDiArzxA0IYMjvEJPEDtNSbk4u88QJCQgLmaez9AvW46mH6/P0BsAD/p858+QBRPdBcpbD1AUjJuf+tIO0BtX4ZJGAA8QAxuoOrw0zxAF/91r+pzPUAFUvk87vA/QGrTKdCoaEBAoRzfsIRKP0D5qttbE3g+QHGtsU7g1z5AbK6r9T4hPUC2lj/OLvI7QPpnzUY5HDxAVhFrb4cLO0CBPhvZzpM6QHOAIuRj4jtA9093698HPEB7t468A+47QBMRtl6bGT1A5pHzCMRvPECEz2ntwSE8QANdGV6+PjxAbcnGkwKBPEDV/G7+Ams9QKdH2dhB/DxAaD35zKGLPkB5P+E3GjlAQLMShZaJa0BA4WbY5NZ8QEC6tvbHlcpAQDf3EVvW0kBAQvoZC5hJQEDXsrjHg00/QLpKhyF5fDxA3rK6ZQgRO0C8qsxKpJE6QGhSaoRCwDlAt5DDStGLPEB/6zaFk4s/QCaeoXiJYEBALZr2ujm+QEAXxeBKmyU/QGxIc95yqz1AuNRJiLALPUAhwq7gLPg8QKRkg5hcDz5AS68CbixjPUBO89aOMvg+QOASUeBb1TxAhb8cKO8aOkBoBztO7No7QDDWLLv1mjtAGTFUMtM8PUD4FnZcCzE8QLqZmJXF5TtA1TDdPiYQPUCtatzd3jU7QCIDZ7UXdTpA3/XF/SIJOUByMpY5emI6QBrwDzfYRDpA7sbW7xkuOUBmnu6hjPI5QNlCIjw97TlAgBG7UjZTO0AGgC+XuGk8QFwwiO6jaz5A0YPz4BFWQUCiFvW9dPtBQKSHTJ1QhEBAzd4hrmEcP0AyYUqD+Vs+QEwWUuMC8DxASk66UADNPEAPWkoD+rg+QPTTPYqcU0BAW4IhUsYmP0ADKQmYaGo+QD1c7ZBqwjxA7IxKygUwO0BQC4GzM3o8QBtDdhlZVjxAIwKRCRi7PkAgUOtjyX4/QJuNQgdWGT5AoU5g7hn/PUBld1LmWRg8QEyZi5zxazpAbTH4rtC6OkDXFKRjKOs6QMyzulCcEzxAL3qAiUT2PUBNma7bqww+QISGLmmHAEBABEzJ4YRhQUCIVQpD9EJCQDPtKzjGIkNAVHZwWoNaQkB0sSOTpphBQCiGiXfoikFA2yKYiTGYQEDbqhsWMgxAQKP48LN6DUBAEpEDdNCoP0AqlJdjlsI+QKth7kHNqzxA4DAZQh14PED0uoFncTRAQAKRt6HwQkBAYIbgXHQjQECoLTb47MBAQGrCnG0ELUBArrhw49TZP0CnUD+BmYJAQIGZautTvkBAx9M9MvBuQEA7wTj2upZAQC5ubDVYdD9AZfWfnTccP0C0JADZs6c/QNUNlNS3SUBAW6CXjUu5QEBMu279mwFBQEjZXWFBP0FANtmI8n0jQEBxlSSxFXxAQFLXjhbe5EBA5LGXJRthQEDqjFY0+Xg/QAmPUVs1Aj5Ax4yiTd9EPUBGUad4a7s9QOOqwOAHVD5ARNEsG08CQEBiH98e3qZBQHiN5o/250BAK/YGhWPfQEBzgUydemBBQI5vUCMuk0BAX1oBOQF8QUCK5VnB5i5CQPNpThVKFEJArMBqd5rLQUDKeRpAACVAQMkgW+P87z1A8mi5wgG9PUBvwUYyRZw8QNYkM2S1/jtAMqbSPZ7eO0CefnQ9n/M8QCy4GtCvGz9AEquDx4cDP0DqIkceZCI/QJNNrmHrXT5AC7fqOJjBPUBaO9KWWds9QI8FR+e5dj1Ahakf1C1dPUA88ukfBIQ+QPsNqIzhtj9ANui0GDY/PUC4RKouhaY8QNb3xs1ByDtA1Db/GGPqOkCLjdO29QE7QEhib0df4jlAf44mLR/UOkARC3kp9DI8QEENcS4p7T1Anu9GLVgkQECt+ZcBVOJAQA6hwmuP9kFAEhrJPPI2QkB+hSMpwMtBQLAfLFulQkFAcJBp8rw3P0DpUzUO6Ys8QC91/0TllDtAbU7ZQoiXPUAgaUAgLBI/QO0Fr96kxD1AfvFIxxbvPkDVlc+CXnw+QO+v5T+Z0TxAeH3ejXZXPUB+DdaME/s8QE55PqvsOTxAHcBHqj8OOkB+9fAQmrQ4QAN/JvQqkDdARpO0H1BaN0AoFD+vD7g5QPlD/kNldTlAKAUSCd6gOkAlSI5ZNrw8QAFgvk5nOD5AKlO0lc+bQED8suxRyNhBQLjIe3xlrEFA4o1UsK2rQECgFWNl9fg/QA1oAOzRDjxAsjYWjFZ2OEDjM0WWlgA3QLshrZataTZA+0UhvMYwNUCwpYDPsU40QFiyMcL1xTVAEJyUKa3FNkCq72kGueY2QJbCoO5ONzlAsDpJMdLIOkAj1Qy85m07QKMqpTfbBjxAzVP5pWhLOkBDP5xFhKs6QHnBc9P2cDpAJyTF9zCGOUBfc35vgNQ6QFc/SSBgDT1A5wv3ES19PUBKVwRyXbM/QOiRKDpgvUFA9ywaBuwCQkAq7Zq03gFCQNpjntMO+0BA5SAB6I9qQEBAMOiVTklAQKeVW7xM6T9AnKPyqEIcQECAn+83Qj1AQKtcIGEBAUBAqJPCWd6IPkD7zCg/6jc8QCozzsjrwjlAINQHt5S+OUDYQw+25eQ5QMcP6SKFlTpA8/KUcnAJO0Cs8rn/yyg6QIsef/OxcDhAh8OBbHx/N0B0mj+a50k6QBtOL5UzOjxAyPuGSdtNPkCVXipvU8Y/QBuYUtkMdz5AhcgIGwuIP0Ax8m8OLdA+QAYM9qi0Dz5AbaDu0UNeP0CQH3L4O7E/QD6lj1J1D0BAPj0v7e+sPkBF4xyHWCQ+QBQKE1BuyDxAvRBQ+0izOkC4t3ftkRE5QIzSeF+bjjdA+EohHfnNOEAX0XxQG7Y3QErzYythQDdAxvtVB61dOUCDDcZg00w4QFA86CNsxDhAQjk4dxmeOEB0JfFo7Fc2QGBgNrVLjDdAI+I1tRe6N0DWjjO/jbQ5QMtZkkGiODxABBOfxwSOPEBpWuG4oig/QIQ4FN494T9AXw5D1PUEQUBbICGEn+5BQIMGh446pkJAaQbjmD/4Q0AczEr+L5BDQLzIIYTo7ENAfMWbiHlTQ0BHSMLLn+1BQEt6G7fd/0BAD7uKcdLGQEC9kZTCHmJAQJoNnjticT5A0P2MwOmaPkBiAiiDaV09QD6XXbqz6jtAzC2xaD0BO0DQA5q/AuQ5QF2+pIzSrDlAaM12SdlEN0Abaipgf1k1QN77EsHmdzVA/hG00rnjNkBh66sNb/E2QCylfaGNjTZADfuIHwNYOkAmd/DS4Vw6QNezX/QjmzpAcD+RihdSP0A4lq7WuUZAQMEv9x+oHEFAbsRhIGfwQUCL71WQdvhAQAb2XaBtuUBAbJDM5uAaQEBwD+MrEhs+QJmHNgUWfz1A3m0JfKCwO0ATl4Hweno7QKssAvqosTtAxPUmADRoOkBrGokMhms7QD4r9hyZPjtA1tHmy4m9N0AknmDkJr42QE38TnxF2jZAloVJLSkqOEDoyYf4rNs5QC2mA5DPdTtAZ/wkVBprPUCQHfuQp9Y8QLDLIdk+Pz1AAqQpXK6kPUA38kAAUfA+QHTMziKIj0BA+im2zef4QECg3UFtv4NBQKmy3YiMSEFASDiJuY+CQEAcZA8hYTBAQIQ7YBmv0D1AWcRe9TnFO0AtXzUb+c06QFA5FilCETlARUvBygihOECoA1/g0rk3QNvLYe37xzZAfeC6f2hAN0BgNn39cAg3QHYKEKgZyjdAid/5RPHDOUC0NBvCoKE7QApphXh8Kz1AcjkhYyniPUAGjXbYThQ/QAHRZH8orj1Al99XbX1aO0AFmgD/QAg8QBjJtdP4mT5AJyO5AxaFP0CjEPIMHMhAQDhlyg+m0EFAnvmDuFQxQUAWagzl6QJBQIDaTPwCUkBAT1Niksf9P0B59RUlXg4/QO2BfU4W4D1Ar5cr382LO0Bq8PwLfMM3QI/92YHF5DZAwsg2JT37N0BjzkDhs6g6QG7hutWW6zxAA3tx2pZTPEA4faK0EUs7QNwjaPYcVDtAjjWBjBGqOUBrMOO0c904QDI+iKy+6zpAOPIRdclhPUBGeXw+yPQ9QBd5Y3BLCz5Ab2GSUqddPkBWtiOOg+4+QBX7pcRY4j9APA0orOxqQECISO8Q0iRBQLJyGfSclUJAeyesPL+7QkDiWu1k4MhCQFQICAWDz0JAE122RJY3QUCAKIwc5fBAQGB7Har9kT9AtY38gBEAPUD3YtEkNgU8QAHxhXKqOzpA9kMA+Q0COUDFlxIqIMs3QPqzXJkESjZAnuD7yKNrNkBNBf0BQ1g3QE/apl60FTdAJtUfHG3QN0CD3W/xH445QHbOYqTuhjxAc2e2INh/PkC1TpGzFlw/QBThgwiEbUBALVvh0Yt/QUA2OavLvL1BQKBB+7twuEFAWKPhMW5rQ0CTLk0D2wFEQOC6Pjl2/EJA6esgS9hZQkC5tlQp+jlBQJCC4sDqxUBACSUzPwd3QEDriyCMAAs+QPfHMeGuOj5A6TwuHTklPUBw9kU1uE87QIPx3S2HMjtARa4XDYsUOUB93B0Vs6o4QHrZtJdm3jdADOchD2TaN0AI16cMGWU3QF+US7/ZmTdASMIjEAtNO0DaKEFHx7g8QNAdyaPc7T1A4cYZR5VVQEAs6EqUSQlCQPwpUg/PTEJArxavohUyQkDrcgxaNf1CQD/+l/3rhkJAinWTV3vBQEDzqbf1iGU9QPSw8mPQLzpAxtzY6TTxN0B8lB0vwbE3QEB2zxmWfjZALGYGNTd3NkByqm7NnsQ3QIz584UsajdAf9yU0ZirN0Bx3rr8fm82QAsSRBNxvjVATCv0yE8kNkDvKZpBXTA3QHVWEb6DvDdARGhc8qicNkBn991c1po3QBCpUZsJ1ThAfNSdeZt2OEBtpiUs6lM6QCsg4qf/Nz9AfNbcY2oyQUDAYMrIqP1BQA6nqqYLTUJAoRql2FaJQkCOkmgeModCQAeERXipf0FAKDRmFYlLQEAYKFnYUyk/QNsBvIuX5T1AU1IbM+GWPEDO5XcKOsQ7QOHtqn7dcjpAIajIyr/IOUDO+C0r2Pg4QGuKiY6DHzlARSi9wR72OUBA2FLils07QK1TvtT7wztADMT/KWLYOEAGTt15V6o4QBMmYuN8lzdAXQNmwGezNkCDqiFebRo4QI5JGmrA1zhAFqNstKhpOUAJJB6bVOo6QFSWwdCIwTxAQtDXASbmPUAOXTd/ZRk/QIit6J+Tw0BAeKaqVOYvQkCNE7AY9EVCQHoQGbPAF0JA6o2lt5txQkAkztuTLH5BQJ0YF8xiB0FAmGgNMDqLQEB56RG6ouk+QNJBh0SBNEBAJWr773J4PkA306vs/fs8QEb3MDK8kz1AmWplHZMNPEDWI8XYByU8QKsvMM9YyDtAH461fZRnOUCT9cp6skQ4QEqgGDkSkjhAJc2gacMGOUAFqArl8Hg5QFQf7Ng0kDpAlhIB2apQPUCwBqi9U40+QOt4NgrAbD9AYQuAI6XHQED42hBrGGRCQKic5PPrn0JA5/+PowjNQkDZjFGdtepCQLzavkpPnkFAwoZIhCpiQUBx1bEOR1dBQKdyga+MqkBAX+iZEogvQEAil7ELHA0/QFRtAj/Y8DxAPJgJY4QMPUB8yB9+iUw8QEFmXcgb1DxAtNJMa51CPUD9o/f0iJI6QEQxSH04iDpAtqXvAvjUOkCtAFnVY106QKLjxgTMnjtAbhjjPcW3PkCYFv7zvz1AQKdmO+2CBUBANtLfWcvdQECh4lRpTq5BQEiYiufaI0JA4mNWjfWBQkCcYLDn04hCQIBJGaf7c0JAYSoUeX5LQUA=",
          "dtype": "f8"
         }
        },
        {
         "mode": "lines",
         "name": "C4",
         "type": "scatter",
         "x": {
          "bdata": "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",
          "dtype": "f8"
         },
         "y": {
          "bdata": "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",
          "dtype": "f8"
         }
        }
       ],
       "layout": {
        "height": 700,
        "legend": {
         "title": {
          "text": "Channels"
         },
         "traceorder": "reversed"
        },
        "template": {
         "data": {
          "bar": [
           {
            "error_x": {
             "color": "#2a3f5f"
            },
            "error_y": {
             "color": "#2a3f5f"
            },
            "marker": {
             "line": {
              "color": "#E5ECF6",
              "width": 0.5
             },
             "pattern": {
              "fillmode": "overlay",
              "size": 10,
              "solidity": 0.2
             }
            },
            "type": "bar"
           }
          ],
          "barpolar": [
           {
            "marker": {
             "line": {
              "color": "#E5ECF6",
              "width": 0.5
             },
             "pattern": {
              "fillmode": "overlay",
              "size": 10,
              "solidity": 0.2
             }
            },
            "type": "barpolar"
           }
          ],
          "carpet": [
           {
            "aaxis": {
             "endlinecolor": "#2a3f5f",
             "gridcolor": "white",
             "linecolor": "white",
             "minorgridcolor": "white",
             "startlinecolor": "#2a3f5f"
            },
            "baxis": {
             "endlinecolor": "#2a3f5f",
             "gridcolor": "white",
             "linecolor": "white",
             "minorgridcolor": "white",
             "startlinecolor": "#2a3f5f"
            },
            "type": "carpet"
           }
          ],
          "choropleth": [
           {
            "colorbar": {
             "outlinewidth": 0,
             "ticks": ""
            },
            "type": "choropleth"
           }
          ],
          "contour": [
           {
            "colorbar": {
             "outlinewidth": 0,
             "ticks": ""
            },
            "colorscale": [
             [
              0,
              "#0d0887"
             ],
             [
              0.1111111111111111,
              "#46039f"
             ],
             [
              0.2222222222222222,
              "#7201a8"
             ],
             [
              0.3333333333333333,
              "#9c179e"
             ],
             [
              0.4444444444444444,
              "#bd3786"
             ],
             [
              0.5555555555555556,
              "#d8576b"
             ],
             [
              0.6666666666666666,
              "#ed7953"
             ],
             [
              0.7777777777777778,
              "#fb9f3a"
             ],
             [
              0.8888888888888888,
              "#fdca26"
             ],
             [
              1,
              "#f0f921"
             ]
            ],
            "type": "contour"
           }
          ],
          "contourcarpet": [
           {
            "colorbar": {
             "outlinewidth": 0,
             "ticks": ""
            },
            "type": "contourcarpet"
           }
          ],
          "heatmap": [
           {
            "colorbar": {
             "outlinewidth": 0,
             "ticks": ""
            },
            "colorscale": [
             [
              0,
              "#0d0887"
             ],
             [
              0.1111111111111111,
              "#46039f"
             ],
             [
              0.2222222222222222,
              "#7201a8"
             ],
             [
              0.3333333333333333,
              "#9c179e"
             ],
             [
              0.4444444444444444,
              "#bd3786"
             ],
             [
              0.5555555555555556,
              "#d8576b"
             ],
             [
              0.6666666666666666,
              "#ed7953"
             ],
             [
              0.7777777777777778,
              "#fb9f3a"
             ],
             [
              0.8888888888888888,
              "#fdca26"
             ],
             [
              1,
              "#f0f921"
             ]
            ],
            "type": "heatmap"
           }
          ],
          "histogram": [
           {
            "marker": {
             "pattern": {
              "fillmode": "overlay",
              "size": 10,
              "solidity": 0.2
             }
            },
            "type": "histogram"
           }
          ],
          "histogram2d": [
           {
            "colorbar": {
             "outlinewidth": 0,
             "ticks": ""
            },
            "colorscale": [
             [
              0,
              "#0d0887"
             ],
             [
              0.1111111111111111,
              "#46039f"
             ],
             [
              0.2222222222222222,
              "#7201a8"
             ],
             [
              0.3333333333333333,
              "#9c179e"
             ],
             [
              0.4444444444444444,
              "#bd3786"
             ],
             [
              0.5555555555555556,
              "#d8576b"
             ],
             [
              0.6666666666666666,
              "#ed7953"
             ],
             [
              0.7777777777777778,
              "#fb9f3a"
             ],
             [
              0.8888888888888888,
              "#fdca26"
             ],
             [
              1,
              "#f0f921"
             ]
            ],
            "type": "histogram2d"
           }
          ],
          "histogram2dcontour": [
           {
            "colorbar": {
             "outlinewidth": 0,
             "ticks": ""
            },
            "colorscale": [
             [
              0,
              "#0d0887"
             ],
             [
              0.1111111111111111,
              "#46039f"
             ],
             [
              0.2222222222222222,
              "#7201a8"
             ],
             [
              0.3333333333333333,
              "#9c179e"
             ],
             [
              0.4444444444444444,
              "#bd3786"
             ],
             [
              0.5555555555555556,
              "#d8576b"
             ],
             [
              0.6666666666666666,
              "#ed7953"
             ],
             [
              0.7777777777777778,
              "#fb9f3a"
             ],
             [
              0.8888888888888888,
              "#fdca26"
             ],
             [
              1,
              "#f0f921"
             ]
            ],
            "type": "histogram2dcontour"
           }
          ],
          "mesh3d": [
           {
            "colorbar": {
             "outlinewidth": 0,
             "ticks": ""
            },
            "type": "mesh3d"
           }
          ],
          "parcoords": [
           {
            "line": {
             "colorbar": {
              "outlinewidth": 0,
              "ticks": ""
             }
            },
            "type": "parcoords"
           }
          ],
          "pie": [
           {
            "automargin": true,
            "type": "pie"
           }
          ],
          "scatter": [
           {
            "fillpattern": {
             "fillmode": "overlay",
             "size": 10,
             "solidity": 0.2
            },
            "type": "scatter"
           }
          ],
          "scatter3d": [
           {
            "line": {
             "colorbar": {
              "outlinewidth": 0,
              "ticks": ""
             }
            },
            "marker": {
             "colorbar": {
              "outlinewidth": 0,
              "ticks": ""
             }
            },
            "type": "scatter3d"
           }
          ],
          "scattercarpet": [
           {
            "marker": {
             "colorbar": {
              "outlinewidth": 0,
              "ticks": ""
             }
            },
            "type": "scattercarpet"
           }
          ],
          "scattergeo": [
           {
            "marker": {
             "colorbar": {
              "outlinewidth": 0,
              "ticks": ""
             }
            },
            "type": "scattergeo"
           }
          ],
          "scattergl": [
           {
            "marker": {
             "colorbar": {
              "outlinewidth": 0,
              "ticks": ""
             }
            },
            "type": "scattergl"
           }
          ],
          "scattermap": [
           {
            "marker": {
             "colorbar": {
              "outlinewidth": 0,
              "ticks": ""
             }
            },
            "type": "scattermap"
           }
          ],
          "scattermapbox": [
           {
            "marker": {
             "colorbar": {
              "outlinewidth": 0,
              "ticks": ""
             }
            },
            "type": "scattermapbox"
           }
          ],
          "scatterpolar": [
           {
            "marker": {
             "colorbar": {
              "outlinewidth": 0,
              "ticks": ""
             }
            },
            "type": "scatterpolar"
           }
          ],
          "scatterpolargl": [
           {
            "marker": {
             "colorbar": {
              "outlinewidth": 0,
              "ticks": ""
             }
            },
            "type": "scatterpolargl"
           }
          ],
          "scatterternary": [
           {
            "marker": {
             "colorbar": {
              "outlinewidth": 0,
              "ticks": ""
             }
            },
            "type": "scatterternary"
           }
          ],
          "surface": [
           {
            "colorbar": {
             "outlinewidth": 0,
             "ticks": ""
            },
            "colorscale": [
             [
              0,
              "#0d0887"
             ],
             [
              0.1111111111111111,
              "#46039f"
             ],
             [
              0.2222222222222222,
              "#7201a8"
             ],
             [
              0.3333333333333333,
              "#9c179e"
             ],
             [
              0.4444444444444444,
              "#bd3786"
             ],
             [
              0.5555555555555556,
              "#d8576b"
             ],
             [
              0.6666666666666666,
              "#ed7953"
             ],
             [
              0.7777777777777778,
              "#fb9f3a"
             ],
             [
              0.8888888888888888,
              "#fdca26"
             ],
             [
              1,
              "#f0f921"
             ]
            ],
            "type": "surface"
           }
          ],
          "table": [
           {
            "cells": {
             "fill": {
              "color": "#EBF0F8"
             },
             "line": {
              "color": "white"
             }
            },
            "header": {
             "fill": {
              "color": "#C8D4E3"
             },
             "line": {
              "color": "white"
             }
            },
            "type": "table"
           }
          ]
         },
         "layout": {
          "annotationdefaults": {
           "arrowcolor": "#2a3f5f",
           "arrowhead": 0,
           "arrowwidth": 1
          },
          "autotypenumbers": "strict",
          "coloraxis": {
           "colorbar": {
            "outlinewidth": 0,
            "ticks": ""
           }
          },
          "colorscale": {
           "diverging": [
            [
             0,
             "#8e0152"
            ],
            [
             0.1,
             "#c51b7d"
            ],
            [
             0.2,
             "#de77ae"
            ],
            [
             0.3,
             "#f1b6da"
            ],
            [
             0.4,
             "#fde0ef"
            ],
            [
             0.5,
             "#f7f7f7"
            ],
            [
             0.6,
             "#e6f5d0"
            ],
            [
             0.7,
             "#b8e186"
            ],
            [
             0.8,
             "#7fbc41"
            ],
            [
             0.9,
             "#4d9221"
            ],
            [
             1,
             "#276419"
            ]
           ],
           "sequential": [
            [
             0,
             "#0d0887"
            ],
            [
             0.1111111111111111,
             "#46039f"
            ],
            [
             0.2222222222222222,
             "#7201a8"
            ],
            [
             0.3333333333333333,
             "#9c179e"
            ],
            [
             0.4444444444444444,
             "#bd3786"
            ],
            [
             0.5555555555555556,
             "#d8576b"
            ],
            [
             0.6666666666666666,
             "#ed7953"
            ],
            [
             0.7777777777777778,
             "#fb9f3a"
            ],
            [
             0.8888888888888888,
             "#fdca26"
            ],
            [
             1,
             "#f0f921"
            ]
           ],
           "sequentialminus": [
            [
             0,
             "#0d0887"
            ],
            [
             0.1111111111111111,
             "#46039f"
            ],
            [
             0.2222222222222222,
             "#7201a8"
            ],
            [
             0.3333333333333333,
             "#9c179e"
            ],
            [
             0.4444444444444444,
             "#bd3786"
            ],
            [
             0.5555555555555556,
             "#d8576b"
            ],
            [
             0.6666666666666666,
             "#ed7953"
            ],
            [
             0.7777777777777778,
             "#fb9f3a"
            ],
            [
             0.8888888888888888,
             "#fdca26"
            ],
            [
             1,
             "#f0f921"
            ]
           ]
          },
          "colorway": [
           "#636efa",
           "#EF553B",
           "#00cc96",
           "#ab63fa",
           "#FFA15A",
           "#19d3f3",
           "#FF6692",
           "#B6E880",
           "#FF97FF",
           "#FECB52"
          ],
          "font": {
           "color": "#2a3f5f"
          },
          "geo": {
           "bgcolor": "white",
           "lakecolor": "white",
           "landcolor": "#E5ECF6",
           "showlakes": true,
           "showland": true,
           "subunitcolor": "white"
          },
          "hoverlabel": {
           "align": "left"
          },
          "hovermode": "closest",
          "mapbox": {
           "style": "light"
          },
          "paper_bgcolor": "white",
          "plot_bgcolor": "#E5ECF6",
          "polar": {
           "angularaxis": {
            "gridcolor": "white",
            "linecolor": "white",
            "ticks": ""
           },
           "bgcolor": "#E5ECF6",
           "radialaxis": {
            "gridcolor": "white",
            "linecolor": "white",
            "ticks": ""
           }
          },
          "scene": {
           "xaxis": {
            "backgroundcolor": "#E5ECF6",
            "gridcolor": "white",
            "gridwidth": 2,
            "linecolor": "white",
            "showbackground": true,
            "ticks": "",
            "zerolinecolor": "white"
           },
           "yaxis": {
            "backgroundcolor": "#E5ECF6",
            "gridcolor": "white",
            "gridwidth": 2,
            "linecolor": "white",
            "showbackground": true,
            "ticks": "",
            "zerolinecolor": "white"
           },
           "zaxis": {
            "backgroundcolor": "#E5ECF6",
            "gridcolor": "white",
            "gridwidth": 2,
            "linecolor": "white",
            "showbackground": true,
            "ticks": "",
            "zerolinecolor": "white"
           }
          },
          "shapedefaults": {
           "line": {
            "color": "#2a3f5f"
           }
          },
          "ternary": {
           "aaxis": {
            "gridcolor": "white",
            "linecolor": "white",
            "ticks": ""
           },
           "baxis": {
            "gridcolor": "white",
            "linecolor": "white",
            "ticks": ""
           },
           "bgcolor": "#E5ECF6",
           "caxis": {
            "gridcolor": "white",
            "linecolor": "white",
            "ticks": ""
           }
          },
          "title": {
           "x": 0.05
          },
          "xaxis": {
           "automargin": true,
           "gridcolor": "white",
           "linecolor": "white",
           "ticks": "",
           "title": {
            "standoff": 15
           },
           "zerolinecolor": "white",
           "zerolinewidth": 2
          },
          "yaxis": {
           "automargin": true,
           "gridcolor": "white",
           "linecolor": "white",
           "ticks": "",
           "title": {
            "standoff": 15
           },
           "zerolinecolor": "white",
           "zerolinewidth": 2
          }
         }
        },
        "title": {
         "text": "<b>Model Input: Single \"left\" Trial (Trial #0)</b>",
         "x": 0.5
        },
        "width": 900,
        "xaxis": {
         "title": {
          "text": "Time (s)"
         }
        },
        "yaxis": {
         "showticklabels": false,
         "title": {
          "text": "Channels (Offset for Visibility)"
         },
         "zeroline": false
        }
       }
      }
     },
     "metadata": {},
     "output_type": "display_data"
    },
    {
     "data": {
      "application/vnd.plotly.v1+json": {
       "config": {
        "plotlyServerURL": "https://plot.ly"
       },
       "data": [
        {
         "mode": "lines",
         "name": "C3",
         "type": "scatter",
         "x": {
          "bdata": "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",
          "dtype": "f8"
         },
         "y": {
          "bdata": "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",
          "dtype": "f8"
         }
        },
        {
         "mode": "lines",
         "name": "Cz",
         "type": "scatter",
         "x": {
          "bdata": "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",
          "dtype": "f8"
         },
         "y": {
          "bdata": "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",
          "dtype": "f8"
         }
        },
        {
         "mode": "lines",
         "name": "C4",
         "type": "scatter",
         "x": {
          "bdata": "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",
          "dtype": "f8"
         },
         "y": {
          "bdata": "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",
          "dtype": "f8"
         }
        }
       ],
       "layout": {
        "height": 700,
        "legend": {
         "title": {
          "text": "Channels"
         },
         "traceorder": "reversed"
        },
        "template": {
         "data": {
          "bar": [
           {
            "error_x": {
             "color": "#2a3f5f"
            },
            "error_y": {
             "color": "#2a3f5f"
            },
            "marker": {
             "line": {
              "color": "#E5ECF6",
              "width": 0.5
             },
             "pattern": {
              "fillmode": "overlay",
              "size": 10,
              "solidity": 0.2
             }
            },
            "type": "bar"
           }
          ],
          "barpolar": [
           {
            "marker": {
             "line": {
              "color": "#E5ECF6",
              "width": 0.5
             },
             "pattern": {
              "fillmode": "overlay",
              "size": 10,
              "solidity": 0.2
             }
            },
            "type": "barpolar"
           }
          ],
          "carpet": [
           {
            "aaxis": {
             "endlinecolor": "#2a3f5f",
             "gridcolor": "white",
             "linecolor": "white",
             "minorgridcolor": "white",
             "startlinecolor": "#2a3f5f"
            },
            "baxis": {
             "endlinecolor": "#2a3f5f",
             "gridcolor": "white",
             "linecolor": "white",
             "minorgridcolor": "white",
             "startlinecolor": "#2a3f5f"
            },
            "type": "carpet"
           }
          ],
          "choropleth": [
           {
            "colorbar": {
             "outlinewidth": 0,
             "ticks": ""
            },
            "type": "choropleth"
           }
          ],
          "contour": [
           {
            "colorbar": {
             "outlinewidth": 0,
             "ticks": ""
            },
            "colorscale": [
             [
              0,
              "#0d0887"
             ],
             [
              0.1111111111111111,
              "#46039f"
             ],
             [
              0.2222222222222222,
              "#7201a8"
             ],
             [
              0.3333333333333333,
              "#9c179e"
             ],
             [
              0.4444444444444444,
              "#bd3786"
             ],
             [
              0.5555555555555556,
              "#d8576b"
             ],
             [
              0.6666666666666666,
              "#ed7953"
             ],
             [
              0.7777777777777778,
              "#fb9f3a"
             ],
             [
              0.8888888888888888,
              "#fdca26"
             ],
             [
              1,
              "#f0f921"
             ]
            ],
            "type": "contour"
           }
          ],
          "contourcarpet": [
           {
            "colorbar": {
             "outlinewidth": 0,
             "ticks": ""
            },
            "type": "contourcarpet"
           }
          ],
          "heatmap": [
           {
            "colorbar": {
             "outlinewidth": 0,
             "ticks": ""
            },
            "colorscale": [
             [
              0,
              "#0d0887"
             ],
             [
              0.1111111111111111,
              "#46039f"
             ],
             [
              0.2222222222222222,
              "#7201a8"
             ],
             [
              0.3333333333333333,
              "#9c179e"
             ],
             [
              0.4444444444444444,
              "#bd3786"
             ],
             [
              0.5555555555555556,
              "#d8576b"
             ],
             [
              0.6666666666666666,
              "#ed7953"
             ],
             [
              0.7777777777777778,
              "#fb9f3a"
             ],
             [
              0.8888888888888888,
              "#fdca26"
             ],
             [
              1,
              "#f0f921"
             ]
            ],
            "type": "heatmap"
           }
          ],
          "histogram": [
           {
            "marker": {
             "pattern": {
              "fillmode": "overlay",
              "size": 10,
              "solidity": 0.2
             }
            },
            "type": "histogram"
           }
          ],
          "histogram2d": [
           {
            "colorbar": {
             "outlinewidth": 0,
             "ticks": ""
            },
            "colorscale": [
             [
              0,
              "#0d0887"
             ],
             [
              0.1111111111111111,
              "#46039f"
             ],
             [
              0.2222222222222222,
              "#7201a8"
             ],
             [
              0.3333333333333333,
              "#9c179e"
             ],
             [
              0.4444444444444444,
              "#bd3786"
             ],
             [
              0.5555555555555556,
              "#d8576b"
             ],
             [
              0.6666666666666666,
              "#ed7953"
             ],
             [
              0.7777777777777778,
              "#fb9f3a"
             ],
             [
              0.8888888888888888,
              "#fdca26"
             ],
             [
              1,
              "#f0f921"
             ]
            ],
            "type": "histogram2d"
           }
          ],
          "histogram2dcontour": [
           {
            "colorbar": {
             "outlinewidth": 0,
             "ticks": ""
            },
            "colorscale": [
             [
              0,
              "#0d0887"
             ],
             [
              0.1111111111111111,
              "#46039f"
             ],
             [
              0.2222222222222222,
              "#7201a8"
             ],
             [
              0.3333333333333333,
              "#9c179e"
             ],
             [
              0.4444444444444444,
              "#bd3786"
             ],
             [
              0.5555555555555556,
              "#d8576b"
             ],
             [
              0.6666666666666666,
              "#ed7953"
             ],
             [
              0.7777777777777778,
              "#fb9f3a"
             ],
             [
              0.8888888888888888,
              "#fdca26"
             ],
             [
              1,
              "#f0f921"
             ]
            ],
            "type": "histogram2dcontour"
           }
          ],
          "mesh3d": [
           {
            "colorbar": {
             "outlinewidth": 0,
             "ticks": ""
            },
            "type": "mesh3d"
           }
          ],
          "parcoords": [
           {
            "line": {
             "colorbar": {
              "outlinewidth": 0,
              "ticks": ""
             }
            },
            "type": "parcoords"
           }
          ],
          "pie": [
           {
            "automargin": true,
            "type": "pie"
           }
          ],
          "scatter": [
           {
            "fillpattern": {
             "fillmode": "overlay",
             "size": 10,
             "solidity": 0.2
            },
            "type": "scatter"
           }
          ],
          "scatter3d": [
           {
            "line": {
             "colorbar": {
              "outlinewidth": 0,
              "ticks": ""
             }
            },
            "marker": {
             "colorbar": {
              "outlinewidth": 0,
              "ticks": ""
             }
            },
            "type": "scatter3d"
           }
          ],
          "scattercarpet": [
           {
            "marker": {
             "colorbar": {
              "outlinewidth": 0,
              "ticks": ""
             }
            },
            "type": "scattercarpet"
           }
          ],
          "scattergeo": [
           {
            "marker": {
             "colorbar": {
              "outlinewidth": 0,
              "ticks": ""
             }
            },
            "type": "scattergeo"
           }
          ],
          "scattergl": [
           {
            "marker": {
             "colorbar": {
              "outlinewidth": 0,
              "ticks": ""
             }
            },
            "type": "scattergl"
           }
          ],
          "scattermap": [
           {
            "marker": {
             "colorbar": {
              "outlinewidth": 0,
              "ticks": ""
             }
            },
            "type": "scattermap"
           }
          ],
          "scattermapbox": [
           {
            "marker": {
             "colorbar": {
              "outlinewidth": 0,
              "ticks": ""
             }
            },
            "type": "scattermapbox"
           }
          ],
          "scatterpolar": [
           {
            "marker": {
             "colorbar": {
              "outlinewidth": 0,
              "ticks": ""
             }
            },
            "type": "scatterpolar"
           }
          ],
          "scatterpolargl": [
           {
            "marker": {
             "colorbar": {
              "outlinewidth": 0,
              "ticks": ""
             }
            },
            "type": "scatterpolargl"
           }
          ],
          "scatterternary": [
           {
            "marker": {
             "colorbar": {
              "outlinewidth": 0,
              "ticks": ""
             }
            },
            "type": "scatterternary"
           }
          ],
          "surface": [
           {
            "colorbar": {
             "outlinewidth": 0,
             "ticks": ""
            },
            "colorscale": [
             [
              0,
              "#0d0887"
             ],
             [
              0.1111111111111111,
              "#46039f"
             ],
             [
              0.2222222222222222,
              "#7201a8"
             ],
             [
              0.3333333333333333,
              "#9c179e"
             ],
             [
              0.4444444444444444,
              "#bd3786"
             ],
             [
              0.5555555555555556,
              "#d8576b"
             ],
             [
              0.6666666666666666,
              "#ed7953"
             ],
             [
              0.7777777777777778,
              "#fb9f3a"
             ],
             [
              0.8888888888888888,
              "#fdca26"
             ],
             [
              1,
              "#f0f921"
             ]
            ],
            "type": "surface"
           }
          ],
          "table": [
           {
            "cells": {
             "fill": {
              "color": "#EBF0F8"
             },
             "line": {
              "color": "white"
             }
            },
            "header": {
             "fill": {
              "color": "#C8D4E3"
             },
             "line": {
              "color": "white"
             }
            },
            "type": "table"
           }
          ]
         },
         "layout": {
          "annotationdefaults": {
           "arrowcolor": "#2a3f5f",
           "arrowhead": 0,
           "arrowwidth": 1
          },
          "autotypenumbers": "strict",
          "coloraxis": {
           "colorbar": {
            "outlinewidth": 0,
            "ticks": ""
           }
          },
          "colorscale": {
           "diverging": [
            [
             0,
             "#8e0152"
            ],
            [
             0.1,
             "#c51b7d"
            ],
            [
             0.2,
             "#de77ae"
            ],
            [
             0.3,
             "#f1b6da"
            ],
            [
             0.4,
             "#fde0ef"
            ],
            [
             0.5,
             "#f7f7f7"
            ],
            [
             0.6,
             "#e6f5d0"
            ],
            [
             0.7,
             "#b8e186"
            ],
            [
             0.8,
             "#7fbc41"
            ],
            [
             0.9,
             "#4d9221"
            ],
            [
             1,
             "#276419"
            ]
           ],
           "sequential": [
            [
             0,
             "#0d0887"
            ],
            [
             0.1111111111111111,
             "#46039f"
            ],
            [
             0.2222222222222222,
             "#7201a8"
            ],
            [
             0.3333333333333333,
             "#9c179e"
            ],
            [
             0.4444444444444444,
             "#bd3786"
            ],
            [
             0.5555555555555556,
             "#d8576b"
            ],
            [
             0.6666666666666666,
             "#ed7953"
            ],
            [
             0.7777777777777778,
             "#fb9f3a"
            ],
            [
             0.8888888888888888,
             "#fdca26"
            ],
            [
             1,
             "#f0f921"
            ]
           ],
           "sequentialminus": [
            [
             0,
             "#0d0887"
            ],
            [
             0.1111111111111111,
             "#46039f"
            ],
            [
             0.2222222222222222,
             "#7201a8"
            ],
            [
             0.3333333333333333,
             "#9c179e"
            ],
            [
             0.4444444444444444,
             "#bd3786"
            ],
            [
             0.5555555555555556,
             "#d8576b"
            ],
            [
             0.6666666666666666,
             "#ed7953"
            ],
            [
             0.7777777777777778,
             "#fb9f3a"
            ],
            [
             0.8888888888888888,
             "#fdca26"
            ],
            [
             1,
             "#f0f921"
            ]
           ]
          },
          "colorway": [
           "#636efa",
           "#EF553B",
           "#00cc96",
           "#ab63fa",
           "#FFA15A",
           "#19d3f3",
           "#FF6692",
           "#B6E880",
           "#FF97FF",
           "#FECB52"
          ],
          "font": {
           "color": "#2a3f5f"
          },
          "geo": {
           "bgcolor": "white",
           "lakecolor": "white",
           "landcolor": "#E5ECF6",
           "showlakes": true,
           "showland": true,
           "subunitcolor": "white"
          },
          "hoverlabel": {
           "align": "left"
          },
          "hovermode": "closest",
          "mapbox": {
           "style": "light"
          },
          "paper_bgcolor": "white",
          "plot_bgcolor": "#E5ECF6",
          "polar": {
           "angularaxis": {
            "gridcolor": "white",
            "linecolor": "white",
            "ticks": ""
           },
           "bgcolor": "#E5ECF6",
           "radialaxis": {
            "gridcolor": "white",
            "linecolor": "white",
            "ticks": ""
           }
          },
          "scene": {
           "xaxis": {
            "backgroundcolor": "#E5ECF6",
            "gridcolor": "white",
            "gridwidth": 2,
            "linecolor": "white",
            "showbackground": true,
            "ticks": "",
            "zerolinecolor": "white"
           },
           "yaxis": {
            "backgroundcolor": "#E5ECF6",
            "gridcolor": "white",
            "gridwidth": 2,
            "linecolor": "white",
            "showbackground": true,
            "ticks": "",
            "zerolinecolor": "white"
           },
           "zaxis": {
            "backgroundcolor": "#E5ECF6",
            "gridcolor": "white",
            "gridwidth": 2,
            "linecolor": "white",
            "showbackground": true,
            "ticks": "",
            "zerolinecolor": "white"
           }
          },
          "shapedefaults": {
           "line": {
            "color": "#2a3f5f"
           }
          },
          "ternary": {
           "aaxis": {
            "gridcolor": "white",
            "linecolor": "white",
            "ticks": ""
           },
           "baxis": {
            "gridcolor": "white",
            "linecolor": "white",
            "ticks": ""
           },
           "bgcolor": "#E5ECF6",
           "caxis": {
            "gridcolor": "white",
            "linecolor": "white",
            "ticks": ""
           }
          },
          "title": {
           "x": 0.05
          },
          "xaxis": {
           "automargin": true,
           "gridcolor": "white",
           "linecolor": "white",
           "ticks": "",
           "title": {
            "standoff": 15
           },
           "zerolinecolor": "white",
           "zerolinewidth": 2
          },
          "yaxis": {
           "automargin": true,
           "gridcolor": "white",
           "linecolor": "white",
           "ticks": "",
           "title": {
            "standoff": 15
           },
           "zerolinecolor": "white",
           "zerolinewidth": 2
          }
         }
        },
        "title": {
         "text": "<b>Model Input: Single \"right\" Trial (Trial #0)</b>",
         "x": 0.5
        },
        "width": 900,
        "xaxis": {
         "title": {
          "text": "Time (s)"
         }
        },
        "yaxis": {
         "showticklabels": false,
         "title": {
          "text": "Channels (Offset for Visibility)"
         },
         "zeroline": false
        }
       }
      }
     },
     "metadata": {},
     "output_type": "display_data"
    }
   ],
   "source": [
    "import plotly.graph_objects as go\n",
    "\n",
    "def plot_single_trial_plotly(epochs, event_id, trial_index=0):\n",
    "    \"\"\"\n",
    "    Plots the EEG data for a single trial using Plotly for an interactive view.\n",
    "    \"\"\"\n",
    "    try:\n",
    "        # Select a single trial for the specified event\n",
    "        trial_epoch = epochs[event_id][trial_index]\n",
    "        \n",
    "        # Get the data (channels x times) and convert to microvolts\n",
    "        data = trial_epoch.get_data()[0] * 1e6 \n",
    "        times = trial_epoch.times\n",
    "        ch_names = trial_epoch.ch_names\n",
    "        \n",
    "        # Create an interactive Plotly figure\n",
    "        fig = go.Figure()\n",
    "        \n",
    "        # Define an offset to separate channels visually\n",
    "        offset_val = 30 \n",
    "\n",
    "        for i, ch_name in enumerate(ch_names):\n",
    "            fig.add_trace(go.Scatter(\n",
    "                x=times,\n",
    "                y=data[i] + i * offset_val, # Apply vertical offset\n",
    "                mode='lines',\n",
    "                name=ch_name\n",
    "            ))\n",
    "            \n",
    "        # Update the layout for a clean, informative plot\n",
    "        fig.update_layout(\n",
    "            title=f'<b>Model Input: Single \"{event_id}\" Trial (Trial #{trial_index})</b>',\n",
    "            xaxis_title='Time (s)',\n",
    "            yaxis_title='Channels (Offset for Visibility)',\n",
    "            height=700,\n",
    "            width=900,\n",
    "            title_x=0.5,\n",
    "            # Hide the numeric y-axis labels since they don't represent a true scale\n",
    "            yaxis=dict(\n",
    "                showticklabels=False,\n",
    "                zeroline=False\n",
    "            ),\n",
    "            legend_title_text='Channels'\n",
    "        )\n",
    "        # To make it look cleaner, let's reverse the legend order to match the plot\n",
    "        fig.update_layout(legend_traceorder=\"reversed\")\n",
    "        fig.show()\n",
    "\n",
    "    except IndexError:\n",
    "        print(f\"Trial {trial_index} for event '{event_id}' not found.\")\n",
    "    except Exception as e:\n",
    "        print(f\"An error occurred: {e}\")\n",
    "\n",
    "# Check if epochs exist and are not empty\n",
    "if 'epochs' in locals() and epochs and len(epochs) > 0:\n",
    "    # Plot one 'left' trial\n",
    "    if 'left' in epochs.event_id:\n",
    "        plot_single_trial_plotly(epochs, 'left', trial_index=0)\n",
    "    else:\n",
    "        print(\"No 'left' trials found to plot.\")\n",
    "        \n",
    "    # Plot one 'right' trial\n",
    "    if 'right' in epochs.event_id:\n",
    "        plot_single_trial_plotly(epochs, 'right', trial_index=0)\n",
    "    else:\n",
    "        print(\"No 'right' trials found to plot.\")\n",
    "else:\n",
    "    print(\"Epochs object not found or is empty. Cannot plot model input.\")"
   ]
  },
  {
   "cell_type": "markdown",
   "id": "707b878c",
   "metadata": {},
   "source": [
    "## 6. Summary and Conclusion"
   ]
  },
  {
   "cell_type": "markdown",
   "id": "68d4c8eb",
   "metadata": {},
   "source": [
    "### 1. Event-Related Desynchronization (ERD) Analysis\n",
    "- **Contralateral Activation**: Observed clear ERD patterns in the alpha (8-12 Hz) and beta (13-30 Hz) bands over the motor cortex during motor imagery tasks.\n",
    "- **Lateralization**: Left-hand imagery showed stronger ERD over the right hemisphere (C4), while right-hand imagery showed stronger ERD over the left hemisphere (C3), confirming the expected contralateral motor cortex activation.\n",
    "- **Temporal Dynamics**: The ERD patterns emerged approximately 0.5-1 second after the cue onset and were sustained throughout the motor imagery period.\n",
    "\n",
    "### 2. Time-Frequency Analysis\n",
    "- **Frequency-Specific Patterns**: The time-frequency analysis revealed distinct patterns of power modulation in different frequency bands during motor imagery.\n",
    "- **Alpha Suppression**: Strong alpha band suppression (8-12 Hz) was observed over the contralateral motor cortex, consistent with motor preparation and execution.\n",
    "- **Beta Rebound**: A beta band rebound (13-30 Hz) was observed following the motor imagery period, particularly for successful trials.\n",
    "\n",
    "### 3. Common Spatial Patterns (CSP) Analysis\n",
    "- **Spatial Filtering**: CSP successfully identified the most discriminative spatial patterns for distinguishing between left and right motor imagery.\n",
    "- **Component Analysis**: The first few CSP components captured the most significant differences between the two conditions, with clear topographical patterns over the motor cortex.\n",
    "- **Frequency Characteristics**: The PSD of CSP components showed distinct spectral profiles, with some components emphasizing alpha band differences while others captured beta band variations.\n",
    "\n",
    "### 4. Data Quality and Preprocessing\n",
    "- **Artifact Rejection**: Implemented artifact rejection to remove trials with excessive noise or muscle artifacts.\n",
    "- **Channel Consistency**: Verified that all channels showed consistent signal quality across trials.\n",
    "- **Trial Balance**: Ensured a balanced number of left and right motor imagery trials to prevent class imbalance issues.\n",
    "\n",
    "### 5. Implications for Model Development\n",
    "- **Feature Engineering**: The ERD and CSP analyses suggest that both time-domain and frequency-domain features will be valuable for classification.\n",
    "- **Channel Selection**: The topographical maps highlight the importance of central and centro-parietal channels for motor imagery classification.\n",
    "- **Temporal Windows**: The time-course of ERD suggests that using a sliding window approach (e.g., 0.5-3.5 seconds post-cue) may capture the most discriminative information.\n",
    "\n",
    "### 6. Recommendations\n",
    "- **Model Architecture**: Consider using a hybrid CNN-LSTM architecture to capture both spatial and temporal dynamics of the EEG signals.\n",
    "- **Data Augmentation**: Implement data augmentation techniques such as time warping or adding controlled noise to increase the robustness of the model.\n",
    "- **Hyperparameter Tuning**: Pay special attention to the learning rate and batch size, as EEG data can be sensitive to these parameters."
   ]
  }
 ],
 "metadata": {
  "kernelspec": {
   "display_name": "brain_to_action",
   "language": "python",
   "name": "python3"
  },
  "language_info": {
   "codemirror_mode": {
    "name": "ipython",
    "version": 3
   },
   "file_extension": ".py",
   "mimetype": "text/x-python",
   "name": "python",
   "nbconvert_exporter": "python",
   "pygments_lexer": "ipython3",
   "version": "3.13.7"
  }
 },
 "nbformat": 4,
 "nbformat_minor": 5
}
